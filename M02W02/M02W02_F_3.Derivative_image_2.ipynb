{
  "nbformat": 4,
  "nbformat_minor": 0,
  "metadata": {
    "colab": {
      "provenance": [],
      "mount_file_id": "1SaU0SEkBgK61IqFF9b43KQKI4o2O7zRG",
      "authorship_tag": "ABX9TyOmJ897DmvmVuLzL4bXa6Nn",
      "include_colab_link": true
    },
    "kernelspec": {
      "name": "python3",
      "display_name": "Python 3"
    },
    "language_info": {
      "name": "python"
    }
  },
  "cells": [
    {
      "cell_type": "markdown",
      "metadata": {
        "id": "view-in-github",
        "colab_type": "text"
      },
      "source": [
        "<a href=\"https://colab.research.google.com/github/minhbao1705/AIO-2023/blob/main/M02W02_F_3.Derivative_image_2.ipynb\" target=\"_parent\"><img src=\"https://colab.research.google.com/assets/colab-badge.svg\" alt=\"Open In Colab\"/></a>"
      ]
    },
    {
      "cell_type": "markdown",
      "source": [
        "### Implementation (đạo hàm một bên)"
      ],
      "metadata": {
        "id": "zgoSxDTuQOWh"
      }
    },
    {
      "cell_type": "code",
      "execution_count": 1,
      "metadata": {
        "colab": {
          "base_uri": "https://localhost:8080/"
        },
        "id": "VYYIjj39QIfC",
        "outputId": "4357a19f-bef8-4188-8345-09914c4803d5"
      },
      "outputs": [
        {
          "output_type": "stream",
          "name": "stdout",
          "text": [
            "height 500\n",
            "width 1200\n"
          ]
        }
      ],
      "source": [
        "# load an image\n",
        "import cv2\n",
        "import math\n",
        "import numpy as np\n",
        "image = cv2.imread('/content/drive/MyDrive/nature.jpg', 0).tolist()\n",
        "\n",
        "height = len(image)\n",
        "width = len(image[0])\n",
        "\n",
        "print(f'height {height}')\n",
        "print(f'width {width}')"
      ]
    },
    {
      "cell_type": "code",
      "source": [
        "def derivative_x(data, height, width):\n",
        "  result = [[0]*width for _ in range(height)]\n",
        "\n",
        "  # get rows and compute derivative\n",
        "  for i in range(height):\n",
        "\n",
        "    # for each row\n",
        "    for j in range(width-1):\n",
        "      d_value = data[i][j+1] - data[i][j]\n",
        "\n",
        "      # d_value can be positive or negative\n",
        "      # process d_value to adapt to an image\n",
        "      d_value = d_value + 127.5\n",
        "      d_value = max(d_value, 0)\n",
        "      d_value = min(d_value, 255)\n",
        "      result[i][j] = d_value\n",
        "\n",
        "  return result"
      ],
      "metadata": {
        "id": "AZjzXlONQsh2"
      },
      "execution_count": 2,
      "outputs": []
    },
    {
      "cell_type": "code",
      "source": [
        "image_dx = derivative_x(image, height, width)\n",
        "print(np.max(image_dx))\n",
        "print(np.min(image_dx))\n",
        "cv2.imwrite('2.image_dx.jpg', np.array(image_dx))"
      ],
      "metadata": {
        "colab": {
          "base_uri": "https://localhost:8080/"
        },
        "id": "z9xBrkt5RWjx",
        "outputId": "da60a854-83a1-4f3d-85f2-c39285cbfa64"
      },
      "execution_count": 3,
      "outputs": [
        {
          "output_type": "stream",
          "name": "stdout",
          "text": [
            "234.5\n",
            "0.0\n"
          ]
        },
        {
          "output_type": "execute_result",
          "data": {
            "text/plain": [
              "True"
            ]
          },
          "metadata": {},
          "execution_count": 3
        }
      ]
    },
    {
      "cell_type": "code",
      "source": [
        "def derivative_y(data, height, width):\n",
        "    result = [[0]*width for _ in range(height)]\n",
        "\n",
        "    # get columns and compute derivative\n",
        "    for j in range(width):\n",
        "\n",
        "        # for each column\n",
        "        for i in range(height-1):\n",
        "            d_value = data[i+1][j] - data[i][j]\n",
        "\n",
        "            # d_value can be positive or negative\n",
        "            # process d_value to adapt to an image\n",
        "            d_value = d_value + 127.5\n",
        "            d_value = max(d_value, 0)\n",
        "            d_value = min(d_value, 255)\n",
        "            result[i][j] = d_value\n",
        "\n",
        "    return result"
      ],
      "metadata": {
        "id": "O3kXvPwURkph"
      },
      "execution_count": 4,
      "outputs": []
    },
    {
      "cell_type": "code",
      "source": [
        "image_dy = derivative_y(image, height, width)\n",
        "print(np.max(image_dy))\n",
        "print(np.min(image_dy))\n",
        "cv2.imwrite('2.image_dy.jpg', np.array(image_dy))"
      ],
      "metadata": {
        "colab": {
          "base_uri": "https://localhost:8080/"
        },
        "id": "oDS4RhfZRt0-",
        "outputId": "4d79ebfa-ddf4-4538-babe-9394f908533d"
      },
      "execution_count": 5,
      "outputs": [
        {
          "output_type": "stream",
          "name": "stdout",
          "text": [
            "237.5\n",
            "0.0\n"
          ]
        },
        {
          "output_type": "execute_result",
          "data": {
            "text/plain": [
              "True"
            ]
          },
          "metadata": {},
          "execution_count": 5
        }
      ]
    }
  ]
}