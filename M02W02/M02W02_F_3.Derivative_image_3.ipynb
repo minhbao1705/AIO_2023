{
  "nbformat": 4,
  "nbformat_minor": 0,
  "metadata": {
    "colab": {
      "provenance": [],
      "mount_file_id": "1IrYYjHk_1Q2-a6OLMNXXp5rUp395B-Dr",
      "authorship_tag": "ABX9TyOwEtdhlcyCbt/MxrLHSXhB",
      "include_colab_link": true
    },
    "kernelspec": {
      "name": "python3",
      "display_name": "Python 3"
    },
    "language_info": {
      "name": "python"
    }
  },
  "cells": [
    {
      "cell_type": "markdown",
      "metadata": {
        "id": "view-in-github",
        "colab_type": "text"
      },
      "source": [
        "<a href=\"https://colab.research.google.com/github/minhbao1705/AIO-2023/blob/main/M02W02_F_3.Derivative_image_3.ipynb\" target=\"_parent\"><img src=\"https://colab.research.google.com/assets/colab-badge.svg\" alt=\"Open In Colab\"/></a>"
      ]
    },
    {
      "cell_type": "markdown",
      "source": [
        "### Implementation (đạo hàm trung tâm)"
      ],
      "metadata": {
        "id": "MDW9NCZZY_E-"
      }
    },
    {
      "cell_type": "code",
      "execution_count": 1,
      "metadata": {
        "id": "BTQFnboaVxOg",
        "colab": {
          "base_uri": "https://localhost:8080/"
        },
        "outputId": "e87a988c-b3c4-4835-9a67-040697aa7e7b"
      },
      "outputs": [
        {
          "output_type": "stream",
          "name": "stdout",
          "text": [
            "height: 500\n",
            "width: 1200\n"
          ]
        }
      ],
      "source": [
        "# Load an image\n",
        "import cv2\n",
        "import math\n",
        "import numpy as np\n",
        "\n",
        "image = cv2.imread('/content/drive/MyDrive/nature.jpg', 0).tolist()\n",
        "\n",
        "height = len(image)\n",
        "width = len(image[0])\n",
        "\n",
        "print(f'height: {height}')\n",
        "print(f'width: {width}')"
      ]
    },
    {
      "cell_type": "code",
      "source": [
        "def derivative_x(data, height, width):\n",
        "  result = [[0]*width for _ in range(height)]\n",
        "\n",
        "  # get rows and compute derivative\n",
        "  for i in range(height):\n",
        "\n",
        "    # for each rows\n",
        "    for j in range(1, width-1):\n",
        "      d_value = data[i][j+1] - data[i][j-1]\n",
        "\n",
        "      # d_value can be positive or negative\n",
        "      # process d_value to adapt to an image\n",
        "      d_value = d_value + 127.5\n",
        "      d_value = max(d_value, 0)\n",
        "      d_value = min(d_value, 255)\n",
        "      result[i][j] = d_value\n",
        "\n",
        "  return result"
      ],
      "metadata": {
        "id": "ZOilqwESZdoc"
      },
      "execution_count": 2,
      "outputs": []
    },
    {
      "cell_type": "code",
      "source": [
        "image_dx = derivative_x(image, height, width)\n",
        "print(np.max(image_dx))\n",
        "print(np.min(image_dx))\n",
        "cv2.imwrite('3.image_dx.jpg', np.array(image_dx))"
      ],
      "metadata": {
        "colab": {
          "base_uri": "https://localhost:8080/"
        },
        "id": "vBVSdrHRaFSb",
        "outputId": "6408b28d-dfe0-49fc-b20f-fa28936f8849"
      },
      "execution_count": 3,
      "outputs": [
        {
          "output_type": "stream",
          "name": "stdout",
          "text": [
            "255.0\n",
            "0.0\n"
          ]
        },
        {
          "output_type": "execute_result",
          "data": {
            "text/plain": [
              "True"
            ]
          },
          "metadata": {},
          "execution_count": 3
        }
      ]
    },
    {
      "cell_type": "code",
      "source": [
        "def derivative_y(data, height, width):\n",
        "    result = [[0]*width for _ in range(height)]\n",
        "\n",
        "    # get columns and compute derivative\n",
        "    for j in range(width):\n",
        "\n",
        "        # for each column\n",
        "        for i in range(1, height-1):\n",
        "            d_value = data[i+1][j] - data[i-1][j]\n",
        "\n",
        "            # d_value can be positive or negative\n",
        "            # process d_value to adapt to an image\n",
        "            d_value = d_value + 127.5\n",
        "            d_value = max(d_value, 0)\n",
        "            d_value = min(d_value, 255)\n",
        "            result[i][j] = d_value\n",
        "\n",
        "    return result"
      ],
      "metadata": {
        "id": "KhKYucGFaRyF"
      },
      "execution_count": 4,
      "outputs": []
    },
    {
      "cell_type": "code",
      "source": [
        "image_dy = derivative_x(image, height, width)\n",
        "print(np.max(image_dy))\n",
        "print(np.min(image_dy))\n",
        "cv2.imwrite('3.image_dx.jpg', np.array(image_dy))"
      ],
      "metadata": {
        "colab": {
          "base_uri": "https://localhost:8080/"
        },
        "id": "vOLA5w5uaYlB",
        "outputId": "4a221707-d201-4227-9eb5-03f5e69a0004"
      },
      "execution_count": 5,
      "outputs": [
        {
          "output_type": "stream",
          "name": "stdout",
          "text": [
            "255.0\n",
            "0.0\n"
          ]
        },
        {
          "output_type": "execute_result",
          "data": {
            "text/plain": [
              "True"
            ]
          },
          "metadata": {},
          "execution_count": 5
        }
      ]
    }
  ]
}