{
  "nbformat": 4,
  "nbformat_minor": 0,
  "metadata": {
    "colab": {
      "provenance": [],
      "mount_file_id": "1xoxLZzdKM3PN-GA0K5wFSp3i6EIW9MzB",
      "authorship_tag": "ABX9TyNMs1heyygA1+KejnTebrep",
      "include_colab_link": true
    },
    "kernelspec": {
      "name": "python3",
      "display_name": "Python 3"
    },
    "language_info": {
      "name": "python"
    }
  },
  "cells": [
    {
      "cell_type": "markdown",
      "metadata": {
        "id": "view-in-github",
        "colab_type": "text"
      },
      "source": [
        "<a href=\"https://colab.research.google.com/github/minhbao1705/AIO-2023/blob/main/M02W02_F_3.Derivative_image_1.ipynb\" target=\"_parent\"><img src=\"https://colab.research.google.com/assets/colab-badge.svg\" alt=\"Open In Colab\"/></a>"
      ]
    },
    {
      "cell_type": "markdown",
      "source": [
        "### OpenCV"
      ],
      "metadata": {
        "id": "ZaZvWQPmvNxU"
      }
    },
    {
      "cell_type": "code",
      "execution_count": null,
      "metadata": {
        "id": "uyadScgduOQR"
      },
      "outputs": [],
      "source": [
        "# data\n",
        "# dropbox: https://www.dropbox.com/s/5nohim3l5r21n6d/nature.jpg?dl=0\n",
        "# GG drive: https://drive.google.com/file/d/11zS8sXQDEhlkqc_0yrsthHRfSwDIIyVV/view?usp=sharing"
      ]
    },
    {
      "cell_type": "code",
      "source": [
        "def derivative_x(data, height, width):\n",
        "  result = [[0]*width for _ in range(height)]\n",
        "\n",
        "  # get rows and compute derivative\n",
        "  for i in range(height):\n",
        "    # for each row\n",
        "    for j in range(width-1):\n",
        "      d_value = data[i][j+1] - data[i][j]\n",
        "      result[i][j] = d_value\n",
        "\n",
        "  return result"
      ],
      "metadata": {
        "id": "09LFab-3AG6m"
      },
      "execution_count": null,
      "outputs": []
    },
    {
      "cell_type": "code",
      "source": [
        "def print_2d_list(data):\n",
        "  for vector in data:\n",
        "    print(vector)\n",
        "\n",
        "data = [[1, 6, 4, 8, 3, 4],\n",
        "        [4, 5, 2, 7, 5, 2]]\n",
        "result = derivative_x(data, 2, 6)\n",
        "print_2d_list(result)"
      ],
      "metadata": {
        "colab": {
          "base_uri": "https://localhost:8080/"
        },
        "id": "O44Z4SJwAn3o",
        "outputId": "f8673c83-67d9-4835-97f4-65d43ac811db"
      },
      "execution_count": null,
      "outputs": [
        {
          "output_type": "stream",
          "name": "stdout",
          "text": [
            "[5, -2, 4, -5, 1, 0]\n",
            "[1, -3, 5, -2, -3, 0]\n"
          ]
        }
      ]
    },
    {
      "cell_type": "code",
      "source": [
        "import numpy as np\n",
        "import cv2\n",
        "\n",
        "# read image and convert to grayscale\n",
        "img = cv2.imread('/content/nature.jpg', 0)\n",
        "\n",
        "# compute sobel-x\n",
        "sobelx = cv2.Sobel(img, cv2.CV_64F,1,0)\n",
        "print(type(sobelx))\n",
        "\n",
        "# compute sobel-y\n",
        "sobely = cv2.Sobel(img, cv2.CV_64F,0,1)\n",
        "\n",
        "# save results\n",
        "cv2.imwrite('nature_edge_x.jpg', sobelx)\n",
        "cv2.imwrite('nature_edge_y.jpg', sobely)"
      ],
      "metadata": {
        "colab": {
          "base_uri": "https://localhost:8080/"
        },
        "id": "w14bAgKBBHmr",
        "outputId": "45d9855a-891a-4b19-c16b-b612a5cbd6b5"
      },
      "execution_count": null,
      "outputs": [
        {
          "output_type": "stream",
          "name": "stdout",
          "text": [
            "<class 'numpy.ndarray'>\n"
          ]
        },
        {
          "output_type": "execute_result",
          "data": {
            "text/plain": [
              "True"
            ]
          },
          "metadata": {},
          "execution_count": 22
        }
      ]
    },
    {
      "cell_type": "markdown",
      "source": [
        "### Implementation - Using abs"
      ],
      "metadata": {
        "id": "tuczdCDfJZg-"
      }
    },
    {
      "cell_type": "code",
      "source": [
        "# Load an image\n",
        "import cv2\n",
        "import math\n",
        "import numpy as np\n",
        "\n",
        "image = cv2.imread('/content/drive/MyDrive/nature.jpg', 0).tolist()\n",
        "\n",
        "height = len(image)\n",
        "width = len(image[0])\n",
        "\n",
        "print(f'height: {height}')\n",
        "print(f'width: {width}')"
      ],
      "metadata": {
        "colab": {
          "base_uri": "https://localhost:8080/"
        },
        "id": "6cqz6T3-JEXH",
        "outputId": "a0a689ae-f828-4705-b63a-ea7d94e2489e"
      },
      "execution_count": null,
      "outputs": [
        {
          "output_type": "stream",
          "name": "stdout",
          "text": [
            "height: 500\n",
            "width: 1200\n"
          ]
        }
      ]
    },
    {
      "cell_type": "code",
      "source": [
        "# def derivative_x(data, height, width):\n",
        "#   result = [[0] * width for _ in range(height)]\n",
        "\n",
        "#   # get rows and compute derivative\n",
        "#   for i in range(height):\n",
        "\n",
        "#     # for each row\n",
        "#     for j in range(width-1):\n",
        "#       d_value = data[i][j+1] - data[i][j]\n",
        "#       result[i][j] = d_value\n",
        "\n",
        "#   return result"
      ],
      "metadata": {
        "id": "BKSgtiRKJyKV"
      },
      "execution_count": null,
      "outputs": []
    },
    {
      "cell_type": "code",
      "source": [],
      "metadata": {
        "id": "T-AQrK-bOnNM"
      },
      "execution_count": null,
      "outputs": []
    },
    {
      "cell_type": "code",
      "source": [
        "def derivative_x(data, height, width):\n",
        "    result = [[0]*width for _ in range(height)]\n",
        "\n",
        "    # get rows and compute derivative\n",
        "    for i in range(height):\n",
        "\n",
        "        # for each row\n",
        "        for j in range(width-1):\n",
        "            d_value = data[i][j+1] - data[i][j]\n",
        "\n",
        "            # d_value can be positive or negative\n",
        "            # process d_value to adapt to an image\n",
        "            result[i][j] = abs(d_value)\n",
        "\n",
        "    return result"
      ],
      "metadata": {
        "id": "EGU9TwgPKDrA"
      },
      "execution_count": null,
      "outputs": []
    },
    {
      "cell_type": "code",
      "source": [
        "image_dx = derivative_x(image, height, width)\n",
        "print(np.max(image_dx))\n",
        "print(np.min(image_dx))\n",
        "cv2.imwrite('1.image_dx.jpg', np.array(image_dx))"
      ],
      "metadata": {
        "colab": {
          "base_uri": "https://localhost:8080/"
        },
        "id": "IbnoGcGnK-wk",
        "outputId": "1f983cf4-cfd1-467e-e3ae-3a6fd93a8c03"
      },
      "execution_count": null,
      "outputs": [
        {
          "output_type": "stream",
          "name": "stdout",
          "text": [
            "107\n",
            "0\n"
          ]
        },
        {
          "output_type": "execute_result",
          "data": {
            "text/plain": [
              "True"
            ]
          },
          "metadata": {},
          "execution_count": 33
        }
      ]
    },
    {
      "cell_type": "code",
      "source": [
        "def derivative_y(data, height, width):\n",
        "    result = [[0]*width for _ in range(height)]\n",
        "\n",
        "    # get columns and compute derivative\n",
        "    for j in range(width):\n",
        "\n",
        "        # for each column\n",
        "        for i in range(height-1):\n",
        "            d_value = data[i+1][j] - data[i][j]\n",
        "\n",
        "            # d_value can be positive or negative\n",
        "            # process d_value to adapt to an image\n",
        "            result[i][j] = abs(d_value)*3\n",
        "\n",
        "    return result"
      ],
      "metadata": {
        "id": "Uuel3Z8cLjVz"
      },
      "execution_count": null,
      "outputs": []
    },
    {
      "cell_type": "code",
      "source": [
        "image_dy = derivative_y(image, height, width)\n",
        "print(np.max(image_dy))\n",
        "print(np.min(image_dy))\n",
        "cv2.imwrite('1.image_dy.jpg', np.array(image_dy))"
      ],
      "metadata": {
        "colab": {
          "base_uri": "https://localhost:8080/"
        },
        "id": "MJj2pF77MXOU",
        "outputId": "d12e60f7-4486-4064-e703-f864bd5df74b"
      },
      "execution_count": null,
      "outputs": [
        {
          "output_type": "stream",
          "name": "stdout",
          "text": [
            "330\n",
            "0\n"
          ]
        },
        {
          "output_type": "execute_result",
          "data": {
            "text/plain": [
              "True"
            ]
          },
          "metadata": {},
          "execution_count": 28
        }
      ]
    },
    {
      "cell_type": "code",
      "source": [],
      "metadata": {
        "id": "olqdjJ6OMedo"
      },
      "execution_count": null,
      "outputs": []
    }
  ]
}