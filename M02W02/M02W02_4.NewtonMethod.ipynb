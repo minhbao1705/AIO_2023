{
  "nbformat": 4,
  "nbformat_minor": 0,
  "metadata": {
    "colab": {
      "provenance": [],
      "authorship_tag": "ABX9TyOVNldJGGDRXaYoUS4pebw8",
      "include_colab_link": true
    },
    "kernelspec": {
      "name": "python3",
      "display_name": "Python 3"
    },
    "language_info": {
      "name": "python"
    }
  },
  "cells": [
    {
      "cell_type": "markdown",
      "metadata": {
        "id": "view-in-github",
        "colab_type": "text"
      },
      "source": [
        "<a href=\"https://colab.research.google.com/github/minhbao1705/AIO-2023/blob/main/M02W02_4.NewtonMethod.ipynb\" target=\"_parent\"><img src=\"https://colab.research.google.com/assets/colab-badge.svg\" alt=\"Open In Colab\"/></a>"
      ]
    },
    {
      "cell_type": "markdown",
      "source": [
        "### way 1"
      ],
      "metadata": {
        "id": "6IX16ILFgnuG"
      }
    },
    {
      "cell_type": "code",
      "execution_count": 2,
      "metadata": {
        "colab": {
          "base_uri": "https://localhost:8080/"
        },
        "id": "UDyaJmIYdLqQ",
        "outputId": "60fe53f0-2cc3-4d68-9623-330100096f14"
      },
      "outputs": [
        {
          "output_type": "stream",
          "name": "stdout",
          "text": [
            "9\n",
            "5.0\n",
            "3.4\n",
            "3.023529411764706\n",
            "3.00009155413138\n",
            "3.000000001396984\n",
            "3.0\n",
            "3.0\n"
          ]
        }
      ],
      "source": [
        "def func(x, N):\n",
        "  return x**2 - N\n",
        "\n",
        "def devirative(x):\n",
        "  return 2*x\n",
        "\n",
        "def compute_square_root_w1(N, num_loops):\n",
        "  x_n = N\n",
        "  print(x_n)\n",
        "\n",
        "  for i in range(num_loops):\n",
        "    x_np1 = x_n - func(x_n, N)/devirative(x_n)\n",
        "    x_n = x_np1\n",
        "    print(x_np1)\n",
        "  \n",
        "  return x_np1\n",
        "\n",
        "print(compute_square_root_w1(N=9, num_loops=6))"
      ]
    },
    {
      "cell_type": "markdown",
      "source": [
        "### way 2"
      ],
      "metadata": {
        "id": "OuvkWUEEj3bu"
      }
    },
    {
      "cell_type": "code",
      "source": [
        "def compute_square_root_w2(N, num_loops):    \n",
        "    x_n = N\n",
        "    print(x_n)\n",
        "    \n",
        "    for i in range(num_loops):\n",
        "        x_np1 = (x_n + N/x_n) / 2.0\n",
        "        print(x_np1)\n",
        "\n",
        "        # for next iteration\n",
        "        x_n = x_np1        \n",
        "        \n",
        "    return x_np1\n",
        "\n",
        "print(compute_square_root_w2(N=9, num_loops=6))"
      ],
      "metadata": {
        "colab": {
          "base_uri": "https://localhost:8080/"
        },
        "id": "34ps8h4ki9Px",
        "outputId": "6caf19d9-9d59-4518-ffb7-c9b076b4287e"
      },
      "execution_count": 3,
      "outputs": [
        {
          "output_type": "stream",
          "name": "stdout",
          "text": [
            "9\n",
            "5.0\n",
            "3.4\n",
            "3.023529411764706\n",
            "3.00009155413138\n",
            "3.000000001396984\n",
            "3.0\n",
            "3.0\n"
          ]
        }
      ]
    },
    {
      "cell_type": "markdown",
      "source": [
        "#### plot\n",
        "\n",
        "$f(x) = x^2 - 9$"
      ],
      "metadata": {
        "id": "8rB_6j-gkqwS"
      }
    },
    {
      "cell_type": "code",
      "source": [
        "def func(x):\n",
        "    return x**2 - 9\n",
        "\n",
        "def d_func(x):\n",
        "    return 2*x\n",
        "\n",
        "def tangent_line(m, point, x):\n",
        "    x1, y1 = point\n",
        "    \n",
        "    y = m*(x - x1) + y1\n",
        "    return y    "
      ],
      "metadata": {
        "id": "gwIj5luyksiy"
      },
      "execution_count": 4,
      "outputs": []
    },
    {
      "cell_type": "code",
      "source": [
        "import PyQt5"
      ],
      "metadata": {
        "id": "R2Ww9VJrlhSG"
      },
      "execution_count": 11,
      "outputs": []
    },
    {
      "cell_type": "code",
      "source": [
        "import matplotlib.pyplot as plt\n",
        "import numpy as np\n",
        "# %matplotlib qt\n",
        "\n",
        "plt.rcParams[\"figure.figsize\"] = [7.0, 5.0]\n",
        "plt.rcParams[\"figure.autolayout\"] = True\n",
        "\n",
        "data_x = np.arange(-5, 5, 0.1).tolist()\n",
        "data_y = [func(x) for x in data_x]\n",
        "\n",
        "plt.plot([-6, 6], [0, 0], 'k:')\n",
        "plt.plot([0, 0], [-14, 18], 'k:')\n",
        "\n",
        "plt.plot(data_x, data_y, 'g')\n",
        "\n",
        "x1 = 1.0\n",
        "y1 = func(x1)\n",
        "m = d_func(x1)\n",
        "tangent_x = np.arange(-2, 7, 0.1).tolist()\n",
        "tangent_y = [tangent_line(m, [x1, y1], x) for x in tangent_x]\n",
        "plt.plot(tangent_x, tangent_y, 'r')\n",
        "      \n",
        "plt.xlim([-8, 8])\n",
        "plt.ylim([-12, 20])\n",
        "plt.show()"
      ],
      "metadata": {
        "colab": {
          "base_uri": "https://localhost:8080/",
          "height": 506
        },
        "id": "aDW2EjfwktsK",
        "outputId": "a67a911a-3dd8-482c-ba55-a7b51fb3370f"
      },
      "execution_count": 13,
      "outputs": [
        {
          "output_type": "display_data",
          "data": {
            "text/plain": [
              "<Figure size 700x500 with 1 Axes>"
            ],
            "image/png": "[encoded data removed]"
          },
          "metadata": {}
        }
      ]
    }
  ]
}