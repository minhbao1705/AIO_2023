{
  "nbformat": 4,
  "nbformat_minor": 0,
  "metadata": {
    "colab": {
      "provenance": [],
      "authorship_tag": "ABX9TyNQCtpMrHC9y5eHs9QH/qnc",
      "include_colab_link": true
    },
    "kernelspec": {
      "name": "python3",
      "display_name": "Python 3"
    },
    "language_info": {
      "name": "python"
    }
  },
  "cells": [
    {
      "cell_type": "markdown",
      "metadata": {
        "id": "view-in-github",
        "colab_type": "text"
      },
      "source": [
        "<a href=\"https://colab.research.google.com/github/minhbao1705/AIO-2023/blob/main/M02W02_FunctionLimit_arange.ipynb\" target=\"_parent\"><img src=\"https://colab.research.google.com/assets/colab-badge.svg\" alt=\"Open In Colab\"/></a>"
      ]
    },
    {
      "cell_type": "markdown",
      "source": [
        "# numpy.arange()"
      ],
      "metadata": {
        "id": "VeuAy5-o9GxI"
      }
    },
    {
      "cell_type": "markdown",
      "source": [
        "Hàm này khác hàm range() ở chỗ phần stop có thể chấp nhận những số lẻ vd: 0.1"
      ],
      "metadata": {
        "id": "6lpCnXH8-P-D"
      }
    },
    {
      "cell_type": "code",
      "source": [
        "import numpy as np\n",
        "\n",
        "data = np.arange(0, 10, 0.5).tolist()\n",
        "print(data)"
      ],
      "metadata": {
        "colab": {
          "base_uri": "https://localhost:8080/"
        },
        "id": "RRqxbN3W-IbR",
        "outputId": "fcb7d841-4083-424d-849e-c2b7c64d898b"
      },
      "execution_count": null,
      "outputs": [
        {
          "output_type": "stream",
          "name": "stdout",
          "text": [
            "[0.0, 0.5, 1.0, 1.5, 2.0, 2.5, 3.0, 3.5, 4.0, 4.5, 5.0, 5.5, 6.0, 6.5, 7.0, 7.5, 8.0, 8.5, 9.0, 9.5]\n"
          ]
        }
      ]
    },
    {
      "cell_type": "code",
      "source": [
        "import numpy as np\n",
        "\n",
        "data = np.arange(0, 5, 0.5).tolist()\n",
        "print(data)"
      ],
      "metadata": {
        "colab": {
          "base_uri": "https://localhost:8080/"
        },
        "id": "wvZradp0-aXv",
        "outputId": "1e5ee4e7-1a15-4881-e651-cd4654d56177"
      },
      "execution_count": null,
      "outputs": [
        {
          "output_type": "stream",
          "name": "stdout",
          "text": [
            "[0.0, 0.5, 1.0, 1.5, 2.0, 2.5, 3.0, 3.5, 4.0, 4.5]\n"
          ]
        }
      ]
    },
    {
      "cell_type": "markdown",
      "source": [
        "#sin(x)/x"
      ],
      "metadata": {
        "id": "8Iqkv2Sa-kUD"
      }
    },
    {
      "cell_type": "code",
      "execution_count": null,
      "metadata": {
        "id": "Kw7204Dv8MXU"
      },
      "outputs": [],
      "source": [
        "# sin(x) / x\n",
        "import math\n",
        "\n",
        "def func(x):\n",
        "  y = math.sin(x)/x\n",
        "  return y"
      ]
    },
    {
      "cell_type": "code",
      "source": [
        "import matplotlib.pyplot as plt\n",
        "import numpy as np\n",
        "\n",
        "left_x = np.arange(-6, 0, 0.01).tolist()\n",
        "left_y = [func(x) for x in left_x]\n",
        "plt.plot(left_x, left_y, 'g')\n",
        "\n",
        "right_x = np.arange(0 + 1e-6, 6, 0.01).tolist()\n",
        "right_y = [func(x) for x in right_x]\n",
        "plt.plot(right_x, right_y, 'b')"
      ],
      "metadata": {
        "colab": {
          "base_uri": "https://localhost:8080/",
          "height": 447
        },
        "id": "4wge_f4u8Yux",
        "outputId": "11ca5be5-c64c-464a-c427-37dfcc6ef83f"
      },
      "execution_count": null,
      "outputs": [
        {
          "output_type": "execute_result",
          "data": {
            "text/plain": [
              "[<matplotlib.lines.Line2D at 0x7fba7ad44c70>]"
            ]
          },
          "metadata": {},
          "execution_count": 4
        },
        {
          "output_type": "display_data",
          "data": {
            "text/plain": [
              "<Figure size 640x480 with 1 Axes>"
            ],
            "image/png": "[encoded data removed]"
          },
          "metadata": {}
        }
      ]
    },
    {
      "cell_type": "markdown",
      "source": [
        "x tiến tới 0 từ bên phải"
      ],
      "metadata": {
        "id": "ZGgwKVzXBLtr"
      }
    },
    {
      "cell_type": "code",
      "source": [
        "# t --> 0\n",
        "x = 1\n",
        "for _ in range(7):\n",
        "  y = func(x)\n",
        "  print(y)\n",
        "\n",
        "  x = x*0.1"
      ],
      "metadata": {
        "colab": {
          "base_uri": "https://localhost:8080/"
        },
        "id": "JdNAu3Uc9AyT",
        "outputId": "fd38be00-1437-4a14-e822-cd51ab90c61b"
      },
      "execution_count": null,
      "outputs": [
        {
          "output_type": "stream",
          "name": "stdout",
          "text": [
            "0.8414709848078965\n",
            "0.9983341664682815\n",
            "0.9999833334166665\n",
            "0.9999998333333416\n",
            "0.9999999983333334\n",
            "0.9999999999833332\n",
            "0.9999999999998334\n"
          ]
        }
      ]
    },
    {
      "cell_type": "markdown",
      "source": [
        "x tiến tới 0 từ bên trái"
      ],
      "metadata": {
        "id": "HcVpVWAkBXTu"
      }
    },
    {
      "cell_type": "code",
      "source": [
        "# t --> 0\n",
        "x = -1\n",
        "for _ in range(7):\n",
        "  y = func(x)\n",
        "  print(y)\n",
        "\n",
        "  x = x*0.1"
      ],
      "metadata": {
        "colab": {
          "base_uri": "https://localhost:8080/"
        },
        "id": "vY2Wn8aqBGzr",
        "outputId": "cb7cec72-e019-4e5f-e25b-faa412f55327"
      },
      "execution_count": null,
      "outputs": [
        {
          "output_type": "stream",
          "name": "stdout",
          "text": [
            "0.8414709848078965\n",
            "0.9983341664682815\n",
            "0.9999833334166665\n",
            "0.9999998333333416\n",
            "0.9999999983333334\n",
            "0.9999999999833332\n",
            "0.9999999999998334\n"
          ]
        }
      ]
    },
    {
      "cell_type": "markdown",
      "source": [
        "=> Hàm sin(x)/x hội tụ tiến về 1"
      ],
      "metadata": {
        "id": "L4IbXsFcBjhB"
      }
    },
    {
      "cell_type": "markdown",
      "source": [
        "# (x^2 - 4)/(x - 2)"
      ],
      "metadata": {
        "id": "pSR4RX1VB3vX"
      }
    },
    {
      "cell_type": "code",
      "source": [
        "import math\n",
        "\n",
        "def func(x):\n",
        "  y = (x**2 - 4) / (x - 2)\n",
        "  return y"
      ],
      "metadata": {
        "id": "gcsbJlA3BnF-"
      },
      "execution_count": null,
      "outputs": []
    },
    {
      "cell_type": "code",
      "source": [
        "import matplotlib.pyplot as plt\n",
        "plt.rcParams[\"figure.figsize\"] = [5.00, 3.0]\n",
        "plt.rcParams[\"figure.autolayout\"] = True\n",
        "\n",
        "left_x = np.arange(0, 2, 0.01).tolist()\n",
        "left_y = [func(x) for x in left_x]\n",
        "plt.plot(left_x, left_y, 'g')\n",
        "\n",
        "right_x = np.arange(2 + 1e-6, 4, 0.01).tolist()\n",
        "right_y = [func(x) for x in right_x]\n",
        "plt.plot(right_x, right_y,'b')"
      ],
      "metadata": {
        "colab": {
          "base_uri": "https://localhost:8080/",
          "height": 323
        },
        "id": "ulcOqaU_B-j6",
        "outputId": "f7750f34-6b45-492d-d583-55fb8457ccc6"
      },
      "execution_count": null,
      "outputs": [
        {
          "output_type": "execute_result",
          "data": {
            "text/plain": [
              "[<matplotlib.lines.Line2D at 0x7fba969db2e0>]"
            ]
          },
          "metadata": {},
          "execution_count": 8
        },
        {
          "output_type": "display_data",
          "data": {
            "text/plain": [
              "<Figure size 500x300 with 1 Axes>"
            ],
            "image/png": "[encoded data removed]"
          },
          "metadata": {}
        }
      ]
    },
    {
      "cell_type": "code",
      "source": [
        "# eps --> 0\n",
        "eps = 1\n",
        "for _ in range(7):\n",
        "  y = func(2 - eps)\n",
        "  print(2 - eps, '   ', y)\n",
        "\n",
        "  eps = eps*.1"
      ],
      "metadata": {
        "colab": {
          "base_uri": "https://localhost:8080/"
        },
        "id": "M4Qq_1itC73A",
        "outputId": "dad4a95a-3412-4609-eedc-a42aeddc20fc"
      },
      "execution_count": null,
      "outputs": [
        {
          "output_type": "stream",
          "name": "stdout",
          "text": [
            "1     3.0\n",
            "1.9     3.8999999999999977\n",
            "1.99     3.989999999999979\n",
            "1.999     3.99899999999986\n",
            "1.9999     3.9999000000006077\n",
            "1.99999     3.9999899999991726\n",
            "1.999999     3.9999989999110994\n"
          ]
        }
      ]
    },
    {
      "cell_type": "code",
      "source": [
        "# eps --> 0\n",
        "eps = -1\n",
        "for _ in range(7):\n",
        "  y = func(2 - eps)\n",
        "  print(2 - eps, '   ', y)\n",
        "\n",
        "  eps = eps*.1"
      ],
      "metadata": {
        "colab": {
          "base_uri": "https://localhost:8080/"
        },
        "id": "nq-lLZqQDMTY",
        "outputId": "2983bb8c-635b-4e72-8c98-c67451cc819d"
      },
      "execution_count": null,
      "outputs": [
        {
          "output_type": "stream",
          "name": "stdout",
          "text": [
            "3     5.0\n",
            "2.1     4.099999999999998\n",
            "2.01     4.009999999999977\n",
            "2.001     4.00100000000014\n",
            "2.0001     4.000099999999392\n",
            "2.00001     4.000010000000827\n",
            "2.000001     4.000001000088901\n"
          ]
        }
      ]
    },
    {
      "cell_type": "markdown",
      "source": [
        "# |x - 2| / (x - 2)"
      ],
      "metadata": {
        "id": "T86WTQm1DVwl"
      }
    },
    {
      "cell_type": "code",
      "source": [
        "import math\n",
        "\n",
        "def func(x):\n",
        "  y = abs(x-2) / (x-2)\n",
        "  return y"
      ],
      "metadata": {
        "id": "LcY6lwQvDU9W"
      },
      "execution_count": null,
      "outputs": []
    },
    {
      "cell_type": "code",
      "source": [
        "import matplotlib.pyplot as plt\n",
        "plt.rcParams[\"figure.figsize\"] = [5.00, 3.0]\n",
        "plt.rcParams[\"figure.autolayout\"] = True\n",
        "\n",
        "left_x = np.arange(0, 2, 0.01).tolist()\n",
        "left_y = [func(x) for x in left_x]\n",
        "plt.plot(left_x, left_y, 'g')\n",
        "\n",
        "right_x = np.arange(2 + 1e-6, 4, 0.01).tolist()\n",
        "right_y = [func(x) for x in right_x]\n",
        "plt.plot(right_x, right_y, 'b')"
      ],
      "metadata": {
        "colab": {
          "base_uri": "https://localhost:8080/",
          "height": 323
        },
        "id": "So6uD-AOMXPf",
        "outputId": "fde50956-3585-4350-9e8a-830a6a0c1345"
      },
      "execution_count": null,
      "outputs": [
        {
          "output_type": "execute_result",
          "data": {
            "text/plain": [
              "[<matplotlib.lines.Line2D at 0x7fba6fffc0a0>]"
            ]
          },
          "metadata": {},
          "execution_count": 16
        },
        {
          "output_type": "display_data",
          "data": {
            "text/plain": [
              "<Figure size 500x300 with 1 Axes>"
            ],
            "image/png": "[encoded data removed]"
          },
          "metadata": {}
        }
      ]
    },
    {
      "cell_type": "code",
      "source": [
        "# t --> 0\n",
        "t = 1\n",
        "for _ in range(7):\n",
        "  y = func(2 + t)\n",
        "  print(y)\n",
        "\n",
        "  t = t*0.1"
      ],
      "metadata": {
        "colab": {
          "base_uri": "https://localhost:8080/"
        },
        "id": "YsCcHvgKNZyV",
        "outputId": "943ff09a-cc1a-4287-e627-1f51e5f46032"
      },
      "execution_count": null,
      "outputs": [
        {
          "output_type": "stream",
          "name": "stdout",
          "text": [
            "1.0\n",
            "1.0\n",
            "1.0\n",
            "1.0\n",
            "1.0\n",
            "1.0\n",
            "1.0\n"
          ]
        }
      ]
    },
    {
      "cell_type": "code",
      "source": [
        "# t --> 0\n",
        "t = 1\n",
        "for _ in range(7):\n",
        "  y = func(2 - t)\n",
        "  print(y)\n",
        "\n",
        "  t = t*0.1"
      ],
      "metadata": {
        "colab": {
          "base_uri": "https://localhost:8080/"
        },
        "id": "rgqsvyChOHXm",
        "outputId": "3b10093b-5b27-4aae-af9f-1e6883633fb5"
      },
      "execution_count": null,
      "outputs": [
        {
          "output_type": "stream",
          "name": "stdout",
          "text": [
            "-1.0\n",
            "-1.0\n",
            "-1.0\n",
            "-1.0\n",
            "-1.0\n",
            "-1.0\n",
            "-1.0\n"
          ]
        }
      ]
    },
    {
      "cell_type": "markdown",
      "source": [
        "# 1 / (x - 2)^2"
      ],
      "metadata": {
        "id": "J9H1V-ECOQgX"
      }
    },
    {
      "cell_type": "code",
      "source": [
        "import math\n",
        "\n",
        "def func(x):\n",
        "  y = 1 / (x - 2)**2\n",
        "  return y"
      ],
      "metadata": {
        "id": "w8tqqXVaOWEq"
      },
      "execution_count": null,
      "outputs": []
    },
    {
      "cell_type": "code",
      "source": [
        "import matplotlib.pyplot as plt\n",
        "plt.rcParams[\"figure.figsize\"] = [5.00, 3.0]\n",
        "plt.rcParams[\"figure.autolayout\"] = True\n",
        "\n",
        "left_x = np.arange(1, 2, 0.01).tolist()\n",
        "left_y = [func(x) for x in left_x]\n",
        "plt.plot(left_x, left_y, 'g')\n",
        "\n",
        "right_x = np.arange(2 + 1e-2, 3, 0.01).tolist()\n",
        "right_y = [func(x) for x in right_x]\n",
        "plt.plot(right_x, right_y, 'b')"
      ],
      "metadata": {
        "colab": {
          "base_uri": "https://localhost:8080/",
          "height": 323
        },
        "id": "kkECS-J0OYsu",
        "outputId": "61cf3c02-96d5-4246-83f4-b1525d123c02"
      },
      "execution_count": null,
      "outputs": [
        {
          "output_type": "execute_result",
          "data": {
            "text/plain": [
              "[<matplotlib.lines.Line2D at 0x7fba6fad5510>]"
            ]
          },
          "metadata": {},
          "execution_count": 21
        },
        {
          "output_type": "display_data",
          "data": {
            "text/plain": [
              "<Figure size 500x300 with 1 Axes>"
            ],
            "image/png": "[encoded data removed]"
          },
          "metadata": {}
        }
      ]
    },
    {
      "cell_type": "code",
      "source": [
        "# t --> 0\n",
        "t = 1\n",
        "for _ in range(7):\n",
        "    y = func(2 + t)\n",
        "    print(y)\n",
        "    \n",
        "    t = t*0.1"
      ],
      "metadata": {
        "colab": {
          "base_uri": "https://localhost:8080/"
        },
        "id": "ATNddHZFOpto",
        "outputId": "ef07985e-1e8a-4eee-b332-ee472045456b"
      },
      "execution_count": null,
      "outputs": [
        {
          "output_type": "stream",
          "name": "stdout",
          "text": [
            "1.0\n",
            "99.99999999999983\n",
            "10000.000000000426\n",
            "1000000.0000002203\n",
            "99999999.99957794\n",
            "9999999999.868975\n",
            "999999999720.4441\n"
          ]
        }
      ]
    },
    {
      "cell_type": "code",
      "source": [
        "# t --> 0\n",
        "t = 1\n",
        "for _ in range(7):\n",
        "    y = func(2 - t)\n",
        "    print(y)\n",
        "    \n",
        "    t = t*0.1"
      ],
      "metadata": {
        "colab": {
          "base_uri": "https://localhost:8080/"
        },
        "id": "l7fAm87DOyNV",
        "outputId": "1d2a33db-ac43-47d7-c860-e67495ef3fdf"
      },
      "execution_count": null,
      "outputs": [
        {
          "output_type": "stream",
          "name": "stdout",
          "text": [
            "1.0\n",
            "99.99999999999983\n",
            "9999.999999999982\n",
            "1000000.0000002203\n",
            "100000000.00002204\n",
            "9999999999.868975\n",
            "1000000000164.5332\n"
          ]
        }
      ]
    },
    {
      "cell_type": "markdown",
      "source": [
        "# piece-wise function"
      ],
      "metadata": {
        "id": "DWSuqiiHO6L-"
      }
    },
    {
      "cell_type": "code",
      "source": [
        "import math\n",
        "\n",
        "def func(x):\n",
        "  if x < 2:\n",
        "    y = x + 1\n",
        "  else:\n",
        "    y = x*x - 4\n",
        "    \n",
        "  return y"
      ],
      "metadata": {
        "id": "bHEYCDzWO2yn"
      },
      "execution_count": null,
      "outputs": []
    },
    {
      "cell_type": "code",
      "source": [
        "import matplotlib.pyplot as plt\n",
        "plt.rcParams[\"figure.figsize\"] = [5.00, 3.0]\n",
        "plt.rcParams[\"figure.autolayout\"] = True\n",
        "\n",
        "left_x = np.arange(0, 2, 0.01).tolist()\n",
        "left_y = [func(x) for x in left_x]\n",
        "plt.plot(left_x, left_y, 'g')\n",
        "\n",
        "right_x = np.arange(2 + 1e-6, 4, 0.01).tolist()\n",
        "right_y = [func(x) for x in right_x]\n",
        "plt.plot(right_x, right_y, 'b')"
      ],
      "metadata": {
        "colab": {
          "base_uri": "https://localhost:8080/",
          "height": 323
        },
        "id": "XkslnLc1O-FA",
        "outputId": "8bb9de96-f1d1-4e1c-d027-f3461ba09265"
      },
      "execution_count": null,
      "outputs": [
        {
          "output_type": "execute_result",
          "data": {
            "text/plain": [
              "[<matplotlib.lines.Line2D at 0x7fba6fdfb640>]"
            ]
          },
          "metadata": {},
          "execution_count": 26
        },
        {
          "output_type": "display_data",
          "data": {
            "text/plain": [
              "<Figure size 500x300 with 1 Axes>"
            ],
            "image/png": "[encoded data removed]"
          },
          "metadata": {}
        }
      ]
    },
    {
      "cell_type": "code",
      "source": [
        "# t --> 0\n",
        "t = 1\n",
        "for _ in range(7):\n",
        "    y = func(2 + t)\n",
        "    print(y)\n",
        "    \n",
        "    t = t*0.1"
      ],
      "metadata": {
        "colab": {
          "base_uri": "https://localhost:8080/"
        },
        "id": "rFGhmQ76PJsA",
        "outputId": "53a6bd2d-093f-4715-c479-b3e7e6b9105e"
      },
      "execution_count": null,
      "outputs": [
        {
          "output_type": "stream",
          "name": "stdout",
          "text": [
            "5\n",
            "0.41000000000000014\n",
            "0.040099999999998914\n",
            "0.004000999999999699\n",
            "0.00040001000000078335\n",
            "4.000010000027032e-05\n",
            "4.0000010006480125e-06\n"
          ]
        }
      ]
    },
    {
      "cell_type": "code",
      "source": [
        "# t --> 0\n",
        "t = 1\n",
        "for _ in range(7):\n",
        "    y = func(2 - t)\n",
        "    print(y)\n",
        "    \n",
        "    t = t*0.1"
      ],
      "metadata": {
        "colab": {
          "base_uri": "https://localhost:8080/"
        },
        "id": "LG1a0pKGPMEX",
        "outputId": "294a81df-3c0e-4e00-bac7-d67dd719765b"
      },
      "execution_count": null,
      "outputs": [
        {
          "output_type": "stream",
          "name": "stdout",
          "text": [
            "2\n",
            "2.9\n",
            "2.99\n",
            "2.999\n",
            "2.9999000000000002\n",
            "2.99999\n",
            "2.999999\n"
          ]
        }
      ]
    },
    {
      "cell_type": "markdown",
      "source": [
        "# 1 / x"
      ],
      "metadata": {
        "id": "aF49hYw3PPHg"
      }
    },
    {
      "cell_type": "code",
      "source": [
        "import math\n",
        "\n",
        "def func(x):\n",
        "    y = 1 / x\n",
        "    return y"
      ],
      "metadata": {
        "id": "jFueemwDPOOa"
      },
      "execution_count": null,
      "outputs": []
    },
    {
      "cell_type": "code",
      "source": [
        "import matplotlib.pyplot as plt\n",
        "plt.rcParams[\"figure.figsize\"] = [5.00, 3.0]\n",
        "plt.rcParams[\"figure.autolayout\"] = True\n",
        "\n",
        "left_x = np.arange(-1, 0, 0.01).tolist()\n",
        "left_y = [func(x) for x in left_x]\n",
        "plt.plot(left_x, left_y, 'g')\n",
        "\n",
        "right_x = np.arange(0 + 1e-2, 1, 0.01).tolist()\n",
        "right_y = [func(x) for x in right_x]\n",
        "plt.plot(right_x, right_y, 'b')"
      ],
      "metadata": {
        "colab": {
          "base_uri": "https://localhost:8080/",
          "height": 323
        },
        "id": "eaO8PzU4PSBC",
        "outputId": "14b97a3e-a644-4d34-9f3e-e9cc52578ac8"
      },
      "execution_count": null,
      "outputs": [
        {
          "output_type": "execute_result",
          "data": {
            "text/plain": [
              "[<matplotlib.lines.Line2D at 0x7fba6f8bfc70>]"
            ]
          },
          "metadata": {},
          "execution_count": 30
        },
        {
          "output_type": "display_data",
          "data": {
            "text/plain": [
              "<Figure size 500x300 with 1 Axes>"
            ],
            "image/png": "[encoded data removed]"
          },
          "metadata": {}
        }
      ]
    },
    {
      "cell_type": "code",
      "source": [
        "# t --> 0\n",
        "t = 1\n",
        "for _ in range(7):\n",
        "    y = func(t)\n",
        "    print(y)\n",
        "    \n",
        "    t = t*0.1"
      ],
      "metadata": {
        "colab": {
          "base_uri": "https://localhost:8080/"
        },
        "id": "qolBQiesPVOj",
        "outputId": "48fa43fc-9940-48b3-f2cd-aeb8b48f3434"
      },
      "execution_count": null,
      "outputs": [
        {
          "output_type": "stream",
          "name": "stdout",
          "text": [
            "1.0\n",
            "10.0\n",
            "99.99999999999999\n",
            "999.9999999999998\n",
            "9999.999999999996\n",
            "99999.99999999996\n",
            "999999.9999999997\n"
          ]
        }
      ]
    },
    {
      "cell_type": "code",
      "source": [
        "# t --> 0\n",
        "t = 1\n",
        "for _ in range(7):\n",
        "    y = func(-t)\n",
        "    print(y)\n",
        "    \n",
        "    t = t*0.1"
      ],
      "metadata": {
        "colab": {
          "base_uri": "https://localhost:8080/"
        },
        "id": "hJDTWMN_PXHz",
        "outputId": "40e58fcc-15e2-4bd4-8a1c-161dfa005f6d"
      },
      "execution_count": null,
      "outputs": [
        {
          "output_type": "stream",
          "name": "stdout",
          "text": [
            "-1.0\n",
            "-10.0\n",
            "-99.99999999999999\n",
            "-999.9999999999998\n",
            "-9999.999999999996\n",
            "-99999.99999999996\n",
            "-999999.9999999997\n"
          ]
        }
      ]
    },
    {
      "cell_type": "code",
      "source": [
        "# e number\n",
        "\n",
        "import math\n",
        "\n",
        "def func(x):\n",
        "    y = (1 + 1/x)**x\n",
        "    return y"
      ],
      "metadata": {
        "id": "QW_IBGdqPYg5"
      },
      "execution_count": null,
      "outputs": []
    },
    {
      "cell_type": "code",
      "source": [
        "# t --> 0\n",
        "t = 1e1\n",
        "for _ in range(7):\n",
        "    y = func(t)\n",
        "    print(y)\n",
        "    \n",
        "    t = t*10"
      ],
      "metadata": {
        "id": "EpPJMWDrPb7a",
        "outputId": "6a7d5ff5-5756-4b3c-b781-c101cf6c83e1",
        "colab": {
          "base_uri": "https://localhost:8080/"
        }
      },
      "execution_count": null,
      "outputs": [
        {
          "output_type": "stream",
          "name": "stdout",
          "text": [
            "2.5937424601000023\n",
            "2.7048138294215285\n",
            "2.7169239322355936\n",
            "2.7181459268249255\n",
            "2.7182682371922975\n",
            "2.7182804690957534\n",
            "2.7182816941320818\n"
          ]
        }
      ]
    },
    {
      "cell_type": "code",
      "source": [
        "import math\n",
        "\n",
        "def func(a, x):\n",
        "    y = (a**t - 1) / t\n",
        "    return y"
      ],
      "metadata": {
        "id": "w6bH0naePdFQ"
      },
      "execution_count": null,
      "outputs": []
    },
    {
      "cell_type": "code",
      "source": [
        "# t --> 0\n",
        "t = 1\n",
        "for _ in range(7):\n",
        "    y = func(2, t)\n",
        "    print(y)\n",
        "    \n",
        "    t = t*0.1"
      ],
      "metadata": {
        "id": "6luKCp2WPfsJ",
        "outputId": "1be59d0b-2d7a-40a9-d1f3-d76655e90704",
        "colab": {
          "base_uri": "https://localhost:8080/"
        }
      },
      "execution_count": null,
      "outputs": [
        {
          "output_type": "stream",
          "name": "stdout",
          "text": [
            "1.0\n",
            "0.7177346253629313\n",
            "0.6955550056718883\n",
            "0.6933874625807411\n",
            "0.6931712037649971\n",
            "0.6931495828199626\n",
            "0.6931474207938491\n"
          ]
        }
      ]
    }
  ]
}
