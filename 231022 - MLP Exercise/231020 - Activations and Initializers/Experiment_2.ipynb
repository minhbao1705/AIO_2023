{
  "nbformat": 4,
  "nbformat_minor": 0,
  "metadata": {
    "colab": {
      "provenance": []
    },
    "kernelspec": {
      "name": "python3",
      "display_name": "Python 3"
    },
    "language_info": {
      "name": "python"
    }
  },
  "cells": [
    {
      "cell_type": "code",
      "execution_count": 1,
      "metadata": {
        "id": "z_AyWmIq3jdc"
      },
      "outputs": [],
      "source": [
        "import torch\n",
        "import torch.nn as nn\n",
        "import torch.optim as optim\n",
        "import torchvision\n",
        "import torchvision.transforms as transforms\n",
        "\n",
        "device = torch.device(\"cuda:0\" if torch.cuda.is_available() else \"cpu\")"
      ]
    },
    {
      "cell_type": "markdown",
      "source": [
        "### Data"
      ],
      "metadata": {
        "id": "UkjYF1JA5CuM"
      }
    },
    {
      "cell_type": "code",
      "source": [
        "transform = transforms.Compose([transforms.ToTensor(), transforms.Normalize((0.5,), (0.5))])\n",
        "trainset = torchvision.datasets.FashionMNIST(root=\"data\",train=True, download=True, transform=transform)\n",
        "trainloader = torch.utils.data.DataLoader(trainset, batch_size=1024, num_workers=2, shuffle=True)\n",
        "\n",
        "testset = torchvision.datasets.FashionMNIST(root=\"data\",train=False, download=True, transform=transform)\n",
        "testloader = torch.utils.data.DataLoader(testset, batch_size=1024, num_workers=2, shuffle=False)"
      ],
      "metadata": {
        "colab": {
          "base_uri": "https://localhost:8080/"
        },
        "id": "NVS5f_Vk3m4h",
        "outputId": "80a3137b-002c-490f-a438-b826ae3bd18f"
      },
      "execution_count": 2,
      "outputs": [
        {
          "output_type": "stream",
          "name": "stdout",
          "text": [
            "Downloading http://fashion-mnist.s3-website.eu-central-1.amazonaws.com/train-images-idx3-ubyte.gz\n",
            "Downloading http://fashion-mnist.s3-website.eu-central-1.amazonaws.com/train-images-idx3-ubyte.gz to data/FashionMNIST/raw/train-images-idx3-ubyte.gz\n"
          ]
        },
        {
          "output_type": "stream",
          "name": "stderr",
          "text": [
            "100%|██████████| 26.4M/26.4M [00:02<00:00, 12.6MB/s]\n"
          ]
        },
        {
          "output_type": "stream",
          "name": "stdout",
          "text": [
            "Extracting data/FashionMNIST/raw/train-images-idx3-ubyte.gz to data/FashionMNIST/raw\n",
            "\n",
            "Downloading http://fashion-mnist.s3-website.eu-central-1.amazonaws.com/train-labels-idx1-ubyte.gz\n",
            "Downloading http://fashion-mnist.s3-website.eu-central-1.amazonaws.com/train-labels-idx1-ubyte.gz to data/FashionMNIST/raw/train-labels-idx1-ubyte.gz\n"
          ]
        },
        {
          "output_type": "stream",
          "name": "stderr",
          "text": [
            "100%|██████████| 29.5k/29.5k [00:00<00:00, 273kB/s]\n"
          ]
        },
        {
          "output_type": "stream",
          "name": "stdout",
          "text": [
            "Extracting data/FashionMNIST/raw/train-labels-idx1-ubyte.gz to data/FashionMNIST/raw\n",
            "\n",
            "Downloading http://fashion-mnist.s3-website.eu-central-1.amazonaws.com/t10k-images-idx3-ubyte.gz\n",
            "Downloading http://fashion-mnist.s3-website.eu-central-1.amazonaws.com/t10k-images-idx3-ubyte.gz to data/FashionMNIST/raw/t10k-images-idx3-ubyte.gz\n"
          ]
        },
        {
          "output_type": "stream",
          "name": "stderr",
          "text": [
            "100%|██████████| 4.42M/4.42M [00:00<00:00, 4.98MB/s]\n"
          ]
        },
        {
          "output_type": "stream",
          "name": "stdout",
          "text": [
            "Extracting data/FashionMNIST/raw/t10k-images-idx3-ubyte.gz to data/FashionMNIST/raw\n",
            "\n",
            "Downloading http://fashion-mnist.s3-website.eu-central-1.amazonaws.com/t10k-labels-idx1-ubyte.gz\n",
            "Downloading http://fashion-mnist.s3-website.eu-central-1.amazonaws.com/t10k-labels-idx1-ubyte.gz to data/FashionMNIST/raw/t10k-labels-idx1-ubyte.gz\n"
          ]
        },
        {
          "output_type": "stream",
          "name": "stderr",
          "text": [
            "100%|██████████| 5.15k/5.15k [00:00<00:00, 12.9MB/s]\n"
          ]
        },
        {
          "output_type": "stream",
          "name": "stdout",
          "text": [
            "Extracting data/FashionMNIST/raw/t10k-labels-idx1-ubyte.gz to data/FashionMNIST/raw\n",
            "\n"
          ]
        }
      ]
    },
    {
      "cell_type": "code",
      "source": [
        "import matplotlib.pyplot as plt\n",
        "import numpy as np\n",
        "\n",
        "# Function to display the image\n",
        "def imshow(img):\n",
        "  img = img*0.5 + 0.5\n",
        "  np_img = img.numpy()\n",
        "  plt.imshow(np.transpose(np_img, (1, 2, 0)))\n",
        "  plt.show()\n",
        "\n",
        "for i, (images, labels) in enumerate(trainloader, 0):\n",
        "  # Plot some images\n",
        "  imshow(torchvision.utils.make_grid(images[:8]))\n",
        "  break"
      ],
      "metadata": {
        "colab": {
          "base_uri": "https://localhost:8080/",
          "height": 130
        },
        "id": "mApUH1-N59Bg",
        "outputId": "8bc9cc2b-5b91-465b-c027-cdc2a45e6bf4"
      },
      "execution_count": 3,
      "outputs": [
        {
          "output_type": "display_data",
          "data": {
            "text/plain": [
              "<Figure size 640x480 with 1 Axes>"
            ],
            "image/png": "[encoded data removed]"
          },
          "metadata": {}
        }
      ]
    },
    {
      "cell_type": "markdown",
      "source": [
        "# **I. 256 Nodes**"
      ],
      "metadata": {
        "id": "DBUjo7Fh6Z9c"
      }
    },
    {
      "cell_type": "markdown",
      "source": [
        "### Model"
      ],
      "metadata": {
        "id": "x4ItQl2m6P09"
      }
    },
    {
      "cell_type": "code",
      "source": [
        "model = nn.Sequential(\n",
        "    nn.Flatten(),\n",
        "    nn.Linear(784, 256),\n",
        "    nn.ReLU(),\n",
        "    nn.Linear(256, 10)\n",
        ")\n",
        "model = model.to(device)\n",
        "print(model)"
      ],
      "metadata": {
        "colab": {
          "base_uri": "https://localhost:8080/"
        },
        "id": "w3UNT_VQ6NBu",
        "outputId": "4ca392e2-0696-4fdd-9ccf-b7e46501181d"
      },
      "execution_count": 5,
      "outputs": [
        {
          "output_type": "stream",
          "name": "stdout",
          "text": [
            "Sequential(\n",
            "  (0): Flatten(start_dim=1, end_dim=-1)\n",
            "  (1): Linear(in_features=784, out_features=256, bias=True)\n",
            "  (2): ReLU()\n",
            "  (3): Linear(in_features=256, out_features=10, bias=True)\n",
            ")\n"
          ]
        }
      ]
    },
    {
      "cell_type": "code",
      "source": [
        "# Generating a random tensor\n",
        "input_tensor = torch.rand(5, 28, 28).to(device)\n",
        "\n",
        "# Feeding the tensor into the model\n",
        "output = model(input_tensor)\n",
        "print(output.shape)"
      ],
      "metadata": {
        "colab": {
          "base_uri": "https://localhost:8080/"
        },
        "id": "fubHsU5269HT",
        "outputId": "fc488385-a6fc-45bd-b9c5-278ba8deaa9a"
      },
      "execution_count": 6,
      "outputs": [
        {
          "output_type": "stream",
          "name": "stdout",
          "text": [
            "torch.Size([5, 10])\n"
          ]
        }
      ]
    },
    {
      "cell_type": "markdown",
      "source": [
        "### Loss, Optimizer, and Activation Function"
      ],
      "metadata": {
        "id": "miiXocMO7wsk"
      }
    },
    {
      "cell_type": "code",
      "source": [
        "criterion = nn.CrossEntropyLoss()\n",
        "optimizer = optim.SGD(model.parameters(), lr = 0.01)"
      ],
      "metadata": {
        "id": "b2ntJpfN7gQR"
      },
      "execution_count": 7,
      "outputs": []
    },
    {
      "cell_type": "code",
      "source": [
        "# Function to compute loss and accuracy for test set\n",
        "def evaluate(model, testloader, criterion):\n",
        "  model.eval()\n",
        "  test_loss = 0.0\n",
        "  total = 0\n",
        "  correct = 0\n",
        "  with torch.no_grad():\n",
        "    for images, labels in testloader:\n",
        "      # Move inputs, labels to the device\n",
        "      images, labels = images.to(device), labels.to(device)\n",
        "\n",
        "      outputs = model(images)\n",
        "      loss = criterion(outputs, labels)\n",
        "      test_loss += loss.item()\n",
        "\n",
        "      _, predicted = torch.max(outputs, 1)\n",
        "      total += labels.size(0)\n",
        "      correct += (predicted == labels).sum().item()\n",
        "\n",
        "    accuracy = 100 * correct / total\n",
        "    test_loss = test_loss / len(testloader)\n",
        "    return test_loss, accuracy"
      ],
      "metadata": {
        "id": "G5MeZIoj8Pb7"
      },
      "execution_count": 8,
      "outputs": []
    },
    {
      "cell_type": "code",
      "source": [
        "test_loss, test_accuracy = evaluate(model, testloader, criterion)\n",
        "print(f'test_loss: {test_loss}')\n",
        "print(f'test_accuracy: {test_accuracy}')"
      ],
      "metadata": {
        "colab": {
          "base_uri": "https://localhost:8080/"
        },
        "id": "rmuPBp8O9xne",
        "outputId": "70927f1f-67d6-4b6f-cecc-c51bedfafdaa"
      },
      "execution_count": 9,
      "outputs": [
        {
          "output_type": "stream",
          "name": "stdout",
          "text": [
            "test_loss: 2.310782289505005\n",
            "test_accuracy: 12.19\n"
          ]
        }
      ]
    },
    {
      "cell_type": "markdown",
      "source": [
        "### Train"
      ],
      "metadata": {
        "id": "ShS83dal-2NB"
      }
    },
    {
      "cell_type": "code",
      "source": [
        "# some parameter\n",
        "train_losses = []\n",
        "train_accuracies = []\n",
        "test_losses = []\n",
        "test_accuracies = []\n",
        "max_epoch = 400"
      ],
      "metadata": {
        "id": "XpUCqhJ5-v70"
      },
      "execution_count": 10,
      "outputs": []
    },
    {
      "cell_type": "code",
      "source": [
        "# train\n",
        "for epoch in range(max_epoch):\n",
        "    running_loss = 0.0\n",
        "    running_correct = 0   # to track number of correct predictions\n",
        "    total = 0             # to track total number of samples\n",
        "\n",
        "    for i, (inputs, labels) in enumerate(trainloader, 0):\n",
        "        # Move inputs and labels to the device\n",
        "        inputs, labels = inputs.to(device), labels.to(device)\n",
        "\n",
        "        # Zero the parameter gradients\n",
        "        optimizer.zero_grad()\n",
        "\n",
        "        # Forward pass\n",
        "        outputs = model(inputs)\n",
        "        loss = criterion(outputs, labels)\n",
        "        running_loss += loss.item()\n",
        "\n",
        "        # Determine class predictions and track accuracy\n",
        "        _, predicted = torch.max(outputs.data, 1)\n",
        "        total += labels.size(0)\n",
        "        running_correct += (predicted == labels).sum().item()\n",
        "\n",
        "        # Backward pass and optimization\n",
        "        loss.backward()\n",
        "        optimizer.step()\n",
        "\n",
        "    epoch_accuracy = 100 * running_correct / total\n",
        "    epoch_loss = running_loss / (i + 1)\n",
        "    test_loss, test_accuracy = evaluate(model, testloader, criterion)\n",
        "    print(f\"Epoch [{epoch + 1}/{max_epoch}], Loss: {epoch_loss:.4f}, Accuracy: {epoch_accuracy:.2f}%, Test Loss: {test_loss:.4f}, Test Accuracy: {test_accuracy:.2f}%\")\n",
        "\n",
        "    # save for plot\n",
        "    train_losses.append(epoch_loss)\n",
        "    train_accuracies.append(epoch_accuracy)\n",
        "    test_losses.append(test_loss)\n",
        "    test_accuracies.append(test_accuracy)"
      ],
      "metadata": {
        "colab": {
          "base_uri": "https://localhost:8080/"
        },
        "id": "uU5wDOMz-4af",
        "outputId": "3dd04546-16b4-45a9-96a7-514c2df49438"
      },
      "execution_count": 11,
      "outputs": [
        {
          "output_type": "stream",
          "name": "stdout",
          "text": [
            "Epoch [1/400], Loss: 1.8179, Accuracy: 49.05%, Test Loss: 1.4369, Test Accuracy: 65.09%\n",
            "Epoch [2/400], Loss: 1.2183, Accuracy: 69.72%, Test Loss: 1.0620, Test Accuracy: 71.12%\n",
            "Epoch [3/400], Loss: 0.9615, Accuracy: 72.64%, Test Loss: 0.8971, Test Accuracy: 72.89%\n",
            "Epoch [4/400], Loss: 0.8390, Accuracy: 73.97%, Test Loss: 0.8101, Test Accuracy: 73.98%\n",
            "Epoch [5/400], Loss: 0.7688, Accuracy: 75.03%, Test Loss: 0.7562, Test Accuracy: 75.01%\n",
            "Epoch [6/400], Loss: 0.7225, Accuracy: 75.89%, Test Loss: 0.7194, Test Accuracy: 75.74%\n",
            "Epoch [7/400], Loss: 0.6896, Accuracy: 76.56%, Test Loss: 0.6916, Test Accuracy: 76.21%\n",
            "Epoch [8/400], Loss: 0.6641, Accuracy: 77.17%, Test Loss: 0.6693, Test Accuracy: 76.65%\n",
            "Epoch [9/400], Loss: 0.6432, Accuracy: 77.73%, Test Loss: 0.6512, Test Accuracy: 77.19%\n",
            "Epoch [10/400], Loss: 0.6257, Accuracy: 78.23%, Test Loss: 0.6357, Test Accuracy: 77.64%\n",
            "Epoch [11/400], Loss: 0.6108, Accuracy: 78.78%, Test Loss: 0.6222, Test Accuracy: 78.22%\n",
            "Epoch [12/400], Loss: 0.5977, Accuracy: 79.14%, Test Loss: 0.6106, Test Accuracy: 78.70%\n",
            "Epoch [13/400], Loss: 0.5858, Accuracy: 79.65%, Test Loss: 0.6001, Test Accuracy: 78.98%\n",
            "Epoch [14/400], Loss: 0.5755, Accuracy: 80.03%, Test Loss: 0.5911, Test Accuracy: 79.34%\n",
            "Epoch [15/400], Loss: 0.5663, Accuracy: 80.25%, Test Loss: 0.5832, Test Accuracy: 79.36%\n",
            "Epoch [16/400], Loss: 0.5576, Accuracy: 80.58%, Test Loss: 0.5744, Test Accuracy: 80.04%\n",
            "Epoch [17/400], Loss: 0.5498, Accuracy: 80.80%, Test Loss: 0.5688, Test Accuracy: 80.15%\n",
            "Epoch [18/400], Loss: 0.5426, Accuracy: 81.09%, Test Loss: 0.5616, Test Accuracy: 80.52%\n",
            "Epoch [19/400], Loss: 0.5361, Accuracy: 81.31%, Test Loss: 0.5554, Test Accuracy: 80.64%\n",
            "Epoch [20/400], Loss: 0.5305, Accuracy: 81.56%, Test Loss: 0.5499, Test Accuracy: 80.58%\n",
            "Epoch [21/400], Loss: 0.5247, Accuracy: 81.70%, Test Loss: 0.5454, Test Accuracy: 80.60%\n",
            "Epoch [22/400], Loss: 0.5194, Accuracy: 81.97%, Test Loss: 0.5409, Test Accuracy: 80.87%\n",
            "Epoch [23/400], Loss: 0.5150, Accuracy: 82.10%, Test Loss: 0.5370, Test Accuracy: 81.01%\n",
            "Epoch [24/400], Loss: 0.5103, Accuracy: 82.28%, Test Loss: 0.5324, Test Accuracy: 81.13%\n",
            "Epoch [25/400], Loss: 0.5054, Accuracy: 82.42%, Test Loss: 0.5283, Test Accuracy: 81.23%\n",
            "Epoch [26/400], Loss: 0.5022, Accuracy: 82.56%, Test Loss: 0.5258, Test Accuracy: 81.32%\n",
            "Epoch [27/400], Loss: 0.4979, Accuracy: 82.67%, Test Loss: 0.5220, Test Accuracy: 81.48%\n",
            "Epoch [28/400], Loss: 0.4946, Accuracy: 82.80%, Test Loss: 0.5189, Test Accuracy: 81.59%\n",
            "Epoch [29/400], Loss: 0.4908, Accuracy: 82.94%, Test Loss: 0.5157, Test Accuracy: 81.62%\n",
            "Epoch [30/400], Loss: 0.4881, Accuracy: 83.00%, Test Loss: 0.5127, Test Accuracy: 81.80%\n",
            "Epoch [31/400], Loss: 0.4849, Accuracy: 83.11%, Test Loss: 0.5103, Test Accuracy: 81.75%\n",
            "Epoch [32/400], Loss: 0.4819, Accuracy: 83.18%, Test Loss: 0.5075, Test Accuracy: 81.76%\n",
            "Epoch [33/400], Loss: 0.4791, Accuracy: 83.31%, Test Loss: 0.5054, Test Accuracy: 81.86%\n",
            "Epoch [34/400], Loss: 0.4765, Accuracy: 83.37%, Test Loss: 0.5030, Test Accuracy: 82.02%\n",
            "Epoch [35/400], Loss: 0.4735, Accuracy: 83.52%, Test Loss: 0.5005, Test Accuracy: 82.06%\n",
            "Epoch [36/400], Loss: 0.4712, Accuracy: 83.56%, Test Loss: 0.4985, Test Accuracy: 82.11%\n",
            "Epoch [37/400], Loss: 0.4688, Accuracy: 83.65%, Test Loss: 0.4962, Test Accuracy: 82.36%\n",
            "Epoch [38/400], Loss: 0.4669, Accuracy: 83.76%, Test Loss: 0.4944, Test Accuracy: 82.34%\n",
            "Epoch [39/400], Loss: 0.4644, Accuracy: 83.78%, Test Loss: 0.4924, Test Accuracy: 82.27%\n",
            "Epoch [40/400], Loss: 0.4623, Accuracy: 83.91%, Test Loss: 0.4903, Test Accuracy: 82.51%\n",
            "Epoch [41/400], Loss: 0.4599, Accuracy: 83.93%, Test Loss: 0.4886, Test Accuracy: 82.54%\n",
            "Epoch [42/400], Loss: 0.4581, Accuracy: 83.98%, Test Loss: 0.4868, Test Accuracy: 82.61%\n",
            "Epoch [43/400], Loss: 0.4563, Accuracy: 84.08%, Test Loss: 0.4852, Test Accuracy: 82.69%\n",
            "Epoch [44/400], Loss: 0.4540, Accuracy: 84.10%, Test Loss: 0.4841, Test Accuracy: 82.83%\n",
            "Epoch [45/400], Loss: 0.4523, Accuracy: 84.21%, Test Loss: 0.4819, Test Accuracy: 82.87%\n",
            "Epoch [46/400], Loss: 0.4511, Accuracy: 84.25%, Test Loss: 0.4803, Test Accuracy: 82.81%\n",
            "Epoch [47/400], Loss: 0.4491, Accuracy: 84.28%, Test Loss: 0.4798, Test Accuracy: 83.00%\n",
            "Epoch [48/400], Loss: 0.4472, Accuracy: 84.36%, Test Loss: 0.4773, Test Accuracy: 83.10%\n",
            "Epoch [49/400], Loss: 0.4455, Accuracy: 84.36%, Test Loss: 0.4768, Test Accuracy: 83.04%\n",
            "Epoch [50/400], Loss: 0.4445, Accuracy: 84.50%, Test Loss: 0.4748, Test Accuracy: 83.12%\n",
            "Epoch [51/400], Loss: 0.4424, Accuracy: 84.53%, Test Loss: 0.4736, Test Accuracy: 83.29%\n",
            "Epoch [52/400], Loss: 0.4412, Accuracy: 84.55%, Test Loss: 0.4720, Test Accuracy: 83.26%\n",
            "Epoch [53/400], Loss: 0.4396, Accuracy: 84.61%, Test Loss: 0.4709, Test Accuracy: 83.34%\n",
            "Epoch [54/400], Loss: 0.4381, Accuracy: 84.65%, Test Loss: 0.4697, Test Accuracy: 83.31%\n",
            "Epoch [55/400], Loss: 0.4366, Accuracy: 84.67%, Test Loss: 0.4681, Test Accuracy: 83.44%\n",
            "Epoch [56/400], Loss: 0.4349, Accuracy: 84.73%, Test Loss: 0.4684, Test Accuracy: 83.14%\n",
            "Epoch [57/400], Loss: 0.4337, Accuracy: 84.82%, Test Loss: 0.4663, Test Accuracy: 83.39%\n",
            "Epoch [58/400], Loss: 0.4325, Accuracy: 84.79%, Test Loss: 0.4649, Test Accuracy: 83.39%\n",
            "Epoch [59/400], Loss: 0.4317, Accuracy: 84.89%, Test Loss: 0.4636, Test Accuracy: 83.44%\n",
            "Epoch [60/400], Loss: 0.4297, Accuracy: 84.92%, Test Loss: 0.4627, Test Accuracy: 83.47%\n",
            "Epoch [61/400], Loss: 0.4284, Accuracy: 84.99%, Test Loss: 0.4622, Test Accuracy: 83.35%\n",
            "Epoch [62/400], Loss: 0.4278, Accuracy: 85.02%, Test Loss: 0.4600, Test Accuracy: 83.54%\n",
            "Epoch [63/400], Loss: 0.4266, Accuracy: 85.03%, Test Loss: 0.4596, Test Accuracy: 83.67%\n",
            "Epoch [64/400], Loss: 0.4256, Accuracy: 85.11%, Test Loss: 0.4584, Test Accuracy: 83.65%\n",
            "Epoch [65/400], Loss: 0.4240, Accuracy: 85.17%, Test Loss: 0.4580, Test Accuracy: 83.58%\n",
            "Epoch [66/400], Loss: 0.4228, Accuracy: 85.18%, Test Loss: 0.4569, Test Accuracy: 83.51%\n",
            "Epoch [67/400], Loss: 0.4221, Accuracy: 85.23%, Test Loss: 0.4554, Test Accuracy: 83.64%\n",
            "Epoch [68/400], Loss: 0.4208, Accuracy: 85.27%, Test Loss: 0.4549, Test Accuracy: 83.57%\n",
            "Epoch [69/400], Loss: 0.4195, Accuracy: 85.27%, Test Loss: 0.4539, Test Accuracy: 83.61%\n",
            "Epoch [70/400], Loss: 0.4190, Accuracy: 85.35%, Test Loss: 0.4525, Test Accuracy: 83.80%\n",
            "Epoch [71/400], Loss: 0.4174, Accuracy: 85.36%, Test Loss: 0.4517, Test Accuracy: 83.76%\n",
            "Epoch [72/400], Loss: 0.4165, Accuracy: 85.42%, Test Loss: 0.4509, Test Accuracy: 83.76%\n",
            "Epoch [73/400], Loss: 0.4159, Accuracy: 85.41%, Test Loss: 0.4501, Test Accuracy: 83.95%\n",
            "Epoch [74/400], Loss: 0.4144, Accuracy: 85.47%, Test Loss: 0.4494, Test Accuracy: 83.85%\n",
            "Epoch [75/400], Loss: 0.4134, Accuracy: 85.46%, Test Loss: 0.4482, Test Accuracy: 83.86%\n",
            "Epoch [76/400], Loss: 0.4126, Accuracy: 85.50%, Test Loss: 0.4481, Test Accuracy: 83.91%\n",
            "Epoch [77/400], Loss: 0.4117, Accuracy: 85.53%, Test Loss: 0.4467, Test Accuracy: 84.07%\n",
            "Epoch [78/400], Loss: 0.4102, Accuracy: 85.58%, Test Loss: 0.4456, Test Accuracy: 83.97%\n",
            "Epoch [79/400], Loss: 0.4097, Accuracy: 85.56%, Test Loss: 0.4449, Test Accuracy: 83.97%\n",
            "Epoch [80/400], Loss: 0.4089, Accuracy: 85.62%, Test Loss: 0.4442, Test Accuracy: 84.05%\n",
            "Epoch [81/400], Loss: 0.4074, Accuracy: 85.68%, Test Loss: 0.4436, Test Accuracy: 84.01%\n",
            "Epoch [82/400], Loss: 0.4069, Accuracy: 85.71%, Test Loss: 0.4434, Test Accuracy: 84.03%\n",
            "Epoch [83/400], Loss: 0.4064, Accuracy: 85.72%, Test Loss: 0.4423, Test Accuracy: 84.04%\n",
            "Epoch [84/400], Loss: 0.4051, Accuracy: 85.77%, Test Loss: 0.4410, Test Accuracy: 84.13%\n",
            "Epoch [85/400], Loss: 0.4041, Accuracy: 85.79%, Test Loss: 0.4413, Test Accuracy: 84.08%\n",
            "Epoch [86/400], Loss: 0.4031, Accuracy: 85.80%, Test Loss: 0.4397, Test Accuracy: 84.15%\n",
            "Epoch [87/400], Loss: 0.4029, Accuracy: 85.82%, Test Loss: 0.4391, Test Accuracy: 84.20%\n",
            "Epoch [88/400], Loss: 0.4016, Accuracy: 85.89%, Test Loss: 0.4385, Test Accuracy: 84.27%\n",
            "Epoch [89/400], Loss: 0.4012, Accuracy: 85.89%, Test Loss: 0.4376, Test Accuracy: 84.12%\n",
            "Epoch [90/400], Loss: 0.3998, Accuracy: 85.92%, Test Loss: 0.4367, Test Accuracy: 84.21%\n",
            "Epoch [91/400], Loss: 0.3992, Accuracy: 85.93%, Test Loss: 0.4376, Test Accuracy: 84.26%\n",
            "Epoch [92/400], Loss: 0.3984, Accuracy: 85.97%, Test Loss: 0.4355, Test Accuracy: 84.24%\n",
            "Epoch [93/400], Loss: 0.3975, Accuracy: 86.00%, Test Loss: 0.4354, Test Accuracy: 84.22%\n",
            "Epoch [94/400], Loss: 0.3971, Accuracy: 86.07%, Test Loss: 0.4343, Test Accuracy: 84.35%\n",
            "Epoch [95/400], Loss: 0.3959, Accuracy: 86.08%, Test Loss: 0.4339, Test Accuracy: 84.22%\n",
            "Epoch [96/400], Loss: 0.3956, Accuracy: 86.12%, Test Loss: 0.4329, Test Accuracy: 84.36%\n",
            "Epoch [97/400], Loss: 0.3943, Accuracy: 86.13%, Test Loss: 0.4327, Test Accuracy: 84.21%\n",
            "Epoch [98/400], Loss: 0.3939, Accuracy: 86.14%, Test Loss: 0.4319, Test Accuracy: 84.49%\n",
            "Epoch [99/400], Loss: 0.3929, Accuracy: 86.18%, Test Loss: 0.4314, Test Accuracy: 84.40%\n",
            "Epoch [100/400], Loss: 0.3920, Accuracy: 86.23%, Test Loss: 0.4308, Test Accuracy: 84.54%\n",
            "Epoch [101/400], Loss: 0.3914, Accuracy: 86.20%, Test Loss: 0.4299, Test Accuracy: 84.39%\n",
            "Epoch [102/400], Loss: 0.3911, Accuracy: 86.25%, Test Loss: 0.4295, Test Accuracy: 84.38%\n",
            "Epoch [103/400], Loss: 0.3901, Accuracy: 86.31%, Test Loss: 0.4285, Test Accuracy: 84.60%\n",
            "Epoch [104/400], Loss: 0.3892, Accuracy: 86.27%, Test Loss: 0.4285, Test Accuracy: 84.50%\n",
            "Epoch [105/400], Loss: 0.3887, Accuracy: 86.30%, Test Loss: 0.4281, Test Accuracy: 84.59%\n",
            "Epoch [106/400], Loss: 0.3879, Accuracy: 86.32%, Test Loss: 0.4270, Test Accuracy: 84.62%\n",
            "Epoch [107/400], Loss: 0.3875, Accuracy: 86.39%, Test Loss: 0.4264, Test Accuracy: 84.60%\n",
            "Epoch [108/400], Loss: 0.3871, Accuracy: 86.44%, Test Loss: 0.4256, Test Accuracy: 84.52%\n",
            "Epoch [109/400], Loss: 0.3861, Accuracy: 86.43%, Test Loss: 0.4251, Test Accuracy: 84.59%\n",
            "Epoch [110/400], Loss: 0.3856, Accuracy: 86.47%, Test Loss: 0.4246, Test Accuracy: 84.69%\n",
            "Epoch [111/400], Loss: 0.3851, Accuracy: 86.50%, Test Loss: 0.4245, Test Accuracy: 84.62%\n",
            "Epoch [112/400], Loss: 0.3840, Accuracy: 86.53%, Test Loss: 0.4246, Test Accuracy: 84.51%\n",
            "Epoch [113/400], Loss: 0.3831, Accuracy: 86.54%, Test Loss: 0.4230, Test Accuracy: 84.76%\n",
            "Epoch [114/400], Loss: 0.3824, Accuracy: 86.62%, Test Loss: 0.4230, Test Accuracy: 84.80%\n",
            "Epoch [115/400], Loss: 0.3815, Accuracy: 86.60%, Test Loss: 0.4219, Test Accuracy: 84.73%\n",
            "Epoch [116/400], Loss: 0.3810, Accuracy: 86.61%, Test Loss: 0.4213, Test Accuracy: 84.78%\n",
            "Epoch [117/400], Loss: 0.3806, Accuracy: 86.68%, Test Loss: 0.4209, Test Accuracy: 84.61%\n",
            "Epoch [118/400], Loss: 0.3797, Accuracy: 86.68%, Test Loss: 0.4206, Test Accuracy: 84.83%\n",
            "Epoch [119/400], Loss: 0.3792, Accuracy: 86.70%, Test Loss: 0.4197, Test Accuracy: 84.80%\n",
            "Epoch [120/400], Loss: 0.3788, Accuracy: 86.67%, Test Loss: 0.4192, Test Accuracy: 84.78%\n",
            "Epoch [121/400], Loss: 0.3777, Accuracy: 86.72%, Test Loss: 0.4188, Test Accuracy: 84.82%\n",
            "Epoch [122/400], Loss: 0.3772, Accuracy: 86.70%, Test Loss: 0.4181, Test Accuracy: 84.82%\n",
            "Epoch [123/400], Loss: 0.3766, Accuracy: 86.79%, Test Loss: 0.4182, Test Accuracy: 84.82%\n",
            "Epoch [124/400], Loss: 0.3762, Accuracy: 86.78%, Test Loss: 0.4176, Test Accuracy: 84.80%\n",
            "Epoch [125/400], Loss: 0.3759, Accuracy: 86.81%, Test Loss: 0.4171, Test Accuracy: 84.88%\n",
            "Epoch [126/400], Loss: 0.3751, Accuracy: 86.78%, Test Loss: 0.4161, Test Accuracy: 84.98%\n",
            "Epoch [127/400], Loss: 0.3744, Accuracy: 86.83%, Test Loss: 0.4159, Test Accuracy: 84.96%\n",
            "Epoch [128/400], Loss: 0.3738, Accuracy: 86.84%, Test Loss: 0.4153, Test Accuracy: 85.09%\n",
            "Epoch [129/400], Loss: 0.3733, Accuracy: 86.90%, Test Loss: 0.4148, Test Accuracy: 85.10%\n",
            "Epoch [130/400], Loss: 0.3726, Accuracy: 86.89%, Test Loss: 0.4141, Test Accuracy: 84.98%\n",
            "Epoch [131/400], Loss: 0.3718, Accuracy: 86.91%, Test Loss: 0.4138, Test Accuracy: 84.96%\n",
            "Epoch [132/400], Loss: 0.3715, Accuracy: 86.95%, Test Loss: 0.4132, Test Accuracy: 84.98%\n",
            "Epoch [133/400], Loss: 0.3709, Accuracy: 86.98%, Test Loss: 0.4135, Test Accuracy: 85.15%\n",
            "Epoch [134/400], Loss: 0.3703, Accuracy: 86.92%, Test Loss: 0.4124, Test Accuracy: 85.16%\n",
            "Epoch [135/400], Loss: 0.3695, Accuracy: 86.99%, Test Loss: 0.4128, Test Accuracy: 84.96%\n",
            "Epoch [136/400], Loss: 0.3692, Accuracy: 86.97%, Test Loss: 0.4115, Test Accuracy: 85.09%\n",
            "Epoch [137/400], Loss: 0.3682, Accuracy: 86.96%, Test Loss: 0.4109, Test Accuracy: 85.26%\n",
            "Epoch [138/400], Loss: 0.3679, Accuracy: 87.03%, Test Loss: 0.4110, Test Accuracy: 85.11%\n",
            "Epoch [139/400], Loss: 0.3675, Accuracy: 87.08%, Test Loss: 0.4103, Test Accuracy: 85.10%\n",
            "Epoch [140/400], Loss: 0.3666, Accuracy: 87.07%, Test Loss: 0.4103, Test Accuracy: 85.01%\n",
            "Epoch [141/400], Loss: 0.3666, Accuracy: 87.07%, Test Loss: 0.4098, Test Accuracy: 85.16%\n",
            "Epoch [142/400], Loss: 0.3660, Accuracy: 87.09%, Test Loss: 0.4091, Test Accuracy: 85.16%\n",
            "Epoch [143/400], Loss: 0.3654, Accuracy: 87.15%, Test Loss: 0.4088, Test Accuracy: 85.15%\n",
            "Epoch [144/400], Loss: 0.3647, Accuracy: 87.14%, Test Loss: 0.4083, Test Accuracy: 85.21%\n",
            "Epoch [145/400], Loss: 0.3641, Accuracy: 87.17%, Test Loss: 0.4074, Test Accuracy: 85.24%\n",
            "Epoch [146/400], Loss: 0.3634, Accuracy: 87.18%, Test Loss: 0.4074, Test Accuracy: 85.22%\n",
            "Epoch [147/400], Loss: 0.3626, Accuracy: 87.18%, Test Loss: 0.4067, Test Accuracy: 85.36%\n",
            "Epoch [148/400], Loss: 0.3629, Accuracy: 87.20%, Test Loss: 0.4066, Test Accuracy: 85.17%\n",
            "Epoch [149/400], Loss: 0.3622, Accuracy: 87.23%, Test Loss: 0.4061, Test Accuracy: 85.29%\n",
            "Epoch [150/400], Loss: 0.3615, Accuracy: 87.30%, Test Loss: 0.4057, Test Accuracy: 85.22%\n",
            "Epoch [151/400], Loss: 0.3606, Accuracy: 87.23%, Test Loss: 0.4057, Test Accuracy: 85.19%\n",
            "Epoch [152/400], Loss: 0.3603, Accuracy: 87.25%, Test Loss: 0.4051, Test Accuracy: 85.34%\n",
            "Epoch [153/400], Loss: 0.3600, Accuracy: 87.27%, Test Loss: 0.4045, Test Accuracy: 85.33%\n",
            "Epoch [154/400], Loss: 0.3595, Accuracy: 87.35%, Test Loss: 0.4041, Test Accuracy: 85.42%\n",
            "Epoch [155/400], Loss: 0.3591, Accuracy: 87.33%, Test Loss: 0.4042, Test Accuracy: 85.49%\n",
            "Epoch [156/400], Loss: 0.3586, Accuracy: 87.32%, Test Loss: 0.4035, Test Accuracy: 85.40%\n",
            "Epoch [157/400], Loss: 0.3581, Accuracy: 87.39%, Test Loss: 0.4027, Test Accuracy: 85.35%\n",
            "Epoch [158/400], Loss: 0.3576, Accuracy: 87.37%, Test Loss: 0.4026, Test Accuracy: 85.35%\n",
            "Epoch [159/400], Loss: 0.3571, Accuracy: 87.43%, Test Loss: 0.4023, Test Accuracy: 85.30%\n",
            "Epoch [160/400], Loss: 0.3565, Accuracy: 87.44%, Test Loss: 0.4016, Test Accuracy: 85.47%\n",
            "Epoch [161/400], Loss: 0.3563, Accuracy: 87.47%, Test Loss: 0.4014, Test Accuracy: 85.45%\n",
            "Epoch [162/400], Loss: 0.3557, Accuracy: 87.47%, Test Loss: 0.4007, Test Accuracy: 85.55%\n",
            "Epoch [163/400], Loss: 0.3551, Accuracy: 87.52%, Test Loss: 0.4006, Test Accuracy: 85.58%\n",
            "Epoch [164/400], Loss: 0.3548, Accuracy: 87.47%, Test Loss: 0.4005, Test Accuracy: 85.48%\n",
            "Epoch [165/400], Loss: 0.3546, Accuracy: 87.47%, Test Loss: 0.4002, Test Accuracy: 85.47%\n",
            "Epoch [166/400], Loss: 0.3541, Accuracy: 87.58%, Test Loss: 0.4000, Test Accuracy: 85.58%\n",
            "Epoch [167/400], Loss: 0.3533, Accuracy: 87.58%, Test Loss: 0.3995, Test Accuracy: 85.64%\n",
            "Epoch [168/400], Loss: 0.3529, Accuracy: 87.55%, Test Loss: 0.3988, Test Accuracy: 85.44%\n",
            "Epoch [169/400], Loss: 0.3522, Accuracy: 87.57%, Test Loss: 0.3984, Test Accuracy: 85.65%\n",
            "Epoch [170/400], Loss: 0.3519, Accuracy: 87.66%, Test Loss: 0.3978, Test Accuracy: 85.66%\n",
            "Epoch [171/400], Loss: 0.3513, Accuracy: 87.59%, Test Loss: 0.3983, Test Accuracy: 85.47%\n",
            "Epoch [172/400], Loss: 0.3508, Accuracy: 87.63%, Test Loss: 0.3974, Test Accuracy: 85.68%\n",
            "Epoch [173/400], Loss: 0.3511, Accuracy: 87.67%, Test Loss: 0.3970, Test Accuracy: 85.74%\n",
            "Epoch [174/400], Loss: 0.3506, Accuracy: 87.67%, Test Loss: 0.3965, Test Accuracy: 85.59%\n",
            "Epoch [175/400], Loss: 0.3496, Accuracy: 87.67%, Test Loss: 0.3966, Test Accuracy: 85.75%\n",
            "Epoch [176/400], Loss: 0.3489, Accuracy: 87.73%, Test Loss: 0.3962, Test Accuracy: 85.73%\n",
            "Epoch [177/400], Loss: 0.3488, Accuracy: 87.69%, Test Loss: 0.3961, Test Accuracy: 85.69%\n",
            "Epoch [178/400], Loss: 0.3480, Accuracy: 87.75%, Test Loss: 0.3952, Test Accuracy: 85.74%\n",
            "Epoch [179/400], Loss: 0.3476, Accuracy: 87.70%, Test Loss: 0.3951, Test Accuracy: 85.71%\n",
            "Epoch [180/400], Loss: 0.3475, Accuracy: 87.75%, Test Loss: 0.3948, Test Accuracy: 85.70%\n",
            "Epoch [181/400], Loss: 0.3469, Accuracy: 87.81%, Test Loss: 0.3948, Test Accuracy: 85.73%\n",
            "Epoch [182/400], Loss: 0.3465, Accuracy: 87.80%, Test Loss: 0.3941, Test Accuracy: 85.78%\n",
            "Epoch [183/400], Loss: 0.3458, Accuracy: 87.82%, Test Loss: 0.3942, Test Accuracy: 85.77%\n",
            "Epoch [184/400], Loss: 0.3459, Accuracy: 87.85%, Test Loss: 0.3936, Test Accuracy: 85.86%\n",
            "Epoch [185/400], Loss: 0.3454, Accuracy: 87.83%, Test Loss: 0.3932, Test Accuracy: 85.88%\n",
            "Epoch [186/400], Loss: 0.3449, Accuracy: 87.84%, Test Loss: 0.3934, Test Accuracy: 85.89%\n",
            "Epoch [187/400], Loss: 0.3445, Accuracy: 87.87%, Test Loss: 0.3928, Test Accuracy: 85.85%\n",
            "Epoch [188/400], Loss: 0.3437, Accuracy: 87.90%, Test Loss: 0.3937, Test Accuracy: 85.66%\n",
            "Epoch [189/400], Loss: 0.3441, Accuracy: 87.87%, Test Loss: 0.3924, Test Accuracy: 85.83%\n",
            "Epoch [190/400], Loss: 0.3430, Accuracy: 87.90%, Test Loss: 0.3916, Test Accuracy: 85.89%\n",
            "Epoch [191/400], Loss: 0.3426, Accuracy: 87.93%, Test Loss: 0.3912, Test Accuracy: 85.99%\n",
            "Epoch [192/400], Loss: 0.3424, Accuracy: 87.98%, Test Loss: 0.3910, Test Accuracy: 85.91%\n",
            "Epoch [193/400], Loss: 0.3421, Accuracy: 87.93%, Test Loss: 0.3905, Test Accuracy: 85.88%\n",
            "Epoch [194/400], Loss: 0.3416, Accuracy: 88.00%, Test Loss: 0.3906, Test Accuracy: 85.91%\n",
            "Epoch [195/400], Loss: 0.3413, Accuracy: 87.98%, Test Loss: 0.3912, Test Accuracy: 85.74%\n",
            "Epoch [196/400], Loss: 0.3406, Accuracy: 88.06%, Test Loss: 0.3897, Test Accuracy: 86.03%\n",
            "Epoch [197/400], Loss: 0.3404, Accuracy: 88.02%, Test Loss: 0.3892, Test Accuracy: 86.03%\n",
            "Epoch [198/400], Loss: 0.3400, Accuracy: 88.06%, Test Loss: 0.3891, Test Accuracy: 85.92%\n",
            "Epoch [199/400], Loss: 0.3396, Accuracy: 88.04%, Test Loss: 0.3894, Test Accuracy: 86.08%\n",
            "Epoch [200/400], Loss: 0.3392, Accuracy: 88.03%, Test Loss: 0.3885, Test Accuracy: 86.03%\n",
            "Epoch [201/400], Loss: 0.3388, Accuracy: 88.10%, Test Loss: 0.3884, Test Accuracy: 86.18%\n",
            "Epoch [202/400], Loss: 0.3383, Accuracy: 88.14%, Test Loss: 0.3879, Test Accuracy: 86.12%\n",
            "Epoch [203/400], Loss: 0.3384, Accuracy: 88.12%, Test Loss: 0.3880, Test Accuracy: 86.08%\n",
            "Epoch [204/400], Loss: 0.3373, Accuracy: 88.10%, Test Loss: 0.3878, Test Accuracy: 85.94%\n",
            "Epoch [205/400], Loss: 0.3371, Accuracy: 88.16%, Test Loss: 0.3873, Test Accuracy: 86.10%\n",
            "Epoch [206/400], Loss: 0.3368, Accuracy: 88.15%, Test Loss: 0.3868, Test Accuracy: 86.12%\n",
            "Epoch [207/400], Loss: 0.3365, Accuracy: 88.15%, Test Loss: 0.3866, Test Accuracy: 86.07%\n",
            "Epoch [208/400], Loss: 0.3365, Accuracy: 88.17%, Test Loss: 0.3860, Test Accuracy: 86.07%\n",
            "Epoch [209/400], Loss: 0.3357, Accuracy: 88.20%, Test Loss: 0.3859, Test Accuracy: 86.11%\n",
            "Epoch [210/400], Loss: 0.3350, Accuracy: 88.21%, Test Loss: 0.3857, Test Accuracy: 86.20%\n",
            "Epoch [211/400], Loss: 0.3346, Accuracy: 88.22%, Test Loss: 0.3854, Test Accuracy: 86.12%\n",
            "Epoch [212/400], Loss: 0.3343, Accuracy: 88.22%, Test Loss: 0.3853, Test Accuracy: 86.18%\n",
            "Epoch [213/400], Loss: 0.3339, Accuracy: 88.22%, Test Loss: 0.3846, Test Accuracy: 86.14%\n",
            "Epoch [214/400], Loss: 0.3338, Accuracy: 88.22%, Test Loss: 0.3855, Test Accuracy: 86.25%\n",
            "Epoch [215/400], Loss: 0.3332, Accuracy: 88.27%, Test Loss: 0.3861, Test Accuracy: 86.28%\n",
            "Epoch [216/400], Loss: 0.3324, Accuracy: 88.28%, Test Loss: 0.3851, Test Accuracy: 86.26%\n",
            "Epoch [217/400], Loss: 0.3324, Accuracy: 88.25%, Test Loss: 0.3838, Test Accuracy: 86.23%\n",
            "Epoch [218/400], Loss: 0.3323, Accuracy: 88.32%, Test Loss: 0.3839, Test Accuracy: 86.18%\n",
            "Epoch [219/400], Loss: 0.3317, Accuracy: 88.34%, Test Loss: 0.3833, Test Accuracy: 86.33%\n",
            "Epoch [220/400], Loss: 0.3317, Accuracy: 88.38%, Test Loss: 0.3831, Test Accuracy: 86.28%\n",
            "Epoch [221/400], Loss: 0.3311, Accuracy: 88.34%, Test Loss: 0.3829, Test Accuracy: 86.29%\n",
            "Epoch [222/400], Loss: 0.3308, Accuracy: 88.36%, Test Loss: 0.3826, Test Accuracy: 86.32%\n",
            "Epoch [223/400], Loss: 0.3305, Accuracy: 88.33%, Test Loss: 0.3829, Test Accuracy: 86.37%\n",
            "Epoch [224/400], Loss: 0.3301, Accuracy: 88.44%, Test Loss: 0.3823, Test Accuracy: 86.31%\n",
            "Epoch [225/400], Loss: 0.3295, Accuracy: 88.39%, Test Loss: 0.3817, Test Accuracy: 86.35%\n",
            "Epoch [226/400], Loss: 0.3292, Accuracy: 88.44%, Test Loss: 0.3818, Test Accuracy: 86.25%\n",
            "Epoch [227/400], Loss: 0.3289, Accuracy: 88.47%, Test Loss: 0.3818, Test Accuracy: 86.29%\n",
            "Epoch [228/400], Loss: 0.3284, Accuracy: 88.45%, Test Loss: 0.3815, Test Accuracy: 86.36%\n",
            "Epoch [229/400], Loss: 0.3281, Accuracy: 88.44%, Test Loss: 0.3814, Test Accuracy: 86.33%\n",
            "Epoch [230/400], Loss: 0.3277, Accuracy: 88.47%, Test Loss: 0.3804, Test Accuracy: 86.35%\n",
            "Epoch [231/400], Loss: 0.3275, Accuracy: 88.44%, Test Loss: 0.3811, Test Accuracy: 86.40%\n",
            "Epoch [232/400], Loss: 0.3270, Accuracy: 88.53%, Test Loss: 0.3810, Test Accuracy: 86.37%\n",
            "Epoch [233/400], Loss: 0.3269, Accuracy: 88.53%, Test Loss: 0.3796, Test Accuracy: 86.42%\n",
            "Epoch [234/400], Loss: 0.3265, Accuracy: 88.50%, Test Loss: 0.3798, Test Accuracy: 86.31%\n",
            "Epoch [235/400], Loss: 0.3258, Accuracy: 88.50%, Test Loss: 0.3793, Test Accuracy: 86.44%\n",
            "Epoch [236/400], Loss: 0.3258, Accuracy: 88.50%, Test Loss: 0.3790, Test Accuracy: 86.46%\n",
            "Epoch [237/400], Loss: 0.3253, Accuracy: 88.56%, Test Loss: 0.3788, Test Accuracy: 86.52%\n",
            "Epoch [238/400], Loss: 0.3252, Accuracy: 88.60%, Test Loss: 0.3792, Test Accuracy: 86.43%\n",
            "Epoch [239/400], Loss: 0.3250, Accuracy: 88.61%, Test Loss: 0.3787, Test Accuracy: 86.41%\n",
            "Epoch [240/400], Loss: 0.3243, Accuracy: 88.62%, Test Loss: 0.3788, Test Accuracy: 86.43%\n",
            "Epoch [241/400], Loss: 0.3242, Accuracy: 88.60%, Test Loss: 0.3781, Test Accuracy: 86.48%\n",
            "Epoch [242/400], Loss: 0.3240, Accuracy: 88.63%, Test Loss: 0.3776, Test Accuracy: 86.52%\n",
            "Epoch [243/400], Loss: 0.3232, Accuracy: 88.65%, Test Loss: 0.3781, Test Accuracy: 86.37%\n",
            "Epoch [244/400], Loss: 0.3230, Accuracy: 88.61%, Test Loss: 0.3772, Test Accuracy: 86.46%\n",
            "Epoch [245/400], Loss: 0.3228, Accuracy: 88.64%, Test Loss: 0.3777, Test Accuracy: 86.40%\n",
            "Epoch [246/400], Loss: 0.3224, Accuracy: 88.68%, Test Loss: 0.3773, Test Accuracy: 86.58%\n",
            "Epoch [247/400], Loss: 0.3221, Accuracy: 88.68%, Test Loss: 0.3769, Test Accuracy: 86.64%\n",
            "Epoch [248/400], Loss: 0.3215, Accuracy: 88.72%, Test Loss: 0.3772, Test Accuracy: 86.63%\n",
            "Epoch [249/400], Loss: 0.3210, Accuracy: 88.74%, Test Loss: 0.3764, Test Accuracy: 86.50%\n",
            "Epoch [250/400], Loss: 0.3213, Accuracy: 88.67%, Test Loss: 0.3758, Test Accuracy: 86.62%\n",
            "Epoch [251/400], Loss: 0.3206, Accuracy: 88.72%, Test Loss: 0.3759, Test Accuracy: 86.69%\n",
            "Epoch [252/400], Loss: 0.3207, Accuracy: 88.76%, Test Loss: 0.3758, Test Accuracy: 86.52%\n",
            "Epoch [253/400], Loss: 0.3200, Accuracy: 88.74%, Test Loss: 0.3752, Test Accuracy: 86.63%\n",
            "Epoch [254/400], Loss: 0.3198, Accuracy: 88.77%, Test Loss: 0.3754, Test Accuracy: 86.60%\n",
            "Epoch [255/400], Loss: 0.3193, Accuracy: 88.79%, Test Loss: 0.3750, Test Accuracy: 86.62%\n",
            "Epoch [256/400], Loss: 0.3190, Accuracy: 88.83%, Test Loss: 0.3753, Test Accuracy: 86.59%\n",
            "Epoch [257/400], Loss: 0.3189, Accuracy: 88.80%, Test Loss: 0.3745, Test Accuracy: 86.62%\n",
            "Epoch [258/400], Loss: 0.3184, Accuracy: 88.86%, Test Loss: 0.3740, Test Accuracy: 86.70%\n",
            "Epoch [259/400], Loss: 0.3176, Accuracy: 88.84%, Test Loss: 0.3741, Test Accuracy: 86.56%\n",
            "Epoch [260/400], Loss: 0.3180, Accuracy: 88.86%, Test Loss: 0.3736, Test Accuracy: 86.50%\n",
            "Epoch [261/400], Loss: 0.3170, Accuracy: 88.83%, Test Loss: 0.3742, Test Accuracy: 86.69%\n",
            "Epoch [262/400], Loss: 0.3169, Accuracy: 88.89%, Test Loss: 0.3733, Test Accuracy: 86.61%\n",
            "Epoch [263/400], Loss: 0.3169, Accuracy: 88.82%, Test Loss: 0.3737, Test Accuracy: 86.66%\n",
            "Epoch [264/400], Loss: 0.3164, Accuracy: 88.90%, Test Loss: 0.3727, Test Accuracy: 86.57%\n",
            "Epoch [265/400], Loss: 0.3161, Accuracy: 88.90%, Test Loss: 0.3728, Test Accuracy: 86.67%\n",
            "Epoch [266/400], Loss: 0.3154, Accuracy: 88.92%, Test Loss: 0.3727, Test Accuracy: 86.53%\n",
            "Epoch [267/400], Loss: 0.3156, Accuracy: 88.96%, Test Loss: 0.3724, Test Accuracy: 86.67%\n",
            "Epoch [268/400], Loss: 0.3150, Accuracy: 88.96%, Test Loss: 0.3727, Test Accuracy: 86.59%\n",
            "Epoch [269/400], Loss: 0.3148, Accuracy: 88.94%, Test Loss: 0.3721, Test Accuracy: 86.76%\n",
            "Epoch [270/400], Loss: 0.3141, Accuracy: 88.88%, Test Loss: 0.3723, Test Accuracy: 86.76%\n",
            "Epoch [271/400], Loss: 0.3144, Accuracy: 88.95%, Test Loss: 0.3718, Test Accuracy: 86.68%\n",
            "Epoch [272/400], Loss: 0.3139, Accuracy: 89.02%, Test Loss: 0.3712, Test Accuracy: 86.79%\n",
            "Epoch [273/400], Loss: 0.3135, Accuracy: 89.03%, Test Loss: 0.3712, Test Accuracy: 86.61%\n",
            "Epoch [274/400], Loss: 0.3132, Accuracy: 89.06%, Test Loss: 0.3719, Test Accuracy: 86.79%\n",
            "Epoch [275/400], Loss: 0.3125, Accuracy: 89.00%, Test Loss: 0.3711, Test Accuracy: 86.64%\n",
            "Epoch [276/400], Loss: 0.3130, Accuracy: 89.04%, Test Loss: 0.3704, Test Accuracy: 86.74%\n",
            "Epoch [277/400], Loss: 0.3122, Accuracy: 89.03%, Test Loss: 0.3703, Test Accuracy: 86.84%\n",
            "Epoch [278/400], Loss: 0.3123, Accuracy: 89.05%, Test Loss: 0.3700, Test Accuracy: 86.68%\n",
            "Epoch [279/400], Loss: 0.3120, Accuracy: 89.06%, Test Loss: 0.3707, Test Accuracy: 86.53%\n",
            "Epoch [280/400], Loss: 0.3119, Accuracy: 89.03%, Test Loss: 0.3698, Test Accuracy: 86.81%\n",
            "Epoch [281/400], Loss: 0.3110, Accuracy: 89.07%, Test Loss: 0.3694, Test Accuracy: 86.71%\n",
            "Epoch [282/400], Loss: 0.3106, Accuracy: 89.08%, Test Loss: 0.3694, Test Accuracy: 86.75%\n",
            "Epoch [283/400], Loss: 0.3108, Accuracy: 89.08%, Test Loss: 0.3690, Test Accuracy: 86.79%\n",
            "Epoch [284/400], Loss: 0.3102, Accuracy: 89.10%, Test Loss: 0.3691, Test Accuracy: 86.69%\n",
            "Epoch [285/400], Loss: 0.3101, Accuracy: 89.12%, Test Loss: 0.3690, Test Accuracy: 86.69%\n",
            "Epoch [286/400], Loss: 0.3095, Accuracy: 89.12%, Test Loss: 0.3688, Test Accuracy: 86.75%\n",
            "Epoch [287/400], Loss: 0.3096, Accuracy: 89.16%, Test Loss: 0.3687, Test Accuracy: 86.86%\n",
            "Epoch [288/400], Loss: 0.3092, Accuracy: 89.19%, Test Loss: 0.3690, Test Accuracy: 86.70%\n",
            "Epoch [289/400], Loss: 0.3086, Accuracy: 89.18%, Test Loss: 0.3690, Test Accuracy: 86.74%\n",
            "Epoch [290/400], Loss: 0.3084, Accuracy: 89.14%, Test Loss: 0.3678, Test Accuracy: 86.76%\n",
            "Epoch [291/400], Loss: 0.3082, Accuracy: 89.16%, Test Loss: 0.3684, Test Accuracy: 86.65%\n",
            "Epoch [292/400], Loss: 0.3081, Accuracy: 89.17%, Test Loss: 0.3676, Test Accuracy: 86.88%\n",
            "Epoch [293/400], Loss: 0.3077, Accuracy: 89.19%, Test Loss: 0.3675, Test Accuracy: 86.83%\n",
            "Epoch [294/400], Loss: 0.3079, Accuracy: 89.24%, Test Loss: 0.3671, Test Accuracy: 86.82%\n",
            "Epoch [295/400], Loss: 0.3068, Accuracy: 89.24%, Test Loss: 0.3671, Test Accuracy: 86.86%\n",
            "Epoch [296/400], Loss: 0.3066, Accuracy: 89.24%, Test Loss: 0.3672, Test Accuracy: 86.73%\n",
            "Epoch [297/400], Loss: 0.3067, Accuracy: 89.22%, Test Loss: 0.3672, Test Accuracy: 86.65%\n",
            "Epoch [298/400], Loss: 0.3064, Accuracy: 89.30%, Test Loss: 0.3664, Test Accuracy: 86.85%\n",
            "Epoch [299/400], Loss: 0.3059, Accuracy: 89.27%, Test Loss: 0.3665, Test Accuracy: 86.84%\n",
            "Epoch [300/400], Loss: 0.3057, Accuracy: 89.28%, Test Loss: 0.3660, Test Accuracy: 86.81%\n",
            "Epoch [301/400], Loss: 0.3055, Accuracy: 89.30%, Test Loss: 0.3662, Test Accuracy: 86.84%\n",
            "Epoch [302/400], Loss: 0.3054, Accuracy: 89.31%, Test Loss: 0.3659, Test Accuracy: 86.91%\n",
            "Epoch [303/400], Loss: 0.3047, Accuracy: 89.31%, Test Loss: 0.3656, Test Accuracy: 86.70%\n",
            "Epoch [304/400], Loss: 0.3047, Accuracy: 89.31%, Test Loss: 0.3654, Test Accuracy: 86.86%\n",
            "Epoch [305/400], Loss: 0.3041, Accuracy: 89.33%, Test Loss: 0.3652, Test Accuracy: 86.91%\n",
            "Epoch [306/400], Loss: 0.3038, Accuracy: 89.33%, Test Loss: 0.3648, Test Accuracy: 87.00%\n",
            "Epoch [307/400], Loss: 0.3036, Accuracy: 89.37%, Test Loss: 0.3648, Test Accuracy: 86.89%\n",
            "Epoch [308/400], Loss: 0.3033, Accuracy: 89.37%, Test Loss: 0.3668, Test Accuracy: 86.88%\n",
            "Epoch [309/400], Loss: 0.3032, Accuracy: 89.33%, Test Loss: 0.3646, Test Accuracy: 86.92%\n",
            "Epoch [310/400], Loss: 0.3030, Accuracy: 89.39%, Test Loss: 0.3643, Test Accuracy: 86.91%\n",
            "Epoch [311/400], Loss: 0.3029, Accuracy: 89.42%, Test Loss: 0.3644, Test Accuracy: 86.81%\n",
            "Epoch [312/400], Loss: 0.3022, Accuracy: 89.39%, Test Loss: 0.3638, Test Accuracy: 86.88%\n",
            "Epoch [313/400], Loss: 0.3021, Accuracy: 89.39%, Test Loss: 0.3645, Test Accuracy: 86.95%\n",
            "Epoch [314/400], Loss: 0.3015, Accuracy: 89.43%, Test Loss: 0.3640, Test Accuracy: 86.77%\n",
            "Epoch [315/400], Loss: 0.3014, Accuracy: 89.44%, Test Loss: 0.3636, Test Accuracy: 87.00%\n",
            "Epoch [316/400], Loss: 0.3008, Accuracy: 89.45%, Test Loss: 0.3633, Test Accuracy: 86.92%\n",
            "Epoch [317/400], Loss: 0.3008, Accuracy: 89.44%, Test Loss: 0.3632, Test Accuracy: 86.99%\n",
            "Epoch [318/400], Loss: 0.3005, Accuracy: 89.50%, Test Loss: 0.3632, Test Accuracy: 86.97%\n",
            "Epoch [319/400], Loss: 0.3004, Accuracy: 89.49%, Test Loss: 0.3625, Test Accuracy: 86.91%\n",
            "Epoch [320/400], Loss: 0.2998, Accuracy: 89.52%, Test Loss: 0.3625, Test Accuracy: 87.04%\n",
            "Epoch [321/400], Loss: 0.2997, Accuracy: 89.52%, Test Loss: 0.3624, Test Accuracy: 86.99%\n",
            "Epoch [322/400], Loss: 0.2999, Accuracy: 89.52%, Test Loss: 0.3623, Test Accuracy: 87.00%\n",
            "Epoch [323/400], Loss: 0.2992, Accuracy: 89.53%, Test Loss: 0.3625, Test Accuracy: 86.87%\n",
            "Epoch [324/400], Loss: 0.2987, Accuracy: 89.56%, Test Loss: 0.3618, Test Accuracy: 86.94%\n",
            "Epoch [325/400], Loss: 0.2986, Accuracy: 89.57%, Test Loss: 0.3624, Test Accuracy: 87.04%\n",
            "Epoch [326/400], Loss: 0.2988, Accuracy: 89.54%, Test Loss: 0.3618, Test Accuracy: 86.98%\n",
            "Epoch [327/400], Loss: 0.2981, Accuracy: 89.55%, Test Loss: 0.3611, Test Accuracy: 86.95%\n",
            "Epoch [328/400], Loss: 0.2981, Accuracy: 89.52%, Test Loss: 0.3612, Test Accuracy: 87.03%\n",
            "Epoch [329/400], Loss: 0.2974, Accuracy: 89.60%, Test Loss: 0.3614, Test Accuracy: 87.07%\n",
            "Epoch [330/400], Loss: 0.2972, Accuracy: 89.58%, Test Loss: 0.3611, Test Accuracy: 87.07%\n",
            "Epoch [331/400], Loss: 0.2972, Accuracy: 89.51%, Test Loss: 0.3612, Test Accuracy: 87.02%\n",
            "Epoch [332/400], Loss: 0.2965, Accuracy: 89.58%, Test Loss: 0.3611, Test Accuracy: 86.98%\n",
            "Epoch [333/400], Loss: 0.2966, Accuracy: 89.66%, Test Loss: 0.3609, Test Accuracy: 87.05%\n",
            "Epoch [334/400], Loss: 0.2962, Accuracy: 89.60%, Test Loss: 0.3610, Test Accuracy: 87.00%\n",
            "Epoch [335/400], Loss: 0.2960, Accuracy: 89.62%, Test Loss: 0.3602, Test Accuracy: 87.11%\n",
            "Epoch [336/400], Loss: 0.2960, Accuracy: 89.64%, Test Loss: 0.3603, Test Accuracy: 87.01%\n",
            "Epoch [337/400], Loss: 0.2953, Accuracy: 89.69%, Test Loss: 0.3608, Test Accuracy: 87.16%\n",
            "Epoch [338/400], Loss: 0.2954, Accuracy: 89.65%, Test Loss: 0.3596, Test Accuracy: 87.05%\n",
            "Epoch [339/400], Loss: 0.2948, Accuracy: 89.66%, Test Loss: 0.3594, Test Accuracy: 87.02%\n",
            "Epoch [340/400], Loss: 0.2946, Accuracy: 89.66%, Test Loss: 0.3596, Test Accuracy: 87.07%\n",
            "Epoch [341/400], Loss: 0.2946, Accuracy: 89.66%, Test Loss: 0.3591, Test Accuracy: 87.08%\n",
            "Epoch [342/400], Loss: 0.2940, Accuracy: 89.69%, Test Loss: 0.3595, Test Accuracy: 87.17%\n",
            "Epoch [343/400], Loss: 0.2941, Accuracy: 89.70%, Test Loss: 0.3588, Test Accuracy: 87.16%\n",
            "Epoch [344/400], Loss: 0.2937, Accuracy: 89.72%, Test Loss: 0.3595, Test Accuracy: 87.04%\n",
            "Epoch [345/400], Loss: 0.2933, Accuracy: 89.68%, Test Loss: 0.3589, Test Accuracy: 87.12%\n",
            "Epoch [346/400], Loss: 0.2934, Accuracy: 89.74%, Test Loss: 0.3588, Test Accuracy: 87.22%\n",
            "Epoch [347/400], Loss: 0.2927, Accuracy: 89.74%, Test Loss: 0.3584, Test Accuracy: 87.01%\n",
            "Epoch [348/400], Loss: 0.2927, Accuracy: 89.77%, Test Loss: 0.3581, Test Accuracy: 87.06%\n",
            "Epoch [349/400], Loss: 0.2924, Accuracy: 89.80%, Test Loss: 0.3578, Test Accuracy: 87.12%\n",
            "Epoch [350/400], Loss: 0.2923, Accuracy: 89.75%, Test Loss: 0.3583, Test Accuracy: 87.07%\n",
            "Epoch [351/400], Loss: 0.2923, Accuracy: 89.78%, Test Loss: 0.3574, Test Accuracy: 87.07%\n",
            "Epoch [352/400], Loss: 0.2915, Accuracy: 89.85%, Test Loss: 0.3578, Test Accuracy: 87.05%\n",
            "Epoch [353/400], Loss: 0.2913, Accuracy: 89.81%, Test Loss: 0.3580, Test Accuracy: 87.22%\n",
            "Epoch [354/400], Loss: 0.2915, Accuracy: 89.81%, Test Loss: 0.3575, Test Accuracy: 87.08%\n",
            "Epoch [355/400], Loss: 0.2912, Accuracy: 89.80%, Test Loss: 0.3572, Test Accuracy: 87.19%\n",
            "Epoch [356/400], Loss: 0.2908, Accuracy: 89.84%, Test Loss: 0.3571, Test Accuracy: 87.16%\n",
            "Epoch [357/400], Loss: 0.2904, Accuracy: 89.85%, Test Loss: 0.3574, Test Accuracy: 87.24%\n",
            "Epoch [358/400], Loss: 0.2899, Accuracy: 89.83%, Test Loss: 0.3567, Test Accuracy: 87.18%\n",
            "Epoch [359/400], Loss: 0.2901, Accuracy: 89.83%, Test Loss: 0.3573, Test Accuracy: 87.33%\n",
            "Epoch [360/400], Loss: 0.2894, Accuracy: 89.83%, Test Loss: 0.3566, Test Accuracy: 87.13%\n",
            "Epoch [361/400], Loss: 0.2894, Accuracy: 89.91%, Test Loss: 0.3568, Test Accuracy: 87.20%\n",
            "Epoch [362/400], Loss: 0.2892, Accuracy: 89.90%, Test Loss: 0.3568, Test Accuracy: 87.14%\n",
            "Epoch [363/400], Loss: 0.2886, Accuracy: 89.88%, Test Loss: 0.3563, Test Accuracy: 87.24%\n",
            "Epoch [364/400], Loss: 0.2885, Accuracy: 89.90%, Test Loss: 0.3558, Test Accuracy: 87.18%\n",
            "Epoch [365/400], Loss: 0.2883, Accuracy: 89.95%, Test Loss: 0.3557, Test Accuracy: 87.28%\n",
            "Epoch [366/400], Loss: 0.2880, Accuracy: 89.92%, Test Loss: 0.3557, Test Accuracy: 87.29%\n",
            "Epoch [367/400], Loss: 0.2878, Accuracy: 89.97%, Test Loss: 0.3554, Test Accuracy: 87.24%\n",
            "Epoch [368/400], Loss: 0.2874, Accuracy: 89.92%, Test Loss: 0.3560, Test Accuracy: 87.29%\n",
            "Epoch [369/400], Loss: 0.2875, Accuracy: 89.97%, Test Loss: 0.3551, Test Accuracy: 87.20%\n",
            "Epoch [370/400], Loss: 0.2873, Accuracy: 89.94%, Test Loss: 0.3551, Test Accuracy: 87.28%\n",
            "Epoch [371/400], Loss: 0.2866, Accuracy: 90.00%, Test Loss: 0.3549, Test Accuracy: 87.33%\n",
            "Epoch [372/400], Loss: 0.2865, Accuracy: 89.98%, Test Loss: 0.3546, Test Accuracy: 87.31%\n",
            "Epoch [373/400], Loss: 0.2864, Accuracy: 89.98%, Test Loss: 0.3546, Test Accuracy: 87.27%\n",
            "Epoch [374/400], Loss: 0.2863, Accuracy: 90.00%, Test Loss: 0.3545, Test Accuracy: 87.27%\n",
            "Epoch [375/400], Loss: 0.2858, Accuracy: 90.00%, Test Loss: 0.3543, Test Accuracy: 87.27%\n",
            "Epoch [376/400], Loss: 0.2856, Accuracy: 90.02%, Test Loss: 0.3549, Test Accuracy: 87.31%\n",
            "Epoch [377/400], Loss: 0.2857, Accuracy: 90.03%, Test Loss: 0.3548, Test Accuracy: 87.34%\n",
            "Epoch [378/400], Loss: 0.2851, Accuracy: 90.01%, Test Loss: 0.3544, Test Accuracy: 87.25%\n",
            "Epoch [379/400], Loss: 0.2853, Accuracy: 90.04%, Test Loss: 0.3535, Test Accuracy: 87.23%\n",
            "Epoch [380/400], Loss: 0.2847, Accuracy: 90.03%, Test Loss: 0.3539, Test Accuracy: 87.33%\n",
            "Epoch [381/400], Loss: 0.2843, Accuracy: 90.11%, Test Loss: 0.3548, Test Accuracy: 87.36%\n",
            "Epoch [382/400], Loss: 0.2847, Accuracy: 90.08%, Test Loss: 0.3533, Test Accuracy: 87.28%\n",
            "Epoch [383/400], Loss: 0.2840, Accuracy: 90.07%, Test Loss: 0.3536, Test Accuracy: 87.25%\n",
            "Epoch [384/400], Loss: 0.2836, Accuracy: 90.07%, Test Loss: 0.3530, Test Accuracy: 87.35%\n",
            "Epoch [385/400], Loss: 0.2836, Accuracy: 90.10%, Test Loss: 0.3532, Test Accuracy: 87.39%\n",
            "Epoch [386/400], Loss: 0.2832, Accuracy: 90.10%, Test Loss: 0.3531, Test Accuracy: 87.37%\n",
            "Epoch [387/400], Loss: 0.2831, Accuracy: 90.13%, Test Loss: 0.3524, Test Accuracy: 87.30%\n",
            "Epoch [388/400], Loss: 0.2827, Accuracy: 90.14%, Test Loss: 0.3526, Test Accuracy: 87.40%\n",
            "Epoch [389/400], Loss: 0.2824, Accuracy: 90.15%, Test Loss: 0.3523, Test Accuracy: 87.46%\n",
            "Epoch [390/400], Loss: 0.2824, Accuracy: 90.16%, Test Loss: 0.3526, Test Accuracy: 87.29%\n",
            "Epoch [391/400], Loss: 0.2821, Accuracy: 90.14%, Test Loss: 0.3523, Test Accuracy: 87.43%\n",
            "Epoch [392/400], Loss: 0.2820, Accuracy: 90.15%, Test Loss: 0.3525, Test Accuracy: 87.39%\n",
            "Epoch [393/400], Loss: 0.2814, Accuracy: 90.14%, Test Loss: 0.3516, Test Accuracy: 87.35%\n",
            "Epoch [394/400], Loss: 0.2817, Accuracy: 90.19%, Test Loss: 0.3518, Test Accuracy: 87.35%\n",
            "Epoch [395/400], Loss: 0.2810, Accuracy: 90.17%, Test Loss: 0.3522, Test Accuracy: 87.44%\n",
            "Epoch [396/400], Loss: 0.2810, Accuracy: 90.16%, Test Loss: 0.3515, Test Accuracy: 87.35%\n",
            "Epoch [397/400], Loss: 0.2809, Accuracy: 90.19%, Test Loss: 0.3514, Test Accuracy: 87.42%\n",
            "Epoch [398/400], Loss: 0.2804, Accuracy: 90.19%, Test Loss: 0.3514, Test Accuracy: 87.48%\n",
            "Epoch [399/400], Loss: 0.2807, Accuracy: 90.19%, Test Loss: 0.3510, Test Accuracy: 87.45%\n",
            "Epoch [400/400], Loss: 0.2801, Accuracy: 90.26%, Test Loss: 0.3509, Test Accuracy: 87.43%\n"
          ]
        }
      ]
    },
    {
      "cell_type": "code",
      "source": [
        "import matplotlib.pyplot as plt\n",
        "\n",
        "plt.plot(train_losses, label='train_losses')\n",
        "plt.plot(test_losses, label='test_losses')\n",
        "plt.legend()"
      ],
      "metadata": {
        "colab": {
          "base_uri": "https://localhost:8080/",
          "height": 447
        },
        "id": "G-VGPHCa-6lH",
        "outputId": "93456216-9d1a-44d1-feb8-adbcd58e27b3"
      },
      "execution_count": 12,
      "outputs": [
        {
          "output_type": "execute_result",
          "data": {
            "text/plain": [
              "<matplotlib.legend.Legend at 0x7a92e9afae00>"
            ]
          },
          "metadata": {},
          "execution_count": 12
        },
        {
          "output_type": "display_data",
          "data": {
            "text/plain": [
              "<Figure size 640x480 with 1 Axes>"
            ],
            "image/png": "[encoded data removed]"
          },
          "metadata": {}
        }
      ]
    },
    {
      "cell_type": "code",
      "source": [
        "import matplotlib.pyplot as plt\n",
        "\n",
        "plt.plot(train_accuracies, label='train_accuracy')\n",
        "plt.plot(test_accuracies, label='test_accuracy')\n",
        "plt.legend()"
      ],
      "metadata": {
        "colab": {
          "base_uri": "https://localhost:8080/",
          "height": 447
        },
        "id": "KMbe5OihDe8U",
        "outputId": "3cd72fa2-db97-42f1-c11c-ef96d35b78d8"
      },
      "execution_count": 13,
      "outputs": [
        {
          "output_type": "execute_result",
          "data": {
            "text/plain": [
              "<matplotlib.legend.Legend at 0x7a92e8c966e0>"
            ]
          },
          "metadata": {},
          "execution_count": 13
        },
        {
          "output_type": "display_data",
          "data": {
            "text/plain": [
              "<Figure size 640x480 with 1 Axes>"
            ],
            "image/png": "[encoded data removed]"
          },
          "metadata": {}
        }
      ]
    }
  ]
}