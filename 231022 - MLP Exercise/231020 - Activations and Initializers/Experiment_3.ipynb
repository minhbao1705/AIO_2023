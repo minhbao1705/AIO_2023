{
  "cells": [
    {
      "cell_type": "code",
      "execution_count": null,
      "metadata": {
        "id": "sNGewWG9Wd1z"
      },
      "outputs": [],
      "source": [
        "import torch\n",
        "import torch.nn as nn\n",
        "import torch.optim as optim\n",
        "import torchvision\n",
        "import torchvision.transforms as transforms\n",
        "\n",
        "# Check if GPU is available\n",
        "device = torch.device(\"cuda:0\" if torch.cuda.is_available() else \"cpu\")"
      ]
    },
    {
      "cell_type": "code",
      "execution_count": null,
      "metadata": {
        "colab": {
          "base_uri": "https://localhost:8080/"
        },
        "id": "GCsynRHbWkt7",
        "outputId": "a4b48725-bd63-4b93-cf2c-8c8a091dafa7"
      },
      "outputs": [
        {
          "output_type": "stream",
          "name": "stdout",
          "text": [
            "Downloading http://fashion-mnist.s3-website.eu-central-1.amazonaws.com/train-images-idx3-ubyte.gz\n",
            "Downloading http://fashion-mnist.s3-website.eu-central-1.amazonaws.com/train-images-idx3-ubyte.gz to data/FashionMNIST/raw/train-images-idx3-ubyte.gz\n"
          ]
        },
        {
          "output_type": "stream",
          "name": "stderr",
          "text": [
            "100%|██████████| 26.4M/26.4M [00:01<00:00, 19.5MB/s]\n"
          ]
        },
        {
          "output_type": "stream",
          "name": "stdout",
          "text": [
            "Extracting data/FashionMNIST/raw/train-images-idx3-ubyte.gz to data/FashionMNIST/raw\n",
            "\n",
            "Downloading http://fashion-mnist.s3-website.eu-central-1.amazonaws.com/train-labels-idx1-ubyte.gz\n",
            "Downloading http://fashion-mnist.s3-website.eu-central-1.amazonaws.com/train-labels-idx1-ubyte.gz to data/FashionMNIST/raw/train-labels-idx1-ubyte.gz\n"
          ]
        },
        {
          "output_type": "stream",
          "name": "stderr",
          "text": [
            "100%|██████████| 29.5k/29.5k [00:00<00:00, 307kB/s]\n"
          ]
        },
        {
          "output_type": "stream",
          "name": "stdout",
          "text": [
            "Extracting data/FashionMNIST/raw/train-labels-idx1-ubyte.gz to data/FashionMNIST/raw\n",
            "\n",
            "Downloading http://fashion-mnist.s3-website.eu-central-1.amazonaws.com/t10k-images-idx3-ubyte.gz\n",
            "Downloading http://fashion-mnist.s3-website.eu-central-1.amazonaws.com/t10k-images-idx3-ubyte.gz to data/FashionMNIST/raw/t10k-images-idx3-ubyte.gz\n"
          ]
        },
        {
          "output_type": "stream",
          "name": "stderr",
          "text": [
            "100%|██████████| 4.42M/4.42M [00:00<00:00, 5.51MB/s]\n"
          ]
        },
        {
          "output_type": "stream",
          "name": "stdout",
          "text": [
            "Extracting data/FashionMNIST/raw/t10k-images-idx3-ubyte.gz to data/FashionMNIST/raw\n",
            "\n",
            "Downloading http://fashion-mnist.s3-website.eu-central-1.amazonaws.com/t10k-labels-idx1-ubyte.gz\n",
            "Downloading http://fashion-mnist.s3-website.eu-central-1.amazonaws.com/t10k-labels-idx1-ubyte.gz to data/FashionMNIST/raw/t10k-labels-idx1-ubyte.gz\n"
          ]
        },
        {
          "output_type": "stream",
          "name": "stderr",
          "text": [
            "100%|██████████| 5.15k/5.15k [00:00<00:00, 17.1MB/s]"
          ]
        },
        {
          "output_type": "stream",
          "name": "stdout",
          "text": [
            "Extracting data/FashionMNIST/raw/t10k-labels-idx1-ubyte.gz to data/FashionMNIST/raw\n",
            "\n"
          ]
        },
        {
          "output_type": "stream",
          "name": "stderr",
          "text": [
            "\n"
          ]
        }
      ],
      "source": [
        "# Load CFashionMNIST dataset\n",
        "transform = transforms.Compose([transforms.ToTensor(), transforms.Normalize((0.5,), (0.5,))])\n",
        "\n",
        "trainset = torchvision.datasets.FashionMNIST(root='data', train=True, download=True, transform=transform)\n",
        "trainloader = torch.utils.data.DataLoader(trainset, batch_size=1024, num_workers=2, shuffle=True)\n",
        "\n",
        "testset = torchvision.datasets.FashionMNIST(root='data', train=False, download=True, transform=transform)\n",
        "testloader = torch.utils.data.DataLoader(testset, batch_size=1024, num_workers=2, shuffle=False)"
      ]
    },
    {
      "cell_type": "code",
      "execution_count": null,
      "metadata": {
        "colab": {
          "base_uri": "https://localhost:8080/",
          "height": 130
        },
        "id": "I7lLP7nFW3fJ",
        "outputId": "d16a0d00-f13f-44f7-e401-733dbaec7119"
      },
      "outputs": [
        {
          "output_type": "display_data",
          "data": {
            "text/plain": [
              "<Figure size 640x480 with 1 Axes>"
            ],
            "image/png": "[encoded data removed]"
          },
          "metadata": {}
        }
      ],
      "source": [
        "import matplotlib.pyplot as plt\n",
        "import numpy as np\n",
        "\n",
        "# Function to display the images\n",
        "def imshow(img):\n",
        "    img = img*0.5 + 0.5\n",
        "    np_img = img.numpy()\n",
        "    plt.imshow(np.transpose(np_img, (1, 2, 0)))\n",
        "    plt.show()\n",
        "\n",
        "for i, (images, labels) in enumerate(trainloader, 0):\n",
        "    # Plot some images\n",
        "    imshow(torchvision.utils.make_grid(images[:8]))  # Display 8 images from the batch\n",
        "    break"
      ]
    },
    {
      "cell_type": "code",
      "execution_count": null,
      "metadata": {
        "colab": {
          "base_uri": "https://localhost:8080/"
        },
        "id": "so34FKGwW43h",
        "outputId": "2b0bed35-facb-4a06-9930-10577df59dc5"
      },
      "outputs": [
        {
          "output_type": "stream",
          "name": "stdout",
          "text": [
            "Sequential(\n",
            "  (0): Flatten(start_dim=1, end_dim=-1)\n",
            "  (1): Linear(in_features=784, out_features=256, bias=True)\n",
            "  (2): ReLU()\n",
            "  (3): Linear(in_features=256, out_features=256, bias=True)\n",
            "  (4): ReLU()\n",
            "  (5): Linear(in_features=256, out_features=256, bias=True)\n",
            "  (6): ReLU()\n",
            "  (7): Linear(in_features=256, out_features=256, bias=True)\n",
            "  (8): ReLU()\n",
            "  (9): Linear(in_features=256, out_features=10, bias=True)\n",
            ")\n"
          ]
        }
      ],
      "source": [
        "model = nn.Sequential(\n",
        "    nn.Flatten(),\n",
        "    nn.Linear(784, 256),\n",
        "    nn.ReLU(),\n",
        "    nn.Linear(256, 256),\n",
        "    nn.ReLU(),\n",
        "    nn.Linear(256, 256),\n",
        "    nn.ReLU(),\n",
        "    nn.Linear(256, 256),\n",
        "    nn.ReLU(),\n",
        "    nn.Linear(256, 10)\n",
        ")\n",
        "model = model.to(device)\n",
        "\n",
        "print(model)"
      ]
    },
    {
      "cell_type": "code",
      "execution_count": null,
      "metadata": {
        "colab": {
          "base_uri": "https://localhost:8080/"
        },
        "id": "SLeZFw6-W7_M",
        "outputId": "fd4206f2-1c55-4cd9-c09c-ab3f7d231205"
      },
      "outputs": [
        {
          "output_type": "stream",
          "name": "stdout",
          "text": [
            "torch.Size([5, 10])\n"
          ]
        }
      ],
      "source": [
        "# Generating a random tensor\n",
        "input_tensor = torch.rand(5, 28, 28).to(device)\n",
        "\n",
        "# Feeding the tensor into the model\n",
        "output = model(input_tensor)\n",
        "print(output.shape)"
      ]
    },
    {
      "cell_type": "code",
      "execution_count": null,
      "metadata": {
        "id": "OWOPqPb6W9hF"
      },
      "outputs": [],
      "source": [
        "criterion = nn.CrossEntropyLoss()\n",
        "optimizer = optim.SGD(model.parameters(), lr=0.01)"
      ]
    },
    {
      "cell_type": "code",
      "execution_count": null,
      "metadata": {
        "id": "C1kpO_hyW_Rm"
      },
      "outputs": [],
      "source": [
        "# Function to compute loss and accuracy for test set\n",
        "def evaluate(model, testloader, criterion):\n",
        "    model.eval()\n",
        "    test_loss = 0.0\n",
        "    correct = 0\n",
        "    total = 0\n",
        "    with torch.no_grad():\n",
        "        for images, labels in testloader:\n",
        "            # Move inputs and labels to the device\n",
        "            images, labels = images.to(device), labels.to(device)\n",
        "\n",
        "            outputs = model(images)\n",
        "            loss = criterion(outputs, labels)\n",
        "            test_loss += loss.item()\n",
        "\n",
        "            _, predicted = torch.max(outputs.data, 1)\n",
        "            total += labels.size(0)\n",
        "            correct += (predicted == labels).sum().item()\n",
        "\n",
        "    accuracy = 100 * correct / total\n",
        "    test_loss = test_loss / len(testloader)\n",
        "    return test_loss, accuracy"
      ]
    },
    {
      "cell_type": "code",
      "execution_count": null,
      "metadata": {
        "colab": {
          "base_uri": "https://localhost:8080/"
        },
        "id": "glnlUMvuXAjA",
        "outputId": "cc9df64c-07d5-4aff-cd35-1c5a4c53833b"
      },
      "outputs": [
        {
          "output_type": "stream",
          "name": "stdout",
          "text": [
            "test_loss: 2.302922797203064\n",
            "test_accuracy: 14.88\n"
          ]
        }
      ],
      "source": [
        "test_loss, test_accuracy = evaluate(model, testloader, criterion)\n",
        "print(f'test_loss: {test_loss}')\n",
        "print(f'test_accuracy: {test_accuracy}')"
      ]
    },
    {
      "cell_type": "code",
      "execution_count": null,
      "metadata": {
        "id": "U-4K_qnsXCC_"
      },
      "outputs": [],
      "source": [
        "# some parameter\n",
        "train_losses = []\n",
        "train_accuracies = []\n",
        "test_losses = []\n",
        "test_accuracies = []\n",
        "max_epoch = 400"
      ]
    },
    {
      "cell_type": "code",
      "execution_count": null,
      "metadata": {
        "colab": {
          "base_uri": "https://localhost:8080/"
        },
        "id": "msG6rneMXL3_",
        "outputId": "abb883ba-f68c-43b4-8822-1892ac8dc170"
      },
      "outputs": [
        {
          "output_type": "stream",
          "name": "stdout",
          "text": [
            "Epoch [1/400], Loss: 2.2996, Accuracy: 18.25%, Test Loss: 2.2958, Test Accuracy: 19.75%\n",
            "Epoch [2/400], Loss: 2.2916, Accuracy: 19.88%, Test Loss: 2.2866, Test Accuracy: 19.86%\n",
            "Epoch [3/400], Loss: 2.2804, Accuracy: 19.98%, Test Loss: 2.2730, Test Accuracy: 19.99%\n",
            "Epoch [4/400], Loss: 2.2627, Accuracy: 20.82%, Test Loss: 2.2497, Test Accuracy: 22.34%\n",
            "Epoch [5/400], Loss: 2.2295, Accuracy: 24.42%, Test Loss: 2.2030, Test Accuracy: 26.23%\n",
            "Epoch [6/400], Loss: 2.1582, Accuracy: 28.53%, Test Loss: 2.0980, Test Accuracy: 29.33%\n",
            "Epoch [7/400], Loss: 2.0049, Accuracy: 27.87%, Test Loss: 1.8969, Test Accuracy: 25.30%\n",
            "Epoch [8/400], Loss: 1.7943, Accuracy: 27.00%, Test Loss: 1.7014, Test Accuracy: 31.20%\n",
            "Epoch [9/400], Loss: 1.6209, Accuracy: 36.19%, Test Loss: 1.5429, Test Accuracy: 43.45%\n",
            "Epoch [10/400], Loss: 1.4602, Accuracy: 47.65%, Test Loss: 1.3771, Test Accuracy: 52.58%\n",
            "Epoch [11/400], Loss: 1.2954, Accuracy: 54.69%, Test Loss: 1.2218, Test Accuracy: 57.08%\n",
            "Epoch [12/400], Loss: 1.1551, Accuracy: 58.92%, Test Loss: 1.1018, Test Accuracy: 59.64%\n",
            "Epoch [13/400], Loss: 1.0507, Accuracy: 61.13%, Test Loss: 1.0170, Test Accuracy: 61.58%\n",
            "Epoch [14/400], Loss: 0.9763, Accuracy: 62.71%, Test Loss: 0.9541, Test Accuracy: 63.90%\n",
            "Epoch [15/400], Loss: 0.9217, Accuracy: 64.29%, Test Loss: 0.9089, Test Accuracy: 64.94%\n",
            "Epoch [16/400], Loss: 0.8795, Accuracy: 65.71%, Test Loss: 0.8728, Test Accuracy: 67.15%\n",
            "Epoch [17/400], Loss: 0.8437, Accuracy: 67.82%, Test Loss: 0.8380, Test Accuracy: 67.91%\n",
            "Epoch [18/400], Loss: 0.8126, Accuracy: 69.66%, Test Loss: 0.8092, Test Accuracy: 70.82%\n",
            "Epoch [19/400], Loss: 0.7852, Accuracy: 71.08%, Test Loss: 0.7838, Test Accuracy: 71.65%\n",
            "Epoch [20/400], Loss: 0.7601, Accuracy: 71.99%, Test Loss: 0.7624, Test Accuracy: 72.22%\n",
            "Epoch [21/400], Loss: 0.7382, Accuracy: 72.82%, Test Loss: 0.7421, Test Accuracy: 72.98%\n",
            "Epoch [22/400], Loss: 0.7194, Accuracy: 73.58%, Test Loss: 0.7236, Test Accuracy: 73.20%\n",
            "Epoch [23/400], Loss: 0.7022, Accuracy: 74.01%, Test Loss: 0.7088, Test Accuracy: 73.49%\n",
            "Epoch [24/400], Loss: 0.6861, Accuracy: 74.34%, Test Loss: 0.6927, Test Accuracy: 74.51%\n",
            "Epoch [25/400], Loss: 0.6724, Accuracy: 74.91%, Test Loss: 0.6859, Test Accuracy: 73.41%\n",
            "Epoch [26/400], Loss: 0.6593, Accuracy: 75.31%, Test Loss: 0.6706, Test Accuracy: 75.05%\n",
            "Epoch [27/400], Loss: 0.6482, Accuracy: 75.74%, Test Loss: 0.6571, Test Accuracy: 75.50%\n",
            "Epoch [28/400], Loss: 0.6369, Accuracy: 76.08%, Test Loss: 0.6472, Test Accuracy: 75.77%\n",
            "Epoch [29/400], Loss: 0.6256, Accuracy: 76.40%, Test Loss: 0.6386, Test Accuracy: 76.25%\n",
            "Epoch [30/400], Loss: 0.6162, Accuracy: 76.93%, Test Loss: 0.6329, Test Accuracy: 76.46%\n",
            "Epoch [31/400], Loss: 0.6071, Accuracy: 77.37%, Test Loss: 0.6230, Test Accuracy: 76.75%\n",
            "Epoch [32/400], Loss: 0.5987, Accuracy: 77.67%, Test Loss: 0.6130, Test Accuracy: 77.06%\n",
            "Epoch [33/400], Loss: 0.5913, Accuracy: 78.11%, Test Loss: 0.6049, Test Accuracy: 77.70%\n",
            "Epoch [34/400], Loss: 0.5842, Accuracy: 78.47%, Test Loss: 0.5986, Test Accuracy: 78.30%\n",
            "Epoch [35/400], Loss: 0.5774, Accuracy: 78.72%, Test Loss: 0.5951, Test Accuracy: 78.17%\n",
            "Epoch [36/400], Loss: 0.5706, Accuracy: 79.06%, Test Loss: 0.5880, Test Accuracy: 78.58%\n",
            "Epoch [37/400], Loss: 0.5637, Accuracy: 79.35%, Test Loss: 0.5804, Test Accuracy: 79.09%\n",
            "Epoch [38/400], Loss: 0.5580, Accuracy: 79.70%, Test Loss: 0.5770, Test Accuracy: 79.38%\n",
            "Epoch [39/400], Loss: 0.5532, Accuracy: 79.84%, Test Loss: 0.5731, Test Accuracy: 79.20%\n",
            "Epoch [40/400], Loss: 0.5485, Accuracy: 80.13%, Test Loss: 0.5681, Test Accuracy: 79.47%\n",
            "Epoch [41/400], Loss: 0.5422, Accuracy: 80.41%, Test Loss: 0.5636, Test Accuracy: 79.81%\n",
            "Epoch [42/400], Loss: 0.5374, Accuracy: 80.57%, Test Loss: 0.5622, Test Accuracy: 80.06%\n",
            "Epoch [43/400], Loss: 0.5340, Accuracy: 80.70%, Test Loss: 0.5551, Test Accuracy: 80.08%\n",
            "Epoch [44/400], Loss: 0.5288, Accuracy: 80.98%, Test Loss: 0.5540, Test Accuracy: 79.91%\n",
            "Epoch [45/400], Loss: 0.5248, Accuracy: 81.10%, Test Loss: 0.5548, Test Accuracy: 79.88%\n",
            "Epoch [46/400], Loss: 0.5209, Accuracy: 81.23%, Test Loss: 0.5435, Test Accuracy: 80.51%\n",
            "Epoch [47/400], Loss: 0.5172, Accuracy: 81.33%, Test Loss: 0.5404, Test Accuracy: 80.59%\n",
            "Epoch [48/400], Loss: 0.5135, Accuracy: 81.49%, Test Loss: 0.5348, Test Accuracy: 80.85%\n",
            "Epoch [49/400], Loss: 0.5089, Accuracy: 81.65%, Test Loss: 0.5338, Test Accuracy: 80.86%\n",
            "Epoch [50/400], Loss: 0.5058, Accuracy: 81.86%, Test Loss: 0.5408, Test Accuracy: 80.26%\n",
            "Epoch [51/400], Loss: 0.5024, Accuracy: 82.02%, Test Loss: 0.5261, Test Accuracy: 81.23%\n",
            "Epoch [52/400], Loss: 0.4997, Accuracy: 82.08%, Test Loss: 0.5264, Test Accuracy: 80.99%\n",
            "Epoch [53/400], Loss: 0.4957, Accuracy: 82.19%, Test Loss: 0.5221, Test Accuracy: 81.29%\n",
            "Epoch [54/400], Loss: 0.4923, Accuracy: 82.30%, Test Loss: 0.5193, Test Accuracy: 81.42%\n",
            "Epoch [55/400], Loss: 0.4896, Accuracy: 82.45%, Test Loss: 0.5164, Test Accuracy: 81.61%\n",
            "Epoch [56/400], Loss: 0.4862, Accuracy: 82.69%, Test Loss: 0.5224, Test Accuracy: 80.92%\n",
            "Epoch [57/400], Loss: 0.4829, Accuracy: 82.83%, Test Loss: 0.5098, Test Accuracy: 81.75%\n",
            "Epoch [58/400], Loss: 0.4808, Accuracy: 82.78%, Test Loss: 0.5095, Test Accuracy: 81.57%\n",
            "Epoch [59/400], Loss: 0.4767, Accuracy: 82.88%, Test Loss: 0.5061, Test Accuracy: 81.92%\n",
            "Epoch [60/400], Loss: 0.4748, Accuracy: 83.00%, Test Loss: 0.5123, Test Accuracy: 81.53%\n",
            "Epoch [61/400], Loss: 0.4720, Accuracy: 83.12%, Test Loss: 0.5056, Test Accuracy: 81.61%\n",
            "Epoch [62/400], Loss: 0.4691, Accuracy: 83.17%, Test Loss: 0.4994, Test Accuracy: 81.94%\n",
            "Epoch [63/400], Loss: 0.4659, Accuracy: 83.32%, Test Loss: 0.4948, Test Accuracy: 82.36%\n",
            "Epoch [64/400], Loss: 0.4642, Accuracy: 83.42%, Test Loss: 0.5069, Test Accuracy: 81.91%\n",
            "Epoch [65/400], Loss: 0.4616, Accuracy: 83.60%, Test Loss: 0.4919, Test Accuracy: 82.28%\n",
            "Epoch [66/400], Loss: 0.4588, Accuracy: 83.65%, Test Loss: 0.4890, Test Accuracy: 82.62%\n",
            "Epoch [67/400], Loss: 0.4567, Accuracy: 83.72%, Test Loss: 0.4900, Test Accuracy: 82.25%\n",
            "Epoch [68/400], Loss: 0.4540, Accuracy: 83.80%, Test Loss: 0.4885, Test Accuracy: 82.47%\n",
            "Epoch [69/400], Loss: 0.4514, Accuracy: 83.97%, Test Loss: 0.4837, Test Accuracy: 82.59%\n",
            "Epoch [70/400], Loss: 0.4483, Accuracy: 83.97%, Test Loss: 0.4900, Test Accuracy: 82.52%\n",
            "Epoch [71/400], Loss: 0.4468, Accuracy: 84.03%, Test Loss: 0.4797, Test Accuracy: 82.55%\n",
            "Epoch [72/400], Loss: 0.4453, Accuracy: 84.17%, Test Loss: 0.4841, Test Accuracy: 82.62%\n",
            "Epoch [73/400], Loss: 0.4416, Accuracy: 84.33%, Test Loss: 0.4787, Test Accuracy: 82.75%\n",
            "Epoch [74/400], Loss: 0.4386, Accuracy: 84.26%, Test Loss: 0.4739, Test Accuracy: 82.88%\n",
            "Epoch [75/400], Loss: 0.4377, Accuracy: 84.41%, Test Loss: 0.4727, Test Accuracy: 83.23%\n",
            "Epoch [76/400], Loss: 0.4353, Accuracy: 84.53%, Test Loss: 0.4771, Test Accuracy: 82.52%\n",
            "Epoch [77/400], Loss: 0.4350, Accuracy: 84.49%, Test Loss: 0.4696, Test Accuracy: 83.23%\n",
            "Epoch [78/400], Loss: 0.4319, Accuracy: 84.61%, Test Loss: 0.4699, Test Accuracy: 83.27%\n",
            "Epoch [79/400], Loss: 0.4317, Accuracy: 84.56%, Test Loss: 0.4644, Test Accuracy: 83.44%\n",
            "Epoch [80/400], Loss: 0.4281, Accuracy: 84.82%, Test Loss: 0.4654, Test Accuracy: 83.10%\n",
            "Epoch [81/400], Loss: 0.4250, Accuracy: 84.95%, Test Loss: 0.4676, Test Accuracy: 83.00%\n",
            "Epoch [82/400], Loss: 0.4251, Accuracy: 84.84%, Test Loss: 0.4892, Test Accuracy: 82.51%\n",
            "Epoch [83/400], Loss: 0.4224, Accuracy: 84.98%, Test Loss: 0.4629, Test Accuracy: 83.26%\n",
            "Epoch [84/400], Loss: 0.4215, Accuracy: 84.98%, Test Loss: 0.4591, Test Accuracy: 83.52%\n",
            "Epoch [85/400], Loss: 0.4209, Accuracy: 84.97%, Test Loss: 0.4573, Test Accuracy: 83.83%\n",
            "Epoch [86/400], Loss: 0.4187, Accuracy: 85.14%, Test Loss: 0.4538, Test Accuracy: 83.72%\n",
            "Epoch [87/400], Loss: 0.4145, Accuracy: 85.28%, Test Loss: 0.4529, Test Accuracy: 83.86%\n",
            "Epoch [88/400], Loss: 0.4153, Accuracy: 85.25%, Test Loss: 0.4609, Test Accuracy: 83.73%\n",
            "Epoch [89/400], Loss: 0.4125, Accuracy: 85.29%, Test Loss: 0.4508, Test Accuracy: 84.14%\n",
            "Epoch [90/400], Loss: 0.4124, Accuracy: 85.32%, Test Loss: 0.4514, Test Accuracy: 83.76%\n",
            "Epoch [91/400], Loss: 0.4114, Accuracy: 85.37%, Test Loss: 0.4479, Test Accuracy: 84.21%\n",
            "Epoch [92/400], Loss: 0.4085, Accuracy: 85.43%, Test Loss: 0.4493, Test Accuracy: 84.00%\n",
            "Epoch [93/400], Loss: 0.4060, Accuracy: 85.54%, Test Loss: 0.4457, Test Accuracy: 83.96%\n",
            "Epoch [94/400], Loss: 0.4050, Accuracy: 85.61%, Test Loss: 0.4433, Test Accuracy: 84.23%\n",
            "Epoch [95/400], Loss: 0.4024, Accuracy: 85.74%, Test Loss: 0.4419, Test Accuracy: 84.36%\n",
            "Epoch [96/400], Loss: 0.4015, Accuracy: 85.66%, Test Loss: 0.4438, Test Accuracy: 84.18%\n",
            "Epoch [97/400], Loss: 0.4022, Accuracy: 85.66%, Test Loss: 0.4401, Test Accuracy: 84.32%\n",
            "Epoch [98/400], Loss: 0.4020, Accuracy: 85.66%, Test Loss: 0.4411, Test Accuracy: 84.43%\n",
            "Epoch [99/400], Loss: 0.3990, Accuracy: 85.80%, Test Loss: 0.4382, Test Accuracy: 84.52%\n",
            "Epoch [100/400], Loss: 0.3943, Accuracy: 85.96%, Test Loss: 0.4383, Test Accuracy: 84.74%\n",
            "Epoch [101/400], Loss: 0.3971, Accuracy: 85.83%, Test Loss: 0.4382, Test Accuracy: 84.23%\n",
            "Epoch [102/400], Loss: 0.3959, Accuracy: 85.93%, Test Loss: 0.4330, Test Accuracy: 84.63%\n",
            "Epoch [103/400], Loss: 0.3926, Accuracy: 85.97%, Test Loss: 0.4382, Test Accuracy: 84.48%\n",
            "Epoch [104/400], Loss: 0.3913, Accuracy: 85.98%, Test Loss: 0.4452, Test Accuracy: 84.23%\n",
            "Epoch [105/400], Loss: 0.3981, Accuracy: 85.73%, Test Loss: 0.4376, Test Accuracy: 84.51%\n",
            "Epoch [106/400], Loss: 0.3903, Accuracy: 86.04%, Test Loss: 0.4291, Test Accuracy: 84.71%\n",
            "Epoch [107/400], Loss: 0.3866, Accuracy: 86.24%, Test Loss: 0.4341, Test Accuracy: 84.68%\n",
            "Epoch [108/400], Loss: 0.3865, Accuracy: 86.20%, Test Loss: 0.4284, Test Accuracy: 84.98%\n",
            "Epoch [109/400], Loss: 0.3866, Accuracy: 86.18%, Test Loss: 0.4352, Test Accuracy: 84.40%\n",
            "Epoch [110/400], Loss: 0.3844, Accuracy: 86.27%, Test Loss: 0.4257, Test Accuracy: 84.85%\n",
            "Epoch [111/400], Loss: 0.3848, Accuracy: 86.16%, Test Loss: 0.4271, Test Accuracy: 84.92%\n",
            "Epoch [112/400], Loss: 0.3845, Accuracy: 86.27%, Test Loss: 0.4590, Test Accuracy: 83.48%\n",
            "Epoch [113/400], Loss: 0.3795, Accuracy: 86.46%, Test Loss: 0.4246, Test Accuracy: 84.98%\n",
            "Epoch [114/400], Loss: 0.3774, Accuracy: 86.62%, Test Loss: 0.4215, Test Accuracy: 85.06%\n",
            "Epoch [115/400], Loss: 0.3817, Accuracy: 86.40%, Test Loss: 0.4425, Test Accuracy: 84.13%\n",
            "Epoch [116/400], Loss: 0.3780, Accuracy: 86.53%, Test Loss: 0.4358, Test Accuracy: 84.53%\n",
            "Epoch [117/400], Loss: 0.3731, Accuracy: 86.70%, Test Loss: 0.4221, Test Accuracy: 85.05%\n",
            "Epoch [118/400], Loss: 0.3857, Accuracy: 86.11%, Test Loss: 0.4227, Test Accuracy: 84.96%\n",
            "Epoch [119/400], Loss: 0.3721, Accuracy: 86.73%, Test Loss: 0.4164, Test Accuracy: 85.32%\n",
            "Epoch [120/400], Loss: 0.3726, Accuracy: 86.75%, Test Loss: 0.4182, Test Accuracy: 85.20%\n",
            "Epoch [121/400], Loss: 0.3698, Accuracy: 86.88%, Test Loss: 0.4167, Test Accuracy: 85.21%\n",
            "Epoch [122/400], Loss: 0.3696, Accuracy: 86.82%, Test Loss: 0.4192, Test Accuracy: 85.25%\n",
            "Epoch [123/400], Loss: 0.3681, Accuracy: 86.91%, Test Loss: 0.4136, Test Accuracy: 85.48%\n",
            "Epoch [124/400], Loss: 0.3716, Accuracy: 86.67%, Test Loss: 0.4160, Test Accuracy: 85.56%\n",
            "Epoch [125/400], Loss: 0.3711, Accuracy: 86.67%, Test Loss: 0.4092, Test Accuracy: 85.58%\n",
            "Epoch [126/400], Loss: 0.3663, Accuracy: 86.98%, Test Loss: 0.4114, Test Accuracy: 85.35%\n",
            "Epoch [127/400], Loss: 0.3660, Accuracy: 86.90%, Test Loss: 0.4123, Test Accuracy: 85.31%\n",
            "Epoch [128/400], Loss: 0.3662, Accuracy: 86.96%, Test Loss: 0.4260, Test Accuracy: 84.89%\n",
            "Epoch [129/400], Loss: 0.3610, Accuracy: 87.17%, Test Loss: 0.4169, Test Accuracy: 85.06%\n",
            "Epoch [130/400], Loss: 0.3621, Accuracy: 87.01%, Test Loss: 0.4066, Test Accuracy: 85.62%\n",
            "Epoch [131/400], Loss: 0.3590, Accuracy: 87.20%, Test Loss: 0.4076, Test Accuracy: 85.71%\n",
            "Epoch [132/400], Loss: 0.3618, Accuracy: 86.99%, Test Loss: 0.4114, Test Accuracy: 85.51%\n",
            "Epoch [133/400], Loss: 0.3620, Accuracy: 86.98%, Test Loss: 0.4078, Test Accuracy: 85.63%\n",
            "Epoch [134/400], Loss: 0.3645, Accuracy: 86.95%, Test Loss: 0.4057, Test Accuracy: 85.58%\n",
            "Epoch [135/400], Loss: 0.3555, Accuracy: 87.33%, Test Loss: 0.4065, Test Accuracy: 85.49%\n",
            "Epoch [136/400], Loss: 0.3571, Accuracy: 87.23%, Test Loss: 0.4038, Test Accuracy: 85.84%\n",
            "Epoch [137/400], Loss: 0.3563, Accuracy: 87.21%, Test Loss: 0.4041, Test Accuracy: 85.84%\n",
            "Epoch [138/400], Loss: 0.3597, Accuracy: 87.07%, Test Loss: 0.4202, Test Accuracy: 84.88%\n",
            "Epoch [139/400], Loss: 0.3502, Accuracy: 87.46%, Test Loss: 0.4083, Test Accuracy: 85.62%\n",
            "Epoch [140/400], Loss: 0.3500, Accuracy: 87.47%, Test Loss: 0.4290, Test Accuracy: 84.80%\n",
            "Epoch [141/400], Loss: 0.3528, Accuracy: 87.39%, Test Loss: 0.4276, Test Accuracy: 84.55%\n",
            "Epoch [142/400], Loss: 0.3490, Accuracy: 87.51%, Test Loss: 0.3980, Test Accuracy: 86.01%\n",
            "Epoch [143/400], Loss: 0.3573, Accuracy: 87.14%, Test Loss: 0.4034, Test Accuracy: 85.80%\n",
            "Epoch [144/400], Loss: 0.3486, Accuracy: 87.52%, Test Loss: 0.4078, Test Accuracy: 85.52%\n",
            "Epoch [145/400], Loss: 0.3450, Accuracy: 87.59%, Test Loss: 0.4141, Test Accuracy: 85.03%\n",
            "Epoch [146/400], Loss: 0.3462, Accuracy: 87.67%, Test Loss: 0.4021, Test Accuracy: 85.51%\n",
            "Epoch [147/400], Loss: 0.3438, Accuracy: 87.67%, Test Loss: 0.3984, Test Accuracy: 85.71%\n",
            "Epoch [148/400], Loss: 0.3426, Accuracy: 87.70%, Test Loss: 0.3956, Test Accuracy: 86.17%\n",
            "Epoch [149/400], Loss: 0.3446, Accuracy: 87.69%, Test Loss: 0.3952, Test Accuracy: 85.94%\n",
            "Epoch [150/400], Loss: 0.3409, Accuracy: 87.83%, Test Loss: 0.4052, Test Accuracy: 85.75%\n",
            "Epoch [151/400], Loss: 0.3462, Accuracy: 87.58%, Test Loss: 0.3987, Test Accuracy: 86.03%\n",
            "Epoch [152/400], Loss: 0.3412, Accuracy: 87.81%, Test Loss: 0.3950, Test Accuracy: 85.92%\n",
            "Epoch [153/400], Loss: 0.3495, Accuracy: 87.39%, Test Loss: 0.4467, Test Accuracy: 84.10%\n",
            "Epoch [154/400], Loss: 0.3427, Accuracy: 87.74%, Test Loss: 0.3888, Test Accuracy: 86.28%\n",
            "Epoch [155/400], Loss: 0.3363, Accuracy: 87.91%, Test Loss: 0.3960, Test Accuracy: 86.08%\n",
            "Epoch [156/400], Loss: 0.3398, Accuracy: 87.82%, Test Loss: 0.3911, Test Accuracy: 86.28%\n",
            "Epoch [157/400], Loss: 0.3337, Accuracy: 88.08%, Test Loss: 0.3914, Test Accuracy: 86.49%\n",
            "Epoch [158/400], Loss: 0.3346, Accuracy: 88.02%, Test Loss: 0.3877, Test Accuracy: 86.40%\n",
            "Epoch [159/400], Loss: 0.3319, Accuracy: 88.03%, Test Loss: 0.3856, Test Accuracy: 86.46%\n",
            "Epoch [160/400], Loss: 0.3340, Accuracy: 87.98%, Test Loss: 0.3955, Test Accuracy: 85.88%\n",
            "Epoch [161/400], Loss: 0.3356, Accuracy: 87.86%, Test Loss: 0.3883, Test Accuracy: 86.03%\n",
            "Epoch [162/400], Loss: 0.3335, Accuracy: 88.03%, Test Loss: 0.4642, Test Accuracy: 83.45%\n",
            "Epoch [163/400], Loss: 0.3379, Accuracy: 87.87%, Test Loss: 0.3921, Test Accuracy: 86.10%\n",
            "Epoch [164/400], Loss: 0.3360, Accuracy: 87.89%, Test Loss: 0.3837, Test Accuracy: 86.50%\n",
            "Epoch [165/400], Loss: 0.3275, Accuracy: 88.25%, Test Loss: 0.3923, Test Accuracy: 86.12%\n",
            "Epoch [166/400], Loss: 0.3286, Accuracy: 88.18%, Test Loss: 0.3948, Test Accuracy: 86.23%\n",
            "Epoch [167/400], Loss: 0.3280, Accuracy: 88.21%, Test Loss: 0.3821, Test Accuracy: 86.50%\n",
            "Epoch [168/400], Loss: 0.3356, Accuracy: 88.02%, Test Loss: 0.3848, Test Accuracy: 86.68%\n",
            "Epoch [169/400], Loss: 0.3252, Accuracy: 88.36%, Test Loss: 0.3821, Test Accuracy: 86.65%\n",
            "Epoch [170/400], Loss: 0.3248, Accuracy: 88.30%, Test Loss: 0.3901, Test Accuracy: 86.16%\n",
            "Epoch [171/400], Loss: 0.3291, Accuracy: 88.14%, Test Loss: 0.3829, Test Accuracy: 86.63%\n",
            "Epoch [172/400], Loss: 0.3223, Accuracy: 88.40%, Test Loss: 0.3827, Test Accuracy: 86.57%\n",
            "Epoch [173/400], Loss: 0.3262, Accuracy: 88.25%, Test Loss: 0.3782, Test Accuracy: 86.72%\n",
            "Epoch [174/400], Loss: 0.3354, Accuracy: 87.90%, Test Loss: 0.3811, Test Accuracy: 86.47%\n",
            "Epoch [175/400], Loss: 0.3235, Accuracy: 88.36%, Test Loss: 0.3779, Test Accuracy: 86.73%\n",
            "Epoch [176/400], Loss: 0.3184, Accuracy: 88.60%, Test Loss: 0.3769, Test Accuracy: 86.78%\n",
            "Epoch [177/400], Loss: 0.3199, Accuracy: 88.48%, Test Loss: 0.3768, Test Accuracy: 86.80%\n",
            "Epoch [178/400], Loss: 0.3208, Accuracy: 88.41%, Test Loss: 0.3760, Test Accuracy: 86.77%\n",
            "Epoch [179/400], Loss: 0.3187, Accuracy: 88.49%, Test Loss: 0.3796, Test Accuracy: 86.37%\n",
            "Epoch [180/400], Loss: 0.3176, Accuracy: 88.56%, Test Loss: 0.3774, Test Accuracy: 86.92%\n",
            "Epoch [181/400], Loss: 0.3232, Accuracy: 88.39%, Test Loss: 0.3902, Test Accuracy: 86.24%\n",
            "Epoch [182/400], Loss: 0.3210, Accuracy: 88.34%, Test Loss: 0.3799, Test Accuracy: 86.59%\n",
            "Epoch [183/400], Loss: 0.3193, Accuracy: 88.51%, Test Loss: 0.3765, Test Accuracy: 86.65%\n",
            "Epoch [184/400], Loss: 0.3115, Accuracy: 88.84%, Test Loss: 0.3745, Test Accuracy: 86.68%\n",
            "Epoch [185/400], Loss: 0.3148, Accuracy: 88.70%, Test Loss: 0.3745, Test Accuracy: 86.90%\n",
            "Epoch [186/400], Loss: 0.3138, Accuracy: 88.67%, Test Loss: 0.3731, Test Accuracy: 86.90%\n",
            "Epoch [187/400], Loss: 0.3243, Accuracy: 88.28%, Test Loss: 0.3796, Test Accuracy: 86.53%\n",
            "Epoch [188/400], Loss: 0.3154, Accuracy: 88.57%, Test Loss: 0.3801, Test Accuracy: 86.40%\n",
            "Epoch [189/400], Loss: 0.3072, Accuracy: 88.95%, Test Loss: 0.3775, Test Accuracy: 86.69%\n",
            "Epoch [190/400], Loss: 0.3071, Accuracy: 88.91%, Test Loss: 0.3689, Test Accuracy: 86.94%\n",
            "Epoch [191/400], Loss: 0.3114, Accuracy: 88.70%, Test Loss: 0.3817, Test Accuracy: 86.49%\n",
            "Epoch [192/400], Loss: 0.3070, Accuracy: 88.95%, Test Loss: 0.3841, Test Accuracy: 86.55%\n",
            "Epoch [193/400], Loss: 0.3099, Accuracy: 88.81%, Test Loss: 0.3693, Test Accuracy: 87.03%\n",
            "Epoch [194/400], Loss: 0.3099, Accuracy: 88.82%, Test Loss: 0.3866, Test Accuracy: 86.36%\n",
            "Epoch [195/400], Loss: 0.3222, Accuracy: 88.31%, Test Loss: 0.3736, Test Accuracy: 86.67%\n",
            "Epoch [196/400], Loss: 0.3055, Accuracy: 89.05%, Test Loss: 0.3662, Test Accuracy: 87.08%\n",
            "Epoch [197/400], Loss: 0.3049, Accuracy: 89.03%, Test Loss: 0.3902, Test Accuracy: 86.13%\n",
            "Epoch [198/400], Loss: 0.3036, Accuracy: 89.07%, Test Loss: 0.3698, Test Accuracy: 87.20%\n",
            "Epoch [199/400], Loss: 0.3004, Accuracy: 89.17%, Test Loss: 0.3807, Test Accuracy: 86.65%\n",
            "Epoch [200/400], Loss: 0.3115, Accuracy: 88.77%, Test Loss: 0.3646, Test Accuracy: 87.28%\n",
            "Epoch [201/400], Loss: 0.3153, Accuracy: 88.60%, Test Loss: 0.4069, Test Accuracy: 85.83%\n",
            "Epoch [202/400], Loss: 0.3061, Accuracy: 88.93%, Test Loss: 0.3781, Test Accuracy: 86.59%\n",
            "Epoch [203/400], Loss: 0.2986, Accuracy: 89.33%, Test Loss: 0.3695, Test Accuracy: 86.97%\n",
            "Epoch [204/400], Loss: 0.3056, Accuracy: 88.97%, Test Loss: 0.3636, Test Accuracy: 87.22%\n",
            "Epoch [205/400], Loss: 0.3338, Accuracy: 87.90%, Test Loss: 0.3672, Test Accuracy: 87.12%\n",
            "Epoch [206/400], Loss: 0.2978, Accuracy: 89.38%, Test Loss: 0.3625, Test Accuracy: 87.17%\n",
            "Epoch [207/400], Loss: 0.2970, Accuracy: 89.28%, Test Loss: 0.3716, Test Accuracy: 87.15%\n",
            "Epoch [208/400], Loss: 0.2984, Accuracy: 89.16%, Test Loss: 0.3609, Test Accuracy: 87.33%\n",
            "Epoch [209/400], Loss: 0.2943, Accuracy: 89.36%, Test Loss: 0.3662, Test Accuracy: 87.31%\n",
            "Epoch [210/400], Loss: 0.2945, Accuracy: 89.39%, Test Loss: 0.3746, Test Accuracy: 86.87%\n",
            "Epoch [211/400], Loss: 0.3120, Accuracy: 88.68%, Test Loss: 0.3815, Test Accuracy: 86.73%\n",
            "Epoch [212/400], Loss: 0.3039, Accuracy: 88.93%, Test Loss: 0.3659, Test Accuracy: 86.98%\n",
            "Epoch [213/400], Loss: 0.2916, Accuracy: 89.52%, Test Loss: 0.3598, Test Accuracy: 87.38%\n",
            "Epoch [214/400], Loss: 0.2963, Accuracy: 89.34%, Test Loss: 0.4481, Test Accuracy: 84.32%\n",
            "Epoch [215/400], Loss: 0.2939, Accuracy: 89.46%, Test Loss: 0.3732, Test Accuracy: 86.76%\n",
            "Epoch [216/400], Loss: 0.2927, Accuracy: 89.44%, Test Loss: 0.4792, Test Accuracy: 83.05%\n",
            "Epoch [217/400], Loss: 0.3178, Accuracy: 88.54%, Test Loss: 0.3741, Test Accuracy: 86.70%\n",
            "Epoch [218/400], Loss: 0.2956, Accuracy: 89.35%, Test Loss: 0.3585, Test Accuracy: 87.39%\n",
            "Epoch [219/400], Loss: 0.2887, Accuracy: 89.69%, Test Loss: 0.4117, Test Accuracy: 85.12%\n",
            "Epoch [220/400], Loss: 0.3000, Accuracy: 89.11%, Test Loss: 0.3578, Test Accuracy: 87.40%\n",
            "Epoch [221/400], Loss: 0.2877, Accuracy: 89.61%, Test Loss: 0.3625, Test Accuracy: 87.36%\n",
            "Epoch [222/400], Loss: 0.2910, Accuracy: 89.49%, Test Loss: 0.3646, Test Accuracy: 87.24%\n",
            "Epoch [223/400], Loss: 0.2883, Accuracy: 89.66%, Test Loss: 0.3620, Test Accuracy: 87.34%\n",
            "Epoch [224/400], Loss: 0.2860, Accuracy: 89.71%, Test Loss: 0.3650, Test Accuracy: 87.08%\n",
            "Epoch [225/400], Loss: 0.2847, Accuracy: 89.75%, Test Loss: 0.3647, Test Accuracy: 87.26%\n",
            "Epoch [226/400], Loss: 0.2972, Accuracy: 89.23%, Test Loss: 0.3571, Test Accuracy: 87.37%\n",
            "Epoch [227/400], Loss: 0.2873, Accuracy: 89.51%, Test Loss: 0.3607, Test Accuracy: 87.29%\n",
            "Epoch [228/400], Loss: 0.2938, Accuracy: 89.39%, Test Loss: 0.3707, Test Accuracy: 87.04%\n",
            "Epoch [229/400], Loss: 0.2798, Accuracy: 89.95%, Test Loss: 0.3717, Test Accuracy: 86.87%\n",
            "Epoch [230/400], Loss: 0.2931, Accuracy: 89.35%, Test Loss: 0.3607, Test Accuracy: 87.21%\n",
            "Epoch [231/400], Loss: 0.2803, Accuracy: 89.93%, Test Loss: 0.3560, Test Accuracy: 87.52%\n",
            "Epoch [232/400], Loss: 0.2893, Accuracy: 89.50%, Test Loss: 0.3659, Test Accuracy: 87.10%\n",
            "Epoch [233/400], Loss: 0.2834, Accuracy: 89.80%, Test Loss: 0.3690, Test Accuracy: 87.11%\n",
            "Epoch [234/400], Loss: 0.2823, Accuracy: 89.80%, Test Loss: 0.3516, Test Accuracy: 87.56%\n",
            "Epoch [235/400], Loss: 0.3189, Accuracy: 88.59%, Test Loss: 0.3697, Test Accuracy: 87.05%\n",
            "Epoch [236/400], Loss: 0.2773, Accuracy: 90.00%, Test Loss: 0.3532, Test Accuracy: 87.60%\n",
            "Epoch [237/400], Loss: 0.2771, Accuracy: 90.07%, Test Loss: 0.3536, Test Accuracy: 87.57%\n",
            "Epoch [238/400], Loss: 0.2769, Accuracy: 90.07%, Test Loss: 0.3617, Test Accuracy: 87.22%\n",
            "Epoch [239/400], Loss: 0.2788, Accuracy: 89.97%, Test Loss: 0.3791, Test Accuracy: 86.56%\n",
            "Epoch [240/400], Loss: 0.2786, Accuracy: 89.95%, Test Loss: 0.3543, Test Accuracy: 87.48%\n",
            "Epoch [241/400], Loss: 0.2768, Accuracy: 89.97%, Test Loss: 0.3906, Test Accuracy: 85.89%\n",
            "Epoch [242/400], Loss: 0.2836, Accuracy: 89.64%, Test Loss: 0.3716, Test Accuracy: 86.64%\n",
            "Epoch [243/400], Loss: 0.2727, Accuracy: 90.11%, Test Loss: 0.3537, Test Accuracy: 87.52%\n",
            "Epoch [244/400], Loss: 0.2754, Accuracy: 90.01%, Test Loss: 0.3523, Test Accuracy: 87.70%\n",
            "Epoch [245/400], Loss: 0.2715, Accuracy: 90.25%, Test Loss: 0.3549, Test Accuracy: 87.56%\n",
            "Epoch [246/400], Loss: 0.2857, Accuracy: 89.61%, Test Loss: 0.3636, Test Accuracy: 87.20%\n",
            "Epoch [247/400], Loss: 0.2836, Accuracy: 89.72%, Test Loss: 0.3533, Test Accuracy: 87.60%\n",
            "Epoch [248/400], Loss: 0.2776, Accuracy: 89.94%, Test Loss: 0.3594, Test Accuracy: 87.42%\n",
            "Epoch [249/400], Loss: 0.2836, Accuracy: 89.68%, Test Loss: 0.3944, Test Accuracy: 86.15%\n",
            "Epoch [250/400], Loss: 0.2742, Accuracy: 90.23%, Test Loss: 0.3483, Test Accuracy: 87.81%\n",
            "Epoch [251/400], Loss: 0.2853, Accuracy: 89.64%, Test Loss: 0.3536, Test Accuracy: 87.63%\n",
            "Epoch [252/400], Loss: 0.2761, Accuracy: 90.04%, Test Loss: 0.3850, Test Accuracy: 86.21%\n",
            "Epoch [253/400], Loss: 0.2709, Accuracy: 90.25%, Test Loss: 0.3541, Test Accuracy: 87.51%\n",
            "Epoch [254/400], Loss: 0.2848, Accuracy: 89.71%, Test Loss: 0.3470, Test Accuracy: 87.78%\n",
            "Epoch [255/400], Loss: 0.2720, Accuracy: 90.16%, Test Loss: 0.3990, Test Accuracy: 85.67%\n",
            "Epoch [256/400], Loss: 0.2713, Accuracy: 90.16%, Test Loss: 0.3466, Test Accuracy: 87.70%\n",
            "Epoch [257/400], Loss: 0.2720, Accuracy: 90.21%, Test Loss: 0.3483, Test Accuracy: 87.66%\n",
            "Epoch [258/400], Loss: 0.2666, Accuracy: 90.45%, Test Loss: 0.3473, Test Accuracy: 87.86%\n",
            "Epoch [259/400], Loss: 0.2642, Accuracy: 90.45%, Test Loss: 0.3551, Test Accuracy: 87.26%\n",
            "Epoch [260/400], Loss: 0.2988, Accuracy: 89.29%, Test Loss: 0.3612, Test Accuracy: 87.10%\n",
            "Epoch [261/400], Loss: 0.2666, Accuracy: 90.37%, Test Loss: 0.3607, Test Accuracy: 87.35%\n",
            "Epoch [262/400], Loss: 0.2645, Accuracy: 90.48%, Test Loss: 0.3588, Test Accuracy: 87.40%\n",
            "Epoch [263/400], Loss: 0.2676, Accuracy: 90.31%, Test Loss: 0.3543, Test Accuracy: 87.61%\n",
            "Epoch [264/400], Loss: 0.2657, Accuracy: 90.43%, Test Loss: 0.3844, Test Accuracy: 86.62%\n",
            "Epoch [265/400], Loss: 0.2698, Accuracy: 90.20%, Test Loss: 0.3647, Test Accuracy: 87.02%\n",
            "Epoch [266/400], Loss: 0.2757, Accuracy: 89.92%, Test Loss: 0.3457, Test Accuracy: 87.83%\n",
            "Epoch [267/400], Loss: 0.2634, Accuracy: 90.52%, Test Loss: 0.3592, Test Accuracy: 87.29%\n",
            "Epoch [268/400], Loss: 0.2676, Accuracy: 90.18%, Test Loss: 0.3508, Test Accuracy: 87.66%\n",
            "Epoch [269/400], Loss: 0.2673, Accuracy: 90.33%, Test Loss: 0.3495, Test Accuracy: 87.74%\n",
            "Epoch [270/400], Loss: 0.2667, Accuracy: 90.42%, Test Loss: 0.6234, Test Accuracy: 79.31%\n",
            "Epoch [271/400], Loss: 0.2957, Accuracy: 89.67%, Test Loss: 0.3452, Test Accuracy: 87.91%\n",
            "Epoch [272/400], Loss: 0.2584, Accuracy: 90.70%, Test Loss: 0.3542, Test Accuracy: 87.58%\n",
            "Epoch [273/400], Loss: 0.2603, Accuracy: 90.58%, Test Loss: 0.3854, Test Accuracy: 86.36%\n",
            "Epoch [274/400], Loss: 0.2560, Accuracy: 90.81%, Test Loss: 0.3525, Test Accuracy: 87.31%\n",
            "Epoch [275/400], Loss: 0.2572, Accuracy: 90.81%, Test Loss: 0.3430, Test Accuracy: 87.84%\n",
            "Epoch [276/400], Loss: 0.2625, Accuracy: 90.50%, Test Loss: 0.3665, Test Accuracy: 87.30%\n",
            "Epoch [277/400], Loss: 0.2677, Accuracy: 90.24%, Test Loss: 0.3610, Test Accuracy: 87.32%\n",
            "Epoch [278/400], Loss: 0.2879, Accuracy: 89.74%, Test Loss: 0.3586, Test Accuracy: 87.41%\n",
            "Epoch [279/400], Loss: 0.2537, Accuracy: 90.89%, Test Loss: 0.3601, Test Accuracy: 87.35%\n",
            "Epoch [280/400], Loss: 0.2604, Accuracy: 90.66%, Test Loss: 0.3477, Test Accuracy: 87.59%\n",
            "Epoch [281/400], Loss: 0.2500, Accuracy: 91.00%, Test Loss: 0.3588, Test Accuracy: 87.45%\n",
            "Epoch [282/400], Loss: 0.2561, Accuracy: 90.75%, Test Loss: 0.3422, Test Accuracy: 87.91%\n",
            "Epoch [283/400], Loss: 0.2508, Accuracy: 90.95%, Test Loss: 0.3501, Test Accuracy: 87.62%\n",
            "Epoch [284/400], Loss: 0.2802, Accuracy: 89.76%, Test Loss: 0.3474, Test Accuracy: 87.83%\n",
            "Epoch [285/400], Loss: 0.2498, Accuracy: 90.96%, Test Loss: 0.3871, Test Accuracy: 86.28%\n",
            "Epoch [286/400], Loss: 0.2524, Accuracy: 90.88%, Test Loss: 0.3644, Test Accuracy: 87.27%\n",
            "Epoch [287/400], Loss: 0.2817, Accuracy: 89.75%, Test Loss: 0.6491, Test Accuracy: 78.90%\n",
            "Epoch [288/400], Loss: 0.2612, Accuracy: 90.61%, Test Loss: 0.3587, Test Accuracy: 87.51%\n",
            "Epoch [289/400], Loss: 0.2591, Accuracy: 90.69%, Test Loss: 0.3386, Test Accuracy: 88.06%\n",
            "Epoch [290/400], Loss: 0.2559, Accuracy: 90.63%, Test Loss: 0.3553, Test Accuracy: 87.67%\n",
            "Epoch [291/400], Loss: 0.2503, Accuracy: 90.93%, Test Loss: 0.3577, Test Accuracy: 87.32%\n",
            "Epoch [292/400], Loss: 0.2524, Accuracy: 90.84%, Test Loss: 0.3590, Test Accuracy: 87.61%\n",
            "Epoch [293/400], Loss: 0.2510, Accuracy: 90.93%, Test Loss: 0.3518, Test Accuracy: 87.50%\n",
            "Epoch [294/400], Loss: 0.2450, Accuracy: 91.17%, Test Loss: 0.3554, Test Accuracy: 87.18%\n",
            "Epoch [295/400], Loss: 0.2476, Accuracy: 91.09%, Test Loss: 0.3404, Test Accuracy: 88.01%\n",
            "Epoch [296/400], Loss: 0.3083, Accuracy: 89.34%, Test Loss: 0.3420, Test Accuracy: 87.95%\n",
            "Epoch [297/400], Loss: 0.2423, Accuracy: 91.31%, Test Loss: 0.3444, Test Accuracy: 87.79%\n",
            "Epoch [298/400], Loss: 0.2484, Accuracy: 91.03%, Test Loss: 0.3573, Test Accuracy: 87.26%\n",
            "Epoch [299/400], Loss: 0.2513, Accuracy: 90.95%, Test Loss: 0.3464, Test Accuracy: 87.66%\n",
            "Epoch [300/400], Loss: 0.2424, Accuracy: 91.24%, Test Loss: 0.3462, Test Accuracy: 87.68%\n",
            "Epoch [301/400], Loss: 0.2608, Accuracy: 90.55%, Test Loss: 0.3560, Test Accuracy: 87.41%\n",
            "Epoch [302/400], Loss: 0.2508, Accuracy: 90.97%, Test Loss: 0.3350, Test Accuracy: 88.14%\n",
            "Epoch [303/400], Loss: 0.2450, Accuracy: 91.18%, Test Loss: 0.3371, Test Accuracy: 88.19%\n",
            "Epoch [304/400], Loss: 0.2418, Accuracy: 91.24%, Test Loss: 0.3467, Test Accuracy: 87.62%\n",
            "Epoch [305/400], Loss: 0.2631, Accuracy: 90.31%, Test Loss: 0.3432, Test Accuracy: 87.75%\n",
            "Epoch [306/400], Loss: 0.2385, Accuracy: 91.51%, Test Loss: 0.3457, Test Accuracy: 87.78%\n",
            "Epoch [307/400], Loss: 0.2565, Accuracy: 90.61%, Test Loss: 0.3437, Test Accuracy: 87.99%\n",
            "Epoch [308/400], Loss: 0.2441, Accuracy: 91.14%, Test Loss: 0.3542, Test Accuracy: 87.49%\n",
            "Epoch [309/400], Loss: 0.2412, Accuracy: 91.25%, Test Loss: 0.3461, Test Accuracy: 87.86%\n",
            "Epoch [310/400], Loss: 0.2499, Accuracy: 90.87%, Test Loss: 0.3504, Test Accuracy: 87.62%\n",
            "Epoch [311/400], Loss: 0.2470, Accuracy: 91.11%, Test Loss: 0.3403, Test Accuracy: 87.91%\n",
            "Epoch [312/400], Loss: 0.2456, Accuracy: 91.15%, Test Loss: 0.3453, Test Accuracy: 87.90%\n",
            "Epoch [313/400], Loss: 0.2609, Accuracy: 90.43%, Test Loss: 0.3514, Test Accuracy: 87.66%\n",
            "Epoch [314/400], Loss: 0.2376, Accuracy: 91.41%, Test Loss: 0.3342, Test Accuracy: 88.23%\n",
            "Epoch [315/400], Loss: 0.2367, Accuracy: 91.44%, Test Loss: 0.3355, Test Accuracy: 88.16%\n",
            "Epoch [316/400], Loss: 0.2413, Accuracy: 91.21%, Test Loss: 0.3426, Test Accuracy: 88.02%\n",
            "Epoch [317/400], Loss: 0.2882, Accuracy: 89.75%, Test Loss: 0.3428, Test Accuracy: 87.83%\n",
            "Epoch [318/400], Loss: 0.2376, Accuracy: 91.44%, Test Loss: 0.3344, Test Accuracy: 88.29%\n",
            "Epoch [319/400], Loss: 0.2365, Accuracy: 91.52%, Test Loss: 0.3485, Test Accuracy: 87.66%\n",
            "Epoch [320/400], Loss: 0.2337, Accuracy: 91.59%, Test Loss: 0.3371, Test Accuracy: 88.16%\n",
            "Epoch [321/400], Loss: 0.2378, Accuracy: 91.39%, Test Loss: 0.3604, Test Accuracy: 87.22%\n",
            "Epoch [322/400], Loss: 0.2515, Accuracy: 90.92%, Test Loss: 0.3377, Test Accuracy: 88.09%\n",
            "Epoch [323/400], Loss: 0.2294, Accuracy: 91.76%, Test Loss: 0.3364, Test Accuracy: 88.16%\n",
            "Epoch [324/400], Loss: 0.2318, Accuracy: 91.71%, Test Loss: 0.4043, Test Accuracy: 85.84%\n",
            "Epoch [325/400], Loss: 0.2411, Accuracy: 91.20%, Test Loss: 0.3642, Test Accuracy: 87.43%\n",
            "Epoch [326/400], Loss: 0.2466, Accuracy: 91.09%, Test Loss: 0.3685, Test Accuracy: 86.89%\n",
            "Epoch [327/400], Loss: 0.2380, Accuracy: 91.44%, Test Loss: 0.4300, Test Accuracy: 84.66%\n",
            "Epoch [328/400], Loss: 0.2355, Accuracy: 91.53%, Test Loss: 0.3338, Test Accuracy: 88.26%\n",
            "Epoch [329/400], Loss: 0.2322, Accuracy: 91.66%, Test Loss: 0.3974, Test Accuracy: 86.05%\n",
            "Epoch [330/400], Loss: 0.2302, Accuracy: 91.70%, Test Loss: 0.3584, Test Accuracy: 87.32%\n",
            "Epoch [331/400], Loss: 0.2318, Accuracy: 91.59%, Test Loss: 0.3342, Test Accuracy: 88.36%\n",
            "Epoch [332/400], Loss: 0.2397, Accuracy: 91.28%, Test Loss: 0.3602, Test Accuracy: 87.61%\n",
            "Epoch [333/400], Loss: 0.2517, Accuracy: 90.79%, Test Loss: 0.3480, Test Accuracy: 87.84%\n",
            "Epoch [334/400], Loss: 0.2308, Accuracy: 91.48%, Test Loss: 0.3626, Test Accuracy: 87.70%\n",
            "Epoch [335/400], Loss: 0.2419, Accuracy: 91.18%, Test Loss: 0.3380, Test Accuracy: 88.20%\n",
            "Epoch [336/400], Loss: 0.2361, Accuracy: 91.36%, Test Loss: 0.3320, Test Accuracy: 88.35%\n",
            "Epoch [337/400], Loss: 0.2252, Accuracy: 91.90%, Test Loss: 0.3389, Test Accuracy: 88.09%\n",
            "Epoch [338/400], Loss: 0.2304, Accuracy: 91.60%, Test Loss: 0.3351, Test Accuracy: 88.03%\n",
            "Epoch [339/400], Loss: 0.2367, Accuracy: 91.45%, Test Loss: 0.3784, Test Accuracy: 86.58%\n",
            "Epoch [340/400], Loss: 0.2473, Accuracy: 91.07%, Test Loss: 0.3337, Test Accuracy: 88.19%\n",
            "Epoch [341/400], Loss: 0.2305, Accuracy: 91.65%, Test Loss: 0.3590, Test Accuracy: 87.51%\n",
            "Epoch [342/400], Loss: 0.2676, Accuracy: 90.59%, Test Loss: 0.3401, Test Accuracy: 88.07%\n",
            "Epoch [343/400], Loss: 0.2230, Accuracy: 92.08%, Test Loss: 0.3429, Test Accuracy: 87.85%\n",
            "Epoch [344/400], Loss: 0.2205, Accuracy: 92.02%, Test Loss: 0.3337, Test Accuracy: 88.26%\n",
            "Epoch [345/400], Loss: 0.2163, Accuracy: 92.33%, Test Loss: 0.3324, Test Accuracy: 88.29%\n",
            "Epoch [346/400], Loss: 0.2871, Accuracy: 89.90%, Test Loss: 0.3312, Test Accuracy: 88.32%\n",
            "Epoch [347/400], Loss: 0.2164, Accuracy: 92.27%, Test Loss: 0.3400, Test Accuracy: 87.92%\n",
            "Epoch [348/400], Loss: 0.2227, Accuracy: 92.04%, Test Loss: 0.3482, Test Accuracy: 87.83%\n",
            "Epoch [349/400], Loss: 0.2225, Accuracy: 92.03%, Test Loss: 0.3344, Test Accuracy: 88.26%\n",
            "Epoch [350/400], Loss: 0.2207, Accuracy: 92.09%, Test Loss: 0.3518, Test Accuracy: 87.68%\n",
            "Epoch [351/400], Loss: 0.2364, Accuracy: 91.43%, Test Loss: 0.3358, Test Accuracy: 88.36%\n",
            "Epoch [352/400], Loss: 0.2229, Accuracy: 91.97%, Test Loss: 0.4515, Test Accuracy: 84.90%\n",
            "Epoch [353/400], Loss: 0.2252, Accuracy: 91.91%, Test Loss: 0.3372, Test Accuracy: 88.51%\n",
            "Epoch [354/400], Loss: 0.2198, Accuracy: 92.05%, Test Loss: 0.3801, Test Accuracy: 87.00%\n",
            "Epoch [355/400], Loss: 0.2159, Accuracy: 92.23%, Test Loss: 0.3307, Test Accuracy: 88.33%\n",
            "Epoch [356/400], Loss: 0.2842, Accuracy: 90.42%, Test Loss: 0.3395, Test Accuracy: 87.93%\n",
            "Epoch [357/400], Loss: 0.2149, Accuracy: 92.35%, Test Loss: 0.3298, Test Accuracy: 88.50%\n",
            "Epoch [358/400], Loss: 0.2141, Accuracy: 92.32%, Test Loss: 0.3533, Test Accuracy: 87.61%\n",
            "Epoch [359/400], Loss: 0.2223, Accuracy: 91.97%, Test Loss: 0.3333, Test Accuracy: 88.21%\n",
            "Epoch [360/400], Loss: 0.2266, Accuracy: 91.72%, Test Loss: 0.3544, Test Accuracy: 87.82%\n",
            "Epoch [361/400], Loss: 0.2209, Accuracy: 92.05%, Test Loss: 0.3427, Test Accuracy: 87.96%\n",
            "Epoch [362/400], Loss: 0.2167, Accuracy: 92.25%, Test Loss: 0.3342, Test Accuracy: 88.29%\n",
            "Epoch [363/400], Loss: 0.2869, Accuracy: 90.14%, Test Loss: 0.3360, Test Accuracy: 88.07%\n",
            "Epoch [364/400], Loss: 0.2132, Accuracy: 92.46%, Test Loss: 0.3548, Test Accuracy: 87.62%\n",
            "Epoch [365/400], Loss: 0.2110, Accuracy: 92.40%, Test Loss: 0.3320, Test Accuracy: 88.56%\n",
            "Epoch [366/400], Loss: 0.2220, Accuracy: 92.00%, Test Loss: 0.3385, Test Accuracy: 88.10%\n",
            "Epoch [367/400], Loss: 0.2063, Accuracy: 92.67%, Test Loss: 0.3572, Test Accuracy: 87.57%\n",
            "Epoch [368/400], Loss: 0.2263, Accuracy: 91.75%, Test Loss: 0.3670, Test Accuracy: 87.48%\n",
            "Epoch [369/400], Loss: 0.2120, Accuracy: 92.36%, Test Loss: 0.3414, Test Accuracy: 88.02%\n",
            "Epoch [370/400], Loss: 0.2189, Accuracy: 92.05%, Test Loss: 0.3373, Test Accuracy: 88.21%\n",
            "Epoch [371/400], Loss: 0.2189, Accuracy: 92.03%, Test Loss: 0.3438, Test Accuracy: 87.96%\n",
            "Epoch [372/400], Loss: 0.2152, Accuracy: 92.19%, Test Loss: 0.3306, Test Accuracy: 88.47%\n",
            "Epoch [373/400], Loss: 0.2131, Accuracy: 92.32%, Test Loss: 0.3326, Test Accuracy: 88.42%\n",
            "Epoch [374/400], Loss: 0.2313, Accuracy: 91.66%, Test Loss: 0.4047, Test Accuracy: 86.07%\n",
            "Epoch [375/400], Loss: 0.2653, Accuracy: 90.88%, Test Loss: 0.3277, Test Accuracy: 88.33%\n",
            "Epoch [376/400], Loss: 0.2081, Accuracy: 92.53%, Test Loss: 0.4119, Test Accuracy: 85.51%\n",
            "Epoch [377/400], Loss: 0.2101, Accuracy: 92.43%, Test Loss: 0.3447, Test Accuracy: 88.15%\n",
            "Epoch [378/400], Loss: 0.2190, Accuracy: 92.07%, Test Loss: 0.3657, Test Accuracy: 87.15%\n",
            "Epoch [379/400], Loss: 0.2252, Accuracy: 91.80%, Test Loss: 0.3453, Test Accuracy: 88.07%\n",
            "Epoch [380/400], Loss: 0.2070, Accuracy: 92.61%, Test Loss: 0.3516, Test Accuracy: 87.90%\n",
            "Epoch [381/400], Loss: 0.2065, Accuracy: 92.59%, Test Loss: 0.3369, Test Accuracy: 88.35%\n",
            "Epoch [382/400], Loss: 0.2011, Accuracy: 92.80%, Test Loss: 0.3296, Test Accuracy: 88.71%\n",
            "Epoch [383/400], Loss: 0.2070, Accuracy: 92.69%, Test Loss: 0.3337, Test Accuracy: 88.77%\n",
            "Epoch [384/400], Loss: 0.2195, Accuracy: 91.83%, Test Loss: 0.3289, Test Accuracy: 88.62%\n",
            "Epoch [385/400], Loss: 0.2138, Accuracy: 92.22%, Test Loss: 0.3363, Test Accuracy: 88.40%\n",
            "Epoch [386/400], Loss: 0.2073, Accuracy: 92.51%, Test Loss: 0.3323, Test Accuracy: 88.62%\n",
            "Epoch [387/400], Loss: 0.2203, Accuracy: 92.11%, Test Loss: 0.7415, Test Accuracy: 78.54%\n",
            "Epoch [388/400], Loss: 0.2294, Accuracy: 91.74%, Test Loss: 0.3346, Test Accuracy: 88.57%\n",
            "Epoch [389/400], Loss: 0.2026, Accuracy: 92.80%, Test Loss: 0.3327, Test Accuracy: 88.58%\n",
            "Epoch [390/400], Loss: 0.2115, Accuracy: 92.39%, Test Loss: 0.3345, Test Accuracy: 88.35%\n",
            "Epoch [391/400], Loss: 0.2026, Accuracy: 92.60%, Test Loss: 0.3311, Test Accuracy: 88.52%\n",
            "Epoch [392/400], Loss: 0.2126, Accuracy: 92.29%, Test Loss: 0.3490, Test Accuracy: 87.95%\n",
            "Epoch [393/400], Loss: 0.2670, Accuracy: 91.13%, Test Loss: 0.3377, Test Accuracy: 88.29%\n",
            "Epoch [394/400], Loss: 0.2070, Accuracy: 92.59%, Test Loss: 0.3295, Test Accuracy: 88.68%\n",
            "Epoch [395/400], Loss: 0.2017, Accuracy: 92.78%, Test Loss: 0.3298, Test Accuracy: 88.60%\n",
            "Epoch [396/400], Loss: 0.1976, Accuracy: 92.98%, Test Loss: 0.3354, Test Accuracy: 88.46%\n",
            "Epoch [397/400], Loss: 0.2025, Accuracy: 92.71%, Test Loss: 0.3594, Test Accuracy: 87.55%\n",
            "Epoch [398/400], Loss: 0.2159, Accuracy: 92.12%, Test Loss: 0.3319, Test Accuracy: 88.51%\n",
            "Epoch [399/400], Loss: 0.1985, Accuracy: 92.79%, Test Loss: 0.3540, Test Accuracy: 87.81%\n",
            "Epoch [400/400], Loss: 0.2238, Accuracy: 91.80%, Test Loss: 0.3315, Test Accuracy: 88.56%\n"
          ]
        }
      ],
      "source": [
        "# train\n",
        "for epoch in range(max_epoch):\n",
        "    running_loss = 0.0\n",
        "    running_correct = 0   # to track number of correct predictions\n",
        "    total = 0             # to track total number of samples\n",
        "\n",
        "    for i, (inputs, labels) in enumerate(trainloader, 0):\n",
        "        # Move inputs and labels to the device\n",
        "        inputs, labels = inputs.to(device), labels.to(device)\n",
        "\n",
        "        # Zero the parameter gradients\n",
        "        optimizer.zero_grad()\n",
        "\n",
        "        # Forward pass\n",
        "        outputs = model(inputs)\n",
        "        loss = criterion(outputs, labels)\n",
        "        running_loss += loss.item()\n",
        "\n",
        "        # Determine class predictions and track accuracy\n",
        "        _, predicted = torch.max(outputs.data, 1)\n",
        "        total += labels.size(0)\n",
        "        running_correct += (predicted == labels).sum().item()\n",
        "\n",
        "        # Backward pass and optimization\n",
        "        loss.backward()\n",
        "        optimizer.step()\n",
        "\n",
        "    epoch_accuracy = 100 * running_correct / total\n",
        "    epoch_loss = running_loss / (i + 1)\n",
        "    test_loss, test_accuracy = evaluate(model, testloader, criterion)\n",
        "    print(f\"Epoch [{epoch + 1}/{max_epoch}], Loss: {epoch_loss:.4f}, Accuracy: {epoch_accuracy:.2f}%, Test Loss: {test_loss:.4f}, Test Accuracy: {test_accuracy:.2f}%\")\n",
        "\n",
        "    # save for plot\n",
        "    train_losses.append(epoch_loss)\n",
        "    train_accuracies.append(epoch_accuracy)\n",
        "    test_losses.append(test_loss)\n",
        "    test_accuracies.append(test_accuracy)"
      ]
    },
    {
      "cell_type": "code",
      "execution_count": null,
      "metadata": {
        "id": "aBlTLp8LXNVC",
        "colab": {
          "base_uri": "https://localhost:8080/",
          "height": 447
        },
        "outputId": "1d011aee-c013-431b-c44b-e7e83e6db43b"
      },
      "outputs": [
        {
          "output_type": "execute_result",
          "data": {
            "text/plain": [
              "<matplotlib.legend.Legend at 0x79878233e2f0>"
            ]
          },
          "metadata": {},
          "execution_count": 11
        },
        {
          "output_type": "display_data",
          "data": {
            "text/plain": [
              "<Figure size 640x480 with 1 Axes>"
            ],
            "image/png": "[encoded data removed]"
          },
          "metadata": {}
        }
      ],
      "source": [
        "import matplotlib.pyplot as plt\n",
        "\n",
        "plt.plot(train_losses, label='train_losses')\n",
        "plt.plot(test_losses, label='test_losses')\n",
        "plt.legend()"
      ]
    },
    {
      "cell_type": "code",
      "execution_count": null,
      "metadata": {
        "id": "T_2LloHiXQNd",
        "colab": {
          "base_uri": "https://localhost:8080/"
        },
        "outputId": "96f23c0a-57d2-4c01-c210-cf60c1770b45"
      },
      "outputs": [
        {
          "output_type": "execute_result",
          "data": {
            "text/plain": [
              "<matplotlib.legend.Legend at 0x798781e7ae90>"
            ]
          },
          "metadata": {},
          "execution_count": 12
        },
        {
          "output_type": "display_data",
          "data": {
            "text/plain": [
              "<Figure size 640x480 with 1 Axes>"
            ],
            "image/png": "[encoded data removed]"
          },
          "metadata": {}
        }
      ],
      "source": [
        "import matplotlib.pyplot as plt\n",
        "\n",
        "plt.plot(train_accuracies, label='train_accuracy')\n",
        "plt.plot(test_accuracies, label='test_accuracy')\n",
        "plt.legend()"
      ]
    }
  ],
  "metadata": {
    "colab": {
      "provenance": []
    },
    "kernelspec": {
      "display_name": "Python 3",
      "name": "python3"
    },
    "language_info": {
      "name": "python"
    }
  },
  "nbformat": 4,
  "nbformat_minor": 0
}