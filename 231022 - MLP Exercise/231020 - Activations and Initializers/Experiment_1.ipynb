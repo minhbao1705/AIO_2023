{
  "nbformat": 4,
  "nbformat_minor": 0,
  "metadata": {
    "colab": {
      "provenance": []
    },
    "kernelspec": {
      "name": "python3",
      "display_name": "Python 3"
    },
    "language_info": {
      "name": "python"
    }
  },
  "cells": [
    {
      "cell_type": "code",
      "execution_count": null,
      "metadata": {
        "id": "c04m5U0qKFLW"
      },
      "outputs": [],
      "source": [
        "import torch\n",
        "import torch.nn as nn\n",
        "import torch.optim as optim\n",
        "import torchvision\n",
        "import torchvision.transforms as transforms\n",
        "\n",
        "device = torch.device(\"cuda:0\" if torch.cuda.is_available() else \"cpu\")"
      ]
    },
    {
      "cell_type": "markdown",
      "source": [
        "### Data"
      ],
      "metadata": {
        "id": "G3h6zJONKkgS"
      }
    },
    {
      "cell_type": "code",
      "source": [
        "# Load dataset with only the ToTensor transform to compute mean and std\n",
        "compute_transform = transforms.Compose([transforms.ToTensor()])\n",
        "dataset = torchvision.datasets.FashionMNIST(root = \"data\", train=True, download=True, transform=compute_transform)\n",
        "loader = torch.utils.data.DataLoader(dataset, batch_size=1024, num_workers=2, shuffle=True)\n",
        "\n",
        "mean = 0.0\n",
        "for images, _ in loader:\n",
        "  batch_samples = images.size(0)  # Batch size\n",
        "  images = images.view(batch_samples, images.size(1), -1)\n",
        "  mean += images.mean(2).sum(0)\n",
        "mean = mean / len(loader.dataset)\n",
        "\n",
        "variance = 0.0\n",
        "for images, _ in loader:\n",
        "  batch_samples = images.size(0)\n",
        "  images = images.view(batch_samples, images.size(1), -1)\n",
        "  variance += ((images - mean.unsqueeze(1))**2).sum([0,2])\n",
        "std = torch.sqrt(variance / (len(loader.dataset)*28*28))\n",
        "\n",
        "print(mean, std)"
      ],
      "metadata": {
        "colab": {
          "base_uri": "https://localhost:8080/"
        },
        "id": "dOCzCENKKgbv",
        "outputId": "98287201-c66a-489b-f8fb-9873bbe78ddb"
      },
      "execution_count": null,
      "outputs": [
        {
          "output_type": "stream",
          "name": "stdout",
          "text": [
            "Downloading http://fashion-mnist.s3-website.eu-central-1.amazonaws.com/train-images-idx3-ubyte.gz\n",
            "Downloading http://fashion-mnist.s3-website.eu-central-1.amazonaws.com/train-images-idx3-ubyte.gz to data/FashionMNIST/raw/train-images-idx3-ubyte.gz\n"
          ]
        },
        {
          "output_type": "stream",
          "name": "stderr",
          "text": [
            "100%|██████████| 26.4M/26.4M [00:02<00:00, 9.86MB/s]\n"
          ]
        },
        {
          "output_type": "stream",
          "name": "stdout",
          "text": [
            "Extracting data/FashionMNIST/raw/train-images-idx3-ubyte.gz to data/FashionMNIST/raw\n",
            "\n",
            "Downloading http://fashion-mnist.s3-website.eu-central-1.amazonaws.com/train-labels-idx1-ubyte.gz\n",
            "Downloading http://fashion-mnist.s3-website.eu-central-1.amazonaws.com/train-labels-idx1-ubyte.gz to data/FashionMNIST/raw/train-labels-idx1-ubyte.gz\n"
          ]
        },
        {
          "output_type": "stream",
          "name": "stderr",
          "text": [
            "100%|██████████| 29.5k/29.5k [00:00<00:00, 163kB/s]\n"
          ]
        },
        {
          "output_type": "stream",
          "name": "stdout",
          "text": [
            "Extracting data/FashionMNIST/raw/train-labels-idx1-ubyte.gz to data/FashionMNIST/raw\n",
            "\n",
            "Downloading http://fashion-mnist.s3-website.eu-central-1.amazonaws.com/t10k-images-idx3-ubyte.gz\n",
            "Downloading http://fashion-mnist.s3-website.eu-central-1.amazonaws.com/t10k-images-idx3-ubyte.gz to data/FashionMNIST/raw/t10k-images-idx3-ubyte.gz\n"
          ]
        },
        {
          "output_type": "stream",
          "name": "stderr",
          "text": [
            "100%|██████████| 4.42M/4.42M [00:01<00:00, 3.03MB/s]\n"
          ]
        },
        {
          "output_type": "stream",
          "name": "stdout",
          "text": [
            "Extracting data/FashionMNIST/raw/t10k-images-idx3-ubyte.gz to data/FashionMNIST/raw\n",
            "\n",
            "Downloading http://fashion-mnist.s3-website.eu-central-1.amazonaws.com/t10k-labels-idx1-ubyte.gz\n",
            "Downloading http://fashion-mnist.s3-website.eu-central-1.amazonaws.com/t10k-labels-idx1-ubyte.gz to data/FashionMNIST/raw/t10k-labels-idx1-ubyte.gz\n"
          ]
        },
        {
          "output_type": "stream",
          "name": "stderr",
          "text": [
            "100%|██████████| 5.15k/5.15k [00:00<00:00, 6.08MB/s]"
          ]
        },
        {
          "output_type": "stream",
          "name": "stdout",
          "text": [
            "Extracting data/FashionMNIST/raw/t10k-labels-idx1-ubyte.gz to data/FashionMNIST/raw\n",
            "\n"
          ]
        },
        {
          "output_type": "stream",
          "name": "stderr",
          "text": [
            "\n"
          ]
        },
        {
          "output_type": "stream",
          "name": "stdout",
          "text": [
            "tensor([0.2860]) tensor([0.3530])\n"
          ]
        }
      ]
    },
    {
      "cell_type": "code",
      "source": [
        "# Compute mean and std in advance\n",
        "transform = transforms.Compose([transforms.ToTensor(), transforms.Normalize((mean, ), (std, ))])\n",
        "\n",
        "trainset = torchvision.datasets.FashionMNIST(root=\"data\", train=True, download=True, transform=transform)\n",
        "trainloader = torch.utils.data.DataLoader(trainset, batch_size=1024, num_workers=2, shuffle=True)\n",
        "\n",
        "testset = torchvision.datasets.FashionMNIST(root=\"data\", train=False, download=True, transform=transform)\n",
        "testloader = torch.utils.data.DataLoader(testset, batch_size=1024, num_workers=2, shuffle=False)"
      ],
      "metadata": {
        "id": "2ifbCtxrM5el"
      },
      "execution_count": null,
      "outputs": []
    },
    {
      "cell_type": "code",
      "source": [
        "import matplotlib.pyplot as plt\n",
        "import numpy as np\n",
        "\n",
        "# Function to display the image\n",
        "def imshow(img):\n",
        "  img = img*std + mean\n",
        "  np_img = img.numpy()\n",
        "  plt.imshow(np.transpose(np_img, (1, 2, 0)))\n",
        "  plt.show()\n",
        "\n",
        "for i, (images, labels) in enumerate(trainloader, 0):\n",
        "  # Plot some images\n",
        "  imshow(torchvision.utils.make_grid(images[:8]))\n",
        "  break"
      ],
      "metadata": {
        "colab": {
          "base_uri": "https://localhost:8080/",
          "height": 130
        },
        "id": "-4xiM5hjONch",
        "outputId": "7d42c2f3-2134-4a49-9d40-8dfdbd864755"
      },
      "execution_count": null,
      "outputs": [
        {
          "output_type": "display_data",
          "data": {
            "text/plain": [
              "<Figure size 640x480 with 1 Axes>"
            ],
            "image/png": "[encoded data removed]"
          },
          "metadata": {}
        }
      ]
    },
    {
      "cell_type": "markdown",
      "source": [
        "### Model"
      ],
      "metadata": {
        "id": "Y3xTI5_HPCGc"
      }
    },
    {
      "cell_type": "code",
      "source": [
        "model = nn.Sequential(\n",
        "    nn.Flatten(),\n",
        "    nn.Linear(784, 256),\n",
        "    nn.ReLU(),\n",
        "    nn.Linear(256, 10)\n",
        ")\n",
        "model = model.to(device)\n",
        "\n",
        "print(model)"
      ],
      "metadata": {
        "colab": {
          "base_uri": "https://localhost:8080/"
        },
        "id": "DpgGsLbKO9w7",
        "outputId": "e6bd0a43-f582-4b05-e624-e89d7ba29f62"
      },
      "execution_count": null,
      "outputs": [
        {
          "output_type": "stream",
          "name": "stdout",
          "text": [
            "Sequential(\n",
            "  (0): Flatten(start_dim=1, end_dim=-1)\n",
            "  (1): Linear(in_features=784, out_features=256, bias=True)\n",
            "  (2): ReLU()\n",
            "  (3): Linear(in_features=256, out_features=10, bias=True)\n",
            ")\n"
          ]
        }
      ]
    },
    {
      "cell_type": "code",
      "source": [
        "# Generating a random tensor\n",
        "input_tensor = torch.rand(5, 28, 28).to(device)\n",
        "\n",
        "# Feeding the tensor into the model\n",
        "output = model(input_tensor)\n",
        "print(output.shape)"
      ],
      "metadata": {
        "colab": {
          "base_uri": "https://localhost:8080/"
        },
        "id": "_5_WieqLPQmU",
        "outputId": "baaef19e-acf6-4f98-a757-e959e8ca22da"
      },
      "execution_count": null,
      "outputs": [
        {
          "output_type": "stream",
          "name": "stdout",
          "text": [
            "torch.Size([5, 10])\n"
          ]
        }
      ]
    },
    {
      "cell_type": "markdown",
      "source": [
        "### Loss, Optimizer, and Evaluation Function"
      ],
      "metadata": {
        "id": "Y7wpwCUnQAle"
      }
    },
    {
      "cell_type": "code",
      "source": [
        "criterion = nn.CrossEntropyLoss()\n",
        "optimizer = optim.SGD(model.parameters(), lr = 0.01)"
      ],
      "metadata": {
        "id": "megVtldqP9-N"
      },
      "execution_count": null,
      "outputs": []
    },
    {
      "cell_type": "code",
      "source": [
        "# Function to compute loss and accuracy for test set\n",
        "def evaluate(model, testloader, criterion):\n",
        "  model.eval()\n",
        "  test_loss = 0.0\n",
        "  correct = 0\n",
        "  total = 0\n",
        "  with torch.no_grad():\n",
        "    for images, labels in testloader:\n",
        "      # Move inputs and labels to the device\n",
        "      images, labels = images.to(device), labels.to(device)\n",
        "\n",
        "      outputs = model(images)\n",
        "      loss = criterion(outputs, labels)\n",
        "      test_loss += loss\n",
        "\n",
        "      _, predicted = torch.max(outputs.data, 1)\n",
        "      total += labels.size(0)\n",
        "      correct += (predicted == labels).sum().item()\n",
        "\n",
        "  accuracy = 100 * correct / total\n",
        "  test_loss = test_loss / len(testloader)\n",
        "  return test_loss, accuracy"
      ],
      "metadata": {
        "id": "S-tX91x-QM8T"
      },
      "execution_count": null,
      "outputs": []
    },
    {
      "cell_type": "code",
      "source": [
        "test_loss, test_accuracy = evaluate(model, testloader, criterion)\n",
        "print(f'test_loss: {test_loss}')\n",
        "print(f'test accuracy: {test_accuracy}')"
      ],
      "metadata": {
        "colab": {
          "base_uri": "https://localhost:8080/"
        },
        "id": "ZJHPoe8QQQGX",
        "outputId": "75ce4778-7b58-4388-c2c6-44388e0e79df"
      },
      "execution_count": null,
      "outputs": [
        {
          "output_type": "stream",
          "name": "stdout",
          "text": [
            "test_loss: 2.3588876724243164\n",
            "test accuracy: 8.84\n"
          ]
        }
      ]
    },
    {
      "cell_type": "markdown",
      "source": [
        "### Train"
      ],
      "metadata": {
        "id": "2nCVlEWSQUqb"
      }
    },
    {
      "cell_type": "code",
      "source": [
        "# some parameters\n",
        "train_losses = []\n",
        "train_accuracies = []\n",
        "test_losses = []\n",
        "test_accuracies = []\n",
        "max_epoch = 100"
      ],
      "metadata": {
        "id": "ukuwMUqIQSSh"
      },
      "execution_count": null,
      "outputs": []
    },
    {
      "cell_type": "code",
      "source": [
        "# Train\n",
        "for epoch in range(max_epoch):\n",
        "  running_loss = 0.0\n",
        "  running_correct = 0\n",
        "  total = 0\n",
        "\n",
        "  for i, (inputs, labels) in enumerate(trainloader, 0):\n",
        "    # Move inputs and labels to the device\n",
        "    inputs, labels = inputs.to(device), labels.to(device)\n",
        "\n",
        "    # Zero the parameter gradients\n",
        "    optimizer.zero_grad()\n",
        "\n",
        "    # Forward pass\n",
        "    outputs = model(inputs)\n",
        "    loss = criterion(outputs, labels)\n",
        "    running_loss += loss\n",
        "\n",
        "    # Determine class prediction and track accuracy\n",
        "    _, predicted = torch.max(outputs.data, 1)\n",
        "    total += labels.size(0)\n",
        "    running_correct += (predicted == labels).sum().item()\n",
        "\n",
        "    # Backward and optimization\n",
        "    loss.backward()\n",
        "    optimizer.step()\n",
        "\n",
        "  epoch_accuracy = 100 * running_correct / total\n",
        "  epoch_loss = running_loss / (i+1)\n",
        "  test_loss, test_accuracy = evaluate(model, testloader, criterion)\n",
        "  print(f\"Epoch [{epoch + 1}/{max_epoch}, Loss: {epoch_loss:.4f}, Accuracy: {epoch_accuracy:.2f}%, Test Loss: {test_loss:.4f}, Test Accuracy: {test_accuracy:.2f}%]\")\n",
        "\n",
        "  # Save for plot\n",
        "  train_losses.append(epoch_loss)\n",
        "  train_accuracies.append(epoch_accuracy)\n",
        "  test_losses.append(test_loss)\n",
        "  test_accuracies.append(test_accuracy)"
      ],
      "metadata": {
        "colab": {
          "base_uri": "https://localhost:8080/"
        },
        "id": "ouD7R7m9QVh_",
        "outputId": "5b67686f-4bec-4744-9892-92b0040114f2"
      },
      "execution_count": null,
      "outputs": [
        {
          "output_type": "stream",
          "name": "stdout",
          "text": [
            "Epoch [1/100, Loss: 1.6595, Accuracy: 55.89%, Test Loss: 1.1992, Test Accuracy: 69.18%]\n",
            "Epoch [2/100, Loss: 1.0164, Accuracy: 71.63%, Test Loss: 0.9032, Test Accuracy: 72.58%]\n",
            "Epoch [3/100, Loss: 0.8282, Accuracy: 74.14%, Test Loss: 0.7867, Test Accuracy: 74.13%]\n",
            "Epoch [4/100, Loss: 0.7396, Accuracy: 75.78%, Test Loss: 0.7223, Test Accuracy: 75.62%]\n",
            "Epoch [5/100, Loss: 0.6860, Accuracy: 76.98%, Test Loss: 0.6804, Test Accuracy: 76.68%]\n",
            "Epoch [6/100, Loss: 0.6491, Accuracy: 77.92%, Test Loss: 0.6502, Test Accuracy: 77.39%]\n",
            "Epoch [7/100, Loss: 0.6214, Accuracy: 78.69%, Test Loss: 0.6275, Test Accuracy: 78.04%]\n",
            "Epoch [8/100, Loss: 0.5995, Accuracy: 79.33%, Test Loss: 0.6088, Test Accuracy: 78.58%]\n",
            "Epoch [9/100, Loss: 0.5825, Accuracy: 79.82%, Test Loss: 0.5939, Test Accuracy: 79.08%]\n",
            "Epoch [10/100, Loss: 0.5670, Accuracy: 80.29%, Test Loss: 0.5808, Test Accuracy: 79.52%]\n",
            "Epoch [11/100, Loss: 0.5541, Accuracy: 80.66%, Test Loss: 0.5694, Test Accuracy: 79.92%]\n",
            "Epoch [12/100, Loss: 0.5431, Accuracy: 81.05%, Test Loss: 0.5599, Test Accuracy: 80.35%]\n",
            "Epoch [13/100, Loss: 0.5330, Accuracy: 81.36%, Test Loss: 0.5521, Test Accuracy: 80.51%]\n",
            "Epoch [14/100, Loss: 0.5241, Accuracy: 81.66%, Test Loss: 0.5437, Test Accuracy: 80.84%]\n",
            "Epoch [15/100, Loss: 0.5166, Accuracy: 81.97%, Test Loss: 0.5365, Test Accuracy: 80.97%]\n",
            "Epoch [16/100, Loss: 0.5090, Accuracy: 82.21%, Test Loss: 0.5302, Test Accuracy: 81.08%]\n",
            "Epoch [17/100, Loss: 0.5024, Accuracy: 82.36%, Test Loss: 0.5247, Test Accuracy: 81.45%]\n",
            "Epoch [18/100, Loss: 0.4964, Accuracy: 82.65%, Test Loss: 0.5198, Test Accuracy: 81.59%]\n",
            "Epoch [19/100, Loss: 0.4909, Accuracy: 82.78%, Test Loss: 0.5146, Test Accuracy: 81.51%]\n",
            "Epoch [20/100, Loss: 0.4856, Accuracy: 82.95%, Test Loss: 0.5102, Test Accuracy: 81.70%]\n",
            "Epoch [21/100, Loss: 0.4804, Accuracy: 83.09%, Test Loss: 0.5060, Test Accuracy: 81.91%]\n",
            "Epoch [22/100, Loss: 0.4761, Accuracy: 83.26%, Test Loss: 0.5017, Test Accuracy: 82.06%]\n",
            "Epoch [23/100, Loss: 0.4719, Accuracy: 83.48%, Test Loss: 0.4981, Test Accuracy: 82.13%]\n",
            "Epoch [24/100, Loss: 0.4683, Accuracy: 83.54%, Test Loss: 0.4949, Test Accuracy: 82.32%]\n",
            "Epoch [25/100, Loss: 0.4640, Accuracy: 83.70%, Test Loss: 0.4925, Test Accuracy: 82.42%]\n",
            "Epoch [26/100, Loss: 0.4604, Accuracy: 83.83%, Test Loss: 0.4887, Test Accuracy: 82.40%]\n",
            "Epoch [27/100, Loss: 0.4570, Accuracy: 83.94%, Test Loss: 0.4860, Test Accuracy: 82.55%]\n",
            "Epoch [28/100, Loss: 0.4541, Accuracy: 84.06%, Test Loss: 0.4830, Test Accuracy: 82.65%]\n",
            "Epoch [29/100, Loss: 0.4509, Accuracy: 84.20%, Test Loss: 0.4799, Test Accuracy: 82.79%]\n",
            "Epoch [30/100, Loss: 0.4480, Accuracy: 84.30%, Test Loss: 0.4778, Test Accuracy: 82.91%]\n",
            "Epoch [31/100, Loss: 0.4449, Accuracy: 84.42%, Test Loss: 0.4753, Test Accuracy: 83.10%]\n",
            "Epoch [32/100, Loss: 0.4422, Accuracy: 84.53%, Test Loss: 0.4722, Test Accuracy: 83.22%]\n",
            "Epoch [33/100, Loss: 0.4400, Accuracy: 84.61%, Test Loss: 0.4709, Test Accuracy: 83.10%]\n",
            "Epoch [34/100, Loss: 0.4369, Accuracy: 84.71%, Test Loss: 0.4678, Test Accuracy: 83.18%]\n",
            "Epoch [35/100, Loss: 0.4348, Accuracy: 84.75%, Test Loss: 0.4659, Test Accuracy: 83.29%]\n",
            "Epoch [36/100, Loss: 0.4329, Accuracy: 84.88%, Test Loss: 0.4640, Test Accuracy: 83.29%]\n",
            "Epoch [37/100, Loss: 0.4301, Accuracy: 84.97%, Test Loss: 0.4618, Test Accuracy: 83.33%]\n",
            "Epoch [38/100, Loss: 0.4285, Accuracy: 85.08%, Test Loss: 0.4611, Test Accuracy: 83.38%]\n",
            "Epoch [39/100, Loss: 0.4262, Accuracy: 85.03%, Test Loss: 0.4582, Test Accuracy: 83.52%]\n",
            "Epoch [40/100, Loss: 0.4240, Accuracy: 85.21%, Test Loss: 0.4564, Test Accuracy: 83.57%]\n",
            "Epoch [41/100, Loss: 0.4217, Accuracy: 85.27%, Test Loss: 0.4550, Test Accuracy: 83.59%]\n",
            "Epoch [42/100, Loss: 0.4199, Accuracy: 85.29%, Test Loss: 0.4535, Test Accuracy: 83.64%]\n",
            "Epoch [43/100, Loss: 0.4183, Accuracy: 85.33%, Test Loss: 0.4513, Test Accuracy: 83.92%]\n",
            "Epoch [44/100, Loss: 0.4164, Accuracy: 85.42%, Test Loss: 0.4511, Test Accuracy: 83.86%]\n",
            "Epoch [45/100, Loss: 0.4148, Accuracy: 85.47%, Test Loss: 0.4490, Test Accuracy: 83.84%]\n",
            "Epoch [46/100, Loss: 0.4131, Accuracy: 85.54%, Test Loss: 0.4471, Test Accuracy: 84.02%]\n",
            "Epoch [47/100, Loss: 0.4114, Accuracy: 85.60%, Test Loss: 0.4457, Test Accuracy: 83.99%]\n",
            "Epoch [48/100, Loss: 0.4101, Accuracy: 85.62%, Test Loss: 0.4444, Test Accuracy: 84.03%]\n",
            "Epoch [49/100, Loss: 0.4085, Accuracy: 85.69%, Test Loss: 0.4428, Test Accuracy: 84.25%]\n",
            "Epoch [50/100, Loss: 0.4064, Accuracy: 85.74%, Test Loss: 0.4415, Test Accuracy: 84.23%]\n",
            "Epoch [51/100, Loss: 0.4051, Accuracy: 85.77%, Test Loss: 0.4406, Test Accuracy: 84.17%]\n",
            "Epoch [52/100, Loss: 0.4039, Accuracy: 85.85%, Test Loss: 0.4394, Test Accuracy: 84.22%]\n",
            "Epoch [53/100, Loss: 0.4023, Accuracy: 85.93%, Test Loss: 0.4379, Test Accuracy: 84.30%]\n",
            "Epoch [54/100, Loss: 0.4007, Accuracy: 85.99%, Test Loss: 0.4367, Test Accuracy: 84.32%]\n",
            "Epoch [55/100, Loss: 0.3998, Accuracy: 85.98%, Test Loss: 0.4353, Test Accuracy: 84.42%]\n",
            "Epoch [56/100, Loss: 0.3981, Accuracy: 86.07%, Test Loss: 0.4342, Test Accuracy: 84.48%]\n",
            "Epoch [57/100, Loss: 0.3965, Accuracy: 86.11%, Test Loss: 0.4335, Test Accuracy: 84.48%]\n",
            "Epoch [58/100, Loss: 0.3953, Accuracy: 86.12%, Test Loss: 0.4322, Test Accuracy: 84.42%]\n",
            "Epoch [59/100, Loss: 0.3942, Accuracy: 86.15%, Test Loss: 0.4312, Test Accuracy: 84.49%]\n",
            "Epoch [60/100, Loss: 0.3926, Accuracy: 86.22%, Test Loss: 0.4310, Test Accuracy: 84.48%]\n",
            "Epoch [61/100, Loss: 0.3917, Accuracy: 86.28%, Test Loss: 0.4294, Test Accuracy: 84.50%]\n",
            "Epoch [62/100, Loss: 0.3901, Accuracy: 86.26%, Test Loss: 0.4278, Test Accuracy: 84.67%]\n",
            "Epoch [63/100, Loss: 0.3890, Accuracy: 86.38%, Test Loss: 0.4269, Test Accuracy: 84.54%]\n",
            "Epoch [64/100, Loss: 0.3881, Accuracy: 86.42%, Test Loss: 0.4264, Test Accuracy: 84.57%]\n",
            "Epoch [65/100, Loss: 0.3866, Accuracy: 86.45%, Test Loss: 0.4261, Test Accuracy: 84.58%]\n",
            "Epoch [66/100, Loss: 0.3857, Accuracy: 86.46%, Test Loss: 0.4248, Test Accuracy: 84.70%]\n",
            "Epoch [67/100, Loss: 0.3846, Accuracy: 86.53%, Test Loss: 0.4233, Test Accuracy: 84.81%]\n",
            "Epoch [68/100, Loss: 0.3837, Accuracy: 86.58%, Test Loss: 0.4222, Test Accuracy: 84.86%]\n",
            "Epoch [69/100, Loss: 0.3825, Accuracy: 86.62%, Test Loss: 0.4217, Test Accuracy: 84.89%]\n",
            "Epoch [70/100, Loss: 0.3816, Accuracy: 86.65%, Test Loss: 0.4205, Test Accuracy: 84.82%]\n",
            "Epoch [71/100, Loss: 0.3805, Accuracy: 86.70%, Test Loss: 0.4200, Test Accuracy: 84.92%]\n",
            "Epoch [72/100, Loss: 0.3794, Accuracy: 86.72%, Test Loss: 0.4191, Test Accuracy: 84.88%]\n",
            "Epoch [73/100, Loss: 0.3787, Accuracy: 86.77%, Test Loss: 0.4181, Test Accuracy: 85.00%]\n",
            "Epoch [74/100, Loss: 0.3772, Accuracy: 86.81%, Test Loss: 0.4172, Test Accuracy: 84.96%]\n",
            "Epoch [75/100, Loss: 0.3764, Accuracy: 86.78%, Test Loss: 0.4163, Test Accuracy: 85.14%]\n",
            "Epoch [76/100, Loss: 0.3752, Accuracy: 86.86%, Test Loss: 0.4156, Test Accuracy: 85.20%]\n",
            "Epoch [77/100, Loss: 0.3744, Accuracy: 86.83%, Test Loss: 0.4150, Test Accuracy: 85.15%]\n",
            "Epoch [78/100, Loss: 0.3736, Accuracy: 86.90%, Test Loss: 0.4140, Test Accuracy: 85.11%]\n",
            "Epoch [79/100, Loss: 0.3726, Accuracy: 86.96%, Test Loss: 0.4138, Test Accuracy: 85.13%]\n",
            "Epoch [80/100, Loss: 0.3717, Accuracy: 86.92%, Test Loss: 0.4124, Test Accuracy: 85.16%]\n",
            "Epoch [81/100, Loss: 0.3706, Accuracy: 86.99%, Test Loss: 0.4120, Test Accuracy: 85.17%]\n",
            "Epoch [82/100, Loss: 0.3703, Accuracy: 87.03%, Test Loss: 0.4116, Test Accuracy: 85.16%]\n",
            "Epoch [83/100, Loss: 0.3693, Accuracy: 87.05%, Test Loss: 0.4104, Test Accuracy: 85.24%]\n",
            "Epoch [84/100, Loss: 0.3679, Accuracy: 87.08%, Test Loss: 0.4102, Test Accuracy: 85.14%]\n",
            "Epoch [85/100, Loss: 0.3678, Accuracy: 87.13%, Test Loss: 0.4093, Test Accuracy: 85.25%]\n",
            "Epoch [86/100, Loss: 0.3666, Accuracy: 87.16%, Test Loss: 0.4086, Test Accuracy: 85.22%]\n",
            "Epoch [87/100, Loss: 0.3653, Accuracy: 87.16%, Test Loss: 0.4077, Test Accuracy: 85.33%]\n",
            "Epoch [88/100, Loss: 0.3647, Accuracy: 87.23%, Test Loss: 0.4072, Test Accuracy: 85.17%]\n",
            "Epoch [89/100, Loss: 0.3642, Accuracy: 87.20%, Test Loss: 0.4062, Test Accuracy: 85.43%]\n",
            "Epoch [90/100, Loss: 0.3628, Accuracy: 87.26%, Test Loss: 0.4062, Test Accuracy: 85.35%]\n",
            "Epoch [91/100, Loss: 0.3626, Accuracy: 87.27%, Test Loss: 0.4051, Test Accuracy: 85.40%]\n",
            "Epoch [92/100, Loss: 0.3611, Accuracy: 87.34%, Test Loss: 0.4044, Test Accuracy: 85.40%]\n",
            "Epoch [93/100, Loss: 0.3607, Accuracy: 87.30%, Test Loss: 0.4044, Test Accuracy: 85.39%]\n",
            "Epoch [94/100, Loss: 0.3597, Accuracy: 87.34%, Test Loss: 0.4040, Test Accuracy: 85.61%]\n",
            "Epoch [95/100, Loss: 0.3593, Accuracy: 87.41%, Test Loss: 0.4027, Test Accuracy: 85.58%]\n",
            "Epoch [96/100, Loss: 0.3584, Accuracy: 87.44%, Test Loss: 0.4022, Test Accuracy: 85.49%]\n",
            "Epoch [97/100, Loss: 0.3578, Accuracy: 87.45%, Test Loss: 0.4012, Test Accuracy: 85.47%]\n",
            "Epoch [98/100, Loss: 0.3564, Accuracy: 87.47%, Test Loss: 0.4008, Test Accuracy: 85.53%]\n",
            "Epoch [99/100, Loss: 0.3564, Accuracy: 87.51%, Test Loss: 0.4001, Test Accuracy: 85.57%]\n",
            "Epoch [100/100, Loss: 0.3551, Accuracy: 87.45%, Test Loss: 0.3996, Test Accuracy: 85.60%]\n"
          ]
        }
      ]
    },
    {
      "cell_type": "code",
      "source": [
        "import matplotlib.pyplot as plt\n",
        "\n",
        "train_losses_cpu = [loss.cpu().detach().numpy() for loss in train_losses]\n",
        "test_losses_cpu = [loss.cpu().detach().numpy() for loss in test_losses]\n",
        "\n",
        "plt.plot(train_losses_cpu, label='train_losses')  # Plot using the NumPy arrays\n",
        "plt.plot(test_losses_cpu, label='test_losses')\n",
        "plt.legend()\n",
        "plt.show()"
      ],
      "metadata": {
        "colab": {
          "base_uri": "https://localhost:8080/",
          "height": 430
        },
        "id": "4jCxzr7tRteE",
        "outputId": "1d107af3-77c1-4c7d-a780-6888070602a5"
      },
      "execution_count": null,
      "outputs": [
        {
          "output_type": "display_data",
          "data": {
            "text/plain": [
              "<Figure size 640x480 with 1 Axes>"
            ],
            "image/png": "[encoded data removed]"
          },
          "metadata": {}
        }
      ]
    },
    {
      "cell_type": "code",
      "source": [
        "import matplotlib.pyplot as plt\n",
        "\n",
        "\n",
        "plt.plot(train_accuracies, label='train_accuracy')\n",
        "plt.plot(test_accuracies, label='test_accuracy')\n",
        "plt.legend()"
      ],
      "metadata": {
        "colab": {
          "base_uri": "https://localhost:8080/",
          "height": 447
        },
        "id": "CH6n0FBSRvnv",
        "outputId": "c8c93af4-7f0c-4baa-ff1a-305da1f7968e"
      },
      "execution_count": null,
      "outputs": [
        {
          "output_type": "execute_result",
          "data": {
            "text/plain": [
              "<matplotlib.legend.Legend at 0x788f9b74e9b0>"
            ]
          },
          "metadata": {},
          "execution_count": 15
        },
        {
          "output_type": "display_data",
          "data": {
            "text/plain": [
              "<Figure size 640x480 with 1 Axes>"
            ],
            "image/png": "[encoded data removed]"
          },
          "metadata": {}
        }
      ]
    }
  ]
}