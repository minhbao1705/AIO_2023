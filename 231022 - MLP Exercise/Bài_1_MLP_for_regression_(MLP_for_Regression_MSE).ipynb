{
  "nbformat": 4,
  "nbformat_minor": 0,
  "metadata": {
    "colab": {
      "provenance": []
    },
    "kernelspec": {
      "name": "python3",
      "display_name": "Python 3"
    },
    "language_info": {
      "name": "python"
    }
  },
  "cells": [
    {
      "cell_type": "code",
      "execution_count": null,
      "metadata": {
        "colab": {
          "base_uri": "https://localhost:8080/"
        },
        "id": "1huPW5z0kf8T",
        "outputId": "c7c863bb-cc1c-40f8-8a53-200d680699b3"
      },
      "outputs": [
        {
          "output_type": "stream",
          "name": "stdout",
          "text": [
            "/usr/local/lib/python3.11/dist-packages/gdown/__main__.py:140: FutureWarning: Option `--id` was deprecated in version 4.3.1 and will be removed in 5.0. You don't need to pass it anymore to use a file ID.\n",
            "  warnings.warn(\n",
            "Downloading...\n",
            "From: https://drive.google.com/uc?id=1fB9P1Ha1ofQiYWU9wkLAxDZTbtp3Gfqz\n",
            "To: /content/Auto_MPG_data.csv\n",
            "100% 15.4k/15.4k [00:00<00:00, 27.4MB/s]\n"
          ]
        }
      ],
      "source": [
        "!gdown --id 1fB9P1Ha1ofQiYWU9wkLAxDZTbtp3Gfqz"
      ]
    },
    {
      "cell_type": "code",
      "source": [
        "import numpy as np\n",
        "import pandas as pd\n",
        "import matplotlib.pyplot as plt\n",
        "import torch\n",
        "from torch import nn\n",
        "import torch.optim as optim\n",
        "from torch.utils.data import Dataset, DataLoader\n",
        "\n",
        "device = torch.device('cuda:0' if torch.cuda.is_available() else 'cpu')\n",
        "torch.manual_seed(42)"
      ],
      "metadata": {
        "colab": {
          "base_uri": "https://localhost:8080/"
        },
        "id": "LtpSwfCdkhgo",
        "outputId": "86b2be99-b978-416a-eed2-de6fb6728b0c"
      },
      "execution_count": null,
      "outputs": [
        {
          "output_type": "execute_result",
          "data": {
            "text/plain": [
              "<torch._C.Generator at 0x7b9335bd1030>"
            ]
          },
          "metadata": {},
          "execution_count": 2
        }
      ]
    },
    {
      "cell_type": "code",
      "source": [
        "dataset = pd.read_csv(\"/content/Auto_MPG_data.csv\")\n",
        "dataset.head()"
      ],
      "metadata": {
        "colab": {
          "base_uri": "https://localhost:8080/",
          "height": 206
        },
        "id": "t1xP5NWrliIq",
        "outputId": "41a66871-1d94-4c9e-cd3a-22b52120d615"
      },
      "execution_count": null,
      "outputs": [
        {
          "output_type": "execute_result",
          "data": {
            "text/plain": [
              "    MPG  Cylinders  Displacement  Horsepower  Weight  Acceleration  \\\n",
              "0  18.0          8         307.0       130.0  3504.0          12.0   \n",
              "1  15.0          8         350.0       165.0  3693.0          11.5   \n",
              "2  18.0          8         318.0       150.0  3436.0          11.0   \n",
              "3  16.0          8         304.0       150.0  3433.0          12.0   \n",
              "4  17.0          8         302.0       140.0  3449.0          10.5   \n",
              "\n",
              "   Model Year  Europe  Japan  USA  \n",
              "0          70       0      0    1  \n",
              "1          70       0      0    1  \n",
              "2          70       0      0    1  \n",
              "3          70       0      0    1  \n",
              "4          70       0      0    1  "
            ],
            "text/html": [
              "\n",
              "  <div id=\"df-699d6975-70ff-45c0-9b04-dd7c85cc0091\" class=\"colab-df-container\">\n",
              "    <div>\n",
              "<style scoped>\n",
              "    .dataframe tbody tr th:only-of-type {\n",
              "        vertical-align: middle;\n",
              "    }\n",
              "\n",
              "    .dataframe tbody tr th {\n",
              "        vertical-align: top;\n",
              "    }\n",
              "\n",
              "    .dataframe thead th {\n",
              "        text-align: right;\n",
              "    }\n",
              "</style>\n",
              "<table border=\"1\" class=\"dataframe\">\n",
              "  <thead>\n",
              "    <tr style=\"text-align: right;\">\n",
              "      <th></th>\n",
              "      <th>MPG</th>\n",
              "      <th>Cylinders</th>\n",
              "      <th>Displacement</th>\n",
              "      <th>Horsepower</th>\n",
              "      <th>Weight</th>\n",
              "      <th>Acceleration</th>\n",
              "      <th>Model Year</th>\n",
              "      <th>Europe</th>\n",
              "      <th>Japan</th>\n",
              "      <th>USA</th>\n",
              "    </tr>\n",
              "  </thead>\n",
              "  <tbody>\n",
              "    <tr>\n",
              "      <th>0</th>\n",
              "      <td>18.0</td>\n",
              "      <td>8</td>\n",
              "      <td>307.0</td>\n",
              "      <td>130.0</td>\n",
              "      <td>3504.0</td>\n",
              "      <td>12.0</td>\n",
              "      <td>70</td>\n",
              "      <td>0</td>\n",
              "      <td>0</td>\n",
              "      <td>1</td>\n",
              "    </tr>\n",
              "    <tr>\n",
              "      <th>1</th>\n",
              "      <td>15.0</td>\n",
              "      <td>8</td>\n",
              "      <td>350.0</td>\n",
              "      <td>165.0</td>\n",
              "      <td>3693.0</td>\n",
              "      <td>11.5</td>\n",
              "      <td>70</td>\n",
              "      <td>0</td>\n",
              "      <td>0</td>\n",
              "      <td>1</td>\n",
              "    </tr>\n",
              "    <tr>\n",
              "      <th>2</th>\n",
              "      <td>18.0</td>\n",
              "      <td>8</td>\n",
              "      <td>318.0</td>\n",
              "      <td>150.0</td>\n",
              "      <td>3436.0</td>\n",
              "      <td>11.0</td>\n",
              "      <td>70</td>\n",
              "      <td>0</td>\n",
              "      <td>0</td>\n",
              "      <td>1</td>\n",
              "    </tr>\n",
              "    <tr>\n",
              "      <th>3</th>\n",
              "      <td>16.0</td>\n",
              "      <td>8</td>\n",
              "      <td>304.0</td>\n",
              "      <td>150.0</td>\n",
              "      <td>3433.0</td>\n",
              "      <td>12.0</td>\n",
              "      <td>70</td>\n",
              "      <td>0</td>\n",
              "      <td>0</td>\n",
              "      <td>1</td>\n",
              "    </tr>\n",
              "    <tr>\n",
              "      <th>4</th>\n",
              "      <td>17.0</td>\n",
              "      <td>8</td>\n",
              "      <td>302.0</td>\n",
              "      <td>140.0</td>\n",
              "      <td>3449.0</td>\n",
              "      <td>10.5</td>\n",
              "      <td>70</td>\n",
              "      <td>0</td>\n",
              "      <td>0</td>\n",
              "      <td>1</td>\n",
              "    </tr>\n",
              "  </tbody>\n",
              "</table>\n",
              "</div>\n",
              "    <div class=\"colab-df-buttons\">\n",
              "\n",
              "  <div class=\"colab-df-container\">\n",
              "    <button class=\"colab-df-convert\" onclick=\"convertToInteractive('df-699d6975-70ff-45c0-9b04-dd7c85cc0091')\"\n",
              "            title=\"Convert this dataframe to an interactive table.\"\n",
              "            style=\"display:none;\">\n",
              "\n",
              "  <svg xmlns=\"http://www.w3.org/2000/svg\" height=\"24px\" viewBox=\"0 -960 960 960\">\n",
              "    <path d=\"M120-120v-720h720v720H120Zm60-500h600v-160H180v160Zm220 220h160v-160H400v160Zm0 220h160v-160H400v160ZM180-400h160v-160H180v160Zm440 0h160v-160H620v160ZM180-180h160v-160H180v160Zm440 0h160v-160H620v160Z\"/>\n",
              "  </svg>\n",
              "    </button>\n",
              "\n",
              "  <style>\n",
              "    .colab-df-container {\n",
              "      display:flex;\n",
              "      gap: 12px;\n",
              "    }\n",
              "\n",
              "    .colab-df-convert {\n",
              "      background-color: #E8F0FE;\n",
              "      border: none;\n",
              "      border-radius: 50%;\n",
              "      cursor: pointer;\n",
              "      display: none;\n",
              "      fill: #1967D2;\n",
              "      height: 32px;\n",
              "      padding: 0 0 0 0;\n",
              "      width: 32px;\n",
              "    }\n",
              "\n",
              "    .colab-df-convert:hover {\n",
              "      background-color: #E2EBFA;\n",
              "      box-shadow: 0px 1px 2px rgba(60, 64, 67, 0.3), 0px 1px 3px 1px rgba(60, 64, 67, 0.15);\n",
              "      fill: #174EA6;\n",
              "    }\n",
              "\n",
              "    .colab-df-buttons div {\n",
              "      margin-bottom: 4px;\n",
              "    }\n",
              "\n",
              "    [theme=dark] .colab-df-convert {\n",
              "      background-color: #3B4455;\n",
              "      fill: #D2E3FC;\n",
              "    }\n",
              "\n",
              "    [theme=dark] .colab-df-convert:hover {\n",
              "      background-color: #434B5C;\n",
              "      box-shadow: 0px 1px 3px 1px rgba(0, 0, 0, 0.15);\n",
              "      filter: drop-shadow(0px 1px 2px rgba(0, 0, 0, 0.3));\n",
              "      fill: #FFFFFF;\n",
              "    }\n",
              "  </style>\n",
              "\n",
              "    <script>\n",
              "      const buttonEl =\n",
              "        document.querySelector('#df-699d6975-70ff-45c0-9b04-dd7c85cc0091 button.colab-df-convert');\n",
              "      buttonEl.style.display =\n",
              "        google.colab.kernel.accessAllowed ? 'block' : 'none';\n",
              "\n",
              "      async function convertToInteractive(key) {\n",
              "        const element = document.querySelector('#df-699d6975-70ff-45c0-9b04-dd7c85cc0091');\n",
              "        const dataTable =\n",
              "          await google.colab.kernel.invokeFunction('convertToInteractive',\n",
              "                                                    [key], {});\n",
              "        if (!dataTable) return;\n",
              "\n",
              "        const docLinkHtml = 'Like what you see? Visit the ' +\n",
              "          '<a target=\"_blank\" href=https://colab.research.google.com/notebooks/data_table.ipynb>data table notebook</a>'\n",
              "          + ' to learn more about interactive tables.';\n",
              "        element.innerHTML = '';\n",
              "        dataTable['output_type'] = 'display_data';\n",
              "        await google.colab.output.renderOutput(dataTable, element);\n",
              "        const docLink = document.createElement('div');\n",
              "        docLink.innerHTML = docLinkHtml;\n",
              "        element.appendChild(docLink);\n",
              "      }\n",
              "    </script>\n",
              "  </div>\n",
              "\n",
              "\n",
              "<div id=\"df-07d7f654-dd36-4c78-b799-d8c74aa61c4b\">\n",
              "  <button class=\"colab-df-quickchart\" onclick=\"quickchart('df-07d7f654-dd36-4c78-b799-d8c74aa61c4b')\"\n",
              "            title=\"Suggest charts\"\n",
              "            style=\"display:none;\">\n",
              "\n",
              "<svg xmlns=\"http://www.w3.org/2000/svg\" height=\"24px\"viewBox=\"0 0 24 24\"\n",
              "     width=\"24px\">\n",
              "    <g>\n",
              "        <path d=\"M19 3H5c-1.1 0-2 .9-2 2v14c0 1.1.9 2 2 2h14c1.1 0 2-.9 2-2V5c0-1.1-.9-2-2-2zM9 17H7v-7h2v7zm4 0h-2V7h2v10zm4 0h-2v-4h2v4z\"/>\n",
              "    </g>\n",
              "</svg>\n",
              "  </button>\n",
              "\n",
              "<style>\n",
              "  .colab-df-quickchart {\n",
              "      --bg-color: #E8F0FE;\n",
              "      --fill-color: #1967D2;\n",
              "      --hover-bg-color: #E2EBFA;\n",
              "      --hover-fill-color: #174EA6;\n",
              "      --disabled-fill-color: #AAA;\n",
              "      --disabled-bg-color: #DDD;\n",
              "  }\n",
              "\n",
              "  [theme=dark] .colab-df-quickchart {\n",
              "      --bg-color: #3B4455;\n",
              "      --fill-color: #D2E3FC;\n",
              "      --hover-bg-color: #434B5C;\n",
              "      --hover-fill-color: #FFFFFF;\n",
              "      --disabled-bg-color: #3B4455;\n",
              "      --disabled-fill-color: #666;\n",
              "  }\n",
              "\n",
              "  .colab-df-quickchart {\n",
              "    background-color: var(--bg-color);\n",
              "    border: none;\n",
              "    border-radius: 50%;\n",
              "    cursor: pointer;\n",
              "    display: none;\n",
              "    fill: var(--fill-color);\n",
              "    height: 32px;\n",
              "    padding: 0;\n",
              "    width: 32px;\n",
              "  }\n",
              "\n",
              "  .colab-df-quickchart:hover {\n",
              "    background-color: var(--hover-bg-color);\n",
              "    box-shadow: 0 1px 2px rgba(60, 64, 67, 0.3), 0 1px 3px 1px rgba(60, 64, 67, 0.15);\n",
              "    fill: var(--button-hover-fill-color);\n",
              "  }\n",
              "\n",
              "  .colab-df-quickchart-complete:disabled,\n",
              "  .colab-df-quickchart-complete:disabled:hover {\n",
              "    background-color: var(--disabled-bg-color);\n",
              "    fill: var(--disabled-fill-color);\n",
              "    box-shadow: none;\n",
              "  }\n",
              "\n",
              "  .colab-df-spinner {\n",
              "    border: 2px solid var(--fill-color);\n",
              "    border-color: transparent;\n",
              "    border-bottom-color: var(--fill-color);\n",
              "    animation:\n",
              "      spin 1s steps(1) infinite;\n",
              "  }\n",
              "\n",
              "  @keyframes spin {\n",
              "    0% {\n",
              "      border-color: transparent;\n",
              "      border-bottom-color: var(--fill-color);\n",
              "      border-left-color: var(--fill-color);\n",
              "    }\n",
              "    20% {\n",
              "      border-color: transparent;\n",
              "      border-left-color: var(--fill-color);\n",
              "      border-top-color: var(--fill-color);\n",
              "    }\n",
              "    30% {\n",
              "      border-color: transparent;\n",
              "      border-left-color: var(--fill-color);\n",
              "      border-top-color: var(--fill-color);\n",
              "      border-right-color: var(--fill-color);\n",
              "    }\n",
              "    40% {\n",
              "      border-color: transparent;\n",
              "      border-right-color: var(--fill-color);\n",
              "      border-top-color: var(--fill-color);\n",
              "    }\n",
              "    60% {\n",
              "      border-color: transparent;\n",
              "      border-right-color: var(--fill-color);\n",
              "    }\n",
              "    80% {\n",
              "      border-color: transparent;\n",
              "      border-right-color: var(--fill-color);\n",
              "      border-bottom-color: var(--fill-color);\n",
              "    }\n",
              "    90% {\n",
              "      border-color: transparent;\n",
              "      border-bottom-color: var(--fill-color);\n",
              "    }\n",
              "  }\n",
              "</style>\n",
              "\n",
              "  <script>\n",
              "    async function quickchart(key) {\n",
              "      const quickchartButtonEl =\n",
              "        document.querySelector('#' + key + ' button');\n",
              "      quickchartButtonEl.disabled = true;  // To prevent multiple clicks.\n",
              "      quickchartButtonEl.classList.add('colab-df-spinner');\n",
              "      try {\n",
              "        const charts = await google.colab.kernel.invokeFunction(\n",
              "            'suggestCharts', [key], {});\n",
              "      } catch (error) {\n",
              "        console.error('Error during call to suggestCharts:', error);\n",
              "      }\n",
              "      quickchartButtonEl.classList.remove('colab-df-spinner');\n",
              "      quickchartButtonEl.classList.add('colab-df-quickchart-complete');\n",
              "    }\n",
              "    (() => {\n",
              "      let quickchartButtonEl =\n",
              "        document.querySelector('#df-07d7f654-dd36-4c78-b799-d8c74aa61c4b button');\n",
              "      quickchartButtonEl.style.display =\n",
              "        google.colab.kernel.accessAllowed ? 'block' : 'none';\n",
              "    })();\n",
              "  </script>\n",
              "</div>\n",
              "\n",
              "    </div>\n",
              "  </div>\n"
            ],
            "application/vnd.google.colaboratory.intrinsic+json": {
              "type": "dataframe",
              "variable_name": "dataset",
              "summary": "{\n  \"name\": \"dataset\",\n  \"rows\": 392,\n  \"fields\": [\n    {\n      \"column\": \"MPG\",\n      \"properties\": {\n        \"dtype\": \"number\",\n        \"std\": 7.805007486571799,\n        \"min\": 9.0,\n        \"max\": 46.6,\n        \"num_unique_values\": 127,\n        \"samples\": [\n          17.5,\n          35.1,\n          28.8\n        ],\n        \"semantic_type\": \"\",\n        \"description\": \"\"\n      }\n    },\n    {\n      \"column\": \"Cylinders\",\n      \"properties\": {\n        \"dtype\": \"number\",\n        \"std\": 1,\n        \"min\": 3,\n        \"max\": 8,\n        \"num_unique_values\": 5,\n        \"samples\": [\n          4,\n          5,\n          6\n        ],\n        \"semantic_type\": \"\",\n        \"description\": \"\"\n      }\n    },\n    {\n      \"column\": \"Displacement\",\n      \"properties\": {\n        \"dtype\": \"number\",\n        \"std\": 104.64400390890465,\n        \"min\": 68.0,\n        \"max\": 455.0,\n        \"num_unique_values\": 81,\n        \"samples\": [\n          116.0,\n          307.0,\n          360.0\n        ],\n        \"semantic_type\": \"\",\n        \"description\": \"\"\n      }\n    },\n    {\n      \"column\": \"Horsepower\",\n      \"properties\": {\n        \"dtype\": \"number\",\n        \"std\": 38.49115993282855,\n        \"min\": 46.0,\n        \"max\": 230.0,\n        \"num_unique_values\": 93,\n        \"samples\": [\n          92.0,\n          100.0,\n          52.0\n        ],\n        \"semantic_type\": \"\",\n        \"description\": \"\"\n      }\n    },\n    {\n      \"column\": \"Weight\",\n      \"properties\": {\n        \"dtype\": \"number\",\n        \"std\": 849.4025600429494,\n        \"min\": 1613.0,\n        \"max\": 5140.0,\n        \"num_unique_values\": 346,\n        \"samples\": [\n          2472.0,\n          3221.0,\n          2700.0\n        ],\n        \"semantic_type\": \"\",\n        \"description\": \"\"\n      }\n    },\n    {\n      \"column\": \"Acceleration\",\n      \"properties\": {\n        \"dtype\": \"number\",\n        \"std\": 2.7588641191880816,\n        \"min\": 8.0,\n        \"max\": 24.8,\n        \"num_unique_values\": 95,\n        \"samples\": [\n          14.7,\n          18.0,\n          14.3\n        ],\n        \"semantic_type\": \"\",\n        \"description\": \"\"\n      }\n    },\n    {\n      \"column\": \"Model Year\",\n      \"properties\": {\n        \"dtype\": \"number\",\n        \"std\": 3,\n        \"min\": 70,\n        \"max\": 82,\n        \"num_unique_values\": 13,\n        \"samples\": [\n          81,\n          79,\n          70\n        ],\n        \"semantic_type\": \"\",\n        \"description\": \"\"\n      }\n    },\n    {\n      \"column\": \"Europe\",\n      \"properties\": {\n        \"dtype\": \"number\",\n        \"std\": 0,\n        \"min\": 0,\n        \"max\": 1,\n        \"num_unique_values\": 2,\n        \"samples\": [\n          1,\n          0\n        ],\n        \"semantic_type\": \"\",\n        \"description\": \"\"\n      }\n    },\n    {\n      \"column\": \"Japan\",\n      \"properties\": {\n        \"dtype\": \"number\",\n        \"std\": 0,\n        \"min\": 0,\n        \"max\": 1,\n        \"num_unique_values\": 2,\n        \"samples\": [\n          1,\n          0\n        ],\n        \"semantic_type\": \"\",\n        \"description\": \"\"\n      }\n    },\n    {\n      \"column\": \"USA\",\n      \"properties\": {\n        \"dtype\": \"number\",\n        \"std\": 0,\n        \"min\": 0,\n        \"max\": 1,\n        \"num_unique_values\": 2,\n        \"samples\": [\n          0,\n          1\n        ],\n        \"semantic_type\": \"\",\n        \"description\": \"\"\n      }\n    }\n  ]\n}"
            }
          },
          "metadata": {},
          "execution_count": 4
        }
      ]
    },
    {
      "cell_type": "markdown",
      "source": [
        "## Tiền xử lý dữ liệu dạng table"
      ],
      "metadata": {
        "id": "XFXq0DO6mbB_"
      }
    },
    {
      "cell_type": "markdown",
      "source": [
        "### Lấy label và chia bộ dữ liệu train/val"
      ],
      "metadata": {
        "id": "DSIiC699mdW8"
      }
    },
    {
      "cell_type": "code",
      "source": [
        "train_dataset = dataset.sample(frac=0.8, random_state=0)\n",
        "val_dataset = dataset.drop(train_dataset.index)"
      ],
      "metadata": {
        "id": "sRERdKpUl2IZ"
      },
      "execution_count": null,
      "outputs": []
    },
    {
      "cell_type": "code",
      "source": [
        "X_train = train_dataset.copy()\n",
        "X_val = val_dataset.copy()\n",
        "\n",
        "y_train = X_train.pop('MPG')\n",
        "y_val = X_val.pop('MPG')\n",
        "\n",
        "X_train, y_train = torch.tensor(X_train.values, dtype=torch.float32), torch.tensor(y_train.values, dtype=torch.float32)\n",
        "X_val, y_val = torch.tensor(X_val.values, dtype=torch.float32), torch.tensor(y_val.values, dtype=torch.float32)"
      ],
      "metadata": {
        "id": "lgczbx02nAWr"
      },
      "execution_count": null,
      "outputs": []
    },
    {
      "cell_type": "markdown",
      "source": [
        "### Chuẩn hóa dữ liệu (Data Standardisation)"
      ],
      "metadata": {
        "id": "XARM0rKQoJMZ"
      }
    },
    {
      "cell_type": "code",
      "source": [
        "_MEAN = X_train.mean(axis=0)\n",
        "_STD = X_train.std(axis=0)\n",
        "\n",
        "X_train = (X_train - _MEAN) / _STD\n",
        "X_val = (X_val - _MEAN) / _STD"
      ],
      "metadata": {
        "id": "NBTarH9VnGl6"
      },
      "execution_count": null,
      "outputs": []
    },
    {
      "cell_type": "code",
      "source": [
        "class CustomDataset(Dataset):\n",
        "  # Khởi tạo tập dữ lệu với các features X và label y\n",
        "  def __init__(self, X, y):\n",
        "    self.X = X\n",
        "    self.y = y\n",
        "\n",
        "  # Trả về số lương sample trong data\n",
        "  def __len__(self):\n",
        "    return len(self.y)\n",
        "\n",
        "  # Cho phép truy cập vào data theo chỉ số idx, trả về các features và label cho một chỉ số idx cụ thể\n",
        "  def __getitem__(self, idx):\n",
        "    # print(idx)\n",
        "    return self.X[idx], self.y[idx]"
      ],
      "metadata": {
        "id": "hstT0GkKouFx"
      },
      "execution_count": null,
      "outputs": []
    },
    {
      "cell_type": "code",
      "source": [
        "train_dataset = CustomDataset(X_train, y_train)\n",
        "val_dataset = CustomDataset(X_val, y_val)\n",
        "train_loader = DataLoader(train_dataset, batch_size=32, shuffle=True)\n",
        "val_loader = DataLoader(val_dataset, batch_size=32)"
      ],
      "metadata": {
        "id": "XCwOc55IpHQO"
      },
      "execution_count": null,
      "outputs": []
    },
    {
      "cell_type": "markdown",
      "source": [
        "## Sử dụng Pytorch để  build, compile và train và evaluate model. Kết quả train và evaluation được thể hiện bằng hình ảnh bằng cách sử dụng matplotlib"
      ],
      "metadata": {
        "id": "RYrsWnHwp2dS"
      }
    },
    {
      "cell_type": "markdown",
      "source": [
        "### MLP for Regression - MSE"
      ],
      "metadata": {
        "id": "u-RpuSI7p8mG"
      }
    },
    {
      "cell_type": "code",
      "source": [
        "######################### YOUR CODE HERE #########################\n",
        "# Thiết kế model theo yêu cầu đề  bài\n",
        "# Hidden layer 1: Linear layer in_features = input_dims (9), out_features = hidden_dims (64),\n",
        "# activation = relu\n",
        "# Hidden layer 2: Linear layer in_features = hidden_dims (64), out_features = hidden_dims (64),\n",
        "# activation = relu\n",
        "# Output layer: Linear layer in_features = hidden_dims (64), out_features = output_dims (1),\n",
        "\n",
        "class MLP(nn.Module):\n",
        "  def __init__(self, input_dims, hidden_dims, output_dims):\n",
        "    super(MLP, self).__init__()\n",
        "    self.linear1 = nn.Linear(input_dims, hidden_dims)\n",
        "    self.linear2 = nn.Linear(hidden_dims, hidden_dims)\n",
        "    self.output = nn.Linear(hidden_dims, output_dims)\n",
        "    self.relu = nn.ReLU()\n",
        "\n",
        "  def forward(self, x):\n",
        "    x = self.linear1(x)\n",
        "    x = self.relu(x)\n",
        "    x = self.linear2(x)\n",
        "    x = self.relu(x)\n",
        "    out = self.output(x)\n",
        "    return out.squeeze(1)\n",
        "\n",
        "model = MLP(input_dims=9, hidden_dims=64, output_dims=1).to(device)\n",
        "criterion = nn.MSELoss()\n",
        "optimizer = optim.SGD(model.parameters(), lr=0.003)"
      ],
      "metadata": {
        "id": "Kpf24px7pzVp"
      },
      "execution_count": null,
      "outputs": []
    },
    {
      "cell_type": "code",
      "source": [
        "def r_squared(y_true, y_pred):\n",
        "  \"\"\"\n",
        "  Compute R^2 score\n",
        "  \"\"\"\n",
        "  y_true = torch.Tensor(y_true)\n",
        "  y_pred = torch.Tensor(y_pred)\n",
        "  mean_true = torch.mean(y_true)\n",
        "  ss_tot = torch.sum((y_true - mean_true) ** 2)\n",
        "  ss_res = torch.sum((y_true - y_pred) ** 2)\n",
        "  r2 = 1 - (ss_res / ss_tot)\n",
        "  return r2"
      ],
      "metadata": {
        "id": "_0IVaaqCtQgN"
      },
      "execution_count": null,
      "outputs": []
    },
    {
      "cell_type": "code",
      "source": [
        "num_epochs = 100\n",
        "train_losses = []\n",
        "val_losses = []\n",
        "train_r2 = []\n",
        "val_r2 = []\n",
        "\n",
        "for epoch in range(num_epochs):\n",
        "    model.train()\n",
        "    train_loss = 0.0\n",
        "    train_target = []\n",
        "    val_target = []\n",
        "    train_predict = []\n",
        "    val_predict = []\n",
        "    for X, y in train_loader:\n",
        "        X, y = X.to(device), y.to(device)\n",
        "        optimizer.zero_grad()\n",
        "        outputs = model(X)\n",
        "        train_predict.extend(outputs.tolist())\n",
        "        train_target.extend(y.tolist())\n",
        "        loss = criterion(outputs, y)\n",
        "        loss.backward()\n",
        "        optimizer.step()\n",
        "        train_loss += loss.item()\n",
        "    train_loss /= len(train_loader)\n",
        "    train_losses.append(train_loss)\n",
        "    train_r2.append(r_squared(train_target, train_predict))\n",
        "    model.eval()\n",
        "    val_loss = 0.0\n",
        "    with torch.no_grad():\n",
        "        for X, y in val_loader:\n",
        "            X, y = X.to(device), y.to(device)\n",
        "            outputs = model(X)\n",
        "            val_predict.extend(outputs.tolist())\n",
        "            val_target.extend(y.tolist())\n",
        "            loss = criterion(outputs, y)\n",
        "            val_loss += loss.item()\n",
        "    val_loss /= len(val_loader)\n",
        "    val_losses.append(val_loss)\n",
        "    val_r2.append(r_squared(val_target, val_predict))\n",
        "    print(f\"Epoch {epoch+1}/{num_epochs}, Train_Loss: {train_loss:.4f},  Validation Loss: {val_loss:.4f}\")"
      ],
      "metadata": {
        "colab": {
          "base_uri": "https://localhost:8080/"
        },
        "id": "ViAX246SuGYB",
        "outputId": "4fe4184a-b12d-471c-f175-58d9b76951e3"
      },
      "execution_count": null,
      "outputs": [
        {
          "output_type": "stream",
          "name": "stdout",
          "text": [
            "Epoch 1/100, Train_Loss: 349.4243,  Validation Loss: 27.1808\n",
            "Epoch 2/100, Train_Loss: 20.4971,  Validation Loss: 11.3844\n",
            "Epoch 3/100, Train_Loss: 17.7197,  Validation Loss: 9.4902\n",
            "Epoch 4/100, Train_Loss: 11.4268,  Validation Loss: 9.2070\n",
            "Epoch 5/100, Train_Loss: 9.7830,  Validation Loss: 8.9023\n",
            "Epoch 6/100, Train_Loss: 8.9946,  Validation Loss: 7.5636\n",
            "Epoch 7/100, Train_Loss: 10.5826,  Validation Loss: 17.1286\n",
            "Epoch 8/100, Train_Loss: 8.2227,  Validation Loss: 8.6566\n",
            "Epoch 9/100, Train_Loss: 8.3551,  Validation Loss: 7.6623\n",
            "Epoch 10/100, Train_Loss: 7.9830,  Validation Loss: 10.7803\n",
            "Epoch 11/100, Train_Loss: 8.2312,  Validation Loss: 7.1423\n",
            "Epoch 12/100, Train_Loss: 7.5095,  Validation Loss: 6.6594\n",
            "Epoch 13/100, Train_Loss: 8.2816,  Validation Loss: 13.2485\n",
            "Epoch 14/100, Train_Loss: 8.3010,  Validation Loss: 6.7308\n",
            "Epoch 15/100, Train_Loss: 7.6029,  Validation Loss: 7.9081\n",
            "Epoch 16/100, Train_Loss: 7.2687,  Validation Loss: 8.6492\n",
            "Epoch 17/100, Train_Loss: 7.6837,  Validation Loss: 7.2431\n",
            "Epoch 18/100, Train_Loss: 7.3784,  Validation Loss: 7.2843\n",
            "Epoch 19/100, Train_Loss: 7.1984,  Validation Loss: 7.4805\n",
            "Epoch 20/100, Train_Loss: 7.5472,  Validation Loss: 6.4318\n",
            "Epoch 21/100, Train_Loss: 7.5111,  Validation Loss: 6.9088\n",
            "Epoch 22/100, Train_Loss: 6.9157,  Validation Loss: 9.6964\n",
            "Epoch 23/100, Train_Loss: 8.0019,  Validation Loss: 6.9826\n",
            "Epoch 24/100, Train_Loss: 7.3860,  Validation Loss: 6.1288\n",
            "Epoch 25/100, Train_Loss: 6.7194,  Validation Loss: 7.4899\n",
            "Epoch 26/100, Train_Loss: 6.8052,  Validation Loss: 6.1910\n",
            "Epoch 27/100, Train_Loss: 6.9020,  Validation Loss: 6.2054\n",
            "Epoch 28/100, Train_Loss: 7.2435,  Validation Loss: 6.7105\n",
            "Epoch 29/100, Train_Loss: 7.2974,  Validation Loss: 6.0862\n",
            "Epoch 30/100, Train_Loss: 6.9319,  Validation Loss: 7.8279\n",
            "Epoch 31/100, Train_Loss: 6.7198,  Validation Loss: 6.1712\n",
            "Epoch 32/100, Train_Loss: 6.8944,  Validation Loss: 7.1724\n",
            "Epoch 33/100, Train_Loss: 6.7850,  Validation Loss: 5.9786\n",
            "Epoch 34/100, Train_Loss: 6.6805,  Validation Loss: 6.4848\n",
            "Epoch 35/100, Train_Loss: 7.2285,  Validation Loss: 5.8464\n",
            "Epoch 36/100, Train_Loss: 7.2773,  Validation Loss: 5.7258\n",
            "Epoch 37/100, Train_Loss: 7.0173,  Validation Loss: 6.9546\n",
            "Epoch 38/100, Train_Loss: 6.5270,  Validation Loss: 5.7755\n",
            "Epoch 39/100, Train_Loss: 6.6286,  Validation Loss: 6.5713\n",
            "Epoch 40/100, Train_Loss: 7.4075,  Validation Loss: 5.9460\n",
            "Epoch 41/100, Train_Loss: 6.4902,  Validation Loss: 8.0508\n",
            "Epoch 42/100, Train_Loss: 6.4026,  Validation Loss: 5.8084\n",
            "Epoch 43/100, Train_Loss: 7.2062,  Validation Loss: 6.7897\n",
            "Epoch 44/100, Train_Loss: 7.1531,  Validation Loss: 5.8417\n",
            "Epoch 45/100, Train_Loss: 6.5762,  Validation Loss: 16.8217\n",
            "Epoch 46/100, Train_Loss: 7.6441,  Validation Loss: 8.0755\n",
            "Epoch 47/100, Train_Loss: 6.8034,  Validation Loss: 5.5704\n",
            "Epoch 48/100, Train_Loss: 6.3794,  Validation Loss: 5.7367\n",
            "Epoch 49/100, Train_Loss: 8.3967,  Validation Loss: 7.7673\n",
            "Epoch 50/100, Train_Loss: 6.3452,  Validation Loss: 7.1699\n",
            "Epoch 51/100, Train_Loss: 6.2850,  Validation Loss: 7.2241\n",
            "Epoch 52/100, Train_Loss: 6.3490,  Validation Loss: 5.7615\n",
            "Epoch 53/100, Train_Loss: 6.6128,  Validation Loss: 6.2985\n",
            "Epoch 54/100, Train_Loss: 6.1437,  Validation Loss: 8.4011\n",
            "Epoch 55/100, Train_Loss: 6.6622,  Validation Loss: 6.1223\n",
            "Epoch 56/100, Train_Loss: 6.3275,  Validation Loss: 5.5941\n",
            "Epoch 57/100, Train_Loss: 6.5034,  Validation Loss: 6.0191\n",
            "Epoch 58/100, Train_Loss: 6.9173,  Validation Loss: 5.9438\n",
            "Epoch 59/100, Train_Loss: 6.9973,  Validation Loss: 8.0861\n",
            "Epoch 60/100, Train_Loss: 6.6516,  Validation Loss: 6.5939\n",
            "Epoch 61/100, Train_Loss: 6.6778,  Validation Loss: 5.6456\n",
            "Epoch 62/100, Train_Loss: 6.7643,  Validation Loss: 6.2331\n",
            "Epoch 63/100, Train_Loss: 6.0351,  Validation Loss: 6.2800\n",
            "Epoch 64/100, Train_Loss: 6.2659,  Validation Loss: 14.5397\n",
            "Epoch 65/100, Train_Loss: 6.7517,  Validation Loss: 7.2646\n",
            "Epoch 66/100, Train_Loss: 7.0318,  Validation Loss: 5.8521\n",
            "Epoch 67/100, Train_Loss: 6.3199,  Validation Loss: 9.2550\n",
            "Epoch 68/100, Train_Loss: 6.1413,  Validation Loss: 10.1161\n",
            "Epoch 69/100, Train_Loss: 6.0252,  Validation Loss: 7.3643\n",
            "Epoch 70/100, Train_Loss: 6.4632,  Validation Loss: 5.8776\n",
            "Epoch 71/100, Train_Loss: 6.1326,  Validation Loss: 5.7908\n",
            "Epoch 72/100, Train_Loss: 6.0410,  Validation Loss: 5.9556\n",
            "Epoch 73/100, Train_Loss: 6.6424,  Validation Loss: 5.4521\n",
            "Epoch 74/100, Train_Loss: 6.3843,  Validation Loss: 5.4785\n",
            "Epoch 75/100, Train_Loss: 6.8861,  Validation Loss: 5.4662\n",
            "Epoch 76/100, Train_Loss: 6.1419,  Validation Loss: 7.8212\n",
            "Epoch 77/100, Train_Loss: 6.1242,  Validation Loss: 6.0470\n",
            "Epoch 78/100, Train_Loss: 6.9195,  Validation Loss: 6.5094\n",
            "Epoch 79/100, Train_Loss: 6.7633,  Validation Loss: 5.3378\n",
            "Epoch 80/100, Train_Loss: 5.9727,  Validation Loss: 5.5555\n",
            "Epoch 81/100, Train_Loss: 9.0145,  Validation Loss: 7.5887\n",
            "Epoch 82/100, Train_Loss: 6.2180,  Validation Loss: 5.6513\n",
            "Epoch 83/100, Train_Loss: 6.0737,  Validation Loss: 5.9742\n",
            "Epoch 84/100, Train_Loss: 6.2611,  Validation Loss: 5.9982\n",
            "Epoch 85/100, Train_Loss: 6.9628,  Validation Loss: 9.1282\n",
            "Epoch 86/100, Train_Loss: 6.4672,  Validation Loss: 13.6351\n",
            "Epoch 87/100, Train_Loss: 6.9522,  Validation Loss: 8.4882\n",
            "Epoch 88/100, Train_Loss: 7.2785,  Validation Loss: 5.5587\n",
            "Epoch 89/100, Train_Loss: 6.5822,  Validation Loss: 6.3101\n",
            "Epoch 90/100, Train_Loss: 5.9547,  Validation Loss: 6.0234\n",
            "Epoch 91/100, Train_Loss: 7.3832,  Validation Loss: 5.9495\n",
            "Epoch 92/100, Train_Loss: 6.6797,  Validation Loss: 5.4659\n",
            "Epoch 93/100, Train_Loss: 6.3130,  Validation Loss: 5.3558\n",
            "Epoch 94/100, Train_Loss: 6.3637,  Validation Loss: 10.6596\n",
            "Epoch 95/100, Train_Loss: 6.2538,  Validation Loss: 5.8880\n",
            "Epoch 96/100, Train_Loss: 7.4679,  Validation Loss: 5.8823\n",
            "Epoch 97/100, Train_Loss: 6.2687,  Validation Loss: 5.2255\n",
            "Epoch 98/100, Train_Loss: 6.0578,  Validation Loss: 6.0870\n",
            "Epoch 99/100, Train_Loss: 6.2920,  Validation Loss: 9.9882\n",
            "Epoch 100/100, Train_Loss: 6.3267,  Validation Loss: 5.5186\n"
          ]
        }
      ]
    },
    {
      "cell_type": "code",
      "source": [
        "plt.plot(train_losses, label='loss')\n",
        "plt.plot(val_losses, label='val_loss')\n",
        "# plt.ylim([o, 40])\n",
        "plt.xlabel('Epoch')\n",
        "plt.ylabel('Error [MPG]')\n",
        "plt.legend()\n",
        "plt.grid(True)"
      ],
      "metadata": {
        "colab": {
          "base_uri": "https://localhost:8080/",
          "height": 449
        },
        "id": "GCRT6_4cuRQL",
        "outputId": "30979381-b577-4260-a682-798372401684"
      },
      "execution_count": null,
      "outputs": [
        {
          "output_type": "display_data",
          "data": {
            "text/plain": [
              "<Figure size 640x480 with 1 Axes>"
            ],
            "image/png": "[encoded data removed]"
          },
          "metadata": {}
        }
      ]
    },
    {
      "cell_type": "code",
      "source": [
        "plt.plot(train_r2, label='r2')\n",
        "plt.plot(val_r2, label='val_r2')\n",
        "# plt.ylim([o, 40])\n",
        "plt.xlabel('Epoch')\n",
        "plt.ylabel('Error [MPG]')\n",
        "plt.legend()\n",
        "plt.grid(True)"
      ],
      "metadata": {
        "colab": {
          "base_uri": "https://localhost:8080/",
          "height": 449
        },
        "id": "s3e_iPNVui11",
        "outputId": "339ac6ba-7d5a-4783-c708-5abf021a9bde"
      },
      "execution_count": null,
      "outputs": [
        {
          "output_type": "display_data",
          "data": {
            "text/plain": [
              "<Figure size 640x480 with 1 Axes>"
            ],
            "image/png": "[encoded data removed]"
          },
          "metadata": {}
        }
      ]
    }
  ]
}