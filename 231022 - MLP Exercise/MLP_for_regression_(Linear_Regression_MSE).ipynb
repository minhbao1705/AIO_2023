{
  "cells": [
    {
      "cell_type": "markdown",
      "metadata": {
        "id": "E4sS0PFnr2Nu"
      },
      "source": [
        "## Download data  "
      ]
    },
    {
      "cell_type": "code",
      "execution_count": 1,
      "metadata": {
        "colab": {
          "base_uri": "https://localhost:8080/"
        },
        "id": "EVKQJrh6qhh9",
        "outputId": "7901ba89-d041-46b5-b749-8108ab2b4876"
      },
      "outputs": [
        {
          "output_type": "stream",
          "name": "stdout",
          "text": [
            "/usr/local/lib/python3.11/dist-packages/gdown/__main__.py:140: FutureWarning: Option `--id` was deprecated in version 4.3.1 and will be removed in 5.0. You don't need to pass it anymore to use a file ID.\n",
            "  warnings.warn(\n",
            "Downloading...\n",
            "From: https://drive.google.com/uc?id=1fB9P1Ha1ofQiYWU9wkLAxDZTbtp3Gfqz\n",
            "To: /content/Auto_MPG_data.csv\n",
            "100% 15.4k/15.4k [00:00<00:00, 36.5MB/s]\n"
          ]
        }
      ],
      "source": [
        "!gdown --id 1fB9P1Ha1ofQiYWU9wkLAxDZTbtp3Gfqz"
      ]
    },
    {
      "cell_type": "code",
      "execution_count": 2,
      "metadata": {
        "colab": {
          "base_uri": "https://localhost:8080/"
        },
        "id": "G3bkvnjeX3Qw",
        "outputId": "14af55b5-6a27-49ce-d9ba-e026a328d67e"
      },
      "outputs": [
        {
          "output_type": "execute_result",
          "data": {
            "text/plain": [
              "<torch._C.Generator at 0x788001d996b0>"
            ]
          },
          "metadata": {},
          "execution_count": 2
        }
      ],
      "source": [
        "import numpy as np\n",
        "import pandas as pd\n",
        "import matplotlib.pyplot as plt\n",
        "import torch\n",
        "from torch import nn\n",
        "import torch.optim as optim\n",
        "from torch.utils.data import Dataset, DataLoader\n",
        "\n",
        "device = torch.device('cuda:0' if torch.cuda.is_available() else 'cpu')\n",
        "torch.manual_seed(42)"
      ]
    },
    {
      "cell_type": "markdown",
      "metadata": {
        "id": "YZLOVWxF3CA3"
      },
      "source": [
        "## Load Data"
      ]
    },
    {
      "cell_type": "code",
      "execution_count": 3,
      "metadata": {
        "colab": {
          "base_uri": "https://localhost:8080/",
          "height": 206
        },
        "id": "mD0-N0bRb9c5",
        "outputId": "c925e466-0953-4dfc-e669-1a32448f17aa"
      },
      "outputs": [
        {
          "output_type": "execute_result",
          "data": {
            "text/plain": [
              "    MPG  Cylinders  Displacement  Horsepower  Weight  Acceleration  \\\n",
              "0  18.0          8         307.0       130.0  3504.0          12.0   \n",
              "1  15.0          8         350.0       165.0  3693.0          11.5   \n",
              "2  18.0          8         318.0       150.0  3436.0          11.0   \n",
              "3  16.0          8         304.0       150.0  3433.0          12.0   \n",
              "4  17.0          8         302.0       140.0  3449.0          10.5   \n",
              "\n",
              "   Model Year  Europe  Japan  USA  \n",
              "0          70       0      0    1  \n",
              "1          70       0      0    1  \n",
              "2          70       0      0    1  \n",
              "3          70       0      0    1  \n",
              "4          70       0      0    1  "
            ],
            "text/html": [
              "\n",
              "  <div id=\"df-5045474c-c73b-4099-9299-875cae280472\" class=\"colab-df-container\">\n",
              "    <div>\n",
              "<style scoped>\n",
              "    .dataframe tbody tr th:only-of-type {\n",
              "        vertical-align: middle;\n",
              "    }\n",
              "\n",
              "    .dataframe tbody tr th {\n",
              "        vertical-align: top;\n",
              "    }\n",
              "\n",
              "    .dataframe thead th {\n",
              "        text-align: right;\n",
              "    }\n",
              "</style>\n",
              "<table border=\"1\" class=\"dataframe\">\n",
              "  <thead>\n",
              "    <tr style=\"text-align: right;\">\n",
              "      <th></th>\n",
              "      <th>MPG</th>\n",
              "      <th>Cylinders</th>\n",
              "      <th>Displacement</th>\n",
              "      <th>Horsepower</th>\n",
              "      <th>Weight</th>\n",
              "      <th>Acceleration</th>\n",
              "      <th>Model Year</th>\n",
              "      <th>Europe</th>\n",
              "      <th>Japan</th>\n",
              "      <th>USA</th>\n",
              "    </tr>\n",
              "  </thead>\n",
              "  <tbody>\n",
              "    <tr>\n",
              "      <th>0</th>\n",
              "      <td>18.0</td>\n",
              "      <td>8</td>\n",
              "      <td>307.0</td>\n",
              "      <td>130.0</td>\n",
              "      <td>3504.0</td>\n",
              "      <td>12.0</td>\n",
              "      <td>70</td>\n",
              "      <td>0</td>\n",
              "      <td>0</td>\n",
              "      <td>1</td>\n",
              "    </tr>\n",
              "    <tr>\n",
              "      <th>1</th>\n",
              "      <td>15.0</td>\n",
              "      <td>8</td>\n",
              "      <td>350.0</td>\n",
              "      <td>165.0</td>\n",
              "      <td>3693.0</td>\n",
              "      <td>11.5</td>\n",
              "      <td>70</td>\n",
              "      <td>0</td>\n",
              "      <td>0</td>\n",
              "      <td>1</td>\n",
              "    </tr>\n",
              "    <tr>\n",
              "      <th>2</th>\n",
              "      <td>18.0</td>\n",
              "      <td>8</td>\n",
              "      <td>318.0</td>\n",
              "      <td>150.0</td>\n",
              "      <td>3436.0</td>\n",
              "      <td>11.0</td>\n",
              "      <td>70</td>\n",
              "      <td>0</td>\n",
              "      <td>0</td>\n",
              "      <td>1</td>\n",
              "    </tr>\n",
              "    <tr>\n",
              "      <th>3</th>\n",
              "      <td>16.0</td>\n",
              "      <td>8</td>\n",
              "      <td>304.0</td>\n",
              "      <td>150.0</td>\n",
              "      <td>3433.0</td>\n",
              "      <td>12.0</td>\n",
              "      <td>70</td>\n",
              "      <td>0</td>\n",
              "      <td>0</td>\n",
              "      <td>1</td>\n",
              "    </tr>\n",
              "    <tr>\n",
              "      <th>4</th>\n",
              "      <td>17.0</td>\n",
              "      <td>8</td>\n",
              "      <td>302.0</td>\n",
              "      <td>140.0</td>\n",
              "      <td>3449.0</td>\n",
              "      <td>10.5</td>\n",
              "      <td>70</td>\n",
              "      <td>0</td>\n",
              "      <td>0</td>\n",
              "      <td>1</td>\n",
              "    </tr>\n",
              "  </tbody>\n",
              "</table>\n",
              "</div>\n",
              "    <div class=\"colab-df-buttons\">\n",
              "\n",
              "  <div class=\"colab-df-container\">\n",
              "    <button class=\"colab-df-convert\" onclick=\"convertToInteractive('df-5045474c-c73b-4099-9299-875cae280472')\"\n",
              "            title=\"Convert this dataframe to an interactive table.\"\n",
              "            style=\"display:none;\">\n",
              "\n",
              "  <svg xmlns=\"http://www.w3.org/2000/svg\" height=\"24px\" viewBox=\"0 -960 960 960\">\n",
              "    <path d=\"M120-120v-720h720v720H120Zm60-500h600v-160H180v160Zm220 220h160v-160H400v160Zm0 220h160v-160H400v160ZM180-400h160v-160H180v160Zm440 0h160v-160H620v160ZM180-180h160v-160H180v160Zm440 0h160v-160H620v160Z\"/>\n",
              "  </svg>\n",
              "    </button>\n",
              "\n",
              "  <style>\n",
              "    .colab-df-container {\n",
              "      display:flex;\n",
              "      gap: 12px;\n",
              "    }\n",
              "\n",
              "    .colab-df-convert {\n",
              "      background-color: #E8F0FE;\n",
              "      border: none;\n",
              "      border-radius: 50%;\n",
              "      cursor: pointer;\n",
              "      display: none;\n",
              "      fill: #1967D2;\n",
              "      height: 32px;\n",
              "      padding: 0 0 0 0;\n",
              "      width: 32px;\n",
              "    }\n",
              "\n",
              "    .colab-df-convert:hover {\n",
              "      background-color: #E2EBFA;\n",
              "      box-shadow: 0px 1px 2px rgba(60, 64, 67, 0.3), 0px 1px 3px 1px rgba(60, 64, 67, 0.15);\n",
              "      fill: #174EA6;\n",
              "    }\n",
              "\n",
              "    .colab-df-buttons div {\n",
              "      margin-bottom: 4px;\n",
              "    }\n",
              "\n",
              "    [theme=dark] .colab-df-convert {\n",
              "      background-color: #3B4455;\n",
              "      fill: #D2E3FC;\n",
              "    }\n",
              "\n",
              "    [theme=dark] .colab-df-convert:hover {\n",
              "      background-color: #434B5C;\n",
              "      box-shadow: 0px 1px 3px 1px rgba(0, 0, 0, 0.15);\n",
              "      filter: drop-shadow(0px 1px 2px rgba(0, 0, 0, 0.3));\n",
              "      fill: #FFFFFF;\n",
              "    }\n",
              "  </style>\n",
              "\n",
              "    <script>\n",
              "      const buttonEl =\n",
              "        document.querySelector('#df-5045474c-c73b-4099-9299-875cae280472 button.colab-df-convert');\n",
              "      buttonEl.style.display =\n",
              "        google.colab.kernel.accessAllowed ? 'block' : 'none';\n",
              "\n",
              "      async function convertToInteractive(key) {\n",
              "        const element = document.querySelector('#df-5045474c-c73b-4099-9299-875cae280472');\n",
              "        const dataTable =\n",
              "          await google.colab.kernel.invokeFunction('convertToInteractive',\n",
              "                                                    [key], {});\n",
              "        if (!dataTable) return;\n",
              "\n",
              "        const docLinkHtml = 'Like what you see? Visit the ' +\n",
              "          '<a target=\"_blank\" href=https://colab.research.google.com/notebooks/data_table.ipynb>data table notebook</a>'\n",
              "          + ' to learn more about interactive tables.';\n",
              "        element.innerHTML = '';\n",
              "        dataTable['output_type'] = 'display_data';\n",
              "        await google.colab.output.renderOutput(dataTable, element);\n",
              "        const docLink = document.createElement('div');\n",
              "        docLink.innerHTML = docLinkHtml;\n",
              "        element.appendChild(docLink);\n",
              "      }\n",
              "    </script>\n",
              "  </div>\n",
              "\n",
              "\n",
              "<div id=\"df-8644b56f-3c84-429f-a6bc-d086b6450f09\">\n",
              "  <button class=\"colab-df-quickchart\" onclick=\"quickchart('df-8644b56f-3c84-429f-a6bc-d086b6450f09')\"\n",
              "            title=\"Suggest charts\"\n",
              "            style=\"display:none;\">\n",
              "\n",
              "<svg xmlns=\"http://www.w3.org/2000/svg\" height=\"24px\"viewBox=\"0 0 24 24\"\n",
              "     width=\"24px\">\n",
              "    <g>\n",
              "        <path d=\"M19 3H5c-1.1 0-2 .9-2 2v14c0 1.1.9 2 2 2h14c1.1 0 2-.9 2-2V5c0-1.1-.9-2-2-2zM9 17H7v-7h2v7zm4 0h-2V7h2v10zm4 0h-2v-4h2v4z\"/>\n",
              "    </g>\n",
              "</svg>\n",
              "  </button>\n",
              "\n",
              "<style>\n",
              "  .colab-df-quickchart {\n",
              "      --bg-color: #E8F0FE;\n",
              "      --fill-color: #1967D2;\n",
              "      --hover-bg-color: #E2EBFA;\n",
              "      --hover-fill-color: #174EA6;\n",
              "      --disabled-fill-color: #AAA;\n",
              "      --disabled-bg-color: #DDD;\n",
              "  }\n",
              "\n",
              "  [theme=dark] .colab-df-quickchart {\n",
              "      --bg-color: #3B4455;\n",
              "      --fill-color: #D2E3FC;\n",
              "      --hover-bg-color: #434B5C;\n",
              "      --hover-fill-color: #FFFFFF;\n",
              "      --disabled-bg-color: #3B4455;\n",
              "      --disabled-fill-color: #666;\n",
              "  }\n",
              "\n",
              "  .colab-df-quickchart {\n",
              "    background-color: var(--bg-color);\n",
              "    border: none;\n",
              "    border-radius: 50%;\n",
              "    cursor: pointer;\n",
              "    display: none;\n",
              "    fill: var(--fill-color);\n",
              "    height: 32px;\n",
              "    padding: 0;\n",
              "    width: 32px;\n",
              "  }\n",
              "\n",
              "  .colab-df-quickchart:hover {\n",
              "    background-color: var(--hover-bg-color);\n",
              "    box-shadow: 0 1px 2px rgba(60, 64, 67, 0.3), 0 1px 3px 1px rgba(60, 64, 67, 0.15);\n",
              "    fill: var(--button-hover-fill-color);\n",
              "  }\n",
              "\n",
              "  .colab-df-quickchart-complete:disabled,\n",
              "  .colab-df-quickchart-complete:disabled:hover {\n",
              "    background-color: var(--disabled-bg-color);\n",
              "    fill: var(--disabled-fill-color);\n",
              "    box-shadow: none;\n",
              "  }\n",
              "\n",
              "  .colab-df-spinner {\n",
              "    border: 2px solid var(--fill-color);\n",
              "    border-color: transparent;\n",
              "    border-bottom-color: var(--fill-color);\n",
              "    animation:\n",
              "      spin 1s steps(1) infinite;\n",
              "  }\n",
              "\n",
              "  @keyframes spin {\n",
              "    0% {\n",
              "      border-color: transparent;\n",
              "      border-bottom-color: var(--fill-color);\n",
              "      border-left-color: var(--fill-color);\n",
              "    }\n",
              "    20% {\n",
              "      border-color: transparent;\n",
              "      border-left-color: var(--fill-color);\n",
              "      border-top-color: var(--fill-color);\n",
              "    }\n",
              "    30% {\n",
              "      border-color: transparent;\n",
              "      border-left-color: var(--fill-color);\n",
              "      border-top-color: var(--fill-color);\n",
              "      border-right-color: var(--fill-color);\n",
              "    }\n",
              "    40% {\n",
              "      border-color: transparent;\n",
              "      border-right-color: var(--fill-color);\n",
              "      border-top-color: var(--fill-color);\n",
              "    }\n",
              "    60% {\n",
              "      border-color: transparent;\n",
              "      border-right-color: var(--fill-color);\n",
              "    }\n",
              "    80% {\n",
              "      border-color: transparent;\n",
              "      border-right-color: var(--fill-color);\n",
              "      border-bottom-color: var(--fill-color);\n",
              "    }\n",
              "    90% {\n",
              "      border-color: transparent;\n",
              "      border-bottom-color: var(--fill-color);\n",
              "    }\n",
              "  }\n",
              "</style>\n",
              "\n",
              "  <script>\n",
              "    async function quickchart(key) {\n",
              "      const quickchartButtonEl =\n",
              "        document.querySelector('#' + key + ' button');\n",
              "      quickchartButtonEl.disabled = true;  // To prevent multiple clicks.\n",
              "      quickchartButtonEl.classList.add('colab-df-spinner');\n",
              "      try {\n",
              "        const charts = await google.colab.kernel.invokeFunction(\n",
              "            'suggestCharts', [key], {});\n",
              "      } catch (error) {\n",
              "        console.error('Error during call to suggestCharts:', error);\n",
              "      }\n",
              "      quickchartButtonEl.classList.remove('colab-df-spinner');\n",
              "      quickchartButtonEl.classList.add('colab-df-quickchart-complete');\n",
              "    }\n",
              "    (() => {\n",
              "      let quickchartButtonEl =\n",
              "        document.querySelector('#df-8644b56f-3c84-429f-a6bc-d086b6450f09 button');\n",
              "      quickchartButtonEl.style.display =\n",
              "        google.colab.kernel.accessAllowed ? 'block' : 'none';\n",
              "    })();\n",
              "  </script>\n",
              "</div>\n",
              "\n",
              "    </div>\n",
              "  </div>\n"
            ],
            "application/vnd.google.colaboratory.intrinsic+json": {
              "type": "dataframe",
              "variable_name": "dataset",
              "summary": "{\n  \"name\": \"dataset\",\n  \"rows\": 392,\n  \"fields\": [\n    {\n      \"column\": \"MPG\",\n      \"properties\": {\n        \"dtype\": \"number\",\n        \"std\": 7.805007486571799,\n        \"min\": 9.0,\n        \"max\": 46.6,\n        \"num_unique_values\": 127,\n        \"samples\": [\n          17.5,\n          35.1,\n          28.8\n        ],\n        \"semantic_type\": \"\",\n        \"description\": \"\"\n      }\n    },\n    {\n      \"column\": \"Cylinders\",\n      \"properties\": {\n        \"dtype\": \"number\",\n        \"std\": 1,\n        \"min\": 3,\n        \"max\": 8,\n        \"num_unique_values\": 5,\n        \"samples\": [\n          4,\n          5,\n          6\n        ],\n        \"semantic_type\": \"\",\n        \"description\": \"\"\n      }\n    },\n    {\n      \"column\": \"Displacement\",\n      \"properties\": {\n        \"dtype\": \"number\",\n        \"std\": 104.64400390890465,\n        \"min\": 68.0,\n        \"max\": 455.0,\n        \"num_unique_values\": 81,\n        \"samples\": [\n          116.0,\n          307.0,\n          360.0\n        ],\n        \"semantic_type\": \"\",\n        \"description\": \"\"\n      }\n    },\n    {\n      \"column\": \"Horsepower\",\n      \"properties\": {\n        \"dtype\": \"number\",\n        \"std\": 38.49115993282855,\n        \"min\": 46.0,\n        \"max\": 230.0,\n        \"num_unique_values\": 93,\n        \"samples\": [\n          92.0,\n          100.0,\n          52.0\n        ],\n        \"semantic_type\": \"\",\n        \"description\": \"\"\n      }\n    },\n    {\n      \"column\": \"Weight\",\n      \"properties\": {\n        \"dtype\": \"number\",\n        \"std\": 849.4025600429494,\n        \"min\": 1613.0,\n        \"max\": 5140.0,\n        \"num_unique_values\": 346,\n        \"samples\": [\n          2472.0,\n          3221.0,\n          2700.0\n        ],\n        \"semantic_type\": \"\",\n        \"description\": \"\"\n      }\n    },\n    {\n      \"column\": \"Acceleration\",\n      \"properties\": {\n        \"dtype\": \"number\",\n        \"std\": 2.7588641191880816,\n        \"min\": 8.0,\n        \"max\": 24.8,\n        \"num_unique_values\": 95,\n        \"samples\": [\n          14.7,\n          18.0,\n          14.3\n        ],\n        \"semantic_type\": \"\",\n        \"description\": \"\"\n      }\n    },\n    {\n      \"column\": \"Model Year\",\n      \"properties\": {\n        \"dtype\": \"number\",\n        \"std\": 3,\n        \"min\": 70,\n        \"max\": 82,\n        \"num_unique_values\": 13,\n        \"samples\": [\n          81,\n          79,\n          70\n        ],\n        \"semantic_type\": \"\",\n        \"description\": \"\"\n      }\n    },\n    {\n      \"column\": \"Europe\",\n      \"properties\": {\n        \"dtype\": \"number\",\n        \"std\": 0,\n        \"min\": 0,\n        \"max\": 1,\n        \"num_unique_values\": 2,\n        \"samples\": [\n          1,\n          0\n        ],\n        \"semantic_type\": \"\",\n        \"description\": \"\"\n      }\n    },\n    {\n      \"column\": \"Japan\",\n      \"properties\": {\n        \"dtype\": \"number\",\n        \"std\": 0,\n        \"min\": 0,\n        \"max\": 1,\n        \"num_unique_values\": 2,\n        \"samples\": [\n          1,\n          0\n        ],\n        \"semantic_type\": \"\",\n        \"description\": \"\"\n      }\n    },\n    {\n      \"column\": \"USA\",\n      \"properties\": {\n        \"dtype\": \"number\",\n        \"std\": 0,\n        \"min\": 0,\n        \"max\": 1,\n        \"num_unique_values\": 2,\n        \"samples\": [\n          0,\n          1\n        ],\n        \"semantic_type\": \"\",\n        \"description\": \"\"\n      }\n    }\n  ]\n}"
            }
          },
          "metadata": {},
          "execution_count": 3
        }
      ],
      "source": [
        "dataset = pd.read_csv(\"/content/Auto_MPG_data.csv\")\n",
        "dataset.head()"
      ]
    },
    {
      "cell_type": "markdown",
      "metadata": {
        "id": "T6eIMDg_8G88"
      },
      "source": [
        "## Tiền xử lý dữ liệu dạng table"
      ]
    },
    {
      "cell_type": "markdown",
      "metadata": {
        "id": "eYQgHFPy3M-G"
      },
      "source": [
        "### Lấy label và chia bộ dữ liệu train/val"
      ]
    },
    {
      "cell_type": "code",
      "execution_count": 4,
      "metadata": {
        "id": "3KFNxNctYgTY"
      },
      "outputs": [],
      "source": [
        "train_dataset = dataset.sample(frac=0.8, random_state=0)\n",
        "val_dataset = dataset.drop(train_dataset.index)"
      ]
    },
    {
      "cell_type": "code",
      "execution_count": 5,
      "metadata": {
        "id": "FHglrf7qYkhs"
      },
      "outputs": [],
      "source": [
        "X_train = train_dataset.copy()\n",
        "X_val = val_dataset.copy()\n",
        "\n",
        "y_train = X_train.pop('MPG')\n",
        "y_val = X_val.pop('MPG')\n",
        "\n",
        "X_train, y_train = torch.tensor(X_train.values, dtype=torch.float32), torch.tensor(y_train.values, dtype=torch.float32)\n",
        "X_val, y_val = torch.tensor(X_val.values, dtype=torch.float32), torch.tensor(y_val.values, dtype=torch.float32)"
      ]
    },
    {
      "cell_type": "markdown",
      "metadata": {
        "id": "fJwFqmUn3ifv"
      },
      "source": [
        "### Chuẩn hóa dữ liệu (Data Standardisation)"
      ]
    },
    {
      "cell_type": "code",
      "execution_count": 6,
      "metadata": {
        "id": "u5kpBGfVbVUD"
      },
      "outputs": [],
      "source": [
        "_MEAN = X_train.mean(axis=0)\n",
        "_STD = X_train.std(axis=0)\n",
        "\n",
        "X_train = ( X_train-_MEAN)/_STD\n",
        "X_val = ( X_val-_MEAN)/_STD"
      ]
    },
    {
      "cell_type": "code",
      "execution_count": 7,
      "metadata": {
        "id": "cvCA7PWMMyFY"
      },
      "outputs": [],
      "source": [
        "class CustomDataset(Dataset):\n",
        "    def __init__(self, X, y):\n",
        "        self.X = X\n",
        "        self.y = y\n",
        "\n",
        "    def __len__(self):\n",
        "        return len(self.y)\n",
        "\n",
        "    def __getitem__(self, idx):\n",
        "        # print(idx)\n",
        "        return self.X[idx], self.y[idx]"
      ]
    },
    {
      "cell_type": "code",
      "execution_count": 8,
      "metadata": {
        "id": "Nc_cCFO7M-VK"
      },
      "outputs": [],
      "source": [
        "train_dataset = CustomDataset(X_train, y_train)\n",
        "val_dataset = CustomDataset(X_val, y_val)\n",
        "train_loader = DataLoader(train_dataset, batch_size=32, shuffle=True)\n",
        "val_loader = DataLoader(val_dataset, batch_size=32)"
      ]
    },
    {
      "cell_type": "markdown",
      "metadata": {
        "id": "J8C8hvmn4AUc"
      },
      "source": [
        "## Sử dụng Pytorch để  build, compile và train và evaluate model. Kết quả train và evaluation được thể hiện bằng hình ảnh bằng cách sử dụng matplotlib"
      ]
    },
    {
      "cell_type": "markdown",
      "metadata": {
        "id": "w10M44MVH6kj"
      },
      "source": [
        "### Linear Regression - MSE"
      ]
    },
    {
      "cell_type": "code",
      "execution_count": 12,
      "metadata": {
        "id": "lCX1G94u1Sep"
      },
      "outputs": [],
      "source": [
        "######################### YOUR CODE HERE #########################\n",
        "# Buil Linear Regression model: dung 1 linear layer input_dims=9, output_dims=1\n",
        "class LinearRegression(nn.Module):\n",
        "  def __init__(self, input_dims, output_dims):\n",
        "    super(LinearRegression, self).__init__()\n",
        "    self.linear = nn.Linear(input_dims, output_dims)\n",
        "\n",
        "  def forward(self, x):\n",
        "      out = self.linear(x)\n",
        "      return out.squeeze(1)\n",
        "\n",
        "##################################################################\n",
        "\n",
        "model = LinearRegression(input_dims=9, output_dims=1).to(device)\n",
        "criterion = nn.MSELoss()\n",
        "optimizer = optim.SGD(model.parameters(), lr=0.1)"
      ]
    },
    {
      "cell_type": "code",
      "execution_count": 13,
      "metadata": {
        "id": "fC9r59PITZMc"
      },
      "outputs": [],
      "source": [
        "def r_squared(y_true, y_pred):\n",
        "    \"\"\"\n",
        "    Compute R^2 score.\n",
        "    \"\"\"\n",
        "    y_true = torch.Tensor(y_true)\n",
        "    y_pred = torch.Tensor(y_pred)\n",
        "    mean_true = torch.mean(y_true)\n",
        "    ss_tot = torch.sum((y_true - mean_true) ** 2)\n",
        "    ss_res = torch.sum((y_true - y_pred) ** 2)\n",
        "    r2 = 1 - (ss_res / ss_tot)\n",
        "    return r2"
      ]
    },
    {
      "cell_type": "code",
      "execution_count": 14,
      "metadata": {
        "colab": {
          "base_uri": "https://localhost:8080/"
        },
        "id": "_zKAQSlqR1MZ",
        "outputId": "f359cecd-efc4-49b8-dd91-b4d026516d38"
      },
      "outputs": [
        {
          "output_type": "stream",
          "name": "stdout",
          "text": [
            "Epoch 1/100, Train_Loss: 166.8212,  Validation Loss: 16.9214\n",
            "Epoch 2/100, Train_Loss: 15.2390,  Validation Loss: 14.7057\n",
            "Epoch 3/100, Train_Loss: 13.3785,  Validation Loss: 11.4127\n",
            "Epoch 4/100, Train_Loss: 12.2802,  Validation Loss: 10.1285\n",
            "Epoch 5/100, Train_Loss: 11.9518,  Validation Loss: 10.5968\n",
            "Epoch 6/100, Train_Loss: 12.3088,  Validation Loss: 10.9415\n",
            "Epoch 7/100, Train_Loss: 11.4202,  Validation Loss: 10.4571\n",
            "Epoch 8/100, Train_Loss: 12.0776,  Validation Loss: 10.1279\n",
            "Epoch 9/100, Train_Loss: 11.8921,  Validation Loss: 10.7233\n",
            "Epoch 10/100, Train_Loss: 12.2927,  Validation Loss: 9.5459\n",
            "Epoch 11/100, Train_Loss: 11.9047,  Validation Loss: 9.5932\n",
            "Epoch 12/100, Train_Loss: 11.6608,  Validation Loss: 10.1467\n",
            "Epoch 13/100, Train_Loss: 12.0813,  Validation Loss: 11.0179\n",
            "Epoch 14/100, Train_Loss: 11.7597,  Validation Loss: 9.5731\n",
            "Epoch 15/100, Train_Loss: 11.6931,  Validation Loss: 9.7549\n",
            "Epoch 16/100, Train_Loss: 11.5335,  Validation Loss: 9.1570\n",
            "Epoch 17/100, Train_Loss: 11.9957,  Validation Loss: 9.8844\n",
            "Epoch 18/100, Train_Loss: 11.4027,  Validation Loss: 9.5526\n",
            "Epoch 19/100, Train_Loss: 11.8095,  Validation Loss: 9.8044\n",
            "Epoch 20/100, Train_Loss: 11.6552,  Validation Loss: 11.2213\n",
            "Epoch 21/100, Train_Loss: 11.7104,  Validation Loss: 9.4881\n",
            "Epoch 22/100, Train_Loss: 12.1969,  Validation Loss: 10.7128\n",
            "Epoch 23/100, Train_Loss: 11.3618,  Validation Loss: 9.6602\n",
            "Epoch 24/100, Train_Loss: 12.2976,  Validation Loss: 9.2943\n",
            "Epoch 25/100, Train_Loss: 11.3941,  Validation Loss: 9.0023\n",
            "Epoch 26/100, Train_Loss: 11.6092,  Validation Loss: 9.4564\n",
            "Epoch 27/100, Train_Loss: 11.9613,  Validation Loss: 9.2939\n",
            "Epoch 28/100, Train_Loss: 11.3552,  Validation Loss: 9.2399\n",
            "Epoch 29/100, Train_Loss: 11.7318,  Validation Loss: 9.2015\n",
            "Epoch 30/100, Train_Loss: 12.0546,  Validation Loss: 9.5983\n",
            "Epoch 31/100, Train_Loss: 11.6293,  Validation Loss: 9.0668\n",
            "Epoch 32/100, Train_Loss: 11.4421,  Validation Loss: 10.7565\n",
            "Epoch 33/100, Train_Loss: 12.0370,  Validation Loss: 10.3223\n",
            "Epoch 34/100, Train_Loss: 12.0665,  Validation Loss: 11.1418\n",
            "Epoch 35/100, Train_Loss: 11.5563,  Validation Loss: 9.1185\n",
            "Epoch 36/100, Train_Loss: 11.9937,  Validation Loss: 9.1731\n",
            "Epoch 37/100, Train_Loss: 11.3919,  Validation Loss: 9.8312\n",
            "Epoch 38/100, Train_Loss: 11.6658,  Validation Loss: 9.2180\n",
            "Epoch 39/100, Train_Loss: 11.6429,  Validation Loss: 9.3359\n",
            "Epoch 40/100, Train_Loss: 11.3600,  Validation Loss: 8.9861\n",
            "Epoch 41/100, Train_Loss: 11.9456,  Validation Loss: 10.7927\n",
            "Epoch 42/100, Train_Loss: 11.3161,  Validation Loss: 9.3427\n",
            "Epoch 43/100, Train_Loss: 11.6886,  Validation Loss: 9.2451\n",
            "Epoch 44/100, Train_Loss: 11.4578,  Validation Loss: 9.7062\n",
            "Epoch 45/100, Train_Loss: 11.2614,  Validation Loss: 9.8832\n",
            "Epoch 46/100, Train_Loss: 11.4892,  Validation Loss: 9.6437\n",
            "Epoch 47/100, Train_Loss: 11.8807,  Validation Loss: 8.8652\n",
            "Epoch 48/100, Train_Loss: 12.3505,  Validation Loss: 12.6737\n",
            "Epoch 49/100, Train_Loss: 11.7710,  Validation Loss: 9.2184\n",
            "Epoch 50/100, Train_Loss: 11.4661,  Validation Loss: 9.3527\n",
            "Epoch 51/100, Train_Loss: 11.4114,  Validation Loss: 9.0339\n",
            "Epoch 52/100, Train_Loss: 11.3340,  Validation Loss: 10.6513\n",
            "Epoch 53/100, Train_Loss: 11.3899,  Validation Loss: 9.7278\n",
            "Epoch 54/100, Train_Loss: 11.5359,  Validation Loss: 8.9550\n",
            "Epoch 55/100, Train_Loss: 11.3741,  Validation Loss: 9.1722\n",
            "Epoch 56/100, Train_Loss: 11.6453,  Validation Loss: 9.3328\n",
            "Epoch 57/100, Train_Loss: 11.6029,  Validation Loss: 9.4413\n",
            "Epoch 58/100, Train_Loss: 11.9747,  Validation Loss: 9.0900\n",
            "Epoch 59/100, Train_Loss: 11.6805,  Validation Loss: 10.3795\n",
            "Epoch 60/100, Train_Loss: 11.6455,  Validation Loss: 10.7885\n",
            "Epoch 61/100, Train_Loss: 11.7136,  Validation Loss: 9.5294\n",
            "Epoch 62/100, Train_Loss: 12.1632,  Validation Loss: 10.8600\n",
            "Epoch 63/100, Train_Loss: 12.0038,  Validation Loss: 10.7040\n",
            "Epoch 64/100, Train_Loss: 11.9690,  Validation Loss: 12.4440\n",
            "Epoch 65/100, Train_Loss: 12.0123,  Validation Loss: 9.0992\n",
            "Epoch 66/100, Train_Loss: 12.1850,  Validation Loss: 9.2898\n",
            "Epoch 67/100, Train_Loss: 11.1452,  Validation Loss: 9.1198\n",
            "Epoch 68/100, Train_Loss: 11.9942,  Validation Loss: 9.3396\n",
            "Epoch 69/100, Train_Loss: 11.5574,  Validation Loss: 9.1547\n",
            "Epoch 70/100, Train_Loss: 11.7809,  Validation Loss: 11.4160\n",
            "Epoch 71/100, Train_Loss: 11.7744,  Validation Loss: 9.5080\n",
            "Epoch 72/100, Train_Loss: 11.8386,  Validation Loss: 8.9473\n",
            "Epoch 73/100, Train_Loss: 11.5845,  Validation Loss: 9.6216\n",
            "Epoch 74/100, Train_Loss: 12.0846,  Validation Loss: 9.4968\n",
            "Epoch 75/100, Train_Loss: 11.6981,  Validation Loss: 10.1658\n",
            "Epoch 76/100, Train_Loss: 11.5676,  Validation Loss: 9.0019\n",
            "Epoch 77/100, Train_Loss: 11.7526,  Validation Loss: 9.1755\n",
            "Epoch 78/100, Train_Loss: 11.3276,  Validation Loss: 9.8584\n",
            "Epoch 79/100, Train_Loss: 11.4632,  Validation Loss: 9.1353\n",
            "Epoch 80/100, Train_Loss: 11.7134,  Validation Loss: 9.5763\n",
            "Epoch 81/100, Train_Loss: 11.3643,  Validation Loss: 9.9385\n",
            "Epoch 82/100, Train_Loss: 11.6596,  Validation Loss: 9.0814\n",
            "Epoch 83/100, Train_Loss: 11.7727,  Validation Loss: 9.4618\n",
            "Epoch 84/100, Train_Loss: 12.4343,  Validation Loss: 8.9904\n",
            "Epoch 85/100, Train_Loss: 11.3946,  Validation Loss: 9.0798\n",
            "Epoch 86/100, Train_Loss: 11.6755,  Validation Loss: 9.1747\n",
            "Epoch 87/100, Train_Loss: 11.3128,  Validation Loss: 9.4268\n",
            "Epoch 88/100, Train_Loss: 11.5661,  Validation Loss: 9.9242\n",
            "Epoch 89/100, Train_Loss: 11.7651,  Validation Loss: 8.6940\n",
            "Epoch 90/100, Train_Loss: 11.3632,  Validation Loss: 9.2299\n",
            "Epoch 91/100, Train_Loss: 11.6676,  Validation Loss: 8.8066\n",
            "Epoch 92/100, Train_Loss: 11.5990,  Validation Loss: 9.3824\n",
            "Epoch 93/100, Train_Loss: 11.4727,  Validation Loss: 10.5198\n",
            "Epoch 94/100, Train_Loss: 11.9939,  Validation Loss: 9.4345\n",
            "Epoch 95/100, Train_Loss: 11.8281,  Validation Loss: 8.8545\n",
            "Epoch 96/100, Train_Loss: 11.5996,  Validation Loss: 9.3406\n",
            "Epoch 97/100, Train_Loss: 11.9713,  Validation Loss: 9.8988\n",
            "Epoch 98/100, Train_Loss: 11.6099,  Validation Loss: 9.2401\n",
            "Epoch 99/100, Train_Loss: 11.7316,  Validation Loss: 9.5569\n",
            "Epoch 100/100, Train_Loss: 11.6855,  Validation Loss: 9.2125\n"
          ]
        }
      ],
      "source": [
        "num_epochs = 100\n",
        "train_losses = []\n",
        "val_losses = []\n",
        "train_r2 = []\n",
        "val_r2 = []\n",
        "\n",
        "for epoch in range(num_epochs):\n",
        "    model.train()\n",
        "    train_loss = 0.0\n",
        "    train_target = []\n",
        "    val_target = []\n",
        "    train_predict = []\n",
        "    val_predict = []\n",
        "    for X, y in train_loader:\n",
        "        X, y = X.to(device), y.to(device)\n",
        "        optimizer.zero_grad()\n",
        "        outputs = model(X)\n",
        "        train_predict.extend(outputs.tolist())\n",
        "        train_target.extend(y.tolist())\n",
        "        loss = criterion(outputs, y)\n",
        "        loss.backward()\n",
        "        optimizer.step()\n",
        "        train_loss += loss.item()\n",
        "    train_loss /= len(train_loader)\n",
        "    train_losses.append(train_loss)\n",
        "    train_r2.append(r_squared(train_target, train_predict))\n",
        "    model.eval()\n",
        "    val_loss = 0.0\n",
        "    with torch.no_grad():\n",
        "        for X, y in val_loader:\n",
        "            X, y = X.to(device), y.to(device)\n",
        "            outputs = model(X)\n",
        "            val_predict.extend(outputs.tolist())\n",
        "            val_target.extend(y.tolist())\n",
        "            loss = criterion(outputs, y)\n",
        "            val_loss += loss.item()\n",
        "    val_loss /= len(val_loader)\n",
        "    val_losses.append(val_loss)\n",
        "    val_r2.append(r_squared(val_target, val_predict))\n",
        "    print(f\"Epoch {epoch+1}/{num_epochs}, Train_Loss: {train_loss:.4f},  Validation Loss: {val_loss:.4f}\")"
      ]
    },
    {
      "cell_type": "code",
      "execution_count": 15,
      "metadata": {
        "colab": {
          "base_uri": "https://localhost:8080/",
          "height": 449
        },
        "id": "brcdf1XpU2gw",
        "outputId": "31dd2987-8ebe-4c6a-e491-c89c92702afd"
      },
      "outputs": [
        {
          "output_type": "display_data",
          "data": {
            "text/plain": [
              "<Figure size 640x480 with 1 Axes>"
            ],
            "image/png": "[encoded data removed]"
          },
          "metadata": {}
        }
      ],
      "source": [
        "plt.plot(train_losses, label='loss')\n",
        "plt.plot(val_losses, label='val_loss')\n",
        "# plt.ylim([0, 40])\n",
        "plt.xlabel('Epoch')\n",
        "plt.ylabel('Error [MPG]')\n",
        "plt.legend()\n",
        "plt.grid(True)"
      ]
    },
    {
      "cell_type": "code",
      "execution_count": 18,
      "metadata": {
        "colab": {
          "base_uri": "https://localhost:8080/",
          "height": 449
        },
        "id": "fKYzOBdRb5ps",
        "outputId": "eb0fb2c3-c796-4424-8460-17ea30e43ba5"
      },
      "outputs": [
        {
          "output_type": "display_data",
          "data": {
            "text/plain": [
              "<Figure size 640x480 with 1 Axes>"
            ],
            "image/png": "[encoded data removed]"
          },
          "metadata": {}
        }
      ],
      "source": [
        "plt.plot(train_r2, label='r2')\n",
        "plt.plot(val_r2, label='val_r2')\n",
        "# plt.ylim([0, 40])\n",
        "plt.xlabel('Epoch')\n",
        "plt.ylabel('Error [MPG]')\n",
        "plt.legend()\n",
        "plt.grid(True)"
      ]
    }
  ],
  "metadata": {
    "accelerator": "GPU",
    "colab": {
      "provenance": []
    },
    "gpuClass": "standard",
    "kernelspec": {
      "display_name": "Python 3 (ipykernel)",
      "language": "python",
      "name": "python3"
    },
    "language_info": {
      "codemirror_mode": {
        "name": "ipython",
        "version": 3
      },
      "file_extension": ".py",
      "mimetype": "text/x-python",
      "name": "python",
      "nbconvert_exporter": "python",
      "pygments_lexer": "ipython3",
      "version": "3.10.13"
    }
  },
  "nbformat": 4,
  "nbformat_minor": 0
}