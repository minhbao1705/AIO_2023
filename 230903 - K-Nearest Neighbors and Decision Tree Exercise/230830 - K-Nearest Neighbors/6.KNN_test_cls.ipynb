{
 "cells": [
  {
   "cell_type": "code",
   "execution_count": 1,
   "metadata": {},
   "outputs": [],
   "source": [
    "import sklearn\n",
    "from sklearn.neighbors import KNeighborsClassifier\n",
    "from sklearn.pipeline import Pipeline\n",
    "from sklearn.feature_extraction.text import CountVectorizer\n",
    "from sklearn.feature_extraction.text import TfidfTransformer\n",
    "import numpy as np"
   ]
  },
  {
   "cell_type": "code",
   "execution_count": 2,
   "metadata": {},
   "outputs": [],
   "source": [
    "corpus = [\n",
    "    \"góp gió gặt bão\",\n",
    "    \"có làm mới có ăn\",\n",
    "    \"đất lành chim đậu\",\n",
    "    \"ăn cháo đá bát\",\n",
    "    \"gậy ông đập lưng ông\",\n",
    "    \"qua cầu rút ván\" \n",
    "]\n",
    "\n",
    "n_doc = len(corpus)\n",
    "\n",
    "labels = [1, 1, 1, 0, 0, 0] # 1: positive - 0: negative\n",
    "\n",
    "cate_2_label = {\n",
    "    \"positive\": 1,\n",
    "    \"negative\":0\n",
    "}"
   ]
  },
  {
   "cell_type": "code",
   "execution_count": 3,
   "metadata": {},
   "outputs": [],
   "source": [
    "def label_2_cate(labels):\n",
    "    key_list = list(cate_2_label.keys())\n",
    "    val_list = list(cate_2_label.values())\n",
    "\n",
    "    position = [val_list.index(label) for label in labels]\n",
    "    return np.array(key_list)[position]"
   ]
  },
  {
   "cell_type": "code",
   "execution_count": 4,
   "metadata": {},
   "outputs": [
    {
     "name": "stdout",
     "output_type": "stream",
     "text": [
      "['góp gió gặt bão' 'có làm mới có ăn' 'đất lành chim đậu' 'ăn cháo đá bát'\n",
      " 'gậy ông đập lưng ông' 'qua cầu rút ván']\n",
      "[1 1 1 0 0 0]\n"
     ]
    }
   ],
   "source": [
    "X = np.array(corpus)\n",
    "y = np.array(labels)\n",
    "\n",
    "print(X)\n",
    "print(y)"
   ]
  },
  {
   "cell_type": "markdown",
   "metadata": {},
   "source": [
    "## Convert text to vector by using TF-IDF transform"
   ]
  },
  {
   "cell_type": "code",
   "execution_count": 5,
   "metadata": {},
   "outputs": [],
   "source": [
    "def caculate_tfidf(X_vectorized):\n",
    "    tf = np.log(X_vectorized + 1)\n",
    "    df = np.sum(X_vectorized, axis=0)\n",
    "    idf = np.log((n_doc+1)/(df+1)) + 1\n",
    "    tfidf = tf * idf\n",
    "\n",
    "    return idf, tf, tfidf"
   ]
  },
  {
   "cell_type": "code",
   "execution_count": 6,
   "metadata": {},
   "outputs": [],
   "source": [
    "def compute_norm(tfidf_vec):\n",
    "    norm = np.linalg.norm(tfidf_vec, axis=1)\n",
    "    n_doc = tfidf_vec.shape[0]\n",
    "    for i in range(n_doc):\n",
    "        tfidf_vec[i] /= norm[i]"
   ]
  },
  {
   "cell_type": "code",
   "execution_count": 7,
   "metadata": {},
   "outputs": [
    {
     "name": "stdout",
     "output_type": "stream",
     "text": [
      "Vocab:  ['bát' 'bão' 'chim' 'cháo' 'có' 'cầu' 'gió' 'góp' 'gậy' 'gặt' 'làm' 'lành'\n",
      " 'lưng' 'mới' 'qua' 'rút' 'ván' 'ông' 'ăn' 'đá' 'đất' 'đập' 'đậu']\n"
     ]
    }
   ],
   "source": [
    "vectorizer = CountVectorizer()\n",
    "X_vectorized = vectorizer.fit_transform(X).toarray()\n",
    "print(\"Vocab: \", vectorizer.get_feature_names_out())"
   ]
  },
  {
   "cell_type": "code",
   "execution_count": 8,
   "metadata": {},
   "outputs": [],
   "source": [
    "X_idf, x_tf, X_tfidf = caculate_tfidf(X_vectorized)"
   ]
  },
  {
   "cell_type": "markdown",
   "metadata": {},
   "source": [
    "### Normalize TF-IDF values by L2 norm"
   ]
  },
  {
   "cell_type": "code",
   "execution_count": 9,
   "metadata": {},
   "outputs": [],
   "source": [
    "compute_norm(X_tfidf)"
   ]
  },
  {
   "cell_type": "markdown",
   "metadata": {},
   "source": [
    "## Train model KNN with 1 neighbor"
   ]
  },
  {
   "cell_type": "code",
   "execution_count": 10,
   "metadata": {},
   "outputs": [
    {
     "name": "stdout",
     "output_type": "stream",
     "text": [
      "[1 0 1 1 1 1]\n"
     ]
    }
   ],
   "source": [
    "knn_cls = KNeighborsClassifier(n_neighbors=3)\n",
    "knn_cls.fit(X_tfidf, y)\n",
    "preds = knn_cls.predict(X_tfidf)\n",
    "print(preds)"
   ]
  },
  {
   "cell_type": "markdown",
   "metadata": {},
   "source": [
    "### Inference"
   ]
  },
  {
   "cell_type": "code",
   "execution_count": 12,
   "metadata": {},
   "outputs": [],
   "source": [
    "test_text = np.array([\"không làm cạp đất mà ăn\"])\n",
    "test_vec = vectorizer.transform(test_text).toarray()"
   ]
  },
  {
   "cell_type": "code",
   "execution_count": 13,
   "metadata": {},
   "outputs": [],
   "source": [
    "test_tf = np.log(test_vec + 1)\n",
    "test_tfidf = test_tf * X_idf"
   ]
  },
  {
   "cell_type": "code",
   "execution_count": 14,
   "metadata": {},
   "outputs": [],
   "source": [
    "compute_norm(test_tfidf)"
   ]
  },
  {
   "cell_type": "code",
   "execution_count": 15,
   "metadata": {},
   "outputs": [
    {
     "name": "stdout",
     "output_type": "stream",
     "text": [
      "['positive']\n"
     ]
    }
   ],
   "source": [
    "pred = knn_cls.predict(test_tfidf)\n",
    "print(label_2_cate(pred))"
   ]
  },
  {
   "cell_type": "code",
   "execution_count": null,
   "metadata": {},
   "outputs": [],
   "source": []
  }
 ],
 "metadata": {
  "kernelspec": {
   "display_name": "Python 3",
   "language": "python",
   "name": "python3"
  },
  "language_info": {
   "codemirror_mode": {
    "name": "ipython",
    "version": 3
   },
   "file_extension": ".py",
   "mimetype": "text/x-python",
   "name": "python",
   "nbconvert_exporter": "python",
   "pygments_lexer": "ipython3",
   "version": "3.12.1"
  }
 },
 "nbformat": 4,
 "nbformat_minor": 2
}
