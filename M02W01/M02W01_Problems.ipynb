{
  "cells": [
    {
      "cell_type": "markdown",
      "metadata": {
        "id": "view-in-github",
        "colab_type": "text"
      },
      "source": [
        "<a href=\"https://colab.research.google.com/github/minhbao1705/AIO-2023/blob/main/M02W01_Problems.ipynb\" target=\"_parent\"><img src=\"https://colab.research.google.com/assets/colab-badge.svg\" alt=\"Open In Colab\"/></a>"
      ]
    },
    {
      "cell_type": "markdown",
      "id": "0a39da04",
      "metadata": {
        "id": "0a39da04"
      },
      "source": [
        "## Exercise - M02W01 - Interpolation"
      ]
    },
    {
      "cell_type": "markdown",
      "id": "bcb69a01",
      "metadata": {
        "id": "bcb69a01"
      },
      "source": [
        "##### Exercise 1 (programming skills for 2D data)"
      ]
    },
    {
      "cell_type": "code",
      "execution_count": null,
      "id": "1ba19606",
      "metadata": {
        "id": "1ba19606"
      },
      "outputs": [],
      "source": [
        "'''\n",
        "Given a list of lists (2D data); n rows and m column\n",
        "\n",
        "Question: write a function to compute summations for each row\n",
        "\n",
        "Examples\n",
        "Input:\n",
        "data = [[1, 2, 3],\n",
        "        [4, 5, 6],\n",
        "        [7, 8, 9]]\n",
        "        \n",
        "Output:\n",
        "result = [6, 15, 24]\n",
        "\n",
        "----------------------------------\n",
        "Input:\n",
        "data = [[1, 2],\n",
        "        [3, 4],\n",
        "        [5, 6]]\n",
        "Output:\n",
        "[3, 7, 11]\n",
        "'''"
      ]
    },
    {
      "cell_type": "code",
      "execution_count": null,
      "id": "b01d879b",
      "metadata": {
        "id": "b01d879b"
      },
      "outputs": [],
      "source": [
        "# implementation (way 1)\n",
        "def compute_sum(data):\n",
        "    result = []\n",
        "    height = len(data)\n",
        "    for i in range(height):\n",
        "      result.append(sum(data[i]))\n",
        "    # your code here\n",
        "        \n",
        "    return result\n",
        "\n",
        "# test case\n",
        "data = [[1, 2, 3],\n",
        "        [4, 5, 6],\n",
        "        [7, 8, 9]]\n",
        "\n",
        "assert compute_sum(data) == [6, 15, 24]\n",
        "\n",
        "data = [[1, 2],\n",
        "        [3, 4],\n",
        "        [5, 6]]\n",
        "assert compute_sum(data) == [3, 7, 11]"
      ]
    },
    {
      "cell_type": "code",
      "execution_count": null,
      "id": "5af01b40",
      "metadata": {
        "colab": {
          "base_uri": "https://localhost:8080/"
        },
        "id": "5af01b40",
        "outputId": "2ee972ad-2360-4836-8c3f-314da4e76097"
      },
      "outputs": [
        {
          "output_type": "stream",
          "name": "stdout",
          "text": [
            "[14, 4, 10]\n"
          ]
        }
      ],
      "source": [
        "# multiple choice\n",
        "data = [[6, 8],\n",
        "        [3, 1],\n",
        "        [7, 3]]\n",
        "print(compute_sum(data))"
      ]
    },
    {
      "cell_type": "code",
      "execution_count": null,
      "id": "ee2c498a",
      "metadata": {
        "id": "ee2c498a"
      },
      "outputs": [],
      "source": []
    },
    {
      "cell_type": "markdown",
      "id": "1aad14df",
      "metadata": {
        "id": "1aad14df"
      },
      "source": [
        "#### Exercise 2 (programming skills for 2D data)"
      ]
    },
    {
      "cell_type": "code",
      "execution_count": null,
      "id": "02eeb1c1",
      "metadata": {
        "id": "02eeb1c1"
      },
      "outputs": [],
      "source": [
        "'''\n",
        "Given a list of lists (2D data); n rows and n column (#rows==#columns)\n",
        "\n",
        "Question: write a function to transpose the data (change rows to columns and vice verse)\n",
        "\n",
        "Examples\n",
        "Input:\n",
        "data = [[1, 2, 3],\n",
        "        [4, 5, 6],\n",
        "        [7, 8, 9]]\n",
        "        \n",
        "Output:\n",
        "result = [[1, 4, 7],\n",
        "          [2, 5, 8],\n",
        "          [3, 6, 9]]          \n",
        "----------------------------\n",
        "Input:\n",
        "data = [[1, 2],\n",
        "        [4, 5]]\n",
        "        \n",
        "Output:\n",
        "result = [[1, 4],\n",
        "          [2, 5]]\n",
        "'''"
      ]
    },
    {
      "cell_type": "code",
      "execution_count": null,
      "id": "96d34bd8",
      "metadata": {
        "colab": {
          "base_uri": "https://localhost:8080/"
        },
        "id": "96d34bd8",
        "outputId": "ac3ed109-81d1-4cdc-ab88-8c610ccc2f26"
      },
      "outputs": [
        {
          "output_type": "stream",
          "name": "stdout",
          "text": [
            "[[1, 4, 7], [2, 5, 8], [3, 6, 9]]\n"
          ]
        }
      ],
      "source": [
        "# implementation\n",
        "def transpose(data):\n",
        "    # your code here\n",
        "    n = len(data)\n",
        "    result = [[0]*n for _ in range(n)]\n",
        "    height = len(data)\n",
        "    weight = len(data[0])\n",
        "    for i in range(height):\n",
        "      for j in range(weight):\n",
        "        result[i][j] = data[j][i]\n",
        "    # result = [[data[j][i] for j in range(len(data))] for i in range(len(data[0]))]\n",
        "    return result\n",
        "\n",
        "# test case\n",
        "data = [[1, 2, 3],\n",
        "        [4, 5, 6],\n",
        "        [7, 8, 9]]\n",
        "print(transpose(data))\n",
        "assert transpose(data) == [[1, 4, 7], \n",
        "                           [2, 5, 8], \n",
        "                           [3, 6, 9]]\n",
        "\n",
        "data = [[1, 2],\n",
        "        [4, 5]]\n",
        "assert transpose(data) == [[1, 4], \n",
        "                           [2, 5]]"
      ]
    },
    {
      "cell_type": "code",
      "execution_count": null,
      "id": "0d74d06d",
      "metadata": {
        "colab": {
          "base_uri": "https://localhost:8080/"
        },
        "id": "0d74d06d",
        "outputId": "74145015-315b-40a9-d69f-4b30e06cd4e2"
      },
      "outputs": [
        {
          "output_type": "stream",
          "name": "stdout",
          "text": [
            "[[7, 3], [2, 5]]\n"
          ]
        }
      ],
      "source": [
        "# multiple choice\n",
        "data = [[7, 2],\n",
        "        [3, 5]]\n",
        "print(transpose(data))"
      ]
    },
    {
      "cell_type": "code",
      "execution_count": null,
      "id": "64eb7f51",
      "metadata": {
        "id": "64eb7f51"
      },
      "outputs": [],
      "source": []
    },
    {
      "cell_type": "markdown",
      "id": "bd7100a4",
      "metadata": {
        "id": "bd7100a4"
      },
      "source": [
        "#### Exercise 3 (nearest neighbor interpolation for 1D data)"
      ]
    },
    {
      "cell_type": "code",
      "execution_count": null,
      "id": "03d63567",
      "metadata": {
        "id": "03d63567"
      },
      "outputs": [],
      "source": [
        "'''\n",
        "Given a list of numbers (length n) and a factor k\n",
        "\n",
        "Question: write a function to interpolate the list to a target (new list) \n",
        "with the length of n*k using nearest neighbor interpolation\n",
        "\n",
        "Examples\n",
        "Input:\n",
        "data = [1, 2, 3]\n",
        "k = 2\n",
        "\n",
        "Output:\n",
        "result = [1, 1, 2, 2, 3, 3]\n",
        "---------------------------\n",
        "Input:\n",
        "data = [1, 2, 3]\n",
        "k = 3\n",
        "\n",
        "Output:\n",
        "result = [1, 1, 1, 2, 2, 2, 3, 3, 3]\n",
        "'''"
      ]
    },
    {
      "cell_type": "code",
      "execution_count": null,
      "id": "8c6e0299",
      "metadata": {
        "id": "8c6e0299"
      },
      "outputs": [],
      "source": [
        "# implementation\n",
        "def nni_1d(data, k):\n",
        "    # your code here\n",
        "    n = len(data)\n",
        "\n",
        "    result_len = n*k\n",
        "    result = [0]*result_len\n",
        "\n",
        "    for i in range(result_len):\n",
        "      result[i] = data[i//k]\n",
        "\n",
        "    return result\n",
        "\n",
        "# test case\n",
        "data = [1, 2, 3]\n",
        "k = 2\n",
        "assert nni_1d(data, k) == [1, 1, 2, 2, 3, 3]\n",
        "\n",
        "data = [1, 2, 3]\n",
        "k = 3\n",
        "assert nni_1d(data, k) == [1, 1, 1, 2, 2, 2, 3, 3, 3]"
      ]
    },
    {
      "cell_type": "code",
      "execution_count": null,
      "id": "2f2bd3ce",
      "metadata": {
        "id": "2f2bd3ce",
        "outputId": "b6ec4ced-f8f3-41e1-bb8a-7462408c4bd8"
      },
      "outputs": [
        {
          "name": "stdout",
          "output_type": "stream",
          "text": [
            "[5, 5, 5, 7, 7, 7]\n"
          ]
        }
      ],
      "source": [
        "# multiple choice\n",
        "data = [5, 7]\n",
        "k = 3\n",
        "# print(nni_1d(data, k))"
      ]
    },
    {
      "cell_type": "code",
      "execution_count": null,
      "id": "16995575",
      "metadata": {
        "id": "16995575"
      },
      "outputs": [],
      "source": []
    },
    {
      "cell_type": "markdown",
      "id": "92f59b82",
      "metadata": {
        "id": "92f59b82"
      },
      "source": [
        "#### Exercise 4 (nearest neighbor interpolation for 2D data)"
      ]
    },
    {
      "cell_type": "code",
      "execution_count": null,
      "id": "bc83e9bc",
      "metadata": {
        "id": "bc83e9bc"
      },
      "outputs": [],
      "source": [
        "'''\n",
        "Given a list of lists of numbers (n rows and m columns) and a factor k\n",
        "\n",
        "Question: write a function to interpolate each row of the list to a target \n",
        "(a new list with n rows and m*k columns) using nearest neighbor interpolation\n",
        "\n",
        "Examples\n",
        "Input:\n",
        "data = [[1, 2, 3],\n",
        "        [4, 5, 6],\n",
        "        [7, 8, 9]]\n",
        "k = 2\n",
        "        \n",
        "Output:\n",
        "result = [[1, 1, 2, 2, 3, 3], \n",
        "          [4, 4, 5, 5, 6, 6], \n",
        "          [7, 7, 8, 8, 9, 9]]\n",
        "---------------------------------\n",
        "Input:\n",
        "data = [[1, 2],\n",
        "        [4, 5],\n",
        "        [7, 8]]\n",
        "k = 2\n",
        "\n",
        "Output:\n",
        "result = [[1, 1, 2, 2], \n",
        "          [4, 4, 5, 5], \n",
        "          [7, 7, 8, 8]]\n",
        "'''"
      ]
    },
    {
      "cell_type": "code",
      "execution_count": null,
      "id": "4e43567c",
      "metadata": {
        "colab": {
          "base_uri": "https://localhost:8080/"
        },
        "id": "4e43567c",
        "outputId": "a57bbadb-7c44-4f17-91fb-c2cf7a03ec7b"
      },
      "outputs": [
        {
          "output_type": "stream",
          "name": "stdout",
          "text": [
            "[[1, 1, 2, 2, 3, 3], [4, 4, 5, 5, 6, 6], [7, 7, 8, 8, 9, 9]]\n"
          ]
        }
      ],
      "source": [
        "# implementation\n",
        "def h_nni_2d(data, k):\n",
        "    # your code here\n",
        "    n = len(data)\n",
        "    m = len(data[0])\n",
        "\n",
        "    w = m*k\n",
        "    result = [[0]*w for _ in range(n)]\n",
        "\n",
        "    for i in range(n):\n",
        "      for j in range(w):\n",
        "        result[i][j] = data[i][j//k]\n",
        "\n",
        "    return result\n",
        "\n",
        "# test case\n",
        "data = [[1, 2, 3],\n",
        "        [4, 5, 6],\n",
        "        [7, 8, 9]]\n",
        "k = 2\n",
        "print(h_nni_2d(data, k))\n",
        "assert h_nni_2d(data, k) == [[1, 1, 2, 2, 3, 3], \n",
        "                             [4, 4, 5, 5, 6, 6], \n",
        "                             [7, 7, 8, 8, 9, 9]]\n",
        "\n",
        "data = [[1, 2],\n",
        "        [4, 5],\n",
        "        [7, 8]]\n",
        "k = 2\n",
        "assert h_nni_2d(data, k) == [[1, 1, 2, 2], \n",
        "                             [4, 4, 5, 5], \n",
        "                             [7, 7, 8, 8]]"
      ]
    },
    {
      "cell_type": "code",
      "execution_count": null,
      "id": "e8b2172c",
      "metadata": {
        "id": "e8b2172c",
        "outputId": "6d86d48f-56a2-4c06-f9e7-12a92824714c"
      },
      "outputs": [
        {
          "name": "stdout",
          "output_type": "stream",
          "text": [
            "[[3, 3, 3], [4, 4, 4]]\n"
          ]
        }
      ],
      "source": [
        "# multiple choice\n",
        "data = [[3],\n",
        "        [4]]\n",
        "k = 3\n",
        "print(h_nni_2d(data, k))"
      ]
    },
    {
      "cell_type": "code",
      "execution_count": null,
      "id": "377e39e9",
      "metadata": {
        "id": "377e39e9"
      },
      "outputs": [],
      "source": []
    },
    {
      "cell_type": "markdown",
      "id": "31d95e15",
      "metadata": {
        "id": "31d95e15"
      },
      "source": [
        "#### Exercise 5 (nearest neighbor interpolation for 2D data)"
      ]
    },
    {
      "cell_type": "code",
      "execution_count": null,
      "id": "c2f4c78a",
      "metadata": {
        "id": "c2f4c78a"
      },
      "outputs": [],
      "source": [
        "'''\n",
        "Given a list of lists of numbers (n rows and m columns) and a factor k\n",
        "\n",
        "Question: write a function to interpolate each column of the list to a target \n",
        "(a new list with n*k rows and m columns) using nearest neighbor interpolation\n",
        "\n",
        "Examples\n",
        "Input:\n",
        "data = [[1, 2, 3],\n",
        "        [4, 5, 6],\n",
        "        [7, 8, 9]]\n",
        "k = 2\n",
        "        \n",
        "Output:\n",
        "result = [[1, 2, 3],\n",
        "          [1, 2, 3],\n",
        "          [4, 5, 6]\n",
        "          [4, 5, 6],\n",
        "          [7, 8, 9],\n",
        "          [7, 8, 9]]\n",
        "-------------------------\n",
        "Input:\n",
        "data = [[1, 2],\n",
        "        [4, 5],\n",
        "        [7, 8]]\n",
        "k = 2\n",
        "\n",
        "Output:\n",
        "result = [[1, 2], \n",
        "          [1, 2], \n",
        "          [4, 5], \n",
        "          [4, 5], \n",
        "          [7, 8], \n",
        "          [7, 8]]\n",
        "'''"
      ]
    },
    {
      "cell_type": "code",
      "execution_count": null,
      "id": "916e8965",
      "metadata": {
        "id": "916e8965"
      },
      "outputs": [],
      "source": [
        "# implementation\n",
        "def v_nni_2d(data, k):\n",
        "    # your code here\n",
        "    n = len(data)\n",
        "    m = len(data[0])\n",
        "\n",
        "    result_n = n*k\n",
        "    result = [[0]*m for _ in range(result_n)]\n",
        "    for i in range(result_n):\n",
        "      for j in range(m):\n",
        "        result[i][j] = data[i//k][j]\n",
        "    return result\n",
        "\n",
        "# test case\n",
        "data = [[1, 2, 3],\n",
        "        [4, 5, 6],\n",
        "        [7, 8, 9]]\n",
        "k = 2        \n",
        "assert v_nni_2d(data, k) ==  [[1, 2, 3],\n",
        "                              [1, 2, 3],\n",
        "                              [4, 5, 6],\n",
        "                              [4, 5, 6],\n",
        "                              [7, 8, 9],\n",
        "                              [7, 8, 9]]\n",
        "\n",
        "data = [[1, 2],\n",
        "        [4, 5],\n",
        "        [7, 8]]\n",
        "k = 2\n",
        "assert v_nni_2d(data, k) == [[1, 2], \n",
        "                             [1, 2], \n",
        "                             [4, 5], \n",
        "                             [4, 5], \n",
        "                             [7, 8], \n",
        "                             [7, 8]]"
      ]
    },
    {
      "cell_type": "code",
      "execution_count": null,
      "id": "c8938639",
      "metadata": {
        "colab": {
          "base_uri": "https://localhost:8080/"
        },
        "id": "c8938639",
        "outputId": "185faf25-9911-46cd-8767-a0039a3f0e39"
      },
      "outputs": [
        {
          "output_type": "stream",
          "name": "stdout",
          "text": [
            "[[3, 3, 7, 7]]\n"
          ]
        }
      ],
      "source": [
        "# multiple choice\n",
        "data = [[3, 7]]\n",
        "k = 2\n",
        "print(h_nni_2d(data, k))"
      ]
    },
    {
      "cell_type": "code",
      "execution_count": null,
      "id": "b503caa4",
      "metadata": {
        "id": "b503caa4"
      },
      "outputs": [],
      "source": []
    },
    {
      "cell_type": "markdown",
      "id": "ad49e9bb",
      "metadata": {
        "id": "ad49e9bb"
      },
      "source": [
        "#### Exercise 6 (nearest neighbor interpolation for 2D data)"
      ]
    },
    {
      "cell_type": "code",
      "execution_count": null,
      "id": "84a9b16e",
      "metadata": {
        "id": "84a9b16e"
      },
      "outputs": [],
      "source": [
        "'''\n",
        "Given a list of lists of numbers (n rows and m columns) and a factor k\n",
        "\n",
        "Question: write a function to interpolate the list to a target \n",
        "(a new list with n*k rows and m*k columns) using nearest neighbor interpolation\n",
        "\n",
        "Examples\n",
        "Input:\n",
        "data = [[1, 2, 3],\n",
        "        [4, 5, 6],\n",
        "        [7, 8, 9]]\n",
        "k = 2\n",
        "        \n",
        "Output:\n",
        "result = [[1, 1, 2, 2, 3, 3], \n",
        "          [1, 1, 2, 2, 3, 3], \n",
        "          [4, 4, 5, 5, 6, 6], \n",
        "          [4, 4, 5, 5, 6, 6], \n",
        "          [7, 7, 8, 8, 9, 9], \n",
        "          [7, 7, 8, 8, 9, 9]]\n",
        "-----------------------------\n",
        "Input:\n",
        "data = [[1, 2],\n",
        "        [4, 5],\n",
        "        [7, 8]]\n",
        "k = 2\n",
        "\n",
        "Output:\n",
        "result = [[1, 1, 2, 2], \n",
        "          [1, 1, 2, 2], \n",
        "          [4, 4, 5, 5], \n",
        "          [4, 4, 5, 5], \n",
        "          [7, 7, 8, 8], \n",
        "          [7, 7, 8, 8]]\n",
        "'''"
      ]
    },
    {
      "cell_type": "code",
      "execution_count": null,
      "id": "c28d708a",
      "metadata": {
        "colab": {
          "base_uri": "https://localhost:8080/"
        },
        "id": "c28d708a",
        "outputId": "0b1e2cb8-c43e-4441-a918-438e773aa87e"
      },
      "outputs": [
        {
          "output_type": "stream",
          "name": "stdout",
          "text": [
            "[[1, 1, 2, 2, 3, 3], [1, 1, 2, 2, 3, 3], [4, 4, 5, 5, 6, 6], [4, 4, 5, 5, 6, 6], [7, 7, 8, 8, 9, 9], [7, 7, 8, 8, 9, 9]]\n"
          ]
        }
      ],
      "source": [
        "# implementation\n",
        "def nni_2d(data, k):\n",
        "    # your code here\n",
        "    n = len(data)\n",
        "    m = len(data[0])\n",
        "\n",
        "    w = m*k\n",
        "    result_n = n*k\n",
        "    result_1 = [[0]*m for _ in range(result_n)]\n",
        "\n",
        "    for i in range(result_n):\n",
        "      for j in range(m):\n",
        "        result_1[i][j] = data[i//k][j]\n",
        "\n",
        "    result = [[0]*w for _ in range(result_n)]\n",
        "    for i in range(result_n):\n",
        "      for j in range(w):\n",
        "        result[i][j] = result_1[i][j//k]\n",
        "\n",
        "    return result\n",
        "\n",
        "# test case\n",
        "data = [[1, 2, 3],\n",
        "        [4, 5, 6],\n",
        "        [7, 8, 9]]\n",
        "k = 2\n",
        "print(nni_2d(data, k))\n",
        "assert nni_2d(data, k) == [[1, 1, 2, 2, 3, 3], \n",
        "                           [1, 1, 2, 2, 3, 3], \n",
        "                           [4, 4, 5, 5, 6, 6], \n",
        "                           [4, 4, 5, 5, 6, 6], \n",
        "                           [7, 7, 8, 8, 9, 9], \n",
        "                           [7, 7, 8, 8, 9, 9]]\n",
        "\n",
        "data = [[1, 2],\n",
        "        [4, 5],\n",
        "        [7, 8]]\n",
        "k = 2\n",
        "assert nni_2d(data, k) == [[1, 1, 2, 2], \n",
        "                           [1, 1, 2, 2], \n",
        "                           [4, 4, 5, 5], \n",
        "                           [4, 4, 5, 5], \n",
        "                           [7, 7, 8, 8], \n",
        "                           [7, 7, 8, 8]]"
      ]
    },
    {
      "cell_type": "code",
      "execution_count": null,
      "id": "c2189c6d",
      "metadata": {
        "colab": {
          "base_uri": "https://localhost:8080/"
        },
        "id": "c2189c6d",
        "outputId": "ca3aad00-5598-4a81-9850-bb27a376c9d6"
      },
      "outputs": [
        {
          "output_type": "stream",
          "name": "stdout",
          "text": [
            "[[1, 1, 2, 2, 3, 3, 4, 4], [1, 1, 2, 2, 3, 3, 4, 4]]\n"
          ]
        }
      ],
      "source": [
        "# multiple choice\n",
        "data = [[1, 2, 3, 4]]\n",
        "k = 2\n",
        "print(nni_2d(data, k))"
      ]
    },
    {
      "cell_type": "code",
      "execution_count": null,
      "id": "68f6f890",
      "metadata": {
        "id": "68f6f890"
      },
      "outputs": [],
      "source": []
    },
    {
      "cell_type": "markdown",
      "id": "fe987200",
      "metadata": {
        "id": "fe987200"
      },
      "source": [
        "#### Exercise 7 (linear interpolation for 1D data)"
      ]
    },
    {
      "cell_type": "code",
      "execution_count": null,
      "id": "44a84da9",
      "metadata": {
        "id": "44a84da9"
      },
      "outputs": [],
      "source": [
        "'''\n",
        "Given a list of numbers (length n) and a factor k\n",
        "\n",
        "Question: write a function to interpolate the list to a target (new list) \n",
        "with the length of n*k using linear interpolation. Note that, for the sake of simplicity,\n",
        "you can ignore the last (k-1) element.\n",
        "\n",
        "Examples\n",
        "Input:\n",
        "data = [1, 2, 3]\n",
        "k = 2\n",
        "\n",
        "Output:\n",
        "result = [1.0, 1.5, 2.0, 2.5, 3.0, x]\n",
        "\n",
        "---------------------------------------\n",
        "Input:\n",
        "data = [1, 4, 7]\n",
        "k = 3\n",
        "\n",
        "Output:\n",
        "result = [1, 2.0, 3.0, 4, 5.0, 6.0, 7, x, x]\n",
        "'''"
      ]
    },
    {
      "cell_type": "code",
      "source": [
        "# implementation\n",
        "import math\n",
        "\n",
        "def linear_interpolation ( p1 , p2 , x ) :\n",
        "  x1 , y1 = p1\n",
        "  x2 , y2 = p2\n",
        "  if x1 != x2 :\n",
        "    y = (( x2 - x ) /( x2 - x1 ) ) * y1 + (( x - x1 ) /( x2 - x1 ) ) * y2\n",
        "  else :\n",
        "    y = y1\n",
        "  return y\n",
        "\n",
        "def li_1d ( data , k ) :\n",
        "# your code here\n",
        "  n = len(data)\n",
        "  result_len = n*k\n",
        "  result = [0]*result_len\n",
        "\n",
        "  for i in range(result_len-k+1):\n",
        "    \n",
        "    if i%k ==0:\n",
        "      result[i] = data[i//k]\n",
        "    else:\n",
        "      begin = math.floor(i/k)\n",
        "      end = math.ceil(i/k)\n",
        "      p1 = (begin, data[begin])\n",
        "      p2 = (end, data[end])\n",
        "      y = linear_interpolation(p1=p1, p2=p2, x=i/k)\n",
        "      result[i] = y\n",
        "\n",
        "  return result\n",
        "\n",
        "# test case\n",
        "data = [1 , 2 , 3]\n",
        "k = 2\n",
        "assert li_1d ( data , k ) [: -1] == [1 , 1.5 , 2 , 2.5 , 3 , 0][: -1]\n",
        "\n",
        "data = [1 , 4 , 7]\n",
        "k = 3\n",
        "assert li_1d ( data , k ) [: -2] == [1 , 2.0 , 3.0 , 4 , 5.0 , 6.0 , 7 , 0 , 0][: -2]\n",
        "# multiple choice\n",
        "data = [7 , 10]\n",
        "k = 3\n",
        "print ( li_1d ( data , k ) )"
      ],
      "metadata": {
        "colab": {
          "base_uri": "https://localhost:8080/"
        },
        "id": "64VteTlNfeV6",
        "outputId": "4aab5951-271a-4230-e8f2-61f342f9d5a0"
      },
      "id": "64VteTlNfeV6",
      "execution_count": 70,
      "outputs": [
        {
          "output_type": "stream",
          "name": "stdout",
          "text": [
            "[7, 8.0, 9.0, 10, 0, 0]\n"
          ]
        }
      ]
    },
    {
      "cell_type": "markdown",
      "source": [],
      "metadata": {
        "id": "EEhfhR13fd1K"
      },
      "id": "EEhfhR13fd1K"
    },
    {
      "cell_type": "markdown",
      "id": "640b9dfc",
      "metadata": {
        "id": "640b9dfc"
      },
      "source": [
        "#### Exercise 8 (linear interpolation for 1D data)"
      ]
    },
    {
      "cell_type": "code",
      "execution_count": null,
      "id": "15e40102",
      "metadata": {
        "id": "15e40102"
      },
      "outputs": [],
      "source": [
        "'''\n",
        "Cho trước ảnh đầu vào (\\href{https://www.dropbox.com/s/egvsa9q82dott6e/tree.jpg?dl=0}{link1} hoặc \n",
        "\\href{https://drive.google.com/file/d/18mXixOyP6VKzDhxGuZBjxHNhesJKDQWi/view?usp=sharing}{link2}) \n",
        "có kích thước dài 400 và rộng 400:\n",
        "\n",
        "Phát triển chương trình để tăng kích thước ảnh đầu vào (400x400) và thành ảnh mới (1200 x1200)\n",
        "sử dụng kỹ thuật nội suy nearest-neighbor hoặc linear.\n",
        "'''"
      ]
    },
    {
      "cell_type": "code",
      "execution_count": 72,
      "id": "0b3c6506",
      "metadata": {
        "id": "0b3c6506",
        "colab": {
          "base_uri": "https://localhost:8080/"
        },
        "outputId": "099dfdfd-a3bd-4684-a3fb-59d6e724a62e"
      },
      "outputs": [
        {
          "output_type": "execute_result",
          "data": {
            "text/plain": [
              "True"
            ]
          },
          "metadata": {},
          "execution_count": 72
        }
      ],
      "source": [
        "import cv2\n",
        "import numpy as np\n",
        "import math\n",
        "\n",
        "def resize_nni(source, source_h, source_w, target_h, target_w):    \n",
        "    new_data = [[0]*target_w for _ in range(target_h)]\n",
        "    \n",
        "    #Calculate horizontal and vertical scaling factor\n",
        "    w_scale_factor = source_w/target_w \n",
        "    h_scale_factor = source_h/target_h\n",
        "    \n",
        "    #your code here\n",
        "    # step 1\n",
        "    new_data_1 = [[0]*target_w for _ in range(source_h)]    \n",
        "    for i in range(source_h):\n",
        "        for j in range(target_w):\n",
        "            new_data_1[i][j] = source[i][j//k]  \n",
        "\n",
        "    # step 2\n",
        "    new_data_2 = [[0]*target_w for _ in range(target_h)]         \n",
        "    for j in range(target_w):\n",
        "        for i in range(target_h):\n",
        "            new_data_2[i][j] = new_data_1[i//k][j]\n",
        "          \n",
        "    return new_data_2\n",
        "\n",
        "image = cv2.imread('tree.jpg', 0).tolist()\n",
        "\n",
        "height = len(image)\n",
        "width = len(image[0])\n",
        "\n",
        "new_image = resize_nni(image, height, width, height*3, width*3)\n",
        "cv2.imwrite('tree_2x.jpg', np.array(new_image))"
      ]
    },
    {
      "cell_type": "code",
      "execution_count": null,
      "id": "f4ccaaa0",
      "metadata": {
        "id": "f4ccaaa0"
      },
      "outputs": [],
      "source": [
        "\n"
      ]
    }
  ],
  "metadata": {
    "kernelspec": {
      "display_name": "Python 3 (ipykernel)",
      "language": "python",
      "name": "python3"
    },
    "language_info": {
      "codemirror_mode": {
        "name": "ipython",
        "version": 3
      },
      "file_extension": ".py",
      "mimetype": "text/x-python",
      "name": "python",
      "nbconvert_exporter": "python",
      "pygments_lexer": "ipython3",
      "version": "3.8.2"
    },
    "colab": {
      "provenance": [],
      "include_colab_link": true
    }
  },
  "nbformat": 4,
  "nbformat_minor": 5
}