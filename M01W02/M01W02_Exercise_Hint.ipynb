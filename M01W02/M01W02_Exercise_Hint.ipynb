{
  "cells": [
    {
      "cell_type": "markdown",
      "metadata": {
        "id": "view-in-github",
        "colab_type": "text"
      },
      "source": [
        "<a href=\"https://colab.research.google.com/github/minhbao1705/AIO-2023/blob/main/M01W02_Exercise_Hint.ipynb\" target=\"_parent\"><img src=\"https://colab.research.google.com/assets/colab-badge.svg\" alt=\"Open In Colab\"/></a>"
      ]
    },
    {
      "cell_type": "markdown",
      "metadata": {
        "id": "wqtsIXmn0ZP3"
      },
      "source": [
        "EX1: Hoàn thành đoạn code sau để giải quyết Problem 1"
      ]
    },
    {
      "cell_type": "code",
      "execution_count": null,
      "metadata": {
        "id": "co65tnyo0YiU"
      },
      "outputs": [],
      "source": [
        "def max_in_window(num_list, k = 3):\n",
        "    # Your code here\n",
        "    ma = 0\n",
        "    x = []\n",
        "    for i in range(len(num_list)):\n",
        "      if (i+(k-1)) <= (len(num_list)-1):\n",
        "        ma = max(num_list[i:i+k])\n",
        "        x.append(ma)\n",
        "      else:\n",
        "        break\n",
        "    return x\n",
        "    # End your code\n",
        "\n",
        "test = [3, 4, 5, 1, -44]\n",
        "assert max_in_window(num_list = test, k = 3) == [5, 5, 5]"
      ]
    },
    {
      "cell_type": "code",
      "execution_count": null,
      "metadata": {
        "id": "zPVytgtf0-ie",
        "colab": {
          "base_uri": "https://localhost:8080/"
        },
        "outputId": "a4ecbb79-c73b-436b-b5c4-33d090bf1bee"
      },
      "outputs": [
        {
          "output_type": "stream",
          "name": "stdout",
          "text": [
            "[5, 5, 5, 5, 10, 12, 33, 33]\n"
          ]
        }
      ],
      "source": [
        "num_list = [3, 4, 5, 1, -44 , 5 ,10, 12 ,33, 1]\n",
        "print(max_in_window(num_list = num_list, k = 3))\n",
        "\n",
        "# A [5, 5, 5, 5, 10, 12, 33, 33]\n",
        "# B [2, 5, 3, 4, 1, 10, 3, 3]\n",
        "# C [0, 9, 5, 1, 0, 12, 3, 33]\n",
        "# D Raise a Error"
      ]
    },
    {
      "cell_type": "markdown",
      "metadata": {
        "id": "Bwuf3JM-2EHl"
      },
      "source": [
        "EX2: Hoàn thành đoạn code sau để giải quyết Problem 2"
      ]
    },
    {
      "cell_type": "code",
      "execution_count": null,
      "metadata": {
        "id": "xutPH77e2DPV"
      },
      "outputs": [],
      "source": [
        "def intersection(lst1, lst2):\n",
        "    # Your code here\n",
        "    x= []\n",
        "    for i in range(len(lst1)):\n",
        "      for j in range(len(lst2)):\n",
        "        if lst1[i] == lst2[j]:\n",
        "          x.append(lst1[i])\n",
        "          break\n",
        "    return x\n",
        "    # End your code\n",
        "\n",
        "test_list1 = [4, 9]\n",
        "test_list2 = [9, 2]\n",
        "assert intersection(lst1 = test_list1, lst2 = test_list2) == [9]"
      ]
    },
    {
      "cell_type": "code",
      "execution_count": null,
      "metadata": {
        "id": "8T4pYMyu2X4v",
        "colab": {
          "base_uri": "https://localhost:8080/"
        },
        "outputId": "25b36901-2234-47ee-d381-e1893585abba"
      },
      "outputs": [
        {
          "output_type": "execute_result",
          "data": {
            "text/plain": [
              "[4, 9]"
            ]
          },
          "metadata": {},
          "execution_count": 56
        }
      ],
      "source": [
        "num_list1 = [4, 9, 5]\n",
        "num_list2 = [9, 4, 9, 8, 4]\n",
        "intersection(num_list1, num_list2)\n",
        "\n",
        "#A [9, 9] \n",
        "#B [4, 9]\n",
        "#C [4, 2]\n",
        "#D Raise a Error"
      ]
    },
    {
      "cell_type": "markdown",
      "metadata": {
        "id": "OTWYnyBj2urV"
      },
      "source": [
        "EX3: Hoàn thành đoạn code sau để giải quyết Problem 3"
      ]
    },
    {
      "cell_type": "code",
      "execution_count": null,
      "metadata": {
        "id": "fDTEb6pQ2w3z"
      },
      "outputs": [],
      "source": [
        "def count_chars(inp_str):\n",
        "    # Your code here\n",
        "    dict = {}\n",
        "    for i in inp_str:\n",
        "      dict[i] = dict.get(i, 0)+1\n",
        "    return dict\n",
        "    # End your code\n",
        "\n",
        "test_string = 'Happiness'\n",
        "assert count_chars(inp_str = test_string) == {'H': 1, 'a': 1, 'p': 2, 'i': 1, 'n': 1, 'e': 1, 's': 2}"
      ]
    },
    {
      "cell_type": "code",
      "execution_count": null,
      "metadata": {
        "id": "-wl8qJ0H3Bl9",
        "colab": {
          "base_uri": "https://localhost:8080/"
        },
        "outputId": "60b37a17-c840-406a-fce8-300662bc9fe8"
      },
      "outputs": [
        {
          "output_type": "execute_result",
          "data": {
            "text/plain": [
              "{'s': 2, 'm': 1, 'i': 1, 'l': 1, 'e': 1}"
            ]
          },
          "metadata": {},
          "execution_count": 45
        }
      ],
      "source": [
        "string = 'smiles'\n",
        "count_chars(string)\n",
        "\n",
        "#A {'s': 2, 'm': 1, 'i': 1, 'l': 1, 'e': 1}\n",
        "#B {'s': 0, 'm': 1, 'i': 1, 'l': 1, 'e': 8}\n",
        "#C {'s': 4, 'm': 1, 'i': 2, 'l': 1, 'e': 1}\n",
        "#D Raise a Error"
      ]
    },
    {
      "cell_type": "markdown",
      "metadata": {
        "id": "3DsARJux3ODc"
      },
      "source": [
        "EX4: Hoàn thành đoạn code sau để giải quyết Problem 4"
      ]
    },
    {
      "cell_type": "code",
      "execution_count": null,
      "metadata": {
        "id": "A_LfxoY23Q0b",
        "colab": {
          "base_uri": "https://localhost:8080/"
        },
        "outputId": "da62400e-5f5a-4f5e-9923-c7ad97bd90e7"
      },
      "outputs": [
        {
          "output_type": "stream",
          "name": "stdout",
          "text": [
            "Downloading...\n",
            "From: https://drive.google.com/uc?id=1IBScGdW2xlNsc9v5zSAya548kNgiOrko\n",
            "To: /content/P1_data.txt\n",
            "\r  0% 0.00/747 [00:00<?, ?B/s]\r100% 747/747 [00:00<00:00, 2.41MB/s]\n"
          ]
        }
      ],
      "source": [
        "!gdown https://drive.google.com/uc?id=1IBScGdW2xlNsc9v5zSAya548kNgiOrko"
      ]
    },
    {
      "cell_type": "code",
      "execution_count": null,
      "metadata": {
        "id": "a-wgMHHk3Sq-"
      },
      "outputs": [],
      "source": [
        "def count_words(file_path):\n",
        "    # Your code here\n",
        "    dict={}\n",
        "    a_file = open(file_path, 'r')\n",
        "    data = a_file.read()\n",
        "    data = data.replace(',', '')\n",
        "    data = data.replace('.', '')\n",
        "    data = data.replace('-', '')\n",
        "    data = data.lower()\n",
        "    data = data.split()\n",
        "    for i in data:\n",
        "      dict[i] = dict.get(i, 0)+1\n",
        "    return dict\n",
        "    # End your code\n",
        "\n",
        "file_path = '/content/P1_data.txt'\n",
        "assert count_words(file_path)['success'] == 3"
      ]
    },
    {
      "cell_type": "code",
      "execution_count": null,
      "metadata": {
        "id": "qs8pW2bj3ZWD",
        "colab": {
          "base_uri": "https://localhost:8080/"
        },
        "outputId": "ae7291cf-bb37-4a1f-aa2b-fb682d720840"
      },
      "outputs": [
        {
          "output_type": "execute_result",
          "data": {
            "text/plain": [
              "6"
            ]
          },
          "metadata": {},
          "execution_count": 26
        }
      ],
      "source": [
        "file_path = '/content/P1_data.txt'\n",
        "count_words(file_path)['man']\n",
        "\n",
        "#A 4 \n",
        "#B 5\n",
        "#C 6\n",
        "#D 9"
      ]
    },
    {
      "cell_type": "markdown",
      "metadata": {
        "id": "4hcrcz_xaoqP"
      },
      "source": [
        "EX5: Đầu\n",
        "ra của chương trình sau đây là gì?\n",
        "\n"
      ]
    },
    {
      "cell_type": "code",
      "execution_count": null,
      "metadata": {
        "id": "F-CciqZaVchn",
        "colab": {
          "base_uri": "https://localhost:8080/"
        },
        "outputId": "49c5399a-0e5f-49a0-d6ef-9e7551fbdb4a"
      },
      "outputs": [
        {
          "output_type": "stream",
          "name": "stdout",
          "text": [
            "400\n"
          ]
        }
      ],
      "source": [
        "n = 1 \n",
        "for i in range(0, 500, 100):\n",
        "  n = i\n",
        "print(n)\n",
        "\n",
        "# A: 900   B:400   C: None  D:  Raise a Error"
      ]
    },
    {
      "cell_type": "markdown",
      "metadata": {
        "id": "yhVrRhTBazZN"
      },
      "source": [
        "EX6: Đầu\n",
        "ra của chương trình sau đây là gì?"
      ]
    },
    {
      "cell_type": "code",
      "execution_count": null,
      "metadata": {
        "id": "ZbZpAZ1HV-ae",
        "colab": {
          "base_uri": "https://localhost:8080/"
        },
        "outputId": "0141cdd5-e5ab-4617-88bf-950e9b38aef8"
      },
      "outputs": [
        {
          "output_type": "stream",
          "name": "stdout",
          "text": [
            "learning\n"
          ]
        }
      ],
      "source": [
        "data = \"I'm learning Python!\"\n",
        "print(data.split()[1])\n",
        "\n",
        "#A: Python \n",
        "#B: learning\n",
        "#C: I'm \n",
        "#D: Raise a Error"
      ]
    },
    {
      "cell_type": "markdown",
      "metadata": {
        "id": "ZT3NC0Kja2Gt"
      },
      "source": [
        "EX7: Hoàn thành chương trình sau. Đầu\n",
        "ra của chương trình sau đây là gì?"
      ]
    },
    {
      "cell_type": "code",
      "execution_count": null,
      "metadata": {
        "id": "-I2248BVYPLu"
      },
      "outputs": [],
      "source": [
        "def check_the_number(N):\n",
        "  list_of_numbers = []\n",
        "  result = \"\"\n",
        "  for i in range(1, 5):\n",
        "    #Your code here \n",
        "    list_of_numbers.append(i)\n",
        "    #Sử dụng append thêm i vào trong list_of_number\n",
        "  if N in list_of_numbers:\n",
        "    results = \"True\"\n",
        "  if N not in list_of_numbers:\n",
        "    results = \"False\"\n",
        "  return results\n",
        "\n",
        "N = 7\n",
        "assert check_the_number(N) == \"False\""
      ]
    },
    {
      "cell_type": "code",
      "execution_count": null,
      "metadata": {
        "id": "Z3IjM8ZHDLbE",
        "colab": {
          "base_uri": "https://localhost:8080/"
        },
        "outputId": "ddab92f1-abe7-4670-e775-a9c71847add9"
      },
      "outputs": [
        {
          "output_type": "stream",
          "name": "stdout",
          "text": [
            "True\n"
          ]
        }
      ],
      "source": [
        "N = 2\n",
        "results = check_the_number(N)\n",
        "print(results)\n",
        "\n",
        "# A: True   B: False  C: Nothing  D: Raise a Error"
      ]
    },
    {
      "cell_type": "markdown",
      "metadata": {
        "id": "Fn-oZCA8dAvH"
      },
      "source": [
        "EX8: Đầu ra của chương trình dưới đây là gì?"
      ]
    },
    {
      "cell_type": "code",
      "execution_count": null,
      "metadata": {
        "id": "f5eSEBKmavDN",
        "colab": {
          "base_uri": "https://localhost:8080/"
        },
        "outputId": "a220dd1b-bce5-4375-dcb3-bb721bd41da8"
      },
      "outputs": [
        {
          "output_type": "stream",
          "name": "stdout",
          "text": [
            "<class 'str'>\n"
          ]
        }
      ],
      "source": [
        "data = \"my list : [ 1, 2, [3, 4]]\"\n",
        "print(type(data))\n",
        "\n",
        "# A: <class 'str'>  \n",
        "#B: <class 'list'>  \n",
        "#C: <class 'mydata'>  \n",
        "#D:  Raise a Error"
      ]
    },
    {
      "cell_type": "markdown",
      "metadata": {
        "id": "VV2qBU2Gee5n"
      },
      "source": [
        "EX9: Đầu ra của chương trình dưới đây là gì?"
      ]
    },
    {
      "cell_type": "code",
      "execution_count": null,
      "metadata": {
        "id": "KlpDzEVtddFd",
        "colab": {
          "base_uri": "https://localhost:8080/"
        },
        "outputId": "7ce248a4-a74b-41b9-b837-707e479e2b0b"
      },
      "outputs": [
        {
          "output_type": "execute_result",
          "data": {
            "text/plain": [
              "True"
            ]
          },
          "metadata": {},
          "execution_count": 35
        }
      ],
      "source": [
        "\"Eiffel\" > \"Apple\"\n",
        "\n",
        "#A: True  \n",
        "#B:False  \n",
        "#C:Raise a Error\n",
        "#D: None of the above"
      ]
    },
    {
      "cell_type": "markdown",
      "metadata": {
        "id": "oHJsd3QOfsj_"
      },
      "source": [
        "EX10: Đầu ra của chương trình dưới đây là gì?"
      ]
    },
    {
      "cell_type": "code",
      "execution_count": null,
      "metadata": {
        "id": "jUH5ZWj7fUUM",
        "colab": {
          "base_uri": "https://localhost:8080/"
        },
        "outputId": "828c6e22-ac85-4ebb-f558-708e6bf7754d"
      },
      "outputs": [
        {
          "output_type": "stream",
          "name": "stdout",
          "text": [
            "3\n"
          ]
        }
      ],
      "source": [
        "n = 0\n",
        "for i in range(5):\n",
        "  n += i\n",
        "  if n>0 and n%3 == 0:\n",
        "      break\n",
        "print(n)\n",
        "\n",
        "#A: 0  B:3  C:Raise a Error D: 6"
      ]
    },
    {
      "cell_type": "markdown",
      "metadata": {
        "id": "g5zAWMFnlk7p"
      },
      "source": [
        "EX11: Đầu ra của chương trình dưới đây là gì?"
      ]
    },
    {
      "cell_type": "code",
      "execution_count": null,
      "metadata": {
        "id": "zzM4SP11gTFl",
        "colab": {
          "base_uri": "https://localhost:8080/"
        },
        "outputId": "32f35443-924e-4a68-9afc-c0a1170eaca6"
      },
      "outputs": [
        {
          "output_type": "stream",
          "name": "stdout",
          "text": [
            "spring\n"
          ]
        }
      ],
      "source": [
        "space1 = \"Cherry Blossom After Winter\"\n",
        "space2 = \"Flowers are blooming on the hillsides, which signals the coming of spring\"\n",
        "space = space1 + space2\n",
        "print(space[-6:])\n",
        "\n",
        "#A: spring  B: Raise a Error  C:here!  D: spring?"
      ]
    },
    {
      "cell_type": "markdown",
      "metadata": {
        "id": "qu3WC4M7o00Q"
      },
      "source": [
        "EX12: Đầu\n",
        "ra của chương trình sau đây là gì?"
      ]
    },
    {
      "cell_type": "code",
      "execution_count": null,
      "metadata": {
        "id": "wnavNGMWih4u",
        "colab": {
          "base_uri": "https://localhost:8080/"
        },
        "outputId": "48ef66ba-9d99-4287-a190-bc95b6a1a7f9"
      },
      "outputs": [
        {
          "output_type": "stream",
          "name": "stdout",
          "text": [
            "odd:3, even:3\n"
          ]
        }
      ],
      "source": [
        "my_list = [0, 1, 1, 2, 1]\n",
        "odd = 1\n",
        "even = 0\n",
        "\n",
        "for number in my_list:\n",
        "  if number % 2 == 0:\n",
        "    odd += number\n",
        "  else:\n",
        "    even += number\n",
        "print(f\"odd:{odd}, even:{even}\")\n",
        "\n",
        "#A: odd:1, even:0  B: odd:3, even:10  C:odd:3, even:3  D: Raise a Error"
      ]
    },
    {
      "cell_type": "markdown",
      "metadata": {
        "id": "UtMuQkTasH6P"
      },
      "source": [
        "EX13: Đầu\n",
        "ra của chương trình sau đây là gì?"
      ]
    },
    {
      "cell_type": "code",
      "execution_count": null,
      "metadata": {
        "id": "IzbXRRaWmwVn",
        "colab": {
          "base_uri": "https://localhost:8080/"
        },
        "outputId": "769fb75e-16d4-459d-b963-8417931e09c2"
      },
      "outputs": [
        {
          "output_type": "stream",
          "name": "stdout",
          "text": [
            "The drizzle in spring makes the air more humid. I Love It!\n"
          ]
        }
      ],
      "source": [
        "weather = '@the drizzle in spring makes the air more humid. @@'\n",
        "me = \"i love iT!\"\n",
        "\n",
        "txt = weather.strip('@').capitalize()+ me.title() \n",
        "print(txt)\n",
        "\n",
        "#A: The drizzle in spring makes the air more humid. I Love It!\n",
        "#B: The drizzle in spring makes the air more humid. i love it! \n",
        "#C: the drizzle in spring makes the air more humid. @@ I Love It!\n",
        "#D: Raise a Error"
      ]
    },
    {
      "cell_type": "markdown",
      "metadata": {
        "id": "RYAOLEiTsLn-"
      },
      "source": [
        "EX14: Đầu\n",
        "ra của chương trình sau đây là gì?"
      ]
    },
    {
      "cell_type": "code",
      "execution_count": null,
      "metadata": {
        "id": "U7Gh2E9uq9an",
        "colab": {
          "base_uri": "https://localhost:8080/"
        },
        "outputId": "51f1dcf7-3187-4adc-bdfc-62c14c25f195"
      },
      "outputs": [
        {
          "output_type": "stream",
          "name": "stdout",
          "text": [
            "[-3, 1, 3, 9]\n"
          ]
        }
      ],
      "source": [
        "data = [1, 9, 3, -3 ]\n",
        "data.sort()\n",
        "print(data)\n",
        "\n",
        "#A: [-3, 1, 3, 9]  \n",
        "#B: [1, 2, 3, 4] \n",
        "#C: [9, 3, 1, -3]  \n",
        "#D: Raise a Error"
      ]
    },
    {
      "cell_type": "markdown",
      "metadata": {
        "id": "wmSSTGJgtpQ5"
      },
      "source": [
        "EX15: Đầu\n",
        "ra của chương trình sau đây là gì?"
      ]
    },
    {
      "cell_type": "code",
      "execution_count": null,
      "metadata": {
        "id": "TVfaTknHstyW",
        "colab": {
          "base_uri": "https://localhost:8080/"
        },
        "outputId": "24418ef3-285a-4a3d-d44c-b013f22b9372"
      },
      "outputs": [
        {
          "output_type": "stream",
          "name": "stdout",
          "text": [
            "['Under', 'the', 'drizzle,', 'the', 'flower', 'field', 'seems', 'covering', 'with', 'the', 'glitter', 'water', 'drops']\n"
          ]
        }
      ],
      "source": [
        "my_exam = \"Under the drizzle, the flower field seems covering with the glitter water drops!\"\n",
        "print(my_exam.strip('!').split())\n",
        "\n",
        "#A: ['Under', 'the', 'drizzle,', 'the', 'flower', 'field', 'seems', 'covering', 'with', 'the', 'glitter', 'water', 'drops'] \n",
        "#B: Raise a Error\n",
        "#C: ['Under', 'the', 'drizzle,', 'the', 'flower', 'field', 'seems', 'covering', 'with', 'the', 'glitter', 'water', 'drops', '!']\n",
        "#D: All A, B, C"
      ]
    },
    {
      "cell_type": "markdown",
      "metadata": {
        "id": "91FoGMoeyo-H"
      },
      "source": [
        "EX16: Đầu\n",
        "ra của chương trình sau đây là gì?"
      ]
    },
    {
      "cell_type": "code",
      "execution_count": null,
      "metadata": {
        "id": "LRY1T_F5yoPp",
        "colab": {
          "base_uri": "https://localhost:8080/"
        },
        "outputId": "fd3e569c-a012-467a-ea92-0441982d58b2"
      },
      "outputs": [
        {
          "output_type": "stream",
          "name": "stdout",
          "text": [
            "['P', 'e', 'a', 'c', 'h', ' ', 'b', 'l', 'o', 's', 'm', 'i', 'n', 'p', 'r', 'g']\n"
          ]
        }
      ],
      "source": [
        "my_string = \"Peach blossoms bloom in spring\"\n",
        "\n",
        "my_bag_of_word = []\n",
        "for element in my_string:\n",
        "  if element not in my_bag_of_word:\n",
        "    my_bag_of_word.append(element)\n",
        "print(my_bag_of_word)\n",
        "\n",
        "#A: ['P', 'e', 'a', 'c', 'h']\n",
        "#B: [' ']\n",
        "#C: Raise a Error\n",
        "#D: ['P', 'e', 'a', 'c', 'h', ' ', 'b', 'l', 'o', 's', 'm', 'i', 'n', 'p', 'r', 'g']"
      ]
    },
    {
      "cell_type": "markdown",
      "metadata": {
        "id": "PBXVR6eP4Blx"
      },
      "source": [
        "EX17: Đầu\n",
        "ra của chương trình sau đây là gì?"
      ]
    },
    {
      "cell_type": "code",
      "execution_count": null,
      "metadata": {
        "id": "_2dS1jHMxkzn",
        "colab": {
          "base_uri": "https://localhost:8080/"
        },
        "outputId": "2afcc3c8-1c6e-46bf-a18e-40361d6370e2"
      },
      "outputs": [
        {
          "output_type": "stream",
          "name": "stdout",
          "text": [
            "2\n"
          ]
        }
      ],
      "source": [
        "my_string = \"My name is Tom\"\n",
        "results = my_string.count('m')\n",
        "\n",
        "print(results)\n",
        "\n",
        "#A: Raise a Error    B: 2      C: 3      D: 4  "
      ]
    },
    {
      "cell_type": "markdown",
      "metadata": {
        "id": "4V0eqlAD5Htg"
      },
      "source": [
        "EX18: Đầu\n",
        "ra của chương trình sau đây là gì?"
      ]
    },
    {
      "cell_type": "code",
      "execution_count": null,
      "metadata": {
        "id": "mTxCwZrh3b5G",
        "colab": {
          "base_uri": "https://localhost:8080/"
        },
        "outputId": "c6cf980a-5e40-4846-8d41-7b0991a7c91f"
      },
      "outputs": [
        {
          "output_type": "stream",
          "name": "stdout",
          "text": [
            "[2, 4]\n"
          ]
        }
      ],
      "source": [
        "even_numbers = [x for x in range(1,5) if x % 2==0]\n",
        "print(even_numbers)\n",
        "\n",
        "#A: Raise a Error  B: [1, 2, 3, 4, 5] C: [2, 4] D: [3, 5]"
      ]
    },
    {
      "cell_type": "markdown",
      "metadata": {
        "id": "0pmHKjRJ7OLB"
      },
      "source": [
        "EX19: Đầu\n",
        "ra của chương trình sau đây là gì?"
      ]
    },
    {
      "cell_type": "code",
      "execution_count": null,
      "metadata": {
        "id": "21x9CjPv6yKn",
        "colab": {
          "base_uri": "https://localhost:8080/"
        },
        "outputId": "32de6167-6f09-4c93-be42-683e535d5579"
      },
      "outputs": [
        {
          "output_type": "stream",
          "name": "stdout",
          "text": [
            "[1, 2]\n",
            "[1, 2]\n"
          ]
        }
      ],
      "source": [
        "X = [[1, 1],\n",
        "    [2, 2]]\n",
        "\n",
        "result = [[0,0],\n",
        "          [0,0]]\n",
        "\n",
        "for i in range(len(X)):\n",
        "   for j in range(len(X[0])):\n",
        "    result[j][i] = X[i][j]\n",
        "\n",
        "for r in result:\n",
        "   print(r)\n",
        "\n",
        "#A: [1, 2]\n",
        "#   [1, 2]\n",
        "\n",
        "#B: [1, 2, 3] [1, 2, 3]\n",
        "\n",
        "\n",
        "#C: [1, 1, 2, 2]\n",
        "\n",
        "\n",
        "#D: Raise a Error"
      ]
    },
    {
      "cell_type": "markdown",
      "metadata": {
        "id": "vx0khx6p93g4"
      },
      "source": [
        "EX20: Đầu\n",
        "ra của chương trình sau đây là gì?:"
      ]
    },
    {
      "cell_type": "code",
      "execution_count": null,
      "metadata": {
        "id": "_Y-wSj9C-i5y",
        "colab": {
          "base_uri": "https://localhost:8080/"
        },
        "outputId": "8ccabc48-d66c-40ff-e7da-55a723208c88"
      },
      "outputs": [
        {
          "output_type": "stream",
          "name": "stdout",
          "text": [
            "6\n"
          ]
        }
      ],
      "source": [
        "def my_function(my_data):\n",
        "  rs = 0\n",
        "  for i in my_data:\n",
        "    rs = rs + i\n",
        "  return rs\n",
        "\n",
        "my_list = [1, 2, 3]\n",
        "print(my_function(my_data = my_list))\n",
        "\n",
        "#A: 5       B: 6       C: 8          D: 9"
      ]
    },
    {
      "cell_type": "markdown",
      "metadata": {
        "id": "BJSYbK8298_9"
      },
      "source": [
        "EX21: Đầu\n",
        "ra của chương trình sau đây là gì?"
      ]
    },
    {
      "cell_type": "code",
      "execution_count": null,
      "metadata": {
        "id": "atDxeMVk-jDQ",
        "colab": {
          "base_uri": "https://localhost:8080/"
        },
        "outputId": "65665cc4-3f48-4e5e-e884-32233d33bd59"
      },
      "outputs": [
        {
          "output_type": "stream",
          "name": "stdout",
          "text": [
            "[{'id': 'M12'}, 10, 20, 30]\n"
          ]
        }
      ],
      "source": [
        "def my_function(my_data):\n",
        "  result = []\n",
        "  for element in data:\n",
        "    if element not in result:\n",
        "      result.append(element)\n",
        "  return result\n",
        "\n",
        "data = [ {'id': 'M12'}, 10, 20, 30]\n",
        "print(my_function(data))\n",
        "\n",
        "#A: [{'id': 'M12'}, 10, 20, 30]\n",
        "#B: ['id', 'M12', 10, 20, 30]\n",
        "#C: [10, 20, 30]\n",
        "#D: Raise a Error"
      ]
    },
    {
      "cell_type": "markdown",
      "metadata": {
        "id": "an3f27oz99KE"
      },
      "source": [
        "EX22: Hoàn thành chương trình sau"
      ]
    },
    {
      "cell_type": "code",
      "execution_count": null,
      "metadata": {
        "id": "MQSMkleNCVJa"
      },
      "outputs": [],
      "source": [
        "def my_function(data, max, min):\n",
        "    result = []\n",
        "    for i in data:\n",
        "        #Your code here\n",
        "        if i < min:\n",
        "          result.append(min)\n",
        "        #Nếu i < min thì thêm i vào result\n",
        "        \n",
        "        elif i > max:\n",
        "            result.append(max)\n",
        "        else:\n",
        "            result.append(i)\n",
        "    return result\n",
        "my_list = [5, 2, 5, 0, 1]\n",
        "max = 1\n",
        "min = 0\n",
        "assert my_function(max = max, min = min, data = my_list) == [1, 1, 1, 0, 1]"
      ]
    },
    {
      "cell_type": "code",
      "execution_count": null,
      "metadata": {
        "id": "-FQJgOTLNKmx",
        "colab": {
          "base_uri": "https://localhost:8080/"
        },
        "outputId": "00013652-7b7c-4a68-9731-15bf8600fa7d"
      },
      "outputs": [
        {
          "output_type": "stream",
          "name": "stdout",
          "text": [
            "[2, 2, 2, 1, 1]\n"
          ]
        }
      ],
      "source": [
        "my_list = [10, 2, 5, 0, 1]\n",
        "max = 2\n",
        "min = 1\n",
        "print(my_function(max = max, min = min, data = my_list))\n",
        "\n",
        "#A: [10, 2, 5, 1, 1]\n",
        "#B: [0, 2, 2, 0, 0]\n",
        "#C: [2, 2, 2, 1, 1]\n",
        "#D: Raise a Error"
      ]
    },
    {
      "cell_type": "markdown",
      "metadata": {
        "id": "QSzYs7hr99Pq"
      },
      "source": [
        "EX23: Hoàn thành chương trình dưới đây"
      ]
    },
    {
      "cell_type": "code",
      "execution_count": null,
      "metadata": {
        "id": "VZCsPewvFeoK"
      },
      "outputs": [],
      "source": [
        "def my_function(x, y):\n",
        "    #Your code here\n",
        "    x.extend(y)\n",
        "    return x\n",
        "    # Sử dụng extend để nối y vào x\n",
        "\n",
        "list_num1 = ['a', 2, 5]\n",
        "list_num2 = [1, 1]\n",
        "list_num3 = [0, 0]\n",
        "\n",
        "assert my_function(list_num1, my_function(list_num2, list_num3)) == ['a', 2, 5, 1, 1, 0, 0]"
      ]
    },
    {
      "cell_type": "code",
      "execution_count": null,
      "metadata": {
        "id": "ZJndw6k0Qjy1",
        "colab": {
          "base_uri": "https://localhost:8080/"
        },
        "outputId": "b9b13ad0-e5b9-4f5d-86fb-4315c92a71b5"
      },
      "outputs": [
        {
          "output_type": "stream",
          "name": "stdout",
          "text": [
            "[1, 2, 3, 4, 0, 0]\n"
          ]
        }
      ],
      "source": [
        "list_num1 = [1, 2]\n",
        "list_num2 = [3, 4]\n",
        "list_num3 = [0, 0]\n",
        "\n",
        "print(my_function(list_num1, my_function(list_num2, list_num3)))\n",
        "\n",
        "#A: [1, 2, 3, 4, 0, 0]\n",
        "#B: [1, 2, [3, 4, 0, 0]]\n",
        "#C: [[1, 2, 3, 4, 0, 0]]\n",
        "#D: Raise a Error"
      ]
    },
    {
      "cell_type": "markdown",
      "metadata": {
        "id": "ohf8LbFp99T7"
      },
      "source": [
        "EX24: Hãy hoàn thành chương trình tìm phần tử có giá trị nhỏ nhất trong một list dưới đây"
      ]
    },
    {
      "cell_type": "code",
      "execution_count": null,
      "metadata": {
        "id": "AtiphAEQG42K"
      },
      "outputs": [],
      "source": [
        "def my_function(n):\n",
        "    #Your code here\n",
        "    min = n[0]\n",
        "    for i in range(len(n)):\n",
        "      if n[i] < min:\n",
        "        min = n[i]\n",
        "    return min\n",
        "\n",
        "my_list = [1, 22, 93, -100]\n",
        "my_function(my_list)\n",
        "assert my_function(my_list) == -100 "
      ]
    },
    {
      "cell_type": "code",
      "execution_count": null,
      "metadata": {
        "id": "TDJZ11etVBHv",
        "colab": {
          "base_uri": "https://localhost:8080/"
        },
        "outputId": "8bc7816a-00d1-473b-8ba9-47cc1029653a"
      },
      "outputs": [
        {
          "output_type": "stream",
          "name": "stdout",
          "text": [
            "-1\n"
          ]
        }
      ],
      "source": [
        "my_list = [1, 2, 3, -1]\n",
        "print(my_function(my_list))\n",
        "\n",
        "#A: None\n",
        "#B: Raise a Error\n",
        "#C: -1\n",
        "#D: 3"
      ]
    },
    {
      "cell_type": "markdown",
      "metadata": {
        "id": "MVFJnLmi99YE"
      },
      "source": [
        "EX25: Hãy hoàn thành chương trình tìm phần tử có giá trị lớn nhất trong một list dưới đây"
      ]
    },
    {
      "cell_type": "code",
      "execution_count": null,
      "metadata": {
        "id": "4eo8E9DcHpBS"
      },
      "outputs": [],
      "source": [
        "def my_function(n):\n",
        "    #Your code here\n",
        "    max = n[0]\n",
        "    for i in range(len(n)):\n",
        "      if n[i] > max:\n",
        "        max = n[i]\n",
        "    return max\n",
        "\n",
        "my_list = [1001, 9, 100, 0]\n",
        "assert my_function(my_list) == 1001"
      ]
    },
    {
      "cell_type": "code",
      "execution_count": null,
      "metadata": {
        "id": "H2miygCtVkIA",
        "colab": {
          "base_uri": "https://localhost:8080/"
        },
        "outputId": "78047baf-aef8-4d35-89b1-ba9e0f7ad8d2"
      },
      "outputs": [
        {
          "output_type": "stream",
          "name": "stdout",
          "text": [
            "9\n"
          ]
        }
      ],
      "source": [
        "my_list = [1, 9, 9, 0]\n",
        "print(my_function(my_list))\n",
        "\n",
        "#A: None\n",
        "#B: Raise a Error\n",
        "#C: 0\n",
        "#D: 9"
      ]
    },
    {
      "cell_type": "markdown",
      "metadata": {
        "id": "ryafVp-899ws"
      },
      "source": [
        "EX26: Hãy hoàn thành chương trình dưới đây"
      ]
    },
    {
      "cell_type": "code",
      "execution_count": null,
      "metadata": {
        "id": "OaLraXU5IMeD"
      },
      "outputs": [],
      "source": [
        "def My_function(integers, number = 1):\n",
        "    return any(#Your code here: Thực hiện duyệt từng phần tử trong integers, so sánh từng phần tử với number, nếu bằng nhau trả về True, khác nhau trả về false \n",
        "               #ví dụ: integers = [1, 2, 3], number = 2, bạn sẽ tạo ra list [False, True, False] \n",
        "               elements==number for elements in integers)\n",
        "\n",
        "my_list = [1, 3, 9, 4]\n",
        "assert My_function(my_list, -1) == False"
      ]
    },
    {
      "cell_type": "code",
      "execution_count": null,
      "metadata": {
        "id": "moG_EGpfXuhs",
        "colab": {
          "base_uri": "https://localhost:8080/"
        },
        "outputId": "646c326f-329c-4c52-9e4a-f4fce3344883"
      },
      "outputs": [
        {
          "output_type": "stream",
          "name": "stdout",
          "text": [
            "True\n"
          ]
        }
      ],
      "source": [
        "my_list = [1, 2, 3, 4]\n",
        "print(My_function(my_list, 2))\n",
        "\n",
        "#A: 1\n",
        "#B: 4\n",
        "#C: True\n",
        "#D: False"
      ]
    },
    {
      "cell_type": "markdown",
      "metadata": {
        "id": "qsb1Bw1-990w"
      },
      "source": [
        "EX27: Hãy hoàn thành chương trình tính giá trị trung bình các phần tử trong list dưới đây:"
      ]
    },
    {
      "cell_type": "code",
      "execution_count": null,
      "metadata": {
        "id": "o8ir90ScJHJ8"
      },
      "outputs": [],
      "source": [
        "def my_function(list_nums = [0, 1, 2]):\n",
        "    var = 0\n",
        "    for i in list_nums:\n",
        "        var += i\n",
        "    return (var/len(list_nums)) #Your code here: Trả về giá trị trung bình của list bằng cách chia var cho số lượng phần tử trong list_mums\n",
        "\n",
        "assert my_function([4, 6, 8]) == 6"
      ]
    },
    {
      "cell_type": "code",
      "execution_count": null,
      "metadata": {
        "id": "WbyCfTppY5JR",
        "colab": {
          "base_uri": "https://localhost:8080/"
        },
        "outputId": "a2b814c2-9cc3-4802-8bd3-4c5c56dbf800"
      },
      "outputs": [
        {
          "output_type": "stream",
          "name": "stdout",
          "text": [
            "1.0\n"
          ]
        }
      ],
      "source": [
        "print(my_function())\n",
        "\n",
        "#A: 1.0\n",
        "#B: 2.0\n",
        "#C: Raise a Error\n",
        "#D: A and C"
      ]
    },
    {
      "cell_type": "markdown",
      "metadata": {
        "id": "evdLjvrx9958"
      },
      "source": [
        "EX28: Đầu ra của chương trình sau đây là gì?"
      ]
    },
    {
      "cell_type": "code",
      "execution_count": null,
      "metadata": {
        "id": "s8_v461kLHoa",
        "colab": {
          "base_uri": "https://localhost:8080/"
        },
        "outputId": "3016712b-41f2-4c14-a5e6-47144528a03e"
      },
      "outputs": [
        {
          "output_type": "stream",
          "name": "stdout",
          "text": [
            "None\n"
          ]
        }
      ],
      "source": [
        "def my_function(signal1, signal2):\n",
        "  var = False\n",
        "  for s1 in signal1:\n",
        "    for s2 in signal2:\n",
        "      if s1 == s2:\n",
        "        var = True\n",
        "        return var\n",
        "print(my_function([1, 1, 1], [2, 2, 2]))\n",
        "\n",
        "#A: False\n",
        "#B: True\n",
        "#C: Raise a Error\n",
        "#D: None"
      ]
    },
    {
      "cell_type": "code",
      "execution_count": null,
      "metadata": {
        "id": "TsFpfZgvZ_Fu"
      },
      "outputs": [],
      "source": []
    },
    {
      "cell_type": "markdown",
      "metadata": {
        "id": "z2_DqRD99-NW"
      },
      "source": [
        "EX29: Đầu\n",
        "ra của chương trình sau đây là gì??"
      ]
    },
    {
      "cell_type": "code",
      "execution_count": null,
      "metadata": {
        "id": "khbPUkw4MQAq",
        "colab": {
          "base_uri": "https://localhost:8080/"
        },
        "outputId": "3a23efbf-a400-4137-a8c8-9f0e80673c3d"
      },
      "outputs": [
        {
          "output_type": "stream",
          "name": "stdout",
          "text": [
            "True\n"
          ]
        }
      ],
      "source": [
        "def My_function(signal1, signal2):\n",
        "  var = False\n",
        "  for s1 in signal1:\n",
        "    for s2 in signal2:\n",
        "      if s1 == s2:\n",
        "        var = True\n",
        "        return var\n",
        "print(My_function([1, 2, 3], [2, 2]))\n",
        "\n",
        "#A: False\n",
        "#B: True\n",
        "#C: Raise a Error\n",
        "#D: None"
      ]
    },
    {
      "cell_type": "markdown",
      "metadata": {
        "id": "eciqOXgP9-Tj"
      },
      "source": [
        "EX30: Hãy hoàn thành chương trình dưới đây thực hiện trả về một danh sách chỉ chứa số nguyên chia hết cho 3 từ một list các số nguyên:"
      ]
    },
    {
      "cell_type": "code",
      "execution_count": null,
      "metadata": {
        "id": "-pOXEeOEMZ75"
      },
      "outputs": [],
      "source": [
        "def my_function(data):\n",
        "  var = []\n",
        "  for i in data:\n",
        "    #Your code here\n",
        "    if i%3==0:\n",
        "      var.append(i)\n",
        "    #Nếu i chia hết cho 3 thì thêm i vào list var\n",
        "  return var\n",
        "\n",
        "assert my_function([3, 9, 4, 5]) == [3, 9]"
      ]
    },
    {
      "cell_type": "code",
      "execution_count": null,
      "metadata": {
        "id": "VfjAebkpbcQ9",
        "colab": {
          "base_uri": "https://localhost:8080/"
        },
        "outputId": "01348bba-ae65-4591-f17b-abf1ffeb480c"
      },
      "outputs": [
        {
          "output_type": "stream",
          "name": "stdout",
          "text": [
            "[3, 6]\n"
          ]
        }
      ],
      "source": [
        "print(my_function([1, 2, 3, 5, 6]))\n",
        "\n",
        "#A: [3, 6]\n",
        "#B: [1, 2, 3, 5, 6]\n",
        "#C: A and D\n",
        "#D: [5, 1]"
      ]
    },
    {
      "cell_type": "markdown",
      "metadata": {
        "id": "n9ipqb6N-PFs"
      },
      "source": [
        "EX31: Đầu\n",
        "ra của chương trình sau đây là gì?"
      ]
    },
    {
      "cell_type": "code",
      "execution_count": null,
      "metadata": {
        "id": "ywl787DyNJl7",
        "colab": {
          "base_uri": "https://localhost:8080/"
        },
        "outputId": "f9c91481-8c44-4016-ce09-43d531b5fb25"
      },
      "outputs": [
        {
          "output_type": "stream",
          "name": "stdout",
          "text": [
            "1  0  \n",
            "0  1  \n"
          ]
        }
      ],
      "source": [
        "def my_function(x):\n",
        "  for i in range(x):\n",
        "    for j in range(x):\n",
        "      if i == j:\n",
        "        print(\"1 \", end=\" \")\n",
        "      else:\n",
        "        print(\"0 \", end=\" \")\n",
        "    print()\n",
        "my_function(2)"
      ]
    },
    {
      "cell_type": "code",
      "execution_count": null,
      "metadata": {
        "id": "7R7ax2ambtyO"
      },
      "outputs": [],
      "source": [
        "# #A: 1   0\n",
        "#     0   1\n",
        "\n",
        "# #B: 0   1\n",
        "#     1   0\n",
        "\n",
        "# #C: [1, 0, 0, 1]\n",
        "\n",
        "# #D: None"
      ]
    },
    {
      "cell_type": "markdown",
      "metadata": {
        "id": "hLU7ZIDF-PMN"
      },
      "source": [
        "EX32: Hãy hoàn thành chương trình sau đây thực hiện tính giai thừa của 1 số\n",
        "\n"
      ]
    },
    {
      "cell_type": "code",
      "execution_count": null,
      "metadata": {
        "id": "WZc1_4zxN7R7"
      },
      "outputs": [],
      "source": [
        "def my_function(y):\n",
        "  var = 1\n",
        "  while(y > 1):\n",
        "    var = var * y\n",
        "    y = y - 1\n",
        "  return var\n",
        "\n",
        "assert my_function(8) == 40320"
      ]
    },
    {
      "cell_type": "code",
      "execution_count": null,
      "metadata": {
        "id": "YUm6ChnseCRf",
        "colab": {
          "base_uri": "https://localhost:8080/"
        },
        "outputId": "c1bf0bc7-94c3-4bc8-a125-a7776e05ff8b"
      },
      "outputs": [
        {
          "output_type": "stream",
          "name": "stdout",
          "text": [
            "24\n"
          ]
        }
      ],
      "source": [
        "print(my_function(4))\n",
        "\n",
        "#A: 0\n",
        "#B: 20\n",
        "#C: 24\n",
        "#D: Raise a Error"
      ]
    },
    {
      "cell_type": "markdown",
      "metadata": {
        "id": "qBU5avrq-PR7"
      },
      "source": [
        "EX33: Đầu\n",
        "ra của chương trình sau đây là gì?"
      ]
    },
    {
      "cell_type": "code",
      "execution_count": null,
      "metadata": {
        "id": "J4FlPUuJOfG4",
        "colab": {
          "base_uri": "https://localhost:8080/"
        },
        "outputId": "b87a1e57-4a62-4ca3-b0ce-c878491a90e0"
      },
      "outputs": [
        {
          "output_type": "stream",
          "name": "stdout",
          "text": [
            "[0, 1, 2, 3]\n"
          ]
        }
      ],
      "source": [
        "def my_function(signal):\n",
        "  var = True\n",
        "  while var:\n",
        "    var = False\n",
        "    for i in range(len(signal) - 1):\n",
        "      if signal[i] > signal[i + 1]:\n",
        "        signal[i], signal[i + 1] = signal[i + 1], signal[i]\n",
        "        var = True\n",
        "\n",
        "my_signal = [1, 2, 3, 0]\n",
        "my_function(my_signal)\n",
        "print(my_signal)\n",
        "\n",
        "#A: [0, 1, 2, 3]\n",
        "#B: [1, 1, 1, 1]\n",
        "#C: [3, 2, 1, 0]\n",
        "#D: Raise a Error"
      ]
    },
    {
      "cell_type": "markdown",
      "metadata": {
        "id": "YzGwJe5t-QEQ"
      },
      "source": [
        "EX34: Đầu\n",
        "ra của chương trình sau đây là gì?"
      ]
    },
    {
      "cell_type": "code",
      "execution_count": null,
      "metadata": {
        "id": "-ZBmAFU793GJ",
        "colab": {
          "base_uri": "https://localhost:8080/"
        },
        "outputId": "dfe396c3-579a-48bf-8b66-ed3ef764ac98"
      },
      "outputs": [
        {
          "output_type": "stream",
          "name": "stdout",
          "text": [
            "\n",
            " Sum of two numbers\n",
            " input: num1, num2\n",
            " output: num1+num2\n",
            " \n"
          ]
        }
      ],
      "source": [
        "def sum_function(num1, num2):\n",
        " '''\n",
        " Sum of two numbers\n",
        " input: num1, num2\n",
        " output: num1+num2\n",
        " '''\n",
        " return num1 + num1\n",
        "\n",
        "print(sum_function.__doc__)"
      ]
    },
    {
      "cell_type": "code",
      "execution_count": null,
      "metadata": {
        "id": "5CaaLWOW1mWl"
      },
      "outputs": [],
      "source": [
        "# '''\n",
        "# A:  Sum of two numbers\n",
        "#     input: num1, num2\n",
        "#     output: num1+num2\n",
        "# B: 10\n",
        "# C: Raise a Error\n",
        "# D: 100!\n",
        "# '''"
      ]
    },
    {
      "cell_type": "markdown",
      "metadata": {
        "id": "nTR3h_iQl_y3"
      },
      "source": [
        "EX35: Hãy hoàn thành chương trình đảo ngược chuỗi dưới đây"
      ]
    },
    {
      "cell_type": "code",
      "execution_count": null,
      "metadata": {
        "id": "y4gDivEh70Z3"
      },
      "outputs": [],
      "source": [
        "def my_function(x):\n",
        "  #your code here\n",
        "  return x[::-1]\n",
        "\n",
        "x = 'I can do it'\n",
        "assert my_function(x)==\"ti od nac I\""
      ]
    },
    {
      "cell_type": "code",
      "execution_count": null,
      "metadata": {
        "id": "I5BUMIpkfgeA",
        "colab": {
          "base_uri": "https://localhost:8080/"
        },
        "outputId": "e10380d9-8034-4f03-80bc-c7e06323bf7e"
      },
      "outputs": [
        {
          "output_type": "stream",
          "name": "stdout",
          "text": [
            "tocirpa\n"
          ]
        }
      ],
      "source": [
        "x = 'apricot'\n",
        "print(my_function(x))\n",
        "\n",
        "#A: apricot\n",
        "#B: tocirpa\n",
        "#C: at\n",
        "#D: ta"
      ]
    },
    {
      "cell_type": "markdown",
      "metadata": {
        "id": "D-fMj4hpm13b"
      },
      "source": [
        "EX36: Hãy hoàn thành chương trình dưới đây"
      ]
    },
    {
      "cell_type": "code",
      "execution_count": null,
      "metadata": {
        "id": "5okSj1lwmDri"
      },
      "outputs": [],
      "source": [
        "def function_helper(x):\n",
        "  #Your code here\n",
        "  #Nếu x>0 trả về 'T', ngược lại trả về 'N'\n",
        "  return 'T' if x>0 else 'N'\n",
        "\n",
        "def my_function(data):\n",
        "  res = [function_helper(x) for x in data]\n",
        "  return res\n",
        "\n",
        "data = [10, 0, -10, -1]\n",
        "assert my_function(data) == ['T', 'N', 'N', 'N']"
      ]
    },
    {
      "cell_type": "code",
      "execution_count": null,
      "metadata": {
        "id": "wtK89i0egAMT",
        "colab": {
          "base_uri": "https://localhost:8080/"
        },
        "outputId": "d100f732-ed09-45f9-fc7d-7a970ba30251"
      },
      "outputs": [
        {
          "output_type": "stream",
          "name": "stdout",
          "text": [
            "['T', 'T', 'T', 'N']\n"
          ]
        }
      ],
      "source": [
        "data = [2, 3, 5, -1]\n",
        "print(my_function(data))\n",
        "\n",
        "# '''\n",
        "# a) ['N', 'T', 'T', 'N']\n",
        "# b) ['T', 'N', 'T', 'N']\n",
        "# c) ['T', 'T', 'T', 'N']\n",
        "# d) Raise a Error\n",
        "# '''"
      ]
    },
    {
      "cell_type": "markdown",
      "metadata": {
        "id": "JVWKE27fm3z5"
      },
      "source": [
        "EX37: Hãy hoàn thành chương trình dưới đây"
      ]
    },
    {
      "cell_type": "code",
      "execution_count": null,
      "metadata": {
        "id": "iDch6DXdmU9S"
      },
      "outputs": [],
      "source": [
        "def function_helper(x, data):\n",
        "  for i in data:\n",
        "    #Your code here\n",
        "    if x==i:\n",
        "      return 0\n",
        "    #Nếu x == i thì return 0\n",
        "  return 1\n",
        "\n",
        "def my_function(data):\n",
        "  res = []\n",
        "  for i in data:\n",
        "    if function_helper(i, res):\n",
        "      res.append(i)\n",
        "  \n",
        "  return res\n",
        "\n",
        "lst = [10, 10, 9, 7, 7]\n",
        "assert my_function(lst)==[10, 9, 7]"
      ]
    },
    {
      "cell_type": "code",
      "execution_count": null,
      "metadata": {
        "id": "e-Ky5OAkmukd",
        "colab": {
          "base_uri": "https://localhost:8080/"
        },
        "outputId": "5e8efb9f-f322-45e3-abe1-ca6c4d03ebbb"
      },
      "outputs": [
        {
          "output_type": "stream",
          "name": "stdout",
          "text": [
            "[9, 8, 1]\n"
          ]
        }
      ],
      "source": [
        "lst = [9, 9, 8, 1, 1]\n",
        "print(my_function(lst))\n",
        "\n",
        "#A: [9, 8, 1]\n",
        "#B: [1, 1, 1]\n",
        "#C: [9, 9, 8, 1, 1]]\n",
        "#D: Raise a Error"
      ]
    }
  ],
  "metadata": {
    "colab": {
      "provenance": [],
      "include_colab_link": true
    },
    "kernelspec": {
      "display_name": "Python 3 (ipykernel)",
      "language": "python",
      "name": "python3"
    },
    "language_info": {
      "codemirror_mode": {
        "name": "ipython",
        "version": 3
      },
      "file_extension": ".py",
      "mimetype": "text/x-python",
      "name": "python",
      "nbconvert_exporter": "python",
      "pygments_lexer": "ipython3",
      "version": "3.9.13"
    }
  },
  "nbformat": 4,
  "nbformat_minor": 0
}