{
 "cells": [
  {
   "cell_type": "markdown",
   "metadata": {},
   "source": [
    "## Create a tensor in PyTorch"
   ]
  },
  {
   "cell_type": "markdown",
   "metadata": {},
   "source": [
    "Tensor là kiểu dữ liệu nhiều chiều"
   ]
  },
  {
   "cell_type": "code",
   "execution_count": 6,
   "metadata": {},
   "outputs": [
    {
     "name": "stdout",
     "output_type": "stream",
     "text": [
      "tensor([1, 2, 3])\n"
     ]
    }
   ],
   "source": [
    "# From a list\n",
    "import torch\n",
    "\n",
    "data = [1, 2, 3]\n",
    "data = torch.tensor(data)\n",
    "print(data)"
   ]
  },
  {
   "cell_type": "code",
   "execution_count": 7,
   "metadata": {},
   "outputs": [
    {
     "name": "stdout",
     "output_type": "stream",
     "text": [
      "tensor([[0.5616, 0.4463, 0.7310],\n",
      "        [0.6064, 0.6255, 0.3457],\n",
      "        [0.1964, 0.3177, 0.1460]])\n"
     ]
    }
   ],
   "source": [
    "# random uniform\n",
    "import torch\n",
    "\n",
    "# Creates a 3x3 tensor wwith\n",
    "# random values between 0 and 1\n",
    "data = torch.rand(3, 3)\n",
    "print(data)"
   ]
  },
  {
   "cell_type": "code",
   "execution_count": 8,
   "metadata": {},
   "outputs": [
    {
     "name": "stdout",
     "output_type": "stream",
     "text": [
      "tensor([1, 2, 3], dtype=torch.int32)\n"
     ]
    }
   ],
   "source": [
    "# From a NumPy array\n",
    "import numpy as np\n",
    "\n",
    "data = np.array([1, 2, 3])\n",
    "data = torch.from_numpy(data)\n",
    "print(data)"
   ]
  },
  {
   "cell_type": "code",
   "execution_count": 9,
   "metadata": {},
   "outputs": [
    {
     "name": "stdout",
     "output_type": "stream",
     "text": [
      "tensor([[0.9313, 0.6922, 0.4961],\n",
      "        [0.3911, 0.5603, 0.4440],\n",
      "        [0.9804, 0.8099, 0.5432]])\n"
     ]
    }
   ],
   "source": [
    "# random normal\n",
    "import torch\n",
    "\n",
    "# Creates a 3x3 tensor with values\n",
    "# sampled from a standard normal distribution\n",
    "data = torch.rand(3, 3)\n",
    "print(data)"
   ]
  },
  {
   "cell_type": "code",
   "execution_count": 10,
   "metadata": {},
   "outputs": [
    {
     "name": "stdout",
     "output_type": "stream",
     "text": [
      "tensor([0, 1, 2, 3, 4])\n"
     ]
    }
   ],
   "source": [
    "# Using the arange function\n",
    "import torch\n",
    "\n",
    "# Creates a tensor [0, 1, 2, 3, 4]\n",
    "data = torch.arange(start=0, end=5, step=1)\n",
    "print(data)"
   ]
  },
  {
   "cell_type": "markdown",
   "metadata": {},
   "source": [
    "# Tensor"
   ]
  },
  {
   "cell_type": "markdown",
   "metadata": {},
   "source": [
    "## Broadcasting"
   ]
  },
  {
   "cell_type": "code",
   "execution_count": 11,
   "metadata": {},
   "outputs": [
    {
     "name": "stdout",
     "output_type": "stream",
     "text": [
      "Tensor1:\n",
      " tensor([[1, 2],\n",
      "        [3, 4]])\n",
      "Tensor2:\n",
      " tensor([1])\n",
      "Tensor3:\n",
      " tensor([[2, 3],\n",
      "        [4, 5]])\n"
     ]
    }
   ],
   "source": [
    "# broadcasting\n",
    "\n",
    "import numpy as np\n",
    "\n",
    "# creates a tensor\n",
    "tensor1 = torch.tensor([[1, 2],\n",
    "                        [3, 4]])\n",
    "tensor2 = torch.tensor([1])\n",
    "print(f'Tensor1:\\n {tensor1}')\n",
    "print(f'Tensor2:\\n {tensor2}')\n",
    "\n",
    "# Addition between two tensors\n",
    "tensor3 = tensor1 + tensor2\n",
    "print(f'Tensor3:\\n {tensor3}')"
   ]
  },
  {
   "cell_type": "code",
   "execution_count": 12,
   "metadata": {},
   "outputs": [
    {
     "name": "stdout",
     "output_type": "stream",
     "text": [
      "Tensor1:\n",
      " tensor([[1, 2],\n",
      "        [3, 4]])\n",
      "Tensor2:\n",
      " tensor([[3, 4],\n",
      "        [5, 6]])\n"
     ]
    }
   ],
   "source": [
    "# broadcasting\n",
    "\n",
    "import numpy as np\n",
    "\n",
    "# creates a tensor\n",
    "tensor1 = torch.tensor([[1, 2],\n",
    "                        [3, 4]])\n",
    "print(f'Tensor1:\\n {tensor1}')\n",
    "tensor2 = tensor1 + 2\n",
    "print(f'Tensor2:\\n {tensor2}')"
   ]
  },
  {
   "cell_type": "markdown",
   "metadata": {},
   "source": [
    "## Important functions"
   ]
  },
  {
   "attachments": {
    "image.png": {
     "image/png": "[encoded data removed]"
    }
   },
   "cell_type": "markdown",
   "metadata": {},
   "source": [
    "### Squared Difference\n",
    "\n",
    "![image.png](attachment:image.png)"
   ]
  },
  {
   "cell_type": "code",
   "execution_count": 13,
   "metadata": {},
   "outputs": [
    {
     "name": "stdout",
     "output_type": "stream",
     "text": [
      "x:\n",
      " tensor([1., 2., 3., 4.])\n",
      "y = 5\n",
      "squared_diff:\n",
      " tensor([16.,  9.,  4.,  1.])\n"
     ]
    }
   ],
   "source": [
    "# Compute squared difference\n",
    "import torch\n",
    "\n",
    "# Create two tensors\n",
    "x = torch.tensor([1.0, 2.0, 3.0, 4.0])\n",
    "y = 5 \n",
    "\n",
    "# Compute squared difference\n",
    "squared_diff = (x - y) ** 2\n",
    "\n",
    "print(f'x:\\n {x}')\n",
    "print(f'y = {y}')\n",
    "print(f'squared_diff:\\n {squared_diff}')"
   ]
  },
  {
   "attachments": {
    "image.png": {
     "image/png": "[encoded data removed]"
    }
   },
   "cell_type": "markdown",
   "metadata": {},
   "source": [
    "### Mean Squared Error\n",
    "\n",
    "![image.png](attachment:image.png)"
   ]
  },
  {
   "cell_type": "code",
   "execution_count": 14,
   "metadata": {},
   "outputs": [
    {
     "name": "stdout",
     "output_type": "stream",
     "text": [
      "x:\n",
      " tensor([1., 2., 3., 4.])\n",
      "y = tensor([5., 5., 5., 5.])\n",
      "mse:\n",
      " 7.5\n"
     ]
    }
   ],
   "source": [
    "# Compute mean squared error\n",
    "import torch\n",
    "\n",
    "# Creates two tensors\n",
    "x = torch.tensor([1.0, 2.0, 3.0, 4.0])\n",
    "y = torch.tensor([5.0, 5.0, 5.0, 5.0])\n",
    "\n",
    "# Compute squared difference\n",
    "loss_fn = torch.nn.MSELoss()\n",
    "mse = loss_fn(x, y)\n",
    "\n",
    "print(f'x:\\n {x}')\n",
    "print(f'y = {y}')\n",
    "print(f'mse:\\n {mse}')"
   ]
  },
  {
   "cell_type": "markdown",
   "metadata": {},
   "source": [
    "### Concatenate"
   ]
  },
  {
   "cell_type": "code",
   "execution_count": 15,
   "metadata": {},
   "outputs": [
    {
     "name": "stdout",
     "output_type": "stream",
     "text": [
      "Tensor1:\n",
      " tensor([[1, 2],\n",
      "        [3, 4],\n",
      "        [3, 4],\n",
      "        [5, 6]])\n",
      "Tensor2:\n",
      " tensor([[1, 2, 3, 4],\n",
      "        [3, 4, 5, 6]])\n"
     ]
    }
   ],
   "source": [
    "# Concatenate tensors\n",
    "import torch \n",
    "\n",
    "# Create two tensors\n",
    "x = torch.tensor([[1, 2],\n",
    "                  [3, 4]])\n",
    "y = torch.tensor([[3, 4],\n",
    "                  [5, 6]])\n",
    "\n",
    "# Concat tensors along the first dim\n",
    "tensor1 = torch.cat((x, y), dim=0)\n",
    "print(f'Tensor1:\\n {tensor1}')\n",
    "\n",
    "# concat tensors along the second dim\n",
    "tensor2 = torch.cat((x, y), dim=1)\n",
    "print(f'Tensor2:\\n {tensor2}')"
   ]
  },
  {
   "cell_type": "markdown",
   "metadata": {},
   "source": [
    "### Argmax"
   ]
  },
  {
   "cell_type": "code",
   "execution_count": 16,
   "metadata": {},
   "outputs": [
    {
     "name": "stdout",
     "output_type": "stream",
     "text": [
      "data:\n",
      " tensor([[3, 2],\n",
      "        [2, 4],\n",
      "        [2, 4]])\n",
      "argmax0:\n",
      " tensor([0, 1])\n",
      "argmax1:\n",
      " tensor([0, 1, 1])\n"
     ]
    }
   ],
   "source": [
    "# argmax\n",
    "import torch\n",
    "\n",
    "# Creates a 3x2 tensor\n",
    "data = torch.randint(low=0, high=5, size=(3, 2))\n",
    "print(f'data:\\n {data}')\n",
    "\n",
    "# Compute argmax across the rows (dimension 0)\n",
    "argmax_dim0 = torch.argmax(data, dim=0)\n",
    "print(f'argmax0:\\n {argmax_dim0}')\n",
    "\n",
    "# Compute argmax across the rows (dimension 1)\n",
    "argmax_dim1 = torch.argmax(data, dim=1)\n",
    "print(f'argmax1:\\n {argmax_dim1}')"
   ]
  },
  {
   "cell_type": "markdown",
   "metadata": {},
   "source": [
    "# Gradient Computation"
   ]
  },
  {
   "cell_type": "code",
   "execution_count": 17,
   "metadata": {},
   "outputs": [
    {
     "name": "stdout",
     "output_type": "stream",
     "text": [
      "z: 14.0\n",
      "Gradient of z w.r.t. x: 12.0\n"
     ]
    }
   ],
   "source": [
    "# autograd\n",
    "import torch\n",
    "\n",
    "# Create a tensor to compute gradients\n",
    "x = torch.tensor(2.0, requires_grad=True)\n",
    "\n",
    "# operation\n",
    "y = x ** 2\n",
    "z = 3*y + 2\n",
    "print(f'z: {z}')\n",
    "\n",
    "# Backpropagate to compute gradients\n",
    "z.backward()\n",
    "\n",
    "# Print the gradient. dz/dx at x=2.0\n",
    "print(f\"Gradient of z w.r.t. x: {x.grad}\")"
   ]
  },
  {
   "cell_type": "code",
   "execution_count": 18,
   "metadata": {},
   "outputs": [
    {
     "name": "stdout",
     "output_type": "stream",
     "text": [
      "b - Parameter containing:\n",
      "tensor([0.3229], requires_grad=True)\n",
      "w - Parameter containing:\n",
      "tensor([[-0.7729]], requires_grad=True)\n"
     ]
    }
   ],
   "source": [
    "import torch.nn as nn\n",
    "\n",
    "# Create a Linear Layer\n",
    "linear = nn.Linear(1, 1)\n",
    "\n",
    "print(f'b - {linear.bias}')\n",
    "print(f'w - {linear.weight}')"
   ]
  },
  {
   "cell_type": "code",
   "execution_count": 19,
   "metadata": {},
   "outputs": [
    {
     "name": "stdout",
     "output_type": "stream",
     "text": [
      "b - Parameter containing:\n",
      "tensor([0.0400], requires_grad=True)\n",
      "w - Parameter containing:\n",
      "tensor([[-0.3400]], requires_grad=True)\n"
     ]
    }
   ],
   "source": [
    "import torch.nn as nn \n",
    "import torch \n",
    "\n",
    "# Create a Linear Layer\n",
    "linear = nn.Linear(1, 1)\n",
    "\n",
    "# set values\n",
    "linear.bias.data = torch.tensor([0.04])\n",
    "linear.weight.data = torch.tensor([[-0.34]])\n",
    "\n",
    "print(f'b - {linear.bias}')\n",
    "print(f'w - {linear.weight}')"
   ]
  },
  {
   "cell_type": "code",
   "execution_count": 20,
   "metadata": {},
   "outputs": [
    {
     "name": "stdout",
     "output_type": "stream",
     "text": [
      "loss: 0.08428515493869781\n"
     ]
    },
    {
     "data": {
      "text/plain": [
       "[<matplotlib.lines.Line2D at 0x273d16101a0>]"
      ]
     },
     "execution_count": 20,
     "metadata": {},
     "output_type": "execute_result"
    },
    {
     "data": {
      "image/png": "[encoded data removed]",
      "text/plain": [
       "<Figure size 640x480 with 1 Axes>"
      ]
     },
     "metadata": {},
     "output_type": "display_data"
    }
   ],
   "source": [
    "import numpy as np\n",
    "import torch\n",
    "import torch.nn as nn \n",
    "from sklearn.metrics import accuracy_score\n",
    "### Data preparation\n",
    "data = np.genfromtxt('data.csv', delimiter=',')\n",
    "x_data = torch.from_numpy(data[:, 0:1]).float()\n",
    "y_data = torch.from_numpy(data[:, 1:]).float()\n",
    "\n",
    "# Create model, loss and optimizer\n",
    "linear = nn.Linear(1, 1)\n",
    "loss_fn = torch.nn.MSELoss()\n",
    "optimizer = torch.optim.SGD(linear.parameters(),\n",
    "                            lr=0.01)\n",
    "losses = []\n",
    "# Training\n",
    "epochs = 100\n",
    "for epoch in range(epochs):\n",
    "    y_hat = linear(x_data)\n",
    "    loss = loss_fn(y_hat, y_data)\n",
    "    # compute gradient\n",
    "    optimizer.zero_grad()\n",
    "    loss.backward()\n",
    "    losses.append(loss.item())\n",
    "    # update\n",
    "    optimizer.step()\n",
    "\n",
    "print(f'loss: {loss}')\n",
    "import matplotlib.pyplot as plt \n",
    "plt.plot(losses, 'g')"
   ]
  },
  {
   "cell_type": "markdown",
   "metadata": {},
   "source": [
    "Hàm MSELoss là hàm tính Loss Mean squared error.\n",
    "\n",
    "Hàm SGD là hàm cập nhập tham số của mô hình.\n",
    "\n",
    "linear.parameters() là hai tham số w và b.\n",
    "\n",
    "loss.backward() là quay ngược lại tính đạo hàm hai biết w và b.\n",
    "\n",
    "optimizer.step() là cập nhập tham số.\n",
    "\n",
    "optimizer.zero_grad() để xóa đạo hàm hai biến."
   ]
  },
  {
   "cell_type": "markdown",
   "metadata": {},
   "source": [
    "## Logistic Regression"
   ]
  },
  {
   "cell_type": "code",
   "execution_count": 21,
   "metadata": {},
   "outputs": [
    {
     "name": "stdout",
     "output_type": "stream",
     "text": [
      "Loss: 0.48546478152275085\n"
     ]
    },
    {
     "data": {
      "text/plain": [
       "[<matplotlib.lines.Line2D at 0x273d16899a0>]"
      ]
     },
     "execution_count": 21,
     "metadata": {},
     "output_type": "execute_result"
    },
    {
     "data": {
      "image/png": "[encoded data removed]",
      "text/plain": [
       "<Figure size 640x480 with 1 Axes>"
      ]
     },
     "metadata": {},
     "output_type": "display_data"
    }
   ],
   "source": [
    "data = np.genfromtxt('iris_1D.csv',\n",
    "                     delimiter=',', skip_header=1)\n",
    "X = torch.from_numpy(data[:, 0:1]).float()\n",
    "y = torch.from_numpy(data[:, 1:]).float()\n",
    "\n",
    "epochs = 100\n",
    "# Create a linear layer\n",
    "linear = nn.Linear(1, 1)\n",
    "\n",
    "# Loss and optimizer\n",
    "loss_fn = torch.nn.BCELoss()\n",
    "optimizer = torch.optim.SGD(linear.parameters(),\n",
    "                            lr=0.01)\n",
    "\n",
    "# training\n",
    "for epoch in range(epochs):\n",
    "    y_hat = torch.sigmoid(linear(X))\n",
    "    loss = loss_fn(y_hat, y)\n",
    "    optimizer.zero_grad()\n",
    "    loss.backward()\n",
    "    losses.append(loss.item())\n",
    "    optimizer.step()\n",
    "\n",
    "print(f'Loss: {loss}')\n",
    "import matplotlib.pyplot as plt \n",
    "plt.plot(losses, 'g')"
   ]
  },
  {
   "cell_type": "code",
   "execution_count": 22,
   "metadata": {},
   "outputs": [
    {
     "name": "stdout",
     "output_type": "stream",
     "text": [
      "Loss: 0.6006492376327515\n"
     ]
    },
    {
     "data": {
      "text/plain": [
       "[<matplotlib.lines.Line2D at 0x273d16e1490>]"
      ]
     },
     "execution_count": 22,
     "metadata": {},
     "output_type": "execute_result"
    },
    {
     "data": {
      "image/png": "[encoded data removed]",
      "text/plain": [
       "<Figure size 640x480 with 1 Axes>"
      ]
     },
     "metadata": {},
     "output_type": "display_data"
    }
   ],
   "source": [
    "data = np.genfromtxt('iris_2D_demo.csv',\n",
    "                     delimiter=',', skip_header=1)\n",
    "X = torch.from_numpy(data[:, 0:2]).float()\n",
    "y = torch.from_numpy(data[:, 2:]).float()\n",
    "\n",
    "epochs = 100\n",
    "# Create a linear layer\n",
    "linear = nn.Linear(2, 1)\n",
    "\n",
    "# Loss and optimizer\n",
    "loss_fn = torch.nn.BCELoss()\n",
    "optimizer = torch.optim.SGD(linear.parameters(),\n",
    "                            lr=0.01)\n",
    "\n",
    "# training\n",
    "for epoch in range(epochs):\n",
    "    y_hat = torch.sigmoid(linear(X))\n",
    "    loss = loss_fn(y_hat, y)\n",
    "    optimizer.zero_grad()\n",
    "    loss.backward()\n",
    "    losses.append(loss.item())\n",
    "    optimizer.step()\n",
    "\n",
    "print(f'Loss: {loss}')\n",
    "import matplotlib.pyplot as plt \n",
    "plt.plot(losses, 'g')"
   ]
  },
  {
   "cell_type": "markdown",
   "metadata": {},
   "source": [
    "### Loss Function"
   ]
  },
  {
   "cell_type": "markdown",
   "metadata": {},
   "source": [
    "Trong Pytorch khi tính Loss Function ta sẽ không đưa giá trị y_pred vô mà thay vào đó ta sẽ đưa giá trị logit_pred là hàm Z.\n",
    "\n",
    "Hàm `nn.CrossEntropyLoss()` đã lồng hàm softmax vào bên trong nên ta chỉ cần sử dụng hàm này.\n",
    "\n",
    "Đối với Logistic Regression thì thay vì sử dụng hàm sigmoid ta sẽ sử dụng hàm `nn.BCEWithLogitsLoss()` vì hàm này đã lồng hàm sigmoid vào bên trong."
   ]
  },
  {
   "cell_type": "code",
   "execution_count": 23,
   "metadata": {},
   "outputs": [
    {
     "name": "stdout",
     "output_type": "stream",
     "text": [
      "tensor(1.0530)\n"
     ]
    }
   ],
   "source": [
    "import torch.nn as nn\n",
    "import torch \n",
    "\n",
    "y_true = torch.Tensor([0, 1]).long()\n",
    "logit_pred = torch.Tensor([[0.38, -0.09],\n",
    "                           [1.0, -0.4]])\n",
    "\n",
    "criterion = nn.CrossEntropyLoss()\n",
    "loss = criterion(logit_pred, y_true)\n",
    "print(loss)"
   ]
  },
  {
   "cell_type": "markdown",
   "metadata": {},
   "source": [
    "### Sequential"
   ]
  },
  {
   "cell_type": "markdown",
   "metadata": {},
   "source": [
    "Squential nghĩa là layer này nối tiếp layer khác.\n",
    "\n",
    "Ở Output Shape, -1 là số lượng batch size, vì chưa biết số lượng nên python để là -1.\n",
    "\n",
    "Dense và Linear đều là 1. Dense nghĩa là 1 node nối với tất cả các node phía trước."
   ]
  },
  {
   "cell_type": "code",
   "execution_count": 24,
   "metadata": {},
   "outputs": [
    {
     "name": "stdout",
     "output_type": "stream",
     "text": [
      "----------------------------------------------------------------\n",
      "        Layer (type)               Output Shape         Param #\n",
      "================================================================\n",
      "            Linear-1                    [-1, 1]               4\n",
      "================================================================\n",
      "Total params: 4\n",
      "Trainable params: 4\n",
      "Non-trainable params: 0\n",
      "----------------------------------------------------------------\n",
      "Input size (MB): 0.00\n",
      "Forward/backward pass size (MB): 0.00\n",
      "Params size (MB): 0.00\n",
      "Estimated Total Size (MB): 0.00\n",
      "----------------------------------------------------------------\n"
     ]
    }
   ],
   "source": [
    "import torch.nn as nn\n",
    "from torchsummary import summary\n",
    "model = nn.Sequential(\n",
    "    nn.Linear(in_features=3, out_features=1, device=\"cpu\")\n",
    ")\n",
    "summary(model, input_size=(3,), device=\"cpu\")"
   ]
  },
  {
   "cell_type": "code",
   "execution_count": 25,
   "metadata": {},
   "outputs": [
    {
     "name": "stdout",
     "output_type": "stream",
     "text": [
      "----------------------------------------------------------------\n",
      "        Layer (type)               Output Shape         Param #\n",
      "================================================================\n",
      "            Linear-1                    [-1, 3]              15\n",
      "================================================================\n",
      "Total params: 15\n",
      "Trainable params: 15\n",
      "Non-trainable params: 0\n",
      "----------------------------------------------------------------\n",
      "Input size (MB): 0.00\n",
      "Forward/backward pass size (MB): 0.00\n",
      "Params size (MB): 0.00\n",
      "Estimated Total Size (MB): 0.00\n",
      "----------------------------------------------------------------\n"
     ]
    }
   ],
   "source": [
    "import torch.nn as nn\n",
    "from torchsummary import summary\n",
    "model = nn.Sequential(\n",
    "    nn.Linear(in_features=4, out_features=3, device=\"cpu\")\n",
    ")\n",
    "summary(model, input_size=(4,), device=\"cpu\")"
   ]
  },
  {
   "cell_type": "markdown",
   "metadata": {},
   "source": [
    "## Training"
   ]
  },
  {
   "cell_type": "code",
   "execution_count": 26,
   "metadata": {},
   "outputs": [],
   "source": [
    "import numpy as np\n",
    "import torch\n",
    "import torch.nn as nn\n",
    "import torch.optim as optim\n",
    "\n",
    "# Load data\n",
    "iris = np.genfromtxt('iris_2D_3c.csv', dtype=None,\n",
    "                     delimiter=',', skip_header=1)\n",
    "X = torch.tensor(iris[:, 0:2], dtype=torch.float32)\n",
    "y = torch.tensor(iris[:, 2], dtype=torch.int64)\n",
    "\n",
    "# Define a simple Sequential model\n",
    "input_dim = X.shape[1]\n",
    "output_dim = len(torch.unique(y))\n",
    "model = nn.Sequential(\n",
    "    nn.Linear(in_features=input_dim, out_features=output_dim)\n",
    "    # don't include a softmax layer\n",
    ")\n",
    "\n",
    "# loss and optimizer\n",
    "criterion = nn.CrossEntropyLoss()\n",
    "optimizer = optim.SGD(model.parameters(), lr=0.01)\n",
    "\n",
    "# Training loop\n",
    "max_epoch = 100\n",
    "losses = []\n",
    "\n",
    "for epoch in range(max_epoch):\n",
    "    # Zero the gradients\n",
    "    optimizer.zero_grad()\n",
    "\n",
    "    # Forward pass\n",
    "    outputs = model(X)\n",
    "\n",
    "    # Compute loss\n",
    "    loss = criterion(outputs, y)\n",
    "    losses.append(loss.item())\n",
    "\n",
    "    # Backward pass and optimization\n",
    "    loss.backward()\n",
    "    optimizer.step()"
   ]
  },
  {
   "cell_type": "code",
   "execution_count": 27,
   "metadata": {},
   "outputs": [
    {
     "name": "stdout",
     "output_type": "stream",
     "text": [
      "Loss: 0.9508668184280396\n"
     ]
    },
    {
     "data": {
      "text/plain": [
       "[<matplotlib.lines.Line2D at 0x273d1756600>]"
      ]
     },
     "execution_count": 27,
     "metadata": {},
     "output_type": "execute_result"
    },
    {
     "data": {
      "image/png": "[encoded data removed]",
      "text/plain": [
       "<Figure size 640x480 with 1 Axes>"
      ]
     },
     "metadata": {},
     "output_type": "display_data"
    }
   ],
   "source": [
    "import matplotlib.pyplot as plt \n",
    "\n",
    "print(f'Loss: {loss}')\n",
    "plt.plot(losses, 'g')"
   ]
  }
 ],
 "metadata": {
  "kernelspec": {
   "display_name": "Python 3",
   "language": "python",
   "name": "python3"
  },
  "language_info": {
   "codemirror_mode": {
    "name": "ipython",
    "version": 3
   },
   "file_extension": ".py",
   "mimetype": "text/x-python",
   "name": "python",
   "nbconvert_exporter": "python",
   "pygments_lexer": "ipython3",
   "version": "3.12.1"
  }
 },
 "nbformat": 4,
 "nbformat_minor": 2
}
