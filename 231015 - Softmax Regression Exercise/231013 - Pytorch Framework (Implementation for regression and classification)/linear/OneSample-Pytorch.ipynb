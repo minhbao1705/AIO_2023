{
 "cells": [
  {
   "cell_type": "code",
   "execution_count": 1,
   "metadata": {},
   "outputs": [
    {
     "name": "stdout",
     "output_type": "stream",
     "text": [
      "X\n",
      " tensor([[6.7000],\n",
      "        [4.6000],\n",
      "        [3.5000],\n",
      "        [5.5000]], dtype=torch.float64)\n",
      "y\n",
      " tensor([9.1000, 5.9000, 4.6000, 6.7000], dtype=torch.float64)\n"
     ]
    }
   ],
   "source": [
    "import numpy as np\n",
    "import torch\n",
    "import torch.nn as nn\n",
    "\n",
    "### Data preparation\n",
    "data = np.genfromtxt('data.csv', delimiter=',')\n",
    "x_data = torch.from_numpy(data[:,0:1])\n",
    "y_data = torch.from_numpy(data[:,1])\n",
    "\n",
    "print('X\\n', x_data)\n",
    "print('y\\n', y_data)"
   ]
  },
  {
   "cell_type": "code",
   "execution_count": 2,
   "metadata": {},
   "outputs": [
    {
     "name": "stdout",
     "output_type": "stream",
     "text": [
      "Parameter containing:\n",
      "tensor([[-0.3400]], requires_grad=True)\n",
      "Parameter containing:\n",
      "tensor([0.0400], requires_grad=True)\n"
     ]
    }
   ],
   "source": [
    "# Create a linear layer\n",
    "linear = nn.Linear(1, 1)\n",
    "\n",
    "# set value (for illustration)\n",
    "linear.weight.data = torch.Tensor([[-0.34]])\n",
    "linear.bias.data = torch.Tensor([0.04])\n",
    "\n",
    "# print\n",
    "print(linear.weight)\n",
    "print(linear.bias)"
   ]
  },
  {
   "cell_type": "code",
   "execution_count": 5,
   "metadata": {},
   "outputs": [],
   "source": [
    "# some params\n",
    "loss_fn = torch.nn.MSELoss()\n",
    "optimizer = torch.optim.SGD(linear.parameters(), \n",
    "                            lr=0.01)\n",
    "epochs = 1"
   ]
  },
  {
   "cell_type": "code",
   "execution_count": 6,
   "metadata": {},
   "outputs": [
    {
     "name": "stdout",
     "output_type": "stream",
     "text": [
      "y_hat: 8.342219352722168\n",
      "loss: 0.5742321014404297\n",
      "(db, dw): (tensor([-1.5156]), tensor([[-10.1543]]))\n",
      "(b, w): (tensor([0.2663]), tensor([[1.3092]]) \n",
      "\n",
      "\n",
      "y_hat: 6.288448810577393\n",
      "loss: 0.15089240670204163\n",
      "(db, dw): (tensor([0.7769]), tensor([[3.5737]]))\n",
      "(b, w): (tensor([0.2585]), tensor([[1.2734]]) \n",
      "\n",
      "\n",
      "y_hat: 4.71550989151001\n",
      "loss: 0.013342557474970818\n",
      "(db, dw): (tensor([0.2310]), tensor([[0.8086]]))\n",
      "(b, w): (tensor([0.2562]), tensor([[1.2653]]) \n",
      "\n",
      "\n",
      "y_hat: 7.215599060058594\n",
      "loss: 0.26584258675575256\n",
      "(db, dw): (tensor([1.0312]), tensor([[5.6716]]))\n",
      "(b, w): (tensor([0.2459]), tensor([[1.2086]]) \n",
      "\n",
      "\n"
     ]
    }
   ],
   "source": [
    "# training\n",
    "for epoch in range(epochs):\n",
    "    for i in range(4):\n",
    "        x = x_data[i].float()\n",
    "        y = y_data[i:i+1].float()\n",
    "        \n",
    "        # y_hat\n",
    "        y_hat = linear(x)\n",
    "        print(f'y_hat: {y_hat.item()}')\n",
    "        \n",
    "        # loss        \n",
    "        loss = loss_fn(y_hat, y)\n",
    "        print(f'loss: {loss.item()}')\n",
    "                    \n",
    "        # compute gradient\n",
    "        loss.backward()\n",
    "        print(f'(db, dw): ({linear.bias.grad.data}, {linear.weight.grad.data})')\n",
    "    \n",
    "        # update\n",
    "        optimizer.step()\n",
    "        optimizer.zero_grad()\n",
    "        print(f'(b, w): ({linear.bias.data}, {linear.weight.data} \\n\\n')"
   ]
  }
 ],
 "metadata": {
  "kernelspec": {
   "display_name": "Python 3",
   "language": "python",
   "name": "python3"
  },
  "language_info": {
   "codemirror_mode": {
    "name": "ipython",
    "version": 3
   },
   "file_extension": ".py",
   "mimetype": "text/x-python",
   "name": "python",
   "nbconvert_exporter": "python",
   "pygments_lexer": "ipython3",
   "version": "3.12.1"
  }
 },
 "nbformat": 4,
 "nbformat_minor": 2
}
