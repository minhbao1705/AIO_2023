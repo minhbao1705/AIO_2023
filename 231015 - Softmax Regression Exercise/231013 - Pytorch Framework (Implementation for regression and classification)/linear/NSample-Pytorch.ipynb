{
 "cells": [
  {
   "cell_type": "code",
   "execution_count": 1,
   "metadata": {},
   "outputs": [
    {
     "name": "stdout",
     "output_type": "stream",
     "text": [
      "X\n",
      " tensor([[6.7000],\n",
      "        [4.6000],\n",
      "        [3.5000],\n",
      "        [5.5000]])\n",
      "y\n",
      " tensor([[9.1000],\n",
      "        [5.9000],\n",
      "        [4.6000],\n",
      "        [6.7000]])\n"
     ]
    }
   ],
   "source": [
    "import numpy as np\n",
    "import torch\n",
    "import torch.nn as nn\n",
    "\n",
    "### Data preparation\n",
    "data = np.genfromtxt('data.csv', delimiter=',')\n",
    "x_data = torch.from_numpy(data[:,0:1]).float()\n",
    "y_data = torch.from_numpy(data[:,1:]).float()\n",
    "\n",
    "print('X\\n', x_data)\n",
    "print('y\\n', y_data)"
   ]
  },
  {
   "cell_type": "code",
   "execution_count": 2,
   "metadata": {},
   "outputs": [
    {
     "name": "stdout",
     "output_type": "stream",
     "text": [
      "Parameter containing:\n",
      "tensor([[-0.3400]], requires_grad=True)\n",
      "Parameter containing:\n",
      "tensor([0.0400], requires_grad=True)\n"
     ]
    }
   ],
   "source": [
    "# Create a linear layer\n",
    "linear = nn.Linear(1, 1)\n",
    "\n",
    "# set value (for illustration)\n",
    "linear.weight.data = torch.Tensor([[-0.34]])\n",
    "linear.bias.data = torch.Tensor([0.04])\n",
    "\n",
    "# print\n",
    "print(linear.weight)\n",
    "print(linear.bias)"
   ]
  },
  {
   "cell_type": "code",
   "execution_count": 3,
   "metadata": {},
   "outputs": [],
   "source": [
    "# some params\n",
    "loss_fn = torch.nn.MSELoss()\n",
    "optimizer = torch.optim.SGD(linear.parameters(),\n",
    "                            lr = 0.01)\n",
    "epochs = 1"
   ]
  },
  {
   "cell_type": "code",
   "execution_count": 4,
   "metadata": {},
   "outputs": [
    {
     "name": "stdout",
     "output_type": "stream",
     "text": [
      "y_hat: tensor([[-2.2380],\n",
      "        [-1.5240],\n",
      "        [-1.1500],\n",
      "        [-1.8300]], grad_fn=<AddmmBackward0>)\n",
      "loss: 72.37236022949219\n",
      "(db, dw): (tensor([-16.5210]), tensor([[-88.5775]]))\n",
      "(b, w): (tensor([0.2052]), tensor([[0.5458]]))\n"
     ]
    }
   ],
   "source": [
    "# training\n",
    "for epoch in range(epochs):\n",
    "    # y_hat\n",
    "    y_hat = linear(x_data)\n",
    "    print(f'y_hat: {y_hat}')\n",
    "\n",
    "    # loss\n",
    "    loss = loss_fn(y_hat, y_data)\n",
    "    print(f'loss: {loss}')\n",
    "\n",
    "    # Compute gradient\n",
    "    loss.backward()\n",
    "    print(f'(db, dw): ({linear.bias.grad.data}, {linear.weight.grad.data})')\n",
    "\n",
    "    # update\n",
    "    optimizer.step()\n",
    "    optimizer.zero_grad()\n",
    "    print(f'(b, w): ({linear.bias.data}, {linear.weight.data})')"
   ]
  },
  {
   "cell_type": "code",
   "execution_count": 6,
   "metadata": {},
   "outputs": [
    {
     "name": "stdout",
     "output_type": "stream",
     "text": [
      "loss: 98.12348175048828\n",
      "loss: 18.912599563598633\n",
      "loss: 3.7002246379852295\n",
      "loss: 0.7787008881568909\n",
      "loss: 0.21762347221374512\n",
      "loss: 0.10986742377281189\n",
      "loss: 0.08917106688022614\n",
      "loss: 0.08519447594881058\n",
      "loss: 0.0844288170337677\n",
      "loss: 0.08427999168634415\n",
      "loss: 0.08424946665763855\n",
      "loss: 0.08424173295497894\n",
      "loss: 0.08423848450183868\n",
      "loss: 0.08423581719398499\n",
      "loss: 0.08423358201980591\n",
      "loss: 0.08423139154911041\n",
      "loss: 0.08422906696796417\n",
      "loss: 0.08422666043043137\n",
      "loss: 0.08422446250915527\n",
      "loss: 0.084222212433815\n",
      "loss: 0.08421988785266876\n",
      "loss: 0.0842176303267479\n",
      "loss: 0.08421546220779419\n",
      "loss: 0.08421309292316437\n",
      "loss: 0.08421097695827484\n",
      "loss: 0.08420853316783905\n",
      "loss: 0.08420645445585251\n",
      "loss: 0.08420407772064209\n",
      "loss: 0.08420196175575256\n",
      "loss: 0.08419965207576752\n",
      "loss: 0.08419753611087799\n",
      "loss: 0.08419516682624817\n",
      "loss: 0.08419308066368103\n",
      "loss: 0.08419078588485718\n",
      "loss: 0.08418849110603333\n",
      "loss: 0.08418644219636917\n",
      "loss: 0.0841842070221901\n",
      "loss: 0.084182009100914\n",
      "loss: 0.08417969942092896\n",
      "loss: 0.08417773246765137\n",
      "loss: 0.08417540788650513\n",
      "loss: 0.084173284471035\n",
      "loss: 0.0841711014509201\n",
      "loss: 0.08416888117790222\n",
      "loss: 0.08416663855314255\n",
      "loss: 0.08416464924812317\n",
      "loss: 0.08416244387626648\n",
      "loss: 0.0841604471206665\n",
      "loss: 0.0841582864522934\n",
      "loss: 0.0841560810804367\n",
      "loss: 0.08415383100509644\n",
      "loss: 0.08415181934833527\n",
      "loss: 0.08414974808692932\n",
      "loss: 0.08414760231971741\n",
      "loss: 0.08414550870656967\n",
      "loss: 0.08414337038993835\n",
      "loss: 0.08414135873317719\n",
      "loss: 0.08413894474506378\n",
      "loss: 0.08413701504468918\n",
      "loss: 0.0841347724199295\n",
      "loss: 0.08413277566432953\n",
      "loss: 0.08413085341453552\n",
      "loss: 0.08412865549325943\n",
      "loss: 0.08412657678127289\n",
      "loss: 0.08412440121173859\n",
      "loss: 0.08412235975265503\n",
      "loss: 0.08412027359008789\n",
      "loss: 0.08411820232868195\n",
      "loss: 0.08411610126495361\n",
      "loss: 0.08411398530006409\n",
      "loss: 0.08411198109388351\n",
      "loss: 0.08410996198654175\n",
      "loss: 0.08410784602165222\n",
      "loss: 0.08410590887069702\n",
      "loss: 0.08410391211509705\n",
      "loss: 0.08410169184207916\n",
      "loss: 0.08409976959228516\n",
      "loss: 0.08409770578145981\n",
      "loss: 0.08409571647644043\n",
      "loss: 0.08409358561038971\n",
      "loss: 0.08409163355827332\n",
      "loss: 0.08408986032009125\n",
      "loss: 0.08408773690462112\n",
      "loss: 0.08408580720424652\n",
      "loss: 0.08408352732658386\n",
      "loss: 0.08408171683549881\n",
      "loss: 0.08407959342002869\n",
      "loss: 0.08407773077487946\n",
      "loss: 0.0840756967663765\n",
      "loss: 0.08407363295555115\n",
      "loss: 0.08407168090343475\n",
      "loss: 0.08406977355480194\n",
      "loss: 0.08406783640384674\n",
      "loss: 0.08406580984592438\n",
      "loss: 0.08406375348567963\n",
      "loss: 0.08406193554401398\n",
      "loss: 0.08406011760234833\n",
      "loss: 0.08405816555023193\n",
      "loss: 0.08405600488185883\n",
      "loss: 0.08405420184135437\n"
     ]
    }
   ],
   "source": [
    "import numpy as np\n",
    "import torch\n",
    "import torch.nn as nn\n",
    "\n",
    "### Data preparation\n",
    "data = np.genfromtxt('data.csv', delimiter=',')\n",
    "x_data = torch.from_numpy(data[:, 0:1]).float()\n",
    "y_data = torch.from_numpy(data[:, 1:]).float()\n",
    "\n",
    "# Create model, loss and optimizer\n",
    "linear = nn.Linear(1, 1)\n",
    "loss_fn = torch.nn.MSELoss()\n",
    "optimizer = torch.optim.SGD(linear.parameters(), \n",
    "                            lr=0.01)\n",
    "\n",
    "# training\n",
    "epochs = 100\n",
    "for epoch in range(epochs):\n",
    "    y_hat = linear(x_data)\n",
    "    loss = loss_fn(y_hat, y_data)\n",
    "    print(f'loss: {loss}')\n",
    "    optimizer.zero_grad()\n",
    "    loss.backward()\n",
    "    optimizer.step()    "
   ]
  }
 ],
 "metadata": {
  "kernelspec": {
   "display_name": "Python 3",
   "language": "python",
   "name": "python3"
  },
  "language_info": {
   "codemirror_mode": {
    "name": "ipython",
    "version": 3
   },
   "file_extension": ".py",
   "mimetype": "text/x-python",
   "name": "python",
   "nbconvert_exporter": "python",
   "pygments_lexer": "ipython3",
   "version": "3.12.1"
  }
 },
 "nbformat": 4,
 "nbformat_minor": 2
}
