{
 "cells": [
  {
   "cell_type": "code",
   "execution_count": 1,
   "metadata": {},
   "outputs": [
    {
     "name": "stdout",
     "output_type": "stream",
     "text": [
      "X:\n",
      " [[1.4]\n",
      " [1.3]\n",
      " [1.5]\n",
      " [4.5]\n",
      " [4.1]\n",
      " [4.6]]\n",
      "y:\n",
      " [0 0 0 1 1 1]\n"
     ]
    },
    {
     "data": {
      "image/png": "[encoded data removed]",
      "text/plain": [
       "<Figure size 800x400 with 1 Axes>"
      ]
     },
     "metadata": {},
     "output_type": "display_data"
    }
   ],
   "source": [
    "import numpy as np\n",
    "import matplotlib.pyplot as plt\n",
    "from sklearn import preprocessing\n",
    "\n",
    "iris = np.genfromtxt('iris_1D_2c.csv', dtype=None, delimiter=',', skip_header=1) \n",
    "X = iris[:, 0:1]\n",
    "y = iris[:, 1]\n",
    "\n",
    "# change data type\n",
    "y = y.astype('uint8')\n",
    "\n",
    "print('X:\\n', X)\n",
    "print('y:\\n', y)\n",
    "\n",
    "plt.figure(figsize=(8, 4))\n",
    "plt.scatter(X[y == 0][:, 0], y[y == 0], color='b', label='0')\n",
    "plt.scatter(X[y == 1][:, 0], y[y == 1], color='r', label='1')\n",
    "plt.legend()\n",
    "plt.show()"
   ]
  },
  {
   "cell_type": "code",
   "execution_count": 2,
   "metadata": {},
   "outputs": [
    {
     "name": "stdout",
     "output_type": "stream",
     "text": [
      "[[1. 0.]\n",
      " [1. 0.]\n",
      " [1. 0.]\n",
      " [0. 1.]\n",
      " [0. 1.]\n",
      " [0. 1.]]\n",
      "[[1.  1.4]\n",
      " [1.  1.3]\n",
      " [1.  1.5]\n",
      " [1.  4.5]\n",
      " [1.  4.1]\n",
      " [1.  4.6]]\n"
     ]
    }
   ],
   "source": [
    "N = 6\n",
    "k = 2\n",
    "\n",
    "# one_hot\n",
    "import numpy as np\n",
    "\n",
    "def convert_one_hot(y, k):  \n",
    "    one_hot = np.zeros((len(y), k))\n",
    "    one_hot[np.arange(len(y)), y] = 1\n",
    "    return one_hot\n",
    "\n",
    "y_one_hot = convert_one_hot(y, k)\n",
    "print(y_one_hot)\n",
    "\n",
    "intercept = np.ones((X.shape[0], 1))\n",
    "X = np.concatenate((intercept, X), axis=1)\n",
    "print(X)"
   ]
  },
  {
   "cell_type": "code",
   "execution_count": 8,
   "metadata": {},
   "outputs": [
    {
     "name": "stdout",
     "output_type": "stream",
     "text": [
      "theta:\n",
      " [[ 0.1   0.05]\n",
      " [ 0.2  -0.1 ]]\n",
      "loss: 1.0411729169458368\n",
      "loss: 1.186866109933135\n",
      "loss: 0.5701688703694171\n",
      "loss: 0.4900752700703885\n",
      "loss: 0.48605034267388064\n",
      "loss: 0.4103836020342322\n",
      "loss: 0.39337266227806006\n",
      "loss: 0.3490420827657333\n",
      "loss: 0.32860062542416585\n",
      "loss: 0.30174544943892434\n",
      "loss: 0.28347497859486764\n",
      "loss: 0.265924106737614\n",
      "loss: 0.2513453937018649\n",
      "loss: 0.23822584405470057\n",
      "loss: 0.22645320286562934\n",
      "loss: 0.21571693778171963\n",
      "loss: 0.20586943498173663\n",
      "loss: 0.1968004947481291\n",
      "loss: 0.18842543881527726\n",
      "loss: 0.18067279210365897\n",
      "loss: 0.17348038471892746\n",
      "loss: 0.1667935980203484\n",
      "loss: 0.16056427061320055\n",
      "loss: 0.15474982093806458\n",
      "loss: 0.1493125084138708\n",
      "loss: 0.14421880121615924\n",
      "loss: 0.13943883505646673\n",
      "loss: 0.134945948844573\n",
      "loss: 0.13071628563270024\n",
      "loss: 0.1267284489868421\n",
      "loss: 0.12296320647848889\n",
      "loss: 0.11940323329051937\n",
      "loss: 0.11603289002799462\n",
      "loss: 0.11283802974680308\n",
      "loss: 0.10980582998739823\n",
      "loss: 0.10692464625057617\n",
      "loss: 0.10418388389738432\n",
      "loss: 0.1015738859128709\n",
      "loss: 0.09908583435783143\n",
      "loss: 0.09671166365603344\n",
      "loss: 0.09444398413667443\n",
      "loss: 0.09227601448145163\n",
      "loss: 0.09020152191957975\n",
      "loss: 0.08821476917821587\n",
      "loss: 0.08631046733486454\n",
      "loss: 0.08448373383647617\n",
      "loss: 0.08273005505046765\n",
      "loss: 0.0810452527985767\n",
      "loss: 0.07942545439763979\n",
      "loss: 0.0778670657940102\n",
      "loss: 0.07636674743201766\n",
      "loss: 0.0749213925429996\n",
      "loss: 0.073528107581125\n",
      "loss: 0.0721841945664648\n",
      "loss: 0.07088713512533358\n",
      "loss: 0.06963457604352209\n",
      "loss: 0.06842431617023313\n",
      "loss: 0.06725429452981406\n",
      "loss: 0.06612257951515069\n",
      "loss: 0.06502735905121802\n",
      "loss: 0.06396693163004726\n",
      "loss: 0.06293969812954302\n",
      "loss: 0.061944154338369216\n",
      "loss: 0.060978884117711074\n",
      "loss: 0.06004255313826972\n",
      "loss: 0.059133903137491624\n",
      "loss: 0.05825174664789668\n",
      "loss: 0.05739496215253887\n",
      "loss: 0.056562489628215536\n",
      "loss: 0.05575332644108869\n",
      "loss: 0.054966523562979645\n",
      "loss: 0.05420118207978878\n",
      "loss: 0.05345644996633261\n",
      "loss: 0.05273151910441804\n",
      "loss: 0.052025622523228676\n",
      "loss: 0.05133803184311116\n",
      "loss: 0.05066805490564969\n",
      "loss: 0.05001503357452722\n",
      "loss: 0.04937834169311687\n",
      "loss: 0.04875738318604115\n",
      "loss: 0.04815159029310193\n",
      "loss: 0.047560421925030426\n",
      "loss: 0.04698336213144751\n",
      "loss: 0.04641991867227809\n",
      "loss: 0.04586962168462408\n",
      "loss: 0.04533202243779916\n",
      "loss: 0.044806692169850226\n",
      "loss: 0.044293220999459294\n",
      "loss: 0.04379121690763355\n",
      "loss: 0.04330030478405524\n",
      "loss: 0.04282012553338866\n",
      "loss: 0.04235033523722304\n",
      "loss: 0.04189060436768347\n",
      "loss: 0.041440617049054794\n",
      "loss: 0.04100007036406019\n",
      "loss: 0.04056867370169511\n",
      "loss: 0.04014614814376145\n",
      "loss: 0.039732225887467755\n",
      "loss: 0.03932664970166085\n",
      "loss: 0.03892917241444239\n",
      "[[ 3.10740201 -2.95740201]\n",
      " [-1.09140016  1.19140016]]\n"
     ]
    }
   ],
   "source": [
    "# some parameters\n",
    "learning_rate = 0.1\n",
    "losses = []\n",
    "max_epoch = 100\n",
    "\n",
    "# initialize parameters\n",
    "theta = np.array([[0.1, 0.05], \n",
    "                  [0.2, -0.1]])\n",
    "print('theta:\\n', theta)\n",
    "\n",
    "for epoch in range(max_epoch):\n",
    "    # compute z\n",
    "    z = X.dot(theta)    \n",
    "\n",
    "    # compute y_hat\n",
    "    exp_z = np.exp(z)    \n",
    "    y_hat = exp_z / np.sum(exp_z, axis=1, keepdims=True)\n",
    "\n",
    "    # compute the loss\n",
    "    loss = -np.log(np.sum(y_hat*y_one_hot, axis=1))\n",
    "    print(f'loss: {np.sum(loss)/6}')\n",
    "    losses.append(np.sum(loss))\n",
    "\n",
    "    # compute the gradient dz\n",
    "    dz = y_hat - y_one_hot\n",
    "\n",
    "    # compute dtheta\n",
    "    dtheta = X.T.dot(dz)\n",
    "\n",
    "    # update\n",
    "    theta = theta - learning_rate*dtheta\n",
    "\n",
    "print(theta)"
   ]
  },
  {
   "cell_type": "code",
   "execution_count": 9,
   "metadata": {},
   "outputs": [
    {
     "data": {
      "image/png": "[encoded data removed]",
      "text/plain": [
       "<Figure size 640x480 with 1 Axes>"
      ]
     },
     "metadata": {},
     "output_type": "display_data"
    }
   ],
   "source": [
    "x_axis = range(len(losses))\n",
    "plt.plot(x_axis, losses, color=\"r\")\n",
    "plt.show()"
   ]
  },
  {
   "cell_type": "code",
   "execution_count": 10,
   "metadata": {},
   "outputs": [
    {
     "name": "stdout",
     "output_type": "stream",
     "text": [
      "[[ 3.10740201 -2.95740201]\n",
      " [-1.09140016  1.19140016]]\n"
     ]
    }
   ],
   "source": [
    "print(theta)"
   ]
  },
  {
   "cell_type": "code",
   "execution_count": 11,
   "metadata": {},
   "outputs": [
    {
     "name": "stdout",
     "output_type": "stream",
     "text": [
      "[[0.94628663 0.05371337]\n",
      " [0.95677559 0.04322441]\n",
      " [0.93342948 0.06657052]\n",
      " [0.01466096 0.98533904]\n",
      " [0.03575424 0.96424576]\n",
      " [0.0117037  0.9882963 ]]\n"
     ]
    }
   ],
   "source": [
    "z = X.dot(theta)    \n",
    "exp_z = np.exp(z)\n",
    "y_hat = exp_z / np.sum(exp_z, axis=1, keepdims=True)\n",
    "print(y_hat)"
   ]
  },
  {
   "cell_type": "code",
   "execution_count": 12,
   "metadata": {},
   "outputs": [
    {
     "name": "stdout",
     "output_type": "stream",
     "text": [
      "[0 0 0 1 1 1]\n"
     ]
    }
   ],
   "source": [
    "predicted_class = np.argmax(y_hat, axis=1)\n",
    "print(predicted_class)"
   ]
  }
 ],
 "metadata": {
  "kernelspec": {
   "display_name": "Python 3",
   "language": "python",
   "name": "python3"
  },
  "language_info": {
   "codemirror_mode": {
    "name": "ipython",
    "version": 3
   },
   "file_extension": ".py",
   "mimetype": "text/x-python",
   "name": "python",
   "nbconvert_exporter": "python",
   "pygments_lexer": "ipython3",
   "version": "3.12.1"
  }
 },
 "nbformat": 4,
 "nbformat_minor": 2
}
