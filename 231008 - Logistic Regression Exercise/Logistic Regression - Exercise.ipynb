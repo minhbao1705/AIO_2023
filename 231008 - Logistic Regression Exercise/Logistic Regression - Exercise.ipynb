{
 "cells": [
  {
   "cell_type": "markdown",
   "metadata": {},
   "source": [
    "# A. Phần lập trình"
   ]
  },
  {
   "cell_type": "markdown",
   "metadata": {},
   "source": [
    "## Titanic Survival Prediction"
   ]
  },
  {
   "cell_type": "markdown",
   "metadata": {},
   "source": [
    "### 1. Tải bộ dữ liệu"
   ]
  },
  {
   "cell_type": "markdown",
   "metadata": {},
   "source": [
    "### 2. Import libraries:"
   ]
  },
  {
   "cell_type": "code",
   "execution_count": 17,
   "metadata": {},
   "outputs": [],
   "source": [
    "import pandas as pd \n",
    "import numpy as np \n",
    "import matplotlib.pyplot as plt \n",
    "\n",
    "from sklearn.model_selection import train_test_split\n",
    "from sklearn.preprocessing import StandardScaler"
   ]
  },
  {
   "cell_type": "markdown",
   "metadata": {},
   "source": [
    "### 3. Đọc dữ liệu"
   ]
  },
  {
   "cell_type": "markdown",
   "metadata": {},
   "source": [
    "Sử dụng thư viện pandas để đọc file .csv thành DataFrame"
   ]
  },
  {
   "cell_type": "code",
   "execution_count": 18,
   "metadata": {},
   "outputs": [],
   "source": [
    "dataset_path = 'titanic_modified_dataset.csv'\n",
    "df = pd.read_csv(\n",
    "    dataset_path,\n",
    "    index_col='PassengerId'\n",
    ")"
   ]
  },
  {
   "cell_type": "code",
   "execution_count": 19,
   "metadata": {},
   "outputs": [
    {
     "data": {
      "text/html": [
       "<div>\n",
       "<style scoped>\n",
       "    .dataframe tbody tr th:only-of-type {\n",
       "        vertical-align: middle;\n",
       "    }\n",
       "\n",
       "    .dataframe tbody tr th {\n",
       "        vertical-align: top;\n",
       "    }\n",
       "\n",
       "    .dataframe thead th {\n",
       "        text-align: right;\n",
       "    }\n",
       "</style>\n",
       "<table border=\"1\" class=\"dataframe\">\n",
       "  <thead>\n",
       "    <tr style=\"text-align: right;\">\n",
       "      <th></th>\n",
       "      <th>Pclass</th>\n",
       "      <th>Sex</th>\n",
       "      <th>Age</th>\n",
       "      <th>SibSp</th>\n",
       "      <th>Parch</th>\n",
       "      <th>Fare</th>\n",
       "      <th>Embarked</th>\n",
       "      <th>Title</th>\n",
       "      <th>Survived</th>\n",
       "    </tr>\n",
       "    <tr>\n",
       "      <th>PassengerId</th>\n",
       "      <th></th>\n",
       "      <th></th>\n",
       "      <th></th>\n",
       "      <th></th>\n",
       "      <th></th>\n",
       "      <th></th>\n",
       "      <th></th>\n",
       "      <th></th>\n",
       "      <th></th>\n",
       "    </tr>\n",
       "  </thead>\n",
       "  <tbody>\n",
       "    <tr>\n",
       "      <th>1</th>\n",
       "      <td>3</td>\n",
       "      <td>0</td>\n",
       "      <td>22.0</td>\n",
       "      <td>1</td>\n",
       "      <td>0</td>\n",
       "      <td>7.2500</td>\n",
       "      <td>0</td>\n",
       "      <td>0</td>\n",
       "      <td>0</td>\n",
       "    </tr>\n",
       "    <tr>\n",
       "      <th>2</th>\n",
       "      <td>1</td>\n",
       "      <td>1</td>\n",
       "      <td>38.0</td>\n",
       "      <td>1</td>\n",
       "      <td>0</td>\n",
       "      <td>71.2833</td>\n",
       "      <td>1</td>\n",
       "      <td>1</td>\n",
       "      <td>1</td>\n",
       "    </tr>\n",
       "    <tr>\n",
       "      <th>3</th>\n",
       "      <td>3</td>\n",
       "      <td>1</td>\n",
       "      <td>26.0</td>\n",
       "      <td>0</td>\n",
       "      <td>0</td>\n",
       "      <td>7.9250</td>\n",
       "      <td>0</td>\n",
       "      <td>2</td>\n",
       "      <td>1</td>\n",
       "    </tr>\n",
       "    <tr>\n",
       "      <th>4</th>\n",
       "      <td>1</td>\n",
       "      <td>1</td>\n",
       "      <td>35.0</td>\n",
       "      <td>1</td>\n",
       "      <td>0</td>\n",
       "      <td>53.1000</td>\n",
       "      <td>0</td>\n",
       "      <td>1</td>\n",
       "      <td>1</td>\n",
       "    </tr>\n",
       "    <tr>\n",
       "      <th>5</th>\n",
       "      <td>3</td>\n",
       "      <td>0</td>\n",
       "      <td>35.0</td>\n",
       "      <td>0</td>\n",
       "      <td>0</td>\n",
       "      <td>8.0500</td>\n",
       "      <td>0</td>\n",
       "      <td>0</td>\n",
       "      <td>0</td>\n",
       "    </tr>\n",
       "    <tr>\n",
       "      <th>...</th>\n",
       "      <td>...</td>\n",
       "      <td>...</td>\n",
       "      <td>...</td>\n",
       "      <td>...</td>\n",
       "      <td>...</td>\n",
       "      <td>...</td>\n",
       "      <td>...</td>\n",
       "      <td>...</td>\n",
       "      <td>...</td>\n",
       "    </tr>\n",
       "    <tr>\n",
       "      <th>887</th>\n",
       "      <td>2</td>\n",
       "      <td>0</td>\n",
       "      <td>27.0</td>\n",
       "      <td>0</td>\n",
       "      <td>0</td>\n",
       "      <td>13.0000</td>\n",
       "      <td>0</td>\n",
       "      <td>5</td>\n",
       "      <td>0</td>\n",
       "    </tr>\n",
       "    <tr>\n",
       "      <th>888</th>\n",
       "      <td>1</td>\n",
       "      <td>1</td>\n",
       "      <td>19.0</td>\n",
       "      <td>0</td>\n",
       "      <td>0</td>\n",
       "      <td>30.0000</td>\n",
       "      <td>0</td>\n",
       "      <td>2</td>\n",
       "      <td>1</td>\n",
       "    </tr>\n",
       "    <tr>\n",
       "      <th>889</th>\n",
       "      <td>3</td>\n",
       "      <td>1</td>\n",
       "      <td>28.0</td>\n",
       "      <td>1</td>\n",
       "      <td>2</td>\n",
       "      <td>23.4500</td>\n",
       "      <td>0</td>\n",
       "      <td>2</td>\n",
       "      <td>0</td>\n",
       "    </tr>\n",
       "    <tr>\n",
       "      <th>890</th>\n",
       "      <td>1</td>\n",
       "      <td>0</td>\n",
       "      <td>26.0</td>\n",
       "      <td>0</td>\n",
       "      <td>0</td>\n",
       "      <td>30.0000</td>\n",
       "      <td>1</td>\n",
       "      <td>0</td>\n",
       "      <td>1</td>\n",
       "    </tr>\n",
       "    <tr>\n",
       "      <th>891</th>\n",
       "      <td>3</td>\n",
       "      <td>0</td>\n",
       "      <td>32.0</td>\n",
       "      <td>0</td>\n",
       "      <td>0</td>\n",
       "      <td>7.7500</td>\n",
       "      <td>2</td>\n",
       "      <td>0</td>\n",
       "      <td>0</td>\n",
       "    </tr>\n",
       "  </tbody>\n",
       "</table>\n",
       "<p>891 rows × 9 columns</p>\n",
       "</div>"
      ],
      "text/plain": [
       "             Pclass  Sex   Age  SibSp  Parch     Fare  Embarked  Title  \\\n",
       "PassengerId                                                              \n",
       "1                 3    0  22.0      1      0   7.2500         0      0   \n",
       "2                 1    1  38.0      1      0  71.2833         1      1   \n",
       "3                 3    1  26.0      0      0   7.9250         0      2   \n",
       "4                 1    1  35.0      1      0  53.1000         0      1   \n",
       "5                 3    0  35.0      0      0   8.0500         0      0   \n",
       "...             ...  ...   ...    ...    ...      ...       ...    ...   \n",
       "887               2    0  27.0      0      0  13.0000         0      5   \n",
       "888               1    1  19.0      0      0  30.0000         0      2   \n",
       "889               3    1  28.0      1      2  23.4500         0      2   \n",
       "890               1    0  26.0      0      0  30.0000         1      0   \n",
       "891               3    0  32.0      0      0   7.7500         2      0   \n",
       "\n",
       "             Survived  \n",
       "PassengerId            \n",
       "1                   0  \n",
       "2                   1  \n",
       "3                   1  \n",
       "4                   1  \n",
       "5                   0  \n",
       "...               ...  \n",
       "887                 0  \n",
       "888                 1  \n",
       "889                 0  \n",
       "890                 1  \n",
       "891                 0  \n",
       "\n",
       "[891 rows x 9 columns]"
      ]
     },
     "execution_count": 19,
     "metadata": {},
     "output_type": "execute_result"
    }
   ],
   "source": [
    "df"
   ]
  },
  {
   "cell_type": "markdown",
   "metadata": {},
   "source": [
    "### 4. Chia biến X, y"
   ]
  },
  {
   "cell_type": "markdown",
   "metadata": {},
   "source": [
    "Chuyển đổi DataFrame hiện tại thành array và tách hai biến X, y"
   ]
  },
  {
   "cell_type": "code",
   "execution_count": 20,
   "metadata": {},
   "outputs": [],
   "source": [
    "dataset_arr = df.to_numpy().astype(np.float64)\n",
    "X, y = dataset_arr[:, :-1], dataset_arr[:, -1]"
   ]
  },
  {
   "cell_type": "markdown",
   "metadata": {},
   "source": [
    "### 5. Thêm bias vào X"
   ]
  },
  {
   "cell_type": "markdown",
   "metadata": {},
   "source": [
    " Khi sử dụng thư viện, bias sẽ được thêm tự động vào X. Tuy nhiên, khi\n",
    " triển khai lại từ đầu, chúng ta cần phải tự thêm bias vào mỗi mẫu dữ liệu, nhằm thỏa mãn công thức hàm dự đoán"
   ]
  },
  {
   "cell_type": "code",
   "execution_count": 21,
   "metadata": {},
   "outputs": [],
   "source": [
    "intercept = np.ones((\n",
    "    X.shape[0], 1)\n",
    ")\n",
    "X_b = np.concatenate(\n",
    "    (intercept, X),\n",
    "    axis=1\n",
    ")"
   ]
  },
  {
   "cell_type": "markdown",
   "metadata": {},
   "source": [
    "### 6. Chia tập train, val, test"
   ]
  },
  {
   "cell_type": "markdown",
   "metadata": {},
   "source": [
    "Sau khi đã hoàn chỉnh biến X, chúng ta tiến hành chia ba bộ\n",
    " train, val, test với tỉ lệ 7:2:1."
   ]
  },
  {
   "cell_type": "code",
   "execution_count": null,
   "metadata": {},
   "outputs": [],
   "source": [
    "val_size = 0.2\n",
    "test_size = 0.125\n",
    "random_state = 2\n",
    "is_shuffle = True\n",
    "\n",
    "X_train, X_val, y_train, y_val = train_test_split(\n",
    "    X_b, y,\n",
    "    test_size=val_size,\n",
    "    random_state=random_state,\n",
    "    shuffle=is_shuffle\n",
    ")\n",
    "\n",
    "X_train, X_test, y_train, y_test = train_test_split(\n",
    "    X_train, y_train,\n",
    "    test_size=test_size,\n",
    "    random_state=random_state,\n",
    "    shuffle=is_shuffle\n",
    ")"
   ]
  },
  {
   "cell_type": "markdown",
   "metadata": {},
   "source": [
    "### 7. Chuẩn hóa dữ liệu"
   ]
  },
  {
   "cell_type": "markdown",
   "metadata": {},
   "source": [
    " Ta sử dụng X_train vừa tạo ở bước trên fit vào hàm chuẩn hóa\n",
    " StandardScaler. Sau đó, đem scaler này chuẩn hóa cho tập X_val và X_test (lưu ý rằng ta\n",
    " không chuẩn hóa bias nên sẽ bỏ qua cột đầu tiên trong X)"
   ]
  },
  {
   "cell_type": "code",
   "execution_count": 23,
   "metadata": {},
   "outputs": [],
   "source": [
    "normalizer = StandardScaler()\n",
    "X_train[:, 1:] = normalizer.fit_transform(X_train[:, 1:])\n",
    "X_val[:, 1:] = normalizer.transform(X_val[:, 1:])\n",
    "X_test[:, 1:] = normalizer.transform(X_test[:, 1:])"
   ]
  },
  {
   "cell_type": "markdown",
   "metadata": {},
   "source": [
    "### 8. Cài đặt các hàm quan trọng"
   ]
  },
  {
   "cell_type": "markdown",
   "metadata": {},
   "source": [
    "- Hàm sigmoid"
   ]
  },
  {
   "cell_type": "code",
   "execution_count": 24,
   "metadata": {},
   "outputs": [],
   "source": [
    "def sigmoid(z):\n",
    "    return 1 / (1 + np.exp(-z))"
   ]
  },
  {
   "cell_type": "markdown",
   "metadata": {},
   "source": [
    "- Hàm dự đoán"
   ]
  },
  {
   "cell_type": "code",
   "execution_count": 25,
   "metadata": {},
   "outputs": [],
   "source": [
    "def predict(X, theta):\n",
    "    dot_product = np.dot(X, theta)\n",
    "    y_hat = sigmoid(dot_product)\n",
    "\n",
    "    return y_hat"
   ]
  },
  {
   "cell_type": "markdown",
   "metadata": {},
   "source": [
    "- Hàm tính loss"
   ]
  },
  {
   "attachments": {
    "image.png": {
     "image/png": "[encoded data removed]"
    }
   },
   "cell_type": "markdown",
   "metadata": {},
   "source": [
    "![image.png](attachment:image.png)"
   ]
  },
  {
   "cell_type": "code",
   "execution_count": 26,
   "metadata": {},
   "outputs": [],
   "source": [
    "def compute_loss(y_hat, y):\n",
    "    y_hat = np.clip(\n",
    "        y_hat, 1e-7, 1 - 1e-7\n",
    "    )\n",
    "\n",
    "    return (\n",
    "        -y * \\\n",
    "        np.log(y_hat) - (1 - y) * \\\n",
    "        np.log(1 - y_hat)\n",
    "    ).mean()"
   ]
  },
  {
   "cell_type": "markdown",
   "metadata": {},
   "source": [
    "- Hàm tính gradient"
   ]
  },
  {
   "attachments": {
    "image.png": {
     "image/png": "[encoded data removed]"
    }
   },
   "cell_type": "markdown",
   "metadata": {},
   "source": [
    "![image.png](attachment:image.png)"
   ]
  },
  {
   "cell_type": "code",
   "execution_count": 27,
   "metadata": {},
   "outputs": [],
   "source": [
    "def compute_gradient(X, y, y_hat):\n",
    "    return np.dot(\n",
    "        X.T, (y_hat - y)\n",
    "    ) / y.size"
   ]
  },
  {
   "cell_type": "markdown",
   "metadata": {},
   "source": [
    "- Hàm cập nhật trọng số"
   ]
  },
  {
   "attachments": {
    "image.png": {
     "image/png": "[encoded data removed]"
    }
   },
   "cell_type": "markdown",
   "metadata": {},
   "source": [
    "![image.png](attachment:image.png)"
   ]
  },
  {
   "cell_type": "code",
   "execution_count": 28,
   "metadata": {},
   "outputs": [],
   "source": [
    "def update_theta(theta, gradient, lr):\n",
    "    return theta - lr * gradient"
   ]
  },
  {
   "cell_type": "markdown",
   "metadata": {},
   "source": [
    "- Hàm tính độ chính xác"
   ]
  },
  {
   "attachments": {
    "image.png": {
     "image/png": "[encoded data removed]"
    }
   },
   "cell_type": "markdown",
   "metadata": {},
   "source": [
    "![image.png](attachment:image.png)"
   ]
  },
  {
   "cell_type": "code",
   "execution_count": 29,
   "metadata": {},
   "outputs": [],
   "source": [
    "def compute_accuracy(X, y, theta):\n",
    "    y_hat = predict(X, theta).round()\n",
    "    acc = (y_hat == y).mean()\n",
    "\n",
    "    return acc"
   ]
  },
  {
   "cell_type": "markdown",
   "metadata": {},
   "source": [
    "### 9. Khai báo các siêu tham số và khởi tạo weights"
   ]
  },
  {
   "cell_type": "code",
   "execution_count": 30,
   "metadata": {},
   "outputs": [],
   "source": [
    "lr = 0.01\n",
    "epochs = 100\n",
    "batch_size = 16\n",
    "\n",
    "np.random.seed(random_state)\n",
    "theta = np.random.uniform(\n",
    "    size=X_train.shape[1]\n",
    ")"
   ]
  },
  {
   "cell_type": "markdown",
   "metadata": {},
   "source": [
    "### 10. Huấn luyện mô hình"
   ]
  },
  {
   "attachments": {
    "image.png": {
     "image/png": "[encoded data removed]"
    }
   },
   "cell_type": "markdown",
   "metadata": {},
   "source": [
    "![image.png](attachment:image.png)"
   ]
  },
  {
   "cell_type": "code",
   "execution_count": 31,
   "metadata": {},
   "outputs": [
    {
     "name": "stdout",
     "output_type": "stream",
     "text": [
      "\n",
      "EPOCH 1:\tTraining loss: 0.702          tValidation loss: 0.598\n",
      "\n",
      "EPOCH 2:\tTraining loss: 0.667          tValidation loss: 0.580\n",
      "\n",
      "EPOCH 3:\tTraining loss: 0.637          tValidation loss: 0.565\n",
      "\n",
      "EPOCH 4:\tTraining loss: 0.610          tValidation loss: 0.553\n",
      "\n",
      "EPOCH 5:\tTraining loss: 0.587          tValidation loss: 0.542\n",
      "\n",
      "EPOCH 6:\tTraining loss: 0.567          tValidation loss: 0.533\n",
      "\n",
      "EPOCH 7:\tTraining loss: 0.549          tValidation loss: 0.526\n",
      "\n",
      "EPOCH 8:\tTraining loss: 0.534          tValidation loss: 0.520\n",
      "\n",
      "EPOCH 9:\tTraining loss: 0.520          tValidation loss: 0.515\n",
      "\n",
      "EPOCH 10:\tTraining loss: 0.509          tValidation loss: 0.511\n",
      "\n",
      "EPOCH 11:\tTraining loss: 0.498          tValidation loss: 0.508\n",
      "\n",
      "EPOCH 12:\tTraining loss: 0.490          tValidation loss: 0.506\n",
      "\n",
      "EPOCH 13:\tTraining loss: 0.482          tValidation loss: 0.504\n",
      "\n",
      "EPOCH 14:\tTraining loss: 0.475          tValidation loss: 0.503\n",
      "\n",
      "EPOCH 15:\tTraining loss: 0.469          tValidation loss: 0.501\n",
      "\n",
      "EPOCH 16:\tTraining loss: 0.464          tValidation loss: 0.501\n",
      "\n",
      "EPOCH 17:\tTraining loss: 0.459          tValidation loss: 0.500\n",
      "\n",
      "EPOCH 18:\tTraining loss: 0.455          tValidation loss: 0.500\n",
      "\n",
      "EPOCH 19:\tTraining loss: 0.451          tValidation loss: 0.499\n",
      "\n",
      "EPOCH 20:\tTraining loss: 0.448          tValidation loss: 0.499\n",
      "\n",
      "EPOCH 21:\tTraining loss: 0.445          tValidation loss: 0.499\n",
      "\n",
      "EPOCH 22:\tTraining loss: 0.442          tValidation loss: 0.499\n",
      "\n",
      "EPOCH 23:\tTraining loss: 0.440          tValidation loss: 0.500\n",
      "\n",
      "EPOCH 24:\tTraining loss: 0.438          tValidation loss: 0.500\n",
      "\n",
      "EPOCH 25:\tTraining loss: 0.436          tValidation loss: 0.500\n",
      "\n",
      "EPOCH 26:\tTraining loss: 0.434          tValidation loss: 0.500\n",
      "\n",
      "EPOCH 27:\tTraining loss: 0.432          tValidation loss: 0.501\n",
      "\n",
      "EPOCH 28:\tTraining loss: 0.431          tValidation loss: 0.501\n",
      "\n",
      "EPOCH 29:\tTraining loss: 0.429          tValidation loss: 0.502\n",
      "\n",
      "EPOCH 30:\tTraining loss: 0.428          tValidation loss: 0.502\n",
      "\n",
      "EPOCH 31:\tTraining loss: 0.427          tValidation loss: 0.502\n",
      "\n",
      "EPOCH 32:\tTraining loss: 0.426          tValidation loss: 0.503\n",
      "\n",
      "EPOCH 33:\tTraining loss: 0.425          tValidation loss: 0.503\n",
      "\n",
      "EPOCH 34:\tTraining loss: 0.424          tValidation loss: 0.504\n",
      "\n",
      "EPOCH 35:\tTraining loss: 0.423          tValidation loss: 0.504\n",
      "\n",
      "EPOCH 36:\tTraining loss: 0.422          tValidation loss: 0.504\n",
      "\n",
      "EPOCH 37:\tTraining loss: 0.422          tValidation loss: 0.505\n",
      "\n",
      "EPOCH 38:\tTraining loss: 0.421          tValidation loss: 0.505\n",
      "\n",
      "EPOCH 39:\tTraining loss: 0.420          tValidation loss: 0.506\n",
      "\n",
      "EPOCH 40:\tTraining loss: 0.420          tValidation loss: 0.506\n",
      "\n",
      "EPOCH 41:\tTraining loss: 0.419          tValidation loss: 0.506\n",
      "\n",
      "EPOCH 42:\tTraining loss: 0.419          tValidation loss: 0.507\n",
      "\n",
      "EPOCH 43:\tTraining loss: 0.418          tValidation loss: 0.507\n",
      "\n",
      "EPOCH 44:\tTraining loss: 0.418          tValidation loss: 0.508\n",
      "\n",
      "EPOCH 45:\tTraining loss: 0.417          tValidation loss: 0.508\n",
      "\n",
      "EPOCH 46:\tTraining loss: 0.417          tValidation loss: 0.508\n",
      "\n",
      "EPOCH 47:\tTraining loss: 0.416          tValidation loss: 0.509\n",
      "\n",
      "EPOCH 48:\tTraining loss: 0.416          tValidation loss: 0.509\n",
      "\n",
      "EPOCH 49:\tTraining loss: 0.416          tValidation loss: 0.509\n",
      "\n",
      "EPOCH 50:\tTraining loss: 0.415          tValidation loss: 0.510\n",
      "\n",
      "EPOCH 51:\tTraining loss: 0.415          tValidation loss: 0.510\n",
      "\n",
      "EPOCH 52:\tTraining loss: 0.415          tValidation loss: 0.510\n",
      "\n",
      "EPOCH 53:\tTraining loss: 0.415          tValidation loss: 0.511\n",
      "\n",
      "EPOCH 54:\tTraining loss: 0.414          tValidation loss: 0.511\n",
      "\n",
      "EPOCH 55:\tTraining loss: 0.414          tValidation loss: 0.511\n",
      "\n",
      "EPOCH 56:\tTraining loss: 0.414          tValidation loss: 0.511\n",
      "\n",
      "EPOCH 57:\tTraining loss: 0.414          tValidation loss: 0.512\n",
      "\n",
      "EPOCH 58:\tTraining loss: 0.414          tValidation loss: 0.512\n",
      "\n",
      "EPOCH 59:\tTraining loss: 0.413          tValidation loss: 0.512\n",
      "\n",
      "EPOCH 60:\tTraining loss: 0.413          tValidation loss: 0.512\n",
      "\n",
      "EPOCH 61:\tTraining loss: 0.413          tValidation loss: 0.513\n",
      "\n",
      "EPOCH 62:\tTraining loss: 0.413          tValidation loss: 0.513\n",
      "\n",
      "EPOCH 63:\tTraining loss: 0.413          tValidation loss: 0.513\n",
      "\n",
      "EPOCH 64:\tTraining loss: 0.412          tValidation loss: 0.513\n",
      "\n",
      "EPOCH 65:\tTraining loss: 0.412          tValidation loss: 0.514\n",
      "\n",
      "EPOCH 66:\tTraining loss: 0.412          tValidation loss: 0.514\n",
      "\n",
      "EPOCH 67:\tTraining loss: 0.412          tValidation loss: 0.514\n",
      "\n",
      "EPOCH 68:\tTraining loss: 0.412          tValidation loss: 0.514\n",
      "\n",
      "EPOCH 69:\tTraining loss: 0.412          tValidation loss: 0.515\n",
      "\n",
      "EPOCH 70:\tTraining loss: 0.412          tValidation loss: 0.515\n",
      "\n",
      "EPOCH 71:\tTraining loss: 0.412          tValidation loss: 0.515\n",
      "\n",
      "EPOCH 72:\tTraining loss: 0.412          tValidation loss: 0.515\n",
      "\n",
      "EPOCH 73:\tTraining loss: 0.411          tValidation loss: 0.515\n",
      "\n",
      "EPOCH 74:\tTraining loss: 0.411          tValidation loss: 0.515\n",
      "\n",
      "EPOCH 75:\tTraining loss: 0.411          tValidation loss: 0.516\n",
      "\n",
      "EPOCH 76:\tTraining loss: 0.411          tValidation loss: 0.516\n",
      "\n",
      "EPOCH 77:\tTraining loss: 0.411          tValidation loss: 0.516\n",
      "\n",
      "EPOCH 78:\tTraining loss: 0.411          tValidation loss: 0.516\n",
      "\n",
      "EPOCH 79:\tTraining loss: 0.411          tValidation loss: 0.516\n",
      "\n",
      "EPOCH 80:\tTraining loss: 0.411          tValidation loss: 0.517\n",
      "\n",
      "EPOCH 81:\tTraining loss: 0.411          tValidation loss: 0.517\n",
      "\n",
      "EPOCH 82:\tTraining loss: 0.411          tValidation loss: 0.517\n",
      "\n",
      "EPOCH 83:\tTraining loss: 0.411          tValidation loss: 0.517\n",
      "\n",
      "EPOCH 84:\tTraining loss: 0.411          tValidation loss: 0.517\n",
      "\n",
      "EPOCH 85:\tTraining loss: 0.411          tValidation loss: 0.517\n",
      "\n",
      "EPOCH 86:\tTraining loss: 0.410          tValidation loss: 0.517\n",
      "\n",
      "EPOCH 87:\tTraining loss: 0.410          tValidation loss: 0.518\n",
      "\n",
      "EPOCH 88:\tTraining loss: 0.410          tValidation loss: 0.518\n",
      "\n",
      "EPOCH 89:\tTraining loss: 0.410          tValidation loss: 0.518\n",
      "\n",
      "EPOCH 90:\tTraining loss: 0.410          tValidation loss: 0.518\n",
      "\n",
      "EPOCH 91:\tTraining loss: 0.410          tValidation loss: 0.518\n",
      "\n",
      "EPOCH 92:\tTraining loss: 0.410          tValidation loss: 0.518\n",
      "\n",
      "EPOCH 93:\tTraining loss: 0.410          tValidation loss: 0.518\n",
      "\n",
      "EPOCH 94:\tTraining loss: 0.410          tValidation loss: 0.519\n",
      "\n",
      "EPOCH 95:\tTraining loss: 0.410          tValidation loss: 0.519\n",
      "\n",
      "EPOCH 96:\tTraining loss: 0.410          tValidation loss: 0.519\n",
      "\n",
      "EPOCH 97:\tTraining loss: 0.410          tValidation loss: 0.519\n",
      "\n",
      "EPOCH 98:\tTraining loss: 0.410          tValidation loss: 0.519\n",
      "\n",
      "EPOCH 99:\tTraining loss: 0.410          tValidation loss: 0.519\n",
      "\n",
      "EPOCH 100:\tTraining loss: 0.410          tValidation loss: 0.519\n"
     ]
    }
   ],
   "source": [
    "train_accs = []\n",
    "train_losses = []\n",
    "val_accs = []\n",
    "val_losses = []\n",
    "\n",
    "for epoch in range(epochs):\n",
    "    train_batch_losses = []\n",
    "    train_batch_accs = []\n",
    "    val_batch_losses = []\n",
    "    val_batch_accs = []\n",
    "\n",
    "    for i in range(0, X_train.shape[0], batch_size):\n",
    "        X_i = X_train[i:i+batch_size]\n",
    "        y_i = y_train[i:i+batch_size]\n",
    "\n",
    "        y_hat = predict(X_i, theta)\n",
    "\n",
    "        train_loss = compute_loss(y_hat, y_i)\n",
    "\n",
    "        gradient = compute_gradient(X_i, y_i, y_hat)\n",
    "\n",
    "        theta = update_theta(theta, gradient, lr)\n",
    "\n",
    "\n",
    "        train_batch_losses.append(train_loss)\n",
    "\n",
    "        train_acc = compute_accuracy(X_train, y_train, theta)\n",
    "        train_batch_accs.append(train_acc)\n",
    "\n",
    "        y_val_hat = predict(X_val, theta)\n",
    "        val_loss = compute_loss(y_val_hat, y_val)\n",
    "        val_batch_losses.append(val_loss)\n",
    "\n",
    "        val_acc = compute_accuracy(X_val, y_val, theta)\n",
    "        val_batch_accs.append(val_acc)\n",
    "\n",
    "    train_batch_loss = sum(train_batch_losses) / len(train_batch_losses)\n",
    "    val_batch_loss = sum(val_batch_losses) / len(val_batch_losses)\n",
    "    train_batch_acc = sum(train_batch_accs) / len(train_batch_accs)\n",
    "    val_batch_acc = sum(val_batch_accs) / len(val_batch_accs)\n",
    "\n",
    "    train_losses.append(train_batch_loss)\n",
    "    val_losses.append(val_batch_loss)\n",
    "    train_accs.append(train_batch_acc)\n",
    "    val_accs.append(val_batch_acc)\n",
    "\n",
    "    print(f'\\nEPOCH {epoch + 1}:\\tTraining loss: {train_batch_loss:.3f}\\\n",
    "          tValidation loss: {val_batch_loss:.3f}')"
   ]
  },
  {
   "cell_type": "markdown",
   "metadata": {},
   "source": [
    "Trực quan hóa kết quả thành đồ thị:"
   ]
  },
  {
   "cell_type": "code",
   "execution_count": 32,
   "metadata": {},
   "outputs": [
    {
     "data": {
      "image/png": "[encoded data removed]",
      "text/plain": [
       "<Figure size 1200x1000 with 4 Axes>"
      ]
     },
     "metadata": {},
     "output_type": "display_data"
    }
   ],
   "source": [
    "fig, ax = plt.subplots(2, 2, figsize=(12, 10))\n",
    "ax[0, 0].plot(train_losses)\n",
    "ax[0, 0].set(xlabel='Epoch', ylabel='Loss')\n",
    "ax[0, 0].set_title('Training Loss')\n",
    "\n",
    "ax[0, 1].plot(val_losses, 'orange')\n",
    "ax[0, 1].set(xlabel='Epoch', ylabel='Loss')\n",
    "ax[0, 1].set_title('Validation Loss')\n",
    "\n",
    "ax[1, 0].plot(train_accs)\n",
    "ax[1, 0].set(xlabel='Epoch', ylabel='Accuracy')\n",
    "ax[1, 0].set_title('Training Accuracy')\n",
    "\n",
    "ax[1, 1].plot(val_accs, 'orange')\n",
    "ax[1, 1].set(xlabel='Epoch', ylabel='Accuracy')\n",
    "ax[1, 1].set_title('Validation Accuracy')\n",
    "\n",
    "plt.show()"
   ]
  },
  {
   "cell_type": "code",
   "execution_count": 33,
   "metadata": {},
   "outputs": [
    {
     "name": "stdout",
     "output_type": "stream",
     "text": [
      "Evaluation on validation and test set:\n",
      "Accuracy: 0.776536312849162\n",
      "Accuracy: 0.75\n"
     ]
    }
   ],
   "source": [
    "val_set_acc = compute_accuracy(X_val, y_val, theta)\n",
    "test_set_acc = compute_accuracy(X_test, y_test, theta)\n",
    "print('Evaluation on validation and test set:')\n",
    "print(f'Accuracy: {val_set_acc}')\n",
    "print(f'Accuracy: {test_set_acc}')"
   ]
  },
  {
   "cell_type": "markdown",
   "metadata": {},
   "source": [
    "## Twitter Sentiment Analysis"
   ]
  },
  {
   "cell_type": "markdown",
   "metadata": {},
   "source": [
    "### 1. Tải bộ dữ liệu"
   ]
  },
  {
   "cell_type": "markdown",
   "metadata": {},
   "source": [
    "###  2. Import libraries"
   ]
  },
  {
   "cell_type": "code",
   "execution_count": 34,
   "metadata": {},
   "outputs": [],
   "source": [
    "import pandas as pd \n",
    "import numpy as np \n",
    "import re\n",
    "import nltk\n",
    "import matplotlib.pyplot as plt \n",
    "\n",
    "from sklearn.model_selection import train_test_split\n",
    "from sklearn.preprocessing import StandardScaler\n",
    "from nltk.tokenize import TweetTokenizer\n",
    "from collections import defaultdict"
   ]
  },
  {
   "cell_type": "markdown",
   "metadata": {},
   "source": [
    "### 3. Đọc bộ dữ liệu"
   ]
  },
  {
   "cell_type": "code",
   "execution_count": 35,
   "metadata": {},
   "outputs": [],
   "source": [
    "dataset_path = 'sentiment_analysis.csv'\n",
    "df = pd.read_csv(\n",
    "    dataset_path,\n",
    "    index_col='id'\n",
    ")"
   ]
  },
  {
   "cell_type": "code",
   "execution_count": 36,
   "metadata": {},
   "outputs": [
    {
     "data": {
      "text/html": [
       "<div>\n",
       "<style scoped>\n",
       "    .dataframe tbody tr th:only-of-type {\n",
       "        vertical-align: middle;\n",
       "    }\n",
       "\n",
       "    .dataframe tbody tr th {\n",
       "        vertical-align: top;\n",
       "    }\n",
       "\n",
       "    .dataframe thead th {\n",
       "        text-align: right;\n",
       "    }\n",
       "</style>\n",
       "<table border=\"1\" class=\"dataframe\">\n",
       "  <thead>\n",
       "    <tr style=\"text-align: right;\">\n",
       "      <th></th>\n",
       "      <th>label</th>\n",
       "      <th>tweet</th>\n",
       "    </tr>\n",
       "    <tr>\n",
       "      <th>id</th>\n",
       "      <th></th>\n",
       "      <th></th>\n",
       "    </tr>\n",
       "  </thead>\n",
       "  <tbody>\n",
       "    <tr>\n",
       "      <th>1</th>\n",
       "      <td>0</td>\n",
       "      <td>#fingerprint #Pregnancy Test https://goo.gl/h1...</td>\n",
       "    </tr>\n",
       "    <tr>\n",
       "      <th>2</th>\n",
       "      <td>0</td>\n",
       "      <td>Finally a transparant silicon case ^^ Thanks t...</td>\n",
       "    </tr>\n",
       "    <tr>\n",
       "      <th>3</th>\n",
       "      <td>0</td>\n",
       "      <td>We love this! Would you go? #talk #makememorie...</td>\n",
       "    </tr>\n",
       "    <tr>\n",
       "      <th>4</th>\n",
       "      <td>0</td>\n",
       "      <td>I'm wired I know I'm George I was made that wa...</td>\n",
       "    </tr>\n",
       "    <tr>\n",
       "      <th>5</th>\n",
       "      <td>1</td>\n",
       "      <td>What amazing service! Apple won't even talk to...</td>\n",
       "    </tr>\n",
       "    <tr>\n",
       "      <th>...</th>\n",
       "      <td>...</td>\n",
       "      <td>...</td>\n",
       "    </tr>\n",
       "    <tr>\n",
       "      <th>7916</th>\n",
       "      <td>0</td>\n",
       "      <td>Live out loud #lol #liveoutloud #selfie #smile...</td>\n",
       "    </tr>\n",
       "    <tr>\n",
       "      <th>7917</th>\n",
       "      <td>0</td>\n",
       "      <td>We would like to wish you an amazing day! Make...</td>\n",
       "    </tr>\n",
       "    <tr>\n",
       "      <th>7918</th>\n",
       "      <td>0</td>\n",
       "      <td>Helping my lovely 90 year old neighbor with he...</td>\n",
       "    </tr>\n",
       "    <tr>\n",
       "      <th>7919</th>\n",
       "      <td>0</td>\n",
       "      <td>Finally got my #smart #pocket #wifi stay conne...</td>\n",
       "    </tr>\n",
       "    <tr>\n",
       "      <th>7920</th>\n",
       "      <td>0</td>\n",
       "      <td>Apple Barcelona!!! #Apple #Store #BCN #Barcelo...</td>\n",
       "    </tr>\n",
       "  </tbody>\n",
       "</table>\n",
       "<p>7920 rows × 2 columns</p>\n",
       "</div>"
      ],
      "text/plain": [
       "      label                                              tweet\n",
       "id                                                            \n",
       "1         0  #fingerprint #Pregnancy Test https://goo.gl/h1...\n",
       "2         0  Finally a transparant silicon case ^^ Thanks t...\n",
       "3         0  We love this! Would you go? #talk #makememorie...\n",
       "4         0  I'm wired I know I'm George I was made that wa...\n",
       "5         1  What amazing service! Apple won't even talk to...\n",
       "...     ...                                                ...\n",
       "7916      0  Live out loud #lol #liveoutloud #selfie #smile...\n",
       "7917      0  We would like to wish you an amazing day! Make...\n",
       "7918      0  Helping my lovely 90 year old neighbor with he...\n",
       "7919      0  Finally got my #smart #pocket #wifi stay conne...\n",
       "7920      0  Apple Barcelona!!! #Apple #Store #BCN #Barcelo...\n",
       "\n",
       "[7920 rows x 2 columns]"
      ]
     },
     "execution_count": 36,
     "metadata": {},
     "output_type": "execute_result"
    }
   ],
   "source": [
    "df"
   ]
  },
  {
   "cell_type": "markdown",
   "metadata": {},
   "source": [
    "### 4. Tiền xử lý bộ dữ liệu"
   ]
  },
  {
   "cell_type": "markdown",
   "metadata": {},
   "source": [
    " (a) **Xây dựng hàm chuẩn hóa văn bản**: Văn bản gốc có rất nhiều kí tự thừa thải, vô\n",
    " nghĩa... Vì vậy, ta cần loại bỏ chúng cũng như áp dụng thêm vài các bước chuẩn hóa văn\n",
    " bản khác để văn bản đầu vào trở nên ít phức tạp hơn, nhằm tăng cường hiệu quả biểu\n",
    " diễn của vector đặc trưng sau này:"
   ]
  },
  {
   "cell_type": "code",
   "execution_count": 37,
   "metadata": {},
   "outputs": [],
   "source": [
    "def text_normalize(text):\n",
    "    # Retweet old acronym \"RT\" removal\n",
    "    text = re.sub(r'^RT[\\s]+', '', text)\n",
    "\n",
    "    # Hyperlinks removal\n",
    "    text = re.sub(r'https?:\\/\\/.*[\\r\\n]*', '', text)\n",
    "\n",
    "    # Hashtags removal\n",
    "    text = re.sub(r'#', '', text)\n",
    "\n",
    "    # Punctuation removal\n",
    "    text = re.sub(r'[^\\w\\s]', '', text)\n",
    "\n",
    "    # Tokenization\n",
    "    tokenizer = TweetTokenizer(\n",
    "        preserve_case=False,\n",
    "        strip_handles=True,\n",
    "        reduce_len=True\n",
    "    )\n",
    "    text_tokens = tokenizer.tokenize(text)\n",
    "\n",
    "    return text_tokens"
   ]
  },
  {
   "cell_type": "markdown",
   "metadata": {},
   "source": [
    "Trong đó:\n",
    "\n",
    "– Dòng 1: Khai báo hàm text_normalize() nhận đầu vào là một string (text).\n",
    "\n",
    "– Dòng 2, 3: Loại bỏ các từ \"RT\" trong text (đây là một cụm từ viết tắt cũ cho\n",
    " \"Retweet\").\n",
    " \n",
    " – Dòng 5, 6: Loại bỏ các đường dẫn trong text.\n",
    " \n",
    " – Dòng 8, 9: Loại bỏ các hashtag.\n",
    " \n",
    " – Dòng 11, 12: Loại bỏ các dấu câu.\n",
    " \n",
    " – Dòng 14, 15, 16, 17, 18, 19: Khai báo tokenizer.\n",
    " \n",
    " – Dòng 20: Tokenize text (kết quả trả về là danh sách các token)\n",
    "\n",
    " – Dòng 22: Trả về danh sách các token."
   ]
  },
  {
   "cell_type": "markdown",
   "metadata": {},
   "source": [
    " (b) **Xây dựng bộ lưu giữ tần suất xuất hiện của các từ**: Có rất nhiều cách để ta có\n",
    " thể tạo vector biểu diễn cho một đoạn văn bản. Trong bài tập này, chúng ta sẽ sử dụng\n",
    " loại vector lưu trữ số lần xuất hiện của các từ thuộc class \"positive\" và các từ thuộc\n",
    " class \"negative\" trong một văn bản. Để làm được điều này, đầu tiên chúng ta cần phải\n",
    " xây dựng một bộ từ điển lưu trữ tần suất xuất hiện của toàn bộ mọi từ trong bộ dữ liệu\n",
    " với class tương ứng của nó. "
   ]
  },
  {
   "cell_type": "code",
   "execution_count": 38,
   "metadata": {},
   "outputs": [],
   "source": [
    "def get_freqs(df):\n",
    "    freqs = defaultdict(lambda: 0)\n",
    "    for idx, row in df.iterrows():\n",
    "        tweet = row['tweet']\n",
    "        label = row['label']\n",
    "        tokens = text_normalize(tweet)\n",
    "        for token in tokens:\n",
    "            pair = (token, label)\n",
    "            freqs[pair] += 1\n",
    "\n",
    "    return freqs"
   ]
  },
  {
   "cell_type": "markdown",
   "metadata": {},
   "source": [
    "Trong đó:\n",
    "\n",
    "– Dòng 1: Khai báo hàm get_freqs() với tham số đầu vào là DataFrame chứa bộ dữ\n",
    " liệu (df).\n",
    " \n",
    " – Dòng 2: Khai báo một defaultdict (defaultdict khác với dict thông thường ở điểm\n",
    " defaultdict tự động gán giá trị mặc định cho các key mới, ở đây ta gán bằng 0).\n",
    " \n",
    " – Dòng 3, 4, 5: Duyệt qua từng dòng tweet và label tương ứng:\n",
    " \n",
    " – Dòng 7: Chuẩn hóa dòng tweet hiện tại.\n",
    " \n",
    " – Dòng 8, 9, 10: Duyệt qua từng từ (token) trong tweet hiện tại, khai báo key có\n",
    " dạng tuple (token, label) và tăng giá trị của key lên 1.\n",
    " \n",
    " – Dòng 12: Trả về dictionary lưu giữ tần suất xuất hiện của các từ."
   ]
  },
  {
   "cell_type": "markdown",
   "metadata": {},
   "source": [
    " (c) **Xây dựng hàm tạo vector đặc trưng**: Kết hợp hai thành phần trên, ta xây dựng\n",
    " một hàm tạo vector đặc trưng cho văn bản đầu vào."
   ]
  },
  {
   "cell_type": "code",
   "execution_count": 39,
   "metadata": {},
   "outputs": [],
   "source": [
    "def get_feature(text, freqs):\n",
    "    tokens = text_normalize(text)\n",
    "\n",
    "    X = np.zeros(3)\n",
    "    X[0] = 1\n",
    "\n",
    "    for token in tokens:\n",
    "        X[1] += freqs[(token, 0)]\n",
    "        X[2] += freqs[(token, 1)]\n",
    "\n",
    "    return X"
   ]
  },
  {
   "cell_type": "markdown",
   "metadata": {},
   "source": [
    " Trong đó:\n",
    " \n",
    " – Dòng 1: Khai báo hàm get_feature() nhận tham số đầu vào là đoạn văn bản (text)\n",
    "và dictionary lưu giữ tần suất xuất hiện các từ (freqs).\n",
    " \n",
    " – Dòng 2: Chuẩn hóa văn bản đầu vào.\n",
    " \n",
    " – Dòng 4: Tạo một vector biểu diễn văn bản giá trị 0 có 3 phần tử, đại diện cho\n",
    " (intercept, n_positives, n_negatives)– Dòng 5: Gán phần tử đầu tiên giá trị 1 \n",
    " (intercept).\n",
    " \n",
    " – Dòng 7, 8, 9: Duyệt qua từng từ trong văn bản đầu vào, lấy giá trị tần suất của từ\n",
    "ứng với từng label và cộng dồn vào vị trí phần tử trong vector biểu diễn tương ứng.\n",
    "\n",
    "– Dòng 11: Trả về vector biểu diễn."
   ]
  },
  {
   "cell_type": "markdown",
   "metadata": {},
   "source": [
    " (d) **Trích xuất đặc trưng toàn bộ dữ liệu**: Cuối cùng, ta sử dụng hàm get_feature() ở\n",
    " trên để đổi toàn bộ văn bản thành vector biểu diễn mới như sau:"
   ]
  },
  {
   "cell_type": "code",
   "execution_count": 40,
   "metadata": {},
   "outputs": [],
   "source": [
    "X = []\n",
    "y = []\n",
    "\n",
    "freqs = get_freqs(df)\n",
    "for idx, row in df.iterrows():\n",
    "    tweet = row['tweet']\n",
    "    label = row['label']\n",
    "\n",
    "    X_i = get_feature(tweet, freqs)\n",
    "    X.append(X_i)\n",
    "    y.append(label)\n",
    "\n",
    "X = np.array(X)\n",
    "y = np.array(y)"
   ]
  },
  {
   "cell_type": "markdown",
   "metadata": {},
   "source": [
    "### 5.Chia bộ train,val,test"
   ]
  },
  {
   "cell_type": "code",
   "execution_count": 41,
   "metadata": {},
   "outputs": [],
   "source": [
    "val_size = 0.2\n",
    "test_size = 0.125\n",
    "random_state = 2\n",
    "is_shuffle = True\n",
    "\n",
    "X_train, X_val, y_train, y_val = train_test_split(\n",
    "    X, y,\n",
    "    test_size=val_size,\n",
    "    random_state=random_state,\n",
    "    shuffle=is_shuffle\n",
    ")\n",
    "\n",
    "X_train, X_test, y_train, y_test = train_test_split(\n",
    "    X_train, y_train,\n",
    "    test_size=test_size,\n",
    "    random_state=random_state,\n",
    "    shuffle=is_shuffle\n",
    ")"
   ]
  },
  {
   "cell_type": "markdown",
   "metadata": {},
   "source": [
    "### 6. Chuẩn hóa dữ liệu"
   ]
  },
  {
   "cell_type": "code",
   "execution_count": 42,
   "metadata": {},
   "outputs": [],
   "source": [
    "normalizer = StandardScaler()\n",
    "X_train[:, 1:] = normalizer.fit_transform(X_train[:, 1:])\n",
    "X_val[:, 1:] = normalizer.transform(X_val[:, 1:])\n",
    "X_test[:, 1:] = normalizer.transform(X_test[:, 1:])"
   ]
  },
  {
   "cell_type": "markdown",
   "metadata": {},
   "source": [
    "### 7. Cài đặt các hàm quan trọng"
   ]
  },
  {
   "cell_type": "code",
   "execution_count": 43,
   "metadata": {},
   "outputs": [],
   "source": [
    "def sigmoid(z):\n",
    "    return 1 / (1 + np.exp(-z))\n",
    "\n",
    "def compute_loss(y_hat, y):\n",
    "    y_hat = np.clip(\n",
    "        y_hat, 1e-7, 1 - 1e-7\n",
    "    )\n",
    "\n",
    "    return (-y * np.log(y_hat) - (1 - y) * np.log(1 - y_hat)).mean()\n",
    "\n",
    "def predict(X, theta):\n",
    "    dot_product = np.dot(X, theta)\n",
    "    y_hat = sigmoid(dot_product)\n",
    "\n",
    "    return y_hat\n",
    "\n",
    "def compute_gradient(X, y, y_hat):\n",
    "    return np.dot(\n",
    "        X.T, (y_hat - y)\n",
    "    ) / y.size\n",
    "\n",
    "def update_theta(theta, gradient, lr):\n",
    "    return theta - lr * gradient\n",
    "\n",
    "def compute_accuracy(X, y, theta):\n",
    "    y_hat = predict(X, theta).round()\n",
    "    acc = (y_hat == y).mean()\n",
    "\n",
    "    return acc"
   ]
  },
  {
   "cell_type": "markdown",
   "metadata": {},
   "source": [
    "### 8. Khai báo các siêu tham số và khởi tạo weights"
   ]
  },
  {
   "cell_type": "markdown",
   "metadata": {},
   "source": [
    "Trong bài này, vì số lượng mẫu dữ liệu nhiều hơn bài Titanic ta có thể cân nhắc tăng số batchsize lên để tăng tốc độ huấn luyện (ví dụ ở đây ta cài batch_size=128)."
   ]
  },
  {
   "cell_type": "code",
   "execution_count": 44,
   "metadata": {},
   "outputs": [],
   "source": [
    "lr = 0.01\n",
    "epochs = 200\n",
    "batch_size = 128\n",
    "\n",
    "np.random.seed(random_state)\n",
    "theta = np.random.uniform(\n",
    "    size = X_train.shape[1]\n",
    ")"
   ]
  },
  {
   "cell_type": "markdown",
   "metadata": {},
   "source": [
    "### 9. Huấn luyện mô hình"
   ]
  },
  {
   "cell_type": "code",
   "execution_count": 45,
   "metadata": {},
   "outputs": [
    {
     "name": "stdout",
     "output_type": "stream",
     "text": [
      "\n",
      "EPOCH 1:\tTraining loss: 0.707          tValidation loss: 0.704\n",
      "\n",
      "EPOCH 2:\tTraining loss: 0.661          tValidation loss: 0.659\n",
      "\n",
      "EPOCH 3:\tTraining loss: 0.624          tValidation loss: 0.622\n",
      "\n",
      "EPOCH 4:\tTraining loss: 0.594          tValidation loss: 0.591\n",
      "\n",
      "EPOCH 5:\tTraining loss: 0.569          tValidation loss: 0.566\n",
      "\n",
      "EPOCH 6:\tTraining loss: 0.548          tValidation loss: 0.546\n",
      "\n",
      "EPOCH 7:\tTraining loss: 0.531          tValidation loss: 0.528\n",
      "\n",
      "EPOCH 8:\tTraining loss: 0.516          tValidation loss: 0.514\n",
      "\n",
      "EPOCH 9:\tTraining loss: 0.504          tValidation loss: 0.502\n",
      "\n",
      "EPOCH 10:\tTraining loss: 0.494          tValidation loss: 0.491\n",
      "\n",
      "EPOCH 11:\tTraining loss: 0.485          tValidation loss: 0.483\n",
      "\n",
      "EPOCH 12:\tTraining loss: 0.477          tValidation loss: 0.475\n",
      "\n",
      "EPOCH 13:\tTraining loss: 0.471          tValidation loss: 0.468\n",
      "\n",
      "EPOCH 14:\tTraining loss: 0.465          tValidation loss: 0.463\n",
      "\n",
      "EPOCH 15:\tTraining loss: 0.460          tValidation loss: 0.457\n",
      "\n",
      "EPOCH 16:\tTraining loss: 0.456          tValidation loss: 0.453\n",
      "\n",
      "EPOCH 17:\tTraining loss: 0.452          tValidation loss: 0.449\n",
      "\n",
      "EPOCH 18:\tTraining loss: 0.448          tValidation loss: 0.445\n",
      "\n",
      "EPOCH 19:\tTraining loss: 0.445          tValidation loss: 0.442\n",
      "\n",
      "EPOCH 20:\tTraining loss: 0.442          tValidation loss: 0.439\n",
      "\n",
      "EPOCH 21:\tTraining loss: 0.440          tValidation loss: 0.437\n",
      "\n",
      "EPOCH 22:\tTraining loss: 0.437          tValidation loss: 0.434\n",
      "\n",
      "EPOCH 23:\tTraining loss: 0.435          tValidation loss: 0.432\n",
      "\n",
      "EPOCH 24:\tTraining loss: 0.433          tValidation loss: 0.430\n",
      "\n",
      "EPOCH 25:\tTraining loss: 0.431          tValidation loss: 0.428\n",
      "\n",
      "EPOCH 26:\tTraining loss: 0.430          tValidation loss: 0.426\n",
      "\n",
      "EPOCH 27:\tTraining loss: 0.428          tValidation loss: 0.425\n",
      "\n",
      "EPOCH 28:\tTraining loss: 0.427          tValidation loss: 0.423\n",
      "\n",
      "EPOCH 29:\tTraining loss: 0.425          tValidation loss: 0.422\n",
      "\n",
      "EPOCH 30:\tTraining loss: 0.424          tValidation loss: 0.420\n",
      "\n",
      "EPOCH 31:\tTraining loss: 0.423          tValidation loss: 0.419\n",
      "\n",
      "EPOCH 32:\tTraining loss: 0.421          tValidation loss: 0.418\n",
      "\n",
      "EPOCH 33:\tTraining loss: 0.420          tValidation loss: 0.417\n",
      "\n",
      "EPOCH 34:\tTraining loss: 0.419          tValidation loss: 0.416\n",
      "\n",
      "EPOCH 35:\tTraining loss: 0.418          tValidation loss: 0.415\n",
      "\n",
      "EPOCH 36:\tTraining loss: 0.417          tValidation loss: 0.414\n",
      "\n",
      "EPOCH 37:\tTraining loss: 0.416          tValidation loss: 0.413\n",
      "\n",
      "EPOCH 38:\tTraining loss: 0.415          tValidation loss: 0.412\n",
      "\n",
      "EPOCH 39:\tTraining loss: 0.414          tValidation loss: 0.411\n",
      "\n",
      "EPOCH 40:\tTraining loss: 0.414          tValidation loss: 0.410\n",
      "\n",
      "EPOCH 41:\tTraining loss: 0.413          tValidation loss: 0.409\n",
      "\n",
      "EPOCH 42:\tTraining loss: 0.412          tValidation loss: 0.408\n",
      "\n",
      "EPOCH 43:\tTraining loss: 0.411          tValidation loss: 0.408\n",
      "\n",
      "EPOCH 44:\tTraining loss: 0.411          tValidation loss: 0.407\n",
      "\n",
      "EPOCH 45:\tTraining loss: 0.410          tValidation loss: 0.406\n",
      "\n",
      "EPOCH 46:\tTraining loss: 0.409          tValidation loss: 0.405\n",
      "\n",
      "EPOCH 47:\tTraining loss: 0.409          tValidation loss: 0.405\n",
      "\n",
      "EPOCH 48:\tTraining loss: 0.408          tValidation loss: 0.404\n",
      "\n",
      "EPOCH 49:\tTraining loss: 0.407          tValidation loss: 0.403\n",
      "\n",
      "EPOCH 50:\tTraining loss: 0.407          tValidation loss: 0.403\n",
      "\n",
      "EPOCH 51:\tTraining loss: 0.406          tValidation loss: 0.402\n",
      "\n",
      "EPOCH 52:\tTraining loss: 0.406          tValidation loss: 0.402\n",
      "\n",
      "EPOCH 53:\tTraining loss: 0.405          tValidation loss: 0.401\n",
      "\n",
      "EPOCH 54:\tTraining loss: 0.404          tValidation loss: 0.400\n",
      "\n",
      "EPOCH 55:\tTraining loss: 0.404          tValidation loss: 0.400\n",
      "\n",
      "EPOCH 56:\tTraining loss: 0.403          tValidation loss: 0.399\n",
      "\n",
      "EPOCH 57:\tTraining loss: 0.403          tValidation loss: 0.399\n",
      "\n",
      "EPOCH 58:\tTraining loss: 0.402          tValidation loss: 0.398\n",
      "\n",
      "EPOCH 59:\tTraining loss: 0.402          tValidation loss: 0.398\n",
      "\n",
      "EPOCH 60:\tTraining loss: 0.401          tValidation loss: 0.397\n",
      "\n",
      "EPOCH 61:\tTraining loss: 0.401          tValidation loss: 0.397\n",
      "\n",
      "EPOCH 62:\tTraining loss: 0.401          tValidation loss: 0.396\n",
      "\n",
      "EPOCH 63:\tTraining loss: 0.400          tValidation loss: 0.396\n",
      "\n",
      "EPOCH 64:\tTraining loss: 0.400          tValidation loss: 0.396\n",
      "\n",
      "EPOCH 65:\tTraining loss: 0.399          tValidation loss: 0.395\n",
      "\n",
      "EPOCH 66:\tTraining loss: 0.399          tValidation loss: 0.395\n",
      "\n",
      "EPOCH 67:\tTraining loss: 0.399          tValidation loss: 0.394\n",
      "\n",
      "EPOCH 68:\tTraining loss: 0.398          tValidation loss: 0.394\n",
      "\n",
      "EPOCH 69:\tTraining loss: 0.398          tValidation loss: 0.394\n",
      "\n",
      "EPOCH 70:\tTraining loss: 0.397          tValidation loss: 0.393\n",
      "\n",
      "EPOCH 71:\tTraining loss: 0.397          tValidation loss: 0.393\n",
      "\n",
      "EPOCH 72:\tTraining loss: 0.397          tValidation loss: 0.392\n",
      "\n",
      "EPOCH 73:\tTraining loss: 0.396          tValidation loss: 0.392\n",
      "\n",
      "EPOCH 74:\tTraining loss: 0.396          tValidation loss: 0.392\n",
      "\n",
      "EPOCH 75:\tTraining loss: 0.396          tValidation loss: 0.391\n",
      "\n",
      "EPOCH 76:\tTraining loss: 0.395          tValidation loss: 0.391\n",
      "\n",
      "EPOCH 77:\tTraining loss: 0.395          tValidation loss: 0.391\n",
      "\n",
      "EPOCH 78:\tTraining loss: 0.395          tValidation loss: 0.390\n",
      "\n",
      "EPOCH 79:\tTraining loss: 0.394          tValidation loss: 0.390\n",
      "\n",
      "EPOCH 80:\tTraining loss: 0.394          tValidation loss: 0.390\n",
      "\n",
      "EPOCH 81:\tTraining loss: 0.394          tValidation loss: 0.389\n",
      "\n",
      "EPOCH 82:\tTraining loss: 0.394          tValidation loss: 0.389\n",
      "\n",
      "EPOCH 83:\tTraining loss: 0.393          tValidation loss: 0.389\n",
      "\n",
      "EPOCH 84:\tTraining loss: 0.393          tValidation loss: 0.389\n",
      "\n",
      "EPOCH 85:\tTraining loss: 0.393          tValidation loss: 0.388\n",
      "\n",
      "EPOCH 86:\tTraining loss: 0.392          tValidation loss: 0.388\n",
      "\n",
      "EPOCH 87:\tTraining loss: 0.392          tValidation loss: 0.388\n",
      "\n",
      "EPOCH 88:\tTraining loss: 0.392          tValidation loss: 0.388\n",
      "\n",
      "EPOCH 89:\tTraining loss: 0.392          tValidation loss: 0.387\n",
      "\n",
      "EPOCH 90:\tTraining loss: 0.391          tValidation loss: 0.387\n",
      "\n",
      "EPOCH 91:\tTraining loss: 0.391          tValidation loss: 0.387\n",
      "\n",
      "EPOCH 92:\tTraining loss: 0.391          tValidation loss: 0.387\n",
      "\n",
      "EPOCH 93:\tTraining loss: 0.391          tValidation loss: 0.386\n",
      "\n",
      "EPOCH 94:\tTraining loss: 0.391          tValidation loss: 0.386\n",
      "\n",
      "EPOCH 95:\tTraining loss: 0.390          tValidation loss: 0.386\n",
      "\n",
      "EPOCH 96:\tTraining loss: 0.390          tValidation loss: 0.386\n",
      "\n",
      "EPOCH 97:\tTraining loss: 0.390          tValidation loss: 0.385\n",
      "\n",
      "EPOCH 98:\tTraining loss: 0.390          tValidation loss: 0.385\n",
      "\n",
      "EPOCH 99:\tTraining loss: 0.390          tValidation loss: 0.385\n",
      "\n",
      "EPOCH 100:\tTraining loss: 0.389          tValidation loss: 0.385\n",
      "\n",
      "EPOCH 101:\tTraining loss: 0.389          tValidation loss: 0.385\n",
      "\n",
      "EPOCH 102:\tTraining loss: 0.389          tValidation loss: 0.384\n",
      "\n",
      "EPOCH 103:\tTraining loss: 0.389          tValidation loss: 0.384\n",
      "\n",
      "EPOCH 104:\tTraining loss: 0.389          tValidation loss: 0.384\n",
      "\n",
      "EPOCH 105:\tTraining loss: 0.388          tValidation loss: 0.384\n",
      "\n",
      "EPOCH 106:\tTraining loss: 0.388          tValidation loss: 0.384\n",
      "\n",
      "EPOCH 107:\tTraining loss: 0.388          tValidation loss: 0.383\n",
      "\n",
      "EPOCH 108:\tTraining loss: 0.388          tValidation loss: 0.383\n",
      "\n",
      "EPOCH 109:\tTraining loss: 0.388          tValidation loss: 0.383\n",
      "\n",
      "EPOCH 110:\tTraining loss: 0.388          tValidation loss: 0.383\n",
      "\n",
      "EPOCH 111:\tTraining loss: 0.387          tValidation loss: 0.383\n",
      "\n",
      "EPOCH 112:\tTraining loss: 0.387          tValidation loss: 0.382\n",
      "\n",
      "EPOCH 113:\tTraining loss: 0.387          tValidation loss: 0.382\n",
      "\n",
      "EPOCH 114:\tTraining loss: 0.387          tValidation loss: 0.382\n",
      "\n",
      "EPOCH 115:\tTraining loss: 0.387          tValidation loss: 0.382\n",
      "\n",
      "EPOCH 116:\tTraining loss: 0.387          tValidation loss: 0.382\n",
      "\n",
      "EPOCH 117:\tTraining loss: 0.386          tValidation loss: 0.382\n",
      "\n",
      "EPOCH 118:\tTraining loss: 0.386          tValidation loss: 0.382\n",
      "\n",
      "EPOCH 119:\tTraining loss: 0.386          tValidation loss: 0.381\n",
      "\n",
      "EPOCH 120:\tTraining loss: 0.386          tValidation loss: 0.381\n",
      "\n",
      "EPOCH 121:\tTraining loss: 0.386          tValidation loss: 0.381\n",
      "\n",
      "EPOCH 122:\tTraining loss: 0.386          tValidation loss: 0.381\n",
      "\n",
      "EPOCH 123:\tTraining loss: 0.386          tValidation loss: 0.381\n",
      "\n",
      "EPOCH 124:\tTraining loss: 0.386          tValidation loss: 0.381\n",
      "\n",
      "EPOCH 125:\tTraining loss: 0.385          tValidation loss: 0.380\n",
      "\n",
      "EPOCH 126:\tTraining loss: 0.385          tValidation loss: 0.380\n",
      "\n",
      "EPOCH 127:\tTraining loss: 0.385          tValidation loss: 0.380\n",
      "\n",
      "EPOCH 128:\tTraining loss: 0.385          tValidation loss: 0.380\n",
      "\n",
      "EPOCH 129:\tTraining loss: 0.385          tValidation loss: 0.380\n",
      "\n",
      "EPOCH 130:\tTraining loss: 0.385          tValidation loss: 0.380\n",
      "\n",
      "EPOCH 131:\tTraining loss: 0.385          tValidation loss: 0.380\n",
      "\n",
      "EPOCH 132:\tTraining loss: 0.385          tValidation loss: 0.380\n",
      "\n",
      "EPOCH 133:\tTraining loss: 0.384          tValidation loss: 0.379\n",
      "\n",
      "EPOCH 134:\tTraining loss: 0.384          tValidation loss: 0.379\n",
      "\n",
      "EPOCH 135:\tTraining loss: 0.384          tValidation loss: 0.379\n",
      "\n",
      "EPOCH 136:\tTraining loss: 0.384          tValidation loss: 0.379\n",
      "\n",
      "EPOCH 137:\tTraining loss: 0.384          tValidation loss: 0.379\n",
      "\n",
      "EPOCH 138:\tTraining loss: 0.384          tValidation loss: 0.379\n",
      "\n",
      "EPOCH 139:\tTraining loss: 0.384          tValidation loss: 0.379\n",
      "\n",
      "EPOCH 140:\tTraining loss: 0.384          tValidation loss: 0.379\n",
      "\n",
      "EPOCH 141:\tTraining loss: 0.384          tValidation loss: 0.379\n",
      "\n",
      "EPOCH 142:\tTraining loss: 0.384          tValidation loss: 0.378\n",
      "\n",
      "EPOCH 143:\tTraining loss: 0.383          tValidation loss: 0.378\n",
      "\n",
      "EPOCH 144:\tTraining loss: 0.383          tValidation loss: 0.378\n",
      "\n",
      "EPOCH 145:\tTraining loss: 0.383          tValidation loss: 0.378\n",
      "\n",
      "EPOCH 146:\tTraining loss: 0.383          tValidation loss: 0.378\n",
      "\n",
      "EPOCH 147:\tTraining loss: 0.383          tValidation loss: 0.378\n",
      "\n",
      "EPOCH 148:\tTraining loss: 0.383          tValidation loss: 0.378\n",
      "\n",
      "EPOCH 149:\tTraining loss: 0.383          tValidation loss: 0.378\n",
      "\n",
      "EPOCH 150:\tTraining loss: 0.383          tValidation loss: 0.378\n",
      "\n",
      "EPOCH 151:\tTraining loss: 0.383          tValidation loss: 0.378\n",
      "\n",
      "EPOCH 152:\tTraining loss: 0.383          tValidation loss: 0.378\n",
      "\n",
      "EPOCH 153:\tTraining loss: 0.383          tValidation loss: 0.377\n",
      "\n",
      "EPOCH 154:\tTraining loss: 0.383          tValidation loss: 0.377\n",
      "\n",
      "EPOCH 155:\tTraining loss: 0.382          tValidation loss: 0.377\n",
      "\n",
      "EPOCH 156:\tTraining loss: 0.382          tValidation loss: 0.377\n",
      "\n",
      "EPOCH 157:\tTraining loss: 0.382          tValidation loss: 0.377\n",
      "\n",
      "EPOCH 158:\tTraining loss: 0.382          tValidation loss: 0.377\n",
      "\n",
      "EPOCH 159:\tTraining loss: 0.382          tValidation loss: 0.377\n",
      "\n",
      "EPOCH 160:\tTraining loss: 0.382          tValidation loss: 0.377\n",
      "\n",
      "EPOCH 161:\tTraining loss: 0.382          tValidation loss: 0.377\n",
      "\n",
      "EPOCH 162:\tTraining loss: 0.382          tValidation loss: 0.377\n",
      "\n",
      "EPOCH 163:\tTraining loss: 0.382          tValidation loss: 0.377\n",
      "\n",
      "EPOCH 164:\tTraining loss: 0.382          tValidation loss: 0.377\n",
      "\n",
      "EPOCH 165:\tTraining loss: 0.382          tValidation loss: 0.376\n",
      "\n",
      "EPOCH 166:\tTraining loss: 0.382          tValidation loss: 0.376\n",
      "\n",
      "EPOCH 167:\tTraining loss: 0.382          tValidation loss: 0.376\n",
      "\n",
      "EPOCH 168:\tTraining loss: 0.382          tValidation loss: 0.376\n",
      "\n",
      "EPOCH 169:\tTraining loss: 0.381          tValidation loss: 0.376\n",
      "\n",
      "EPOCH 170:\tTraining loss: 0.381          tValidation loss: 0.376\n",
      "\n",
      "EPOCH 171:\tTraining loss: 0.381          tValidation loss: 0.376\n",
      "\n",
      "EPOCH 172:\tTraining loss: 0.381          tValidation loss: 0.376\n",
      "\n",
      "EPOCH 173:\tTraining loss: 0.381          tValidation loss: 0.376\n",
      "\n",
      "EPOCH 174:\tTraining loss: 0.381          tValidation loss: 0.376\n",
      "\n",
      "EPOCH 175:\tTraining loss: 0.381          tValidation loss: 0.376\n",
      "\n",
      "EPOCH 176:\tTraining loss: 0.381          tValidation loss: 0.376\n",
      "\n",
      "EPOCH 177:\tTraining loss: 0.381          tValidation loss: 0.376\n",
      "\n",
      "EPOCH 178:\tTraining loss: 0.381          tValidation loss: 0.376\n",
      "\n",
      "EPOCH 179:\tTraining loss: 0.381          tValidation loss: 0.375\n",
      "\n",
      "EPOCH 180:\tTraining loss: 0.381          tValidation loss: 0.375\n",
      "\n",
      "EPOCH 181:\tTraining loss: 0.381          tValidation loss: 0.375\n",
      "\n",
      "EPOCH 182:\tTraining loss: 0.381          tValidation loss: 0.375\n",
      "\n",
      "EPOCH 183:\tTraining loss: 0.381          tValidation loss: 0.375\n",
      "\n",
      "EPOCH 184:\tTraining loss: 0.381          tValidation loss: 0.375\n",
      "\n",
      "EPOCH 185:\tTraining loss: 0.381          tValidation loss: 0.375\n",
      "\n",
      "EPOCH 186:\tTraining loss: 0.381          tValidation loss: 0.375\n",
      "\n",
      "EPOCH 187:\tTraining loss: 0.381          tValidation loss: 0.375\n",
      "\n",
      "EPOCH 188:\tTraining loss: 0.380          tValidation loss: 0.375\n",
      "\n",
      "EPOCH 189:\tTraining loss: 0.380          tValidation loss: 0.375\n",
      "\n",
      "EPOCH 190:\tTraining loss: 0.380          tValidation loss: 0.375\n",
      "\n",
      "EPOCH 191:\tTraining loss: 0.380          tValidation loss: 0.375\n",
      "\n",
      "EPOCH 192:\tTraining loss: 0.380          tValidation loss: 0.375\n",
      "\n",
      "EPOCH 193:\tTraining loss: 0.380          tValidation loss: 0.375\n",
      "\n",
      "EPOCH 194:\tTraining loss: 0.380          tValidation loss: 0.375\n",
      "\n",
      "EPOCH 195:\tTraining loss: 0.380          tValidation loss: 0.375\n",
      "\n",
      "EPOCH 196:\tTraining loss: 0.380          tValidation loss: 0.375\n",
      "\n",
      "EPOCH 197:\tTraining loss: 0.380          tValidation loss: 0.375\n",
      "\n",
      "EPOCH 198:\tTraining loss: 0.380          tValidation loss: 0.374\n",
      "\n",
      "EPOCH 199:\tTraining loss: 0.380          tValidation loss: 0.374\n",
      "\n",
      "EPOCH 200:\tTraining loss: 0.380          tValidation loss: 0.374\n"
     ]
    }
   ],
   "source": [
    "train_accs = []\n",
    "train_losses = []\n",
    "val_accs = []\n",
    "val_losses = []\n",
    "\n",
    "for epoch in range(epochs):\n",
    "    train_batch_losses = []\n",
    "    train_batch_accs = []\n",
    "    val_batch_losses = []\n",
    "    val_batch_accs = []\n",
    "\n",
    "    for i in range(0, X_train.shape[0], batch_size):\n",
    "        X_i = X_train[i:i+batch_size]\n",
    "        y_i = y_train[i:i+batch_size]\n",
    "\n",
    "        y_hat = predict(X_i, theta)\n",
    "\n",
    "        train_loss = compute_loss(y_hat, y_i)\n",
    "\n",
    "        gradient = compute_gradient(X_i, y_i, y_hat)\n",
    "\n",
    "        theta = update_theta(theta, gradient, lr)\n",
    "\n",
    "\n",
    "        train_batch_losses.append(train_loss)\n",
    "\n",
    "        train_acc = compute_accuracy(X_train, y_train, theta)\n",
    "        train_batch_accs.append(train_acc)\n",
    "\n",
    "        y_val_hat = predict(X_val, theta)\n",
    "        val_loss = compute_loss(y_val_hat, y_val)\n",
    "        val_batch_losses.append(val_loss)\n",
    "\n",
    "        val_acc = compute_accuracy(X_val, y_val, theta)\n",
    "        val_batch_accs.append(val_acc)\n",
    "\n",
    "    train_batch_loss = sum(train_batch_losses) / len(train_batch_losses)\n",
    "    val_batch_loss = sum(val_batch_losses) / len(val_batch_losses)\n",
    "    train_batch_acc = sum(train_batch_accs) / len(train_batch_accs)\n",
    "    val_batch_acc = sum(val_batch_accs) / len(val_batch_accs)\n",
    "\n",
    "    train_losses.append(train_batch_loss)\n",
    "    val_losses.append(val_batch_loss)\n",
    "    train_accs.append(train_batch_acc)\n",
    "    val_accs.append(val_batch_acc)\n",
    "\n",
    "    print(f'\\nEPOCH {epoch + 1}:\\tTraining loss: {train_batch_loss:.3f}\\\n",
    "          tValidation loss: {val_batch_loss:.3f}')"
   ]
  },
  {
   "cell_type": "code",
   "execution_count": 46,
   "metadata": {},
   "outputs": [
    {
     "data": {
      "image/png": "[encoded data removed]",
      "text/plain": [
       "<Figure size 1200x1000 with 4 Axes>"
      ]
     },
     "metadata": {},
     "output_type": "display_data"
    }
   ],
   "source": [
    "fig, ax = plt.subplots(2, 2, figsize=(12, 10))\n",
    "ax[0, 0].plot(train_losses)\n",
    "ax[0, 0].set(xlabel='Epoch', ylabel='Loss')\n",
    "ax[0, 0].set_title('Training Loss')\n",
    "\n",
    "ax[0, 1].plot(val_losses, 'orange')\n",
    "ax[0, 1].set(xlabel='Epoch', ylabel='Loss')\n",
    "ax[0, 1].set_title('Validation Loss')\n",
    "\n",
    "ax[1, 0].plot(train_accs)\n",
    "ax[1, 0].set(xlabel='Epoch', ylabel='Accuracy')\n",
    "ax[1, 0].set_title('Training Accuracy')\n",
    "\n",
    "ax[1, 1].plot(val_accs, 'orange')\n",
    "ax[1, 1].set(xlabel='Epoch', ylabel='Accuracy')\n",
    "ax[1, 1].set_title('Validation Accuracy')\n",
    "\n",
    "plt.show()"
   ]
  },
  {
   "cell_type": "markdown",
   "metadata": {},
   "source": [
    "### 10. Đánh giá mô hình"
   ]
  },
  {
   "cell_type": "code",
   "execution_count": 47,
   "metadata": {},
   "outputs": [
    {
     "name": "stdout",
     "output_type": "stream",
     "text": [
      "Evaluation on validation and test set:\n",
      "Accuracy: 0.821969696969697\n",
      "Accuracy: 0.8434343434343434\n"
     ]
    }
   ],
   "source": [
    "val_set_acc = compute_accuracy(X_val, y_val, theta)\n",
    "test_set_acc = compute_accuracy(X_test, y_test, theta)\n",
    "print('Evaluation on validation and test set:')\n",
    "print(f'Accuracy: {val_set_acc}')\n",
    "print(f'Accuracy: {test_set_acc}')"
   ]
  },
  {
   "cell_type": "markdown",
   "metadata": {},
   "source": [
    "# B. Phần trắc nghiệm"
   ]
  },
  {
   "cell_type": "markdown",
   "metadata": {},
   "source": [
    "Câu 1:"
   ]
  },
  {
   "cell_type": "code",
   "execution_count": 48,
   "metadata": {},
   "outputs": [],
   "source": [
    "# Đáp án: A"
   ]
  },
  {
   "cell_type": "markdown",
   "metadata": {},
   "source": [
    "Câu 2:"
   ]
  },
  {
   "cell_type": "code",
   "execution_count": 50,
   "metadata": {},
   "outputs": [],
   "source": [
    "# Đáp án: D"
   ]
  },
  {
   "cell_type": "markdown",
   "metadata": {},
   "source": [
    "Câu 3:"
   ]
  },
  {
   "cell_type": "code",
   "execution_count": 51,
   "metadata": {},
   "outputs": [],
   "source": [
    "# Đáp án: B"
   ]
  },
  {
   "cell_type": "markdown",
   "metadata": {},
   "source": [
    "câu 4:"
   ]
  },
  {
   "cell_type": "code",
   "execution_count": 52,
   "metadata": {},
   "outputs": [],
   "source": [
    "# Đáp án: B"
   ]
  },
  {
   "cell_type": "markdown",
   "metadata": {},
   "source": [
    "Câu 5:"
   ]
  },
  {
   "cell_type": "code",
   "execution_count": 53,
   "metadata": {},
   "outputs": [],
   "source": [
    "# Đáp án: D"
   ]
  },
  {
   "cell_type": "markdown",
   "metadata": {},
   "source": [
    "Câu 6:"
   ]
  },
  {
   "cell_type": "code",
   "execution_count": 54,
   "metadata": {},
   "outputs": [],
   "source": [
    "# Đáp án: C"
   ]
  },
  {
   "cell_type": "markdown",
   "metadata": {},
   "source": [
    "Câu 7:"
   ]
  },
  {
   "cell_type": "code",
   "execution_count": 55,
   "metadata": {},
   "outputs": [],
   "source": [
    "# Đáp án: B"
   ]
  },
  {
   "cell_type": "markdown",
   "metadata": {},
   "source": [
    "Câu 8:"
   ]
  },
  {
   "cell_type": "code",
   "execution_count": 56,
   "metadata": {},
   "outputs": [],
   "source": [
    "# Đáp án: A"
   ]
  },
  {
   "cell_type": "markdown",
   "metadata": {},
   "source": [
    "Câu 9:"
   ]
  },
  {
   "cell_type": "code",
   "execution_count": 57,
   "metadata": {},
   "outputs": [],
   "source": [
    "# Đáp án: C"
   ]
  },
  {
   "cell_type": "markdown",
   "metadata": {},
   "source": [
    "Câu 10:"
   ]
  },
  {
   "cell_type": "code",
   "execution_count": null,
   "metadata": {},
   "outputs": [],
   "source": [
    "# Đáp án: A"
   ]
  },
  {
   "cell_type": "markdown",
   "metadata": {},
   "source": [
    "Câu 11:"
   ]
  },
  {
   "cell_type": "code",
   "execution_count": 59,
   "metadata": {},
   "outputs": [],
   "source": [
    "# Đáp án: D"
   ]
  },
  {
   "cell_type": "markdown",
   "metadata": {},
   "source": [
    "Câu 12:"
   ]
  },
  {
   "cell_type": "code",
   "execution_count": 60,
   "metadata": {},
   "outputs": [],
   "source": [
    "# Đáp án: D"
   ]
  },
  {
   "cell_type": "markdown",
   "metadata": {},
   "source": [
    "Câu 13:"
   ]
  },
  {
   "cell_type": "code",
   "execution_count": 61,
   "metadata": {},
   "outputs": [],
   "source": [
    "# Đáp án: C"
   ]
  },
  {
   "cell_type": "markdown",
   "metadata": {},
   "source": [
    "Câu 14:"
   ]
  },
  {
   "cell_type": "code",
   "execution_count": 62,
   "metadata": {},
   "outputs": [],
   "source": [
    "# Đáp án: A"
   ]
  },
  {
   "cell_type": "markdown",
   "metadata": {},
   "source": [
    "Câu 15:"
   ]
  },
  {
   "cell_type": "code",
   "execution_count": 63,
   "metadata": {},
   "outputs": [],
   "source": [
    "# Đáp án: B"
   ]
  }
 ],
 "metadata": {
  "kernelspec": {
   "display_name": "Python 3",
   "language": "python",
   "name": "python3"
  },
  "language_info": {
   "codemirror_mode": {
    "name": "ipython",
    "version": 3
   },
   "file_extension": ".py",
   "mimetype": "text/x-python",
   "name": "python",
   "nbconvert_exporter": "python",
   "pygments_lexer": "ipython3",
   "version": "3.12.1"
  }
 },
 "nbformat": 4,
 "nbformat_minor": 2
}
