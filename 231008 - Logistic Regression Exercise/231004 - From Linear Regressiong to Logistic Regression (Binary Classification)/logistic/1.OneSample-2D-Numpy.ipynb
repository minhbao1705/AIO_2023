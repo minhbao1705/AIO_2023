{
 "cells": [
  {
   "cell_type": "code",
   "execution_count": 1,
   "metadata": {},
   "outputs": [
    {
     "data": {
      "image/png": "[encoded data removed]",
      "text/plain": [
       "<Figure size 600x400 with 1 Axes>"
      ]
     },
     "metadata": {},
     "output_type": "display_data"
    }
   ],
   "source": [
    "import numpy as np \n",
    "import matplotlib.pyplot as plt \n",
    "#%matplotlib qt\n",
    "\n",
    "iris = np.genfromtxt('iris_2D_demo.csv',\n",
    "                     dtype=None,\n",
    "                     delimiter=',',\n",
    "                     skip_header=1)\n",
    "x_data = iris[:, :2]\n",
    "y_data = iris[:, 2]\n",
    "\n",
    "x_data_0 = x_data[y_data == 0]\n",
    "x_data_1 = x_data[y_data == 1]\n",
    "\n",
    "plt.figure(figsize=(6, 4))\n",
    "plt.scatter(x_data_0[:, 0], x_data_0[:, 1], color='b', label='0')\n",
    "plt.scatter(x_data_1[:, 0], x_data_1[:, 1], color='r', label='1')\n",
    "plt.show()"
   ]
  },
  {
   "cell_type": "code",
   "execution_count": 2,
   "metadata": {},
   "outputs": [
    {
     "name": "stdout",
     "output_type": "stream",
     "text": [
      "x_data \n",
      " [[1.  1.4 0.2]\n",
      " [1.  1.5 0.2]\n",
      " [1.  3.  1.1]\n",
      " [1.  4.1 1.3]]\n",
      "y_data \n",
      " [0. 0. 1. 1.]\n"
     ]
    }
   ],
   "source": [
    "N = x_data.shape[0]\n",
    "intercept = np.ones((N, 1))\n",
    "x_data = np.concatenate((intercept, x_data), axis=1)\n",
    "\n",
    "print('x_data \\n', x_data)\n",
    "print('y_data \\n', y_data)"
   ]
  },
  {
   "cell_type": "code",
   "execution_count": 3,
   "metadata": {},
   "outputs": [],
   "source": [
    "def shuffle_data(X, y):\n",
    "    indices = np.random.permutation(N)\n",
    "    x_data_sh = x_data[indices]\n",
    "    y_data_sh = y_data[indices]\n",
    "\n",
    "    return x_data_sh, y_data_sh\n",
    "\n",
    "def sigmoid_function(z):\n",
    "    return 1 / (1 + np.exp(-z))\n",
    "\n",
    "def loss_function(y_hat, y):\n",
    "    return -y*np.log(y_hat) - (1 - y)*np.log(1 - y_hat)\n",
    "\n",
    "def predict(X, theta):    \n",
    "    z = np.dot(X.T, theta)\n",
    "    y_hat = sigmoid_function(z)\n",
    "    \n",
    "    return y_hat"
   ]
  },
  {
   "cell_type": "code",
   "execution_count": 38,
   "metadata": {},
   "outputs": [],
   "source": [
    "lr = 0.001\n",
    "max_epoch = 3000\n",
    "\n",
    "theta = np.array([0.1, 0.5, -0.1])\n",
    "losses = []\n",
    "\n",
    "for epoch in range(max_epoch):\n",
    "    # shuffle\n",
    "    x_data_sh, y_data_sh = shuffle_data(x_data, y_data)\n",
    "    \n",
    "    for i in range(N):\n",
    "        X = x_data_sh[i]\n",
    "        y = y_data_sh[i]\n",
    "        \n",
    "        # compute output\n",
    "        y_hat = predict(X, theta)\n",
    "\n",
    "        # compute loss\n",
    "        loss = loss_function(y_hat, y)\n",
    "        losses.append(loss.item())\n",
    "\n",
    "        # compute mean of gradient\n",
    "        gradient = X*(y_hat - y)\n",
    "\n",
    "        # update\n",
    "        theta = theta - lr*gradient"
   ]
  },
  {
   "cell_type": "code",
   "execution_count": 39,
   "metadata": {},
   "outputs": [
    {
     "data": {
      "image/png": "[encoded data removed]",
      "text/plain": [
       "<Figure size 640x480 with 1 Axes>"
      ]
     },
     "metadata": {},
     "output_type": "display_data"
    }
   ],
   "source": [
    "import matplotlib.pyplot as plt\n",
    "\n",
    "plt.plot(losses)\n",
    "plt.show()"
   ]
  },
  {
   "cell_type": "code",
   "execution_count": 40,
   "metadata": {},
   "outputs": [
    {
     "data": {
      "text/plain": [
       "array([-1.55496605,  0.61578412,  0.81546331])"
      ]
     },
     "execution_count": 40,
     "metadata": {},
     "output_type": "execute_result"
    }
   ],
   "source": [
    "theta"
   ]
  },
  {
   "cell_type": "code",
   "execution_count": 41,
   "metadata": {},
   "outputs": [],
   "source": [
    "# compute acc\n",
    "preds = []\n",
    "for i in range(0, N):\n",
    "    X = x_data[i]\n",
    "    y = y_data[i]\n",
    "    \n",
    "    y_hat = predict(X, theta).round() \n",
    "    preds.append(y_hat)"
   ]
  },
  {
   "cell_type": "code",
   "execution_count": 42,
   "metadata": {},
   "outputs": [
    {
     "name": "stdout",
     "output_type": "stream",
     "text": [
      "1.0\n"
     ]
    }
   ],
   "source": [
    "acc = (preds == y_data).mean()\n",
    "print(acc)"
   ]
  },
  {
   "cell_type": "code",
   "execution_count": 43,
   "metadata": {},
   "outputs": [
    {
     "data": {
      "text/plain": [
       "[0.0, 0.0, 1.0, 1.0]"
      ]
     },
     "execution_count": 43,
     "metadata": {},
     "output_type": "execute_result"
    }
   ],
   "source": [
    "preds"
   ]
  },
  {
   "cell_type": "code",
   "execution_count": 44,
   "metadata": {},
   "outputs": [
    {
     "data": {
      "text/plain": [
       "array([0., 0., 1., 1.])"
      ]
     },
     "execution_count": 44,
     "metadata": {},
     "output_type": "execute_result"
    }
   ],
   "source": [
    "y_data"
   ]
  }
 ],
 "metadata": {
  "kernelspec": {
   "display_name": "Python 3",
   "language": "python",
   "name": "python3"
  },
  "language_info": {
   "codemirror_mode": {
    "name": "ipython",
    "version": 3
   },
   "file_extension": ".py",
   "mimetype": "text/x-python",
   "name": "python",
   "nbconvert_exporter": "python",
   "pygments_lexer": "ipython3",
   "version": "3.12.1"
  }
 },
 "nbformat": 4,
 "nbformat_minor": 2
}
