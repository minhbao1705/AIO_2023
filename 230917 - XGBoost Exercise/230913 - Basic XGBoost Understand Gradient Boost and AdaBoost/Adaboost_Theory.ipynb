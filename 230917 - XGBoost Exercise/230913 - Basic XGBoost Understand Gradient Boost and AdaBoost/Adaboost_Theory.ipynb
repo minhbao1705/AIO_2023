{
 "cells": [
  {
   "cell_type": "code",
   "execution_count": 1,
   "metadata": {},
   "outputs": [],
   "source": [
    "# Imports\n",
    "import numpy as np \n",
    "import pandas as pd \n",
    "from sklearn.tree import DecisionTreeClassifier\n",
    "\n",
    "# Helper functions\n",
    "def compute_error(y, y_pred, w_i):\n",
    "    '''\n",
    "    Calculate the error rate of a weak classifier m. Arguments:\n",
    "    y: actual target value\n",
    "    y_pred: predicted value by weak classifier\n",
    "    w_i: individual weights for each observation\n",
    "\n",
    "\n",
    "    Note that all arrays should be the same length\n",
    "    '''\n",
    "    return (sum(w_i * (np.not_equal(y, y_pred)).astype(int))/sum(w_i))\n",
    "\n",
    "def compute_alpha(error):\n",
    "    '''\n",
    "    Calculate the weight of a weak classifier m in the majority vote of the final classifier. This is called\n",
    "    alpha in chapter 10.1 of The Elements of Statistical Learning. Arguments:\n",
    "    error: error rate from weak classifier m\n",
    "    '''\n",
    "    epsilon = 0.01\n",
    "    return np.log((1 - error + epsilon) / (error+epsilon))\n",
    "\n",
    "def update_weights_formular(w_i, alpha, y, y_pred):\n",
    "    result = w_i * np.exp(-alpha * y * y_pred)\n",
    "    w_norm = result / np.sum(result)\n",
    "    return w_norm\n",
    "\n",
    "def update_weights_formular2(w_i, alpha, y, y_pred):\n",
    "    result = w_i * np.exp(alpha * (\n",
    "        np.not_equal(y, y_pred)).astype(int))\n",
    "    w_norm = result / np.sum(result)\n",
    "    return w_norm\n",
    "\n",
    "# Define AdaBoost class\n",
    "class AIVNAdaboost:\n",
    "    \n",
    "    def __init__(self):\n",
    "        # self.w_i = None\n",
    "        self.alphas = []\n",
    "        self.G_M = []\n",
    "        self.M = None\n",
    "        self.training_errors = []\n",
    "        self.prediction_errors = []\n",
    "\n",
    "    def fit(self, X, y, M = 100):\n",
    "        '''\n",
    "        Fit model. Arguments:\n",
    "        X: independent variables\n",
    "        y: target variable\n",
    "        M: number of boosting rounds. Default is 100\n",
    "        '''\n",
    "        self.alphas = []\n",
    "        self.training_errors = []\n",
    "        self.M = M\n",
    "\n",
    "        # Iterate over M weak classifiers\n",
    "        for m in range(0, M):\n",
    "\n",
    "            # Set weights for current boosting iteration\n",
    "            if m == 0:\n",
    "                w_i = np.ones(len(y)) * 1 / len(y) # At m = 0, weights are all the same and equal to 1 / N\n",
    "            else:\n",
    "                w_i = update_weights_formular2(w_i, alpha_m, y, y_pred)\n",
    "                # w_i = update_weights_formular1(w_i, alpha_m, y, y_pred)\n",
    "            # print(w_i)\n",
    "\n",
    "            # (a) Fit the weak classifier and predict labels\n",
    "            G_m = DecisionTreeClassifier(max_depth=1) # Stump: Two terminal-node classification tree\n",
    "            G_m.fit(X, y, sample_weight=w_i)\n",
    "            y_pred = G_m.predict(X)\n",
    "\n",
    "            self.G_M.append(G_m) # Save to list of weak classifiers\n",
    "\n",
    "            # (b) Compute error\n",
    "            error_m = compute_error(y, y_pred, w_i)\n",
    "            self.training_errors.append(error_m)\n",
    "            # print(error_m)\n",
    "\n",
    "            # (c) Compute alpha\n",
    "            alpha_m = compute_alpha(error_m)\n",
    "            self.alphas.append(alpha_m)\n",
    "            # print(alpha_m)\n",
    "\n",
    "        assert len(self.G_M) == len(self.alphas)\n",
    "\n",
    "    def predict(self, X):\n",
    "        '''\n",
    "        Predict using fitted model. Arguments:\n",
    "        X: independent variables\n",
    "        '''\n",
    "\n",
    "        # Initialise dataframe with weak predictions for each observation\n",
    "        weak_preds = pd.DataFrame(index=range(len(X)), columns=range(self.M))\n",
    "\n",
    "        # Predict class label for each weak classifier, weighted by alpha_m\n",
    "        for m in range(self.M):\n",
    "            y_pred_m = self.G_M[m].predict(X) * self.alphas[m]\n",
    "            #weak_preds.iloc[:,m] = y_pred_m\n",
    "            weak_preds[weak_preds.columns[m]] = y_pred_m\n",
    "\n",
    "        # Estimate final predictions\n",
    "        y_pred = (1 * np.sign(weak_preds.T.sum())).astype(int)\n",
    "\n",
    "        return y_pred\n",
    "    \n",
    "    def error_rates(self, X, y):\n",
    "        '''\n",
    "        Get the error rates of each weak classifier. Arguments:\n",
    "        X: independent variables\n",
    "        y: target variables associated to X\n",
    "        '''\n",
    "\n",
    "        self.prediction_errors = [] # Clear before calling\n",
    "\n",
    "        # Predict class label for each week classifier\n",
    "        for m in range(self.M):\n",
    "            y_pred_m = self.G_M[m].predict(X)\n",
    "            error_m = compute_error(y = y, y_pred=y_pred_m, w_i=np.ones(len(y)))\n",
    "            self.prediction_errors.append(error_m)"
   ]
  },
  {
   "cell_type": "code",
   "execution_count": 2,
   "metadata": {},
   "outputs": [
    {
     "name": "stdout",
     "output_type": "stream",
     "text": [
      "[0.08139535 0.08139535 0.08139535 0.25581395 0.08139535 0.08139535\n",
      " 0.08139535 0.25581395]\n"
     ]
    }
   ],
   "source": [
    "result = [0.07, 0.07, 0.07, 0.22, 0.07, 0.07, 0.07, 0.22]\n",
    "w_norm = result / np.sum(result)\n",
    "print(w_norm)"
   ]
  },
  {
   "cell_type": "code",
   "execution_count": 3,
   "metadata": {},
   "outputs": [],
   "source": [
    "# Imports\n",
    "import numpy as np\n",
    "import pandas as pd\n",
    "import seaborn as sns\n",
    "import matplotlib.pyplot as plt\n",
    "from sklearn.datasets import make_classification\n",
    "from sklearn.metrics import accuracy_score\n",
    "from sklearn.model_selection import train_test_split\n",
    "from sklearn.ensemble import AdaBoostClassifier"
   ]
  },
  {
   "cell_type": "code",
   "execution_count": 4,
   "metadata": {},
   "outputs": [],
   "source": [
    "#Prepare dataset\n",
    "X, y = make_classification(n_samples= 1000, n_features = 20, random_state = 42)\n",
    "y = y * 2 - 1       # Original AdaBoost uses {1, -1} as class labels\n",
    "\n",
    "# Train/test split\n",
    "X_train, X_test, y_train, y_test = train_test_split(X, y, test_size = 0.2, random_state = 42)"
   ]
  },
  {
   "cell_type": "code",
   "execution_count": 5,
   "metadata": {},
   "outputs": [],
   "source": [
    "#Prepare spam dataset\n",
    "\n",
    "df = pd.read_csv('./spambase.data', header = None)\n",
    "names = pd.read_csv('./spambase.names', sep = ':', skiprows=range(0, 33), header = None)\n",
    "col_names = list(names[0])\n",
    "col_names.append('Spam')\n",
    "df.columns = col_names\n",
    "df.head()\n",
    "\n",
    "df['Spam'] = df['Spam'] * 2 - 1\n",
    "\n",
    "X_train, X_test, y_train, y_test = train_test_split(df.drop(columns = 'Spam').values, df['Spam'].values, test_size = 0.2, random_state = 2)\n",
    "\n",
    "\n"
   ]
  },
  {
   "cell_type": "code",
   "execution_count": 7,
   "metadata": {},
   "outputs": [
    {
     "name": "stdout",
     "output_type": "stream",
     "text": [
      "The accuracy_score of the model is: 0.9349\n"
     ]
    }
   ],
   "source": [
    "# Fit model\n",
    "ab = AIVNAdaboost()\n",
    "ab.fit(X_train, y_train, M = 50)\n",
    "\n",
    "# Predict on test set\n",
    "y_pred = ab.predict(X_test)\n",
    "print('The accuracy_score of the model is:', round(accuracy_score(y_test, y_pred), 4))"
   ]
  },
  {
   "cell_type": "markdown",
   "metadata": {},
   "source": [
    "### Using the Library Scikit-Learn implementation of AdaBoost"
   ]
  },
  {
   "cell_type": "code",
   "execution_count": 8,
   "metadata": {},
   "outputs": [
    {
     "name": "stdout",
     "output_type": "stream",
     "text": [
      "The accuracy_score of the model is: 0.9435\n"
     ]
    }
   ],
   "source": [
    "from sklearn.ensemble import AdaBoostClassifier\n",
    "\n",
    "ab_sk = AdaBoostClassifier(n_estimators = 50)\n",
    "ab_sk.fit(X_train, y_train)\n",
    "y_pred_sk = ab_sk.predict(X_test)\n",
    "print('The accuracy_score of the model is:', round(accuracy_score(y_test, y_pred_sk), 4))"
   ]
  }
 ],
 "metadata": {
  "kernelspec": {
   "display_name": "Python 3",
   "language": "python",
   "name": "python3"
  },
  "language_info": {
   "codemirror_mode": {
    "name": "ipython",
    "version": 3
   },
   "file_extension": ".py",
   "mimetype": "text/x-python",
   "name": "python",
   "nbconvert_exporter": "python",
   "pygments_lexer": "ipython3",
   "version": "3.12.1"
  }
 },
 "nbformat": 4,
 "nbformat_minor": 2
}
