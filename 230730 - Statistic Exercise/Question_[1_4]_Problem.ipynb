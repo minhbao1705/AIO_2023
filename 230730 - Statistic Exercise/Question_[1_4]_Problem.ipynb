{
  "cells": [
    {
      "cell_type": "code",
      "execution_count": 2,
      "metadata": {
        "colab": {
          "base_uri": "https://localhost:8080/"
        },
        "id": "X-Togli6pb2L",
        "outputId": "b5c9f9ce-6c3f-425b-a34b-1fed018b7769"
      },
      "outputs": [
        {
          "name": "stdout",
          "output_type": "stream",
          "text": [
            "Mean :  1.8\n"
          ]
        }
      ],
      "source": [
        "### Question 1\n",
        "import numpy as np\n",
        "\n",
        "def computeMean(X):\n",
        "  s = sum(X)\n",
        "  N = len(X)\n",
        "  mean = s/N\n",
        "  return mean #your code here ******************\n",
        "\n",
        "X = [2, 0, 2, 2, 7, 4, -2, 5, -1, -1]\n",
        "\n",
        "print(\"Mean : \", computeMean(X))"
      ]
    },
    {
      "cell_type": "code",
      "execution_count": 5,
      "metadata": {
        "colab": {
          "base_uri": "https://localhost:8080/"
        },
        "id": "2oitbCAMsCq4",
        "outputId": "a3ef2521-bfd4-4311-bd8d-b7f1353c9c18"
      },
      "outputs": [
        {
          "name": "stdout",
          "output_type": "stream",
          "text": [
            "Median:  4.5\n"
          ]
        }
      ],
      "source": [
        "### Question 2\n",
        "\n",
        "def computeMedian(X):\n",
        "  size = len(X)\n",
        "  X = np.sort(X)\n",
        "  if (size % 2 == 0):\n",
        "    m1 = size/2\n",
        "    m2 = size/2 + 1\n",
        "    m1 = int(m1) - 1\n",
        "    m2 = int(m2) - 1\n",
        "    median = (X[m1] + X[m2])/2\n",
        "    return median #your code here ******************\n",
        "  else:\n",
        "    m = (size+1)/2\n",
        "    m = int(m) - 1\n",
        "    median = X[m]\n",
        "    return median #your code here ******************\n",
        "\n",
        "X = [1, 5, 4, 4, 9, 13]\n",
        "print(\"Median: \", computeMedian(X))"
      ]
    },
    {
      "cell_type": "code",
      "execution_count": 8,
      "metadata": {
        "colab": {
          "base_uri": "https://localhost:8080/"
        },
        "id": "WZlZBmPsxdAH",
        "outputId": "f09838dc-9605-4e37-8019-c342d94cdc5e"
      },
      "outputs": [
        {
          "name": "stdout",
          "output_type": "stream",
          "text": [
            "8.33\n"
          ]
        }
      ],
      "source": [
        "### Question 3\n",
        "def compute_std(X):\n",
        "  mean = computeMean(X)\n",
        "  variance = 0\n",
        "\n",
        " #your code here ******************\n",
        "  diff = []\n",
        "  for num in X:\n",
        "    diff.append(num - mean)\n",
        "\n",
        "  squared_diff = []\n",
        "  for d in diff:\n",
        "    squared_diff.append(d**2)\n",
        "  \n",
        "  sum_squared_diff = sum(squared_diff)\n",
        "  variance = sum_squared_diff/len(X)\n",
        "  return np.sqrt(variance)\n",
        "\n",
        "X = [ 171, 176, 155, 167, 169, 182]\n",
        "print(np.round(compute_std(X),2))"
      ]
    },
    {
      "cell_type": "code",
      "execution_count": null,
      "metadata": {
        "id": "wjTGUgy90n41"
      },
      "outputs": [],
      "source": [
        "### Question 4"
      ]
    },
    {
      "cell_type": "code",
      "execution_count": 9,
      "metadata": {
        "colab": {
          "base_uri": "https://localhost:8080/"
        },
        "id": "Bqly9y-F0prw",
        "outputId": "6a84dda4-2948-4ad9-93d5-fc774c6d92f1"
      },
      "outputs": [
        {
          "name": "stdout",
          "output_type": "stream",
          "text": [
            "Correlation:  0.42\n"
          ]
        }
      ],
      "source": [
        "\n",
        "def computeCorrelationCofficient(X, Y):\n",
        "  N = len(X)\n",
        "  numerator = 0\n",
        "  denominator = 0\n",
        "  #your code here ******************\n",
        "  prod=[]\n",
        "  for xi, yi in zip(X, Y):\n",
        "    prod.append(xi*yi)\n",
        "  sumxy = sum(prod)\n",
        "  sumx = sum(X)\n",
        "  sumy = sum(Y)\n",
        "\n",
        "  squared_sum_x = sumx**2\n",
        "  squared_sum_y = sumy**2\n",
        "\n",
        "  x_squared = []\n",
        "  for xi in X:\n",
        "    x_squared.append(xi**2)\n",
        "  sum_x_squared = sum(x_squared)\n",
        "\n",
        "  y_squared = []\n",
        "  for yi in Y:\n",
        "    y_squared.append(yi**2)\n",
        "  sum_y_squared = sum(y_squared)\n",
        "\n",
        "  numerator = N*sumxy - sumx*sumy\n",
        "  denominator1 = N*sum_x_squared - squared_sum_x\n",
        "  denominator2 = N*sum_y_squared - squared_sum_y\n",
        "  denominator = (denominator1*denominator2)**0.5\n",
        "  return np.round(numerator / denominator,2)\n",
        "\n",
        "X = np.asarray([-2, -5, -11, 6, 4, 15, 9])\n",
        "Y = np.asarray([4, 25, 121, 36, 16, 225, 81])\n",
        "print(\"Correlation: \", computeCorrelationCofficient(X,Y))"
      ]
    }
  ],
  "metadata": {
    "colab": {
      "provenance": []
    },
    "kernelspec": {
      "display_name": "Python 3",
      "name": "python3"
    },
    "language_info": {
      "codemirror_mode": {
        "name": "ipython",
        "version": 3
      },
      "file_extension": ".py",
      "mimetype": "text/x-python",
      "name": "python",
      "nbconvert_exporter": "python",
      "pygments_lexer": "ipython3",
      "version": "3.12.1"
    }
  },
  "nbformat": 4,
  "nbformat_minor": 0
}
