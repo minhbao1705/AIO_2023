{
 "cells": [
  {
   "cell_type": "code",
   "execution_count": 1,
   "metadata": {},
   "outputs": [
    {
     "name": "stdout",
     "output_type": "stream",
     "text": [
      "12.0\n",
      "9.142857142857142\n",
      "0.1495394441198452\n"
     ]
    }
   ],
   "source": [
    "import numpy as np\n",
    "\n",
    "x = np.array([7, 18, 29, 2, 10, 9, 9])\n",
    "y = np.array([1, 6, 12, 8, 6, 21, 10])\n",
    "\n",
    "mean_x = np.mean(x)\n",
    "mean_y = np.mean(y)\n",
    "print(mean_x)\n",
    "print(mean_y)\n",
    "\n",
    "numerator = np.mean((x-mean_x)*(y-mean_y))\n",
    "denominator = np.sqrt(np.var(x))*np.sqrt(np.var(y))\n",
    "\n",
    "pearsonr = numerator/denominator\n",
    "print(pearsonr)"
   ]
  },
  {
   "cell_type": "code",
   "execution_count": 3,
   "metadata": {},
   "outputs": [
    {
     "name": "stdout",
     "output_type": "stream",
     "text": [
      "84\n",
      "64\n",
      "818\n",
      "0.14953944411984518\n"
     ]
    }
   ],
   "source": [
    "import numpy as np\n",
    "\n",
    "x = np.array([7, 18, 29, 2, 10, 9, 9])\n",
    "y = np.array([1, 6, 12, 8, 6, 21, 10])\n",
    "n = x.shape[0]\n",
    "\n",
    "sum_x = np.sum(x)\n",
    "sum_y = np.sum(y)\n",
    "sum_xy = np.sum(x*y)\n",
    "numerator = n*sum_xy - sum_x*sum_y\n",
    "\n",
    "print(sum_x)\n",
    "print(sum_y)\n",
    "print(sum_xy)\n",
    "\n",
    "# denorminator\n",
    "sum_xx = np.sum(x*x)\n",
    "sum_yy = np.sum(y*y)\n",
    "denornator = np.sqrt(n*sum_xx - sum_x*sum_x) * np.sqrt(n*sum_yy - sum_y*sum_y)\n",
    "\n",
    "pearsonr = numerator/denornator\n",
    "print(pearsonr)"
   ]
  },
  {
   "cell_type": "code",
   "execution_count": 4,
   "metadata": {},
   "outputs": [
    {
     "name": "stdout",
     "output_type": "stream",
     "text": [
      "[[0.989636 0.006952]\n",
      " [1.968388 2.973466]]\n"
     ]
    }
   ],
   "source": [
    "import numpy as np\n",
    "\n",
    "U = np.array([[-0.16, -0.98],\n",
    "              [-0.98, 0.16]])\n",
    "S = np.array([[3.65, 0],\n",
    "              [0, 0.82]])\n",
    "V = np.array([[-0.58, -0.81],\n",
    "              [-0.81, 0.58]])\n",
    "\n",
    "A_r = np.dot(np.dot(U, S), V)\n",
    "print(A_r)"
   ]
  },
  {
   "cell_type": "code",
   "execution_count": 5,
   "metadata": {},
   "outputs": [
    {
     "name": "stdout",
     "output_type": "stream",
     "text": [
      "0.1495394441198452\n"
     ]
    }
   ],
   "source": [
    "import numpy as np\n",
    "\n",
    "def compute_var(x):\n",
    "    var = (x - x.mean())**2\n",
    "    var = np.mean(var)\n",
    "    return var\n",
    "\n",
    "x = np.array([7, 18, 29, 2, 10, 9, 9])\n",
    "y = np.array([1, 6, 12, 8, 6, 21, 10])\n",
    "\n",
    "mean_x = np.mean(x)\n",
    "mean_y = np.mean(y)\n",
    "numerator = np.mean((x-mean_x)*(y-mean_y))\n",
    "denominator = np.sqrt(compute_var(x)) * np.sqrt(compute_var(y))\n",
    "pearsonr = numerator/denominator\n",
    "print(pearsonr)"
   ]
  },
  {
   "cell_type": "code",
   "execution_count": 6,
   "metadata": {},
   "outputs": [
    {
     "name": "stdout",
     "output_type": "stream",
     "text": [
      "0.14953944411984518\n"
     ]
    }
   ],
   "source": [
    "import numpy as np\n",
    "\n",
    "x = np.array([7, 18, 29, 2, 10, 9, 9])\n",
    "y = np.array([1, 6, 12, 8, 6, 21, 10])\n",
    "n = x.shape[0]\n",
    "\n",
    "sum_xy = np.sum(x*y)\n",
    "sum_x  = np.sum(x)\n",
    "sum_y  = np.sum(y)\n",
    "\n",
    "sum_xx = np.sum(x*x)\n",
    "sum_yy = np.sum(y*y)\n",
    "\n",
    "numerator = (n*sum_xy - sum_x*sum_y)\n",
    "denorminator = np.sqrt(n*sum_xx - sum_x*sum_x)*np.sqrt(n*sum_yy - sum_y*sum_y)\n",
    "pearsonr =  numerator/denorminator\n",
    "print(pearsonr)"
   ]
  }
 ],
 "metadata": {
  "kernelspec": {
   "display_name": "Python 3",
   "language": "python",
   "name": "python3"
  },
  "language_info": {
   "codemirror_mode": {
    "name": "ipython",
    "version": 3
   },
   "file_extension": ".py",
   "mimetype": "text/x-python",
   "name": "python",
   "nbconvert_exporter": "python",
   "pygments_lexer": "ipython3",
   "version": "3.12.1"
  }
 },
 "nbformat": 4,
 "nbformat_minor": 2
}
