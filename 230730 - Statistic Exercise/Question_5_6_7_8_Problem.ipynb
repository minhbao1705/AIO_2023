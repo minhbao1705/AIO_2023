{
  "cells": [
    {
      "cell_type": "code",
      "execution_count": 1,
      "metadata": {
        "id": "48vqpyNqqrs1"
      },
      "outputs": [],
      "source": [
        "import cv2\n",
        "import numpy as np"
      ]
    },
    {
      "cell_type": "code",
      "execution_count": 5,
      "metadata": {
        "id": "wAsvW4zkqtQS"
      },
      "outputs": [],
      "source": [
        "def cosine_similarity(x, y):\n",
        "    numerator = 0\n",
        "    denominator = 0\n",
        "\n",
        "    # *************** your code here *******************\n",
        "    numerator = np.dot(x, y)\n",
        "    denominator = np.linalg.norm(x) * np.linalg.norm(y)\n",
        "    return numerator / denominator"
      ]
    },
    {
      "cell_type": "code",
      "execution_count": 6,
      "metadata": {
        "id": "-d5ken3fJVtD"
      },
      "outputs": [],
      "source": [
        "\n",
        "def computeCorrelationCofficient(X, Y):\n",
        "  N = len(X)\n",
        "  numerator = 0\n",
        "  denominator = 0\n",
        "  #your code here ******************\n",
        "  prod=[]\n",
        "  for xi, yi in zip(X, Y):\n",
        "    prod.append(xi*yi)\n",
        "  sumxy = sum(prod)\n",
        "  sumx = sum(X)\n",
        "  sumy = sum(Y)\n",
        "\n",
        "  squared_sum_x = sumx**2\n",
        "  squared_sum_y = sumy**2\n",
        "\n",
        "  x_squared = []\n",
        "  for xi in X:\n",
        "    x_squared.append(xi**2)\n",
        "  sum_x_squared = sum(x_squared)\n",
        "\n",
        "  y_squared = []\n",
        "  for yi in Y:\n",
        "    y_squared.append(yi**2)\n",
        "  sum_y_squared = sum(y_squared)\n",
        "\n",
        "  numerator = N*sumxy - sumx*sumy\n",
        "  denominator1 = N*sum_x_squared - squared_sum_x\n",
        "  denominator2 = N*sum_y_squared - squared_sum_y\n",
        "  denominator = (denominator1*denominator2)**0.5\n",
        "\n",
        "  return np.round(numerator / denominator,2)"
      ]
    },
    {
      "cell_type": "code",
      "execution_count": null,
      "metadata": {
        "id": "5qGqxFAPNQtC"
      },
      "outputs": [],
      "source": []
    },
    {
      "cell_type": "code",
      "execution_count": 7,
      "metadata": {
        "id": "nJWygQ55qvbW"
      },
      "outputs": [],
      "source": [
        "def window_based_matching_cosine(left_img, right_img, disparity_range, kernel_size=5):\n",
        "    # Read left, right images then convert to grayscale\n",
        "    left  = cv2.imread(left_img, 0)\n",
        "    right = cv2.imread(right_img, 0)\n",
        "\n",
        "    left  = left.astype(np.float32)\n",
        "    right = right.astype(np.float32)\n",
        "\n",
        "    height, width = left.shape[:2]\n",
        "\n",
        "    # Create blank disparity map\n",
        "    depth = np.zeros((height, width), np.uint8)\n",
        "    kernel_half = int((kernel_size - 1) / 2)\n",
        "    scale = 3\n",
        "\n",
        "    for y in range(kernel_half, height-kernel_half):\n",
        "        print(\"\\rProcessing.. %d%% complete\" % (y/(height-kernel_half)*100),end=\"\",flush=True)\n",
        "        for x in range(kernel_half, width-kernel_half):\n",
        "            # Find j where cost has maximum value\n",
        "            disparity = 0\n",
        "            cost_optimal  = -1\n",
        "\n",
        "            for j in range(disparity_range):\n",
        "                d = x - j\n",
        "                cost = -1\n",
        "                if (d - kernel_half) > 0:\n",
        "                    wp = left[(y-kernel_half):(y+kernel_half)+1, (x-kernel_half):(x+kernel_half)+1]\n",
        "                    wqd = right[(y-kernel_half):(y+kernel_half)+1, (d-kernel_half):(d+kernel_half)+1]\n",
        "\n",
        "                    wp_flattened = wp.flatten()\n",
        "                    wqd_flattened = wqd.flatten()\n",
        "\n",
        "                    cost = cosine_similarity(wp_flattened, wqd_flattened)\n",
        "\n",
        "                if cost > cost_optimal:\n",
        "                    cost_optimal = cost\n",
        "                    disparity = j\n",
        "\n",
        "                 # *************** your code here *******************\n",
        "\n",
        "            # Let depth at (y, x) = j (disparity)\n",
        "            # Multiply by a scale factor for visualization purpose\n",
        "            depth[y, x] = disparity * scale\n",
        "    return depth"
      ]
    },
    {
      "cell_type": "code",
      "execution_count": 4,
      "metadata": {
        "colab": {
          "base_uri": "https://localhost:8080/",
          "height": 757
        },
        "id": "SjS_8-2Jqwif",
        "outputId": "8f261803-e119-418e-85d3-22b0be084008"
      },
      "outputs": [
        {
          "data": {
            "text/plain": [
              "-1"
            ]
          },
          "execution_count": 4,
          "metadata": {},
          "output_type": "execute_result"
        }
      ],
      "source": [
        "\n",
        "\n",
        "left_img_path = \"MiddleburyDataset/normal condition/view1.png\"\n",
        "right_img_path = \"MiddleburyDataset/normal condition/view5.png\"\n",
        "\n",
        "disparity_range = 64\n",
        "kernel_size = 5\n",
        "\n",
        "left = cv2.imread(left_img_path)\n",
        "right = cv2.imread(right_img_path)\n",
        "\n",
        "cv2.imshow('left',left)\n",
        "cv2.imshow('right',right)\n",
        "cv2.waitKey(0)"
      ]
    },
    {
      "cell_type": "code",
      "execution_count": 9,
      "metadata": {
        "id": "ypCw_j0urWde"
      },
      "outputs": [
        {
          "name": "stdout",
          "output_type": "stream",
          "text": [
            "Processing.. 0% complete"
          ]
        },
        {
          "name": "stdout",
          "output_type": "stream",
          "text": [
            "Processing.. 99% complete"
          ]
        },
        {
          "data": {
            "text/plain": [
              "-1"
            ]
          },
          "execution_count": 9,
          "metadata": {},
          "output_type": "execute_result"
        }
      ],
      "source": [
        "left_img_path = \"MiddleburyDataset/normal condition/view1.png\"\n",
        "right_img_path = \"MiddleburyDataset/normal condition/view5.png\"\n",
        "\n",
        "disparity_range = 64\n",
        "kernel_size = 5\n",
        "\n",
        "depth = window_based_matching_cosine(\n",
        "    left_img_path,\n",
        "    right_img_path,\n",
        "    disparity_range,\n",
        "    kernel_size=kernel_size)\n",
        "cv2.imshow('depth',depth)\n",
        "cv2.imshow('depth2',cv2.applyColorMap(depth, cv2.COLORMAP_JET))\n",
        "cv2.waitKey(0)"
      ]
    },
    {
      "cell_type": "code",
      "execution_count": 10,
      "metadata": {
        "colab": {
          "base_uri": "https://localhost:8080/"
        },
        "id": "HxNVg0h7R56y",
        "outputId": "c7600151-6521-4f66-fd3c-c4327c937a6f"
      },
      "outputs": [
        {
          "name": "stdout",
          "output_type": "stream",
          "text": [
            "Processing.. 0% complete"
          ]
        },
        {
          "name": "stdout",
          "output_type": "stream",
          "text": [
            "Processing.. 99% completermse : 4.98612760469305\n"
          ]
        }
      ],
      "source": [
        "#Question 5\n",
        "\n",
        "def compute_rms_error(matrix1, matrix2):\n",
        "  return np.sqrt(np.sum(np.square(matrix1-matrix2))/(matrix1.shape[0]*matrix1.shape[1]))\n",
        "\n",
        "left_img_path = \"MiddleburyDataset/normal condition/view1.png\"\n",
        "right_img_path = \"MiddleburyDataset/normal condition/view5.png\"\n",
        "groundtruth_img_path = \"MiddleburyDataset/disp1.png\"\n",
        "\n",
        "disparity_range = 64\n",
        "kernel_size = 5\n",
        "\n",
        "depth = window_based_matching_cosine(\n",
        "    left_img_path,\n",
        "    right_img_path,\n",
        "    disparity_range,\n",
        "    kernel_size=kernel_size)\n",
        "\n",
        "groundtruth_image = cv2.imread(groundtruth_img_path, 0)\n",
        "rmse = compute_rms_error(depth, groundtruth_image)\n",
        "print(\"rmse :\", rmse)"
      ]
    },
    {
      "cell_type": "code",
      "execution_count": 11,
      "metadata": {
        "id": "dDu1aiNgXgK3"
      },
      "outputs": [],
      "source": [
        "def window_based_matching_correlation(left_img, right_img, disparity_range, kernel_size=5):\n",
        "    # Read left, right images then convert to grayscale\n",
        "    left  = cv2.imread(left_img, 0)\n",
        "    right = cv2.imread(right_img, 0)\n",
        "\n",
        "    left  = left.astype(np.float32)\n",
        "    right = right.astype(np.float32)\n",
        "\n",
        "    height, width = left.shape[:2]\n",
        "\n",
        "    # Create blank disparity map\n",
        "    depth = np.zeros((height, width), np.uint8)\n",
        "    kernel_half = int((kernel_size - 1) / 2)\n",
        "    scale = 3\n",
        "\n",
        "    for y in range(kernel_half, height-kernel_half):\n",
        "        print(\"\\rProcessing.. %d%% complete\" % (y/(height-kernel_half)*100),end=\"\",flush=True)\n",
        "        for x in range(kernel_half, width-kernel_half):\n",
        "            # Find j where cost has maximum value\n",
        "            disparity = 0\n",
        "            cost_optimal  = -1\n",
        "\n",
        "            for j in range(disparity_range):\n",
        "                d = x - j\n",
        "                cost = -1\n",
        "                if (d - kernel_half) > 0:\n",
        "                    wp = left[(y-kernel_half):(y+kernel_half)+1, (x-kernel_half):(x+kernel_half)+1]\n",
        "                    wqd = right[(y-kernel_half):(y+kernel_half)+1, (d-kernel_half):(d+kernel_half)+1]\n",
        "\n",
        "                    wp_flattened = wp.flatten()\n",
        "                    wqd_flattened = wqd.flatten()\n",
        "\n",
        "                    cost = computeCorrelationCofficient(wp_flattened, wqd_flattened)\n",
        "\n",
        "                if cost > cost_optimal:\n",
        "                    cost_optimal = cost\n",
        "                    disparity = j\n",
        "              # *************** your code here *******************\n",
        "\n",
        "            # Let depth at (y, x) = j (disparity)\n",
        "            # Multiply by a scale factor for visualization purpose\n",
        "            depth[y, x] = disparity * scale\n",
        "    return depth"
      ]
    },
    {
      "cell_type": "code",
      "execution_count": 12,
      "metadata": {
        "id": "OvgY9A3BjXi5"
      },
      "outputs": [
        {
          "name": "stdout",
          "output_type": "stream",
          "text": [
            "Processing.. 58% complete"
          ]
        },
        {
          "name": "stderr",
          "output_type": "stream",
          "text": [
            "C:\\Users\\vomin\\AppData\\Local\\Temp\\ipykernel_11408\\2873938609.py:31: RuntimeWarning: invalid value encountered in scalar divide\n",
            "  return np.round(numerator / denominator,2)\n"
          ]
        },
        {
          "name": "stdout",
          "output_type": "stream",
          "text": [
            "Processing.. 99% completermse : 5.359850329069782\n"
          ]
        }
      ],
      "source": [
        "#Question 6\n",
        "def compute_rms_error(matrix1, matrix2):\n",
        "  return np.sqrt(np.sum(np.square(matrix1-matrix2))/(matrix1.shape[0]*matrix1.shape[1]))\n",
        "\n",
        "left_img_path = \"MiddleburyDataset/normal condition/view1.png\"\n",
        "right_img_path = \"MiddleburyDataset/normal condition/view5.png\"\n",
        "groundtruth_img_path = \"MiddleburyDataset/disp1.png\"\n",
        "\n",
        "disparity_range = 64\n",
        "kernel_size = 5\n",
        "\n",
        "depth = window_based_matching_correlation(\n",
        "    left_img_path,\n",
        "    right_img_path,\n",
        "    disparity_range,\n",
        "    kernel_size=kernel_size)\n",
        "\n",
        "groundtruth_image = cv2.imread(groundtruth_img_path, 0)\n",
        "rmse = compute_rms_error(depth, groundtruth_image)\n",
        "print(\"rmse :\", rmse)"
      ]
    },
    {
      "cell_type": "code",
      "execution_count": 13,
      "metadata": {
        "id": "nM62hWiijUEu"
      },
      "outputs": [
        {
          "name": "stdout",
          "output_type": "stream",
          "text": [
            "Processing.. 99% completermse : 5.605343375188772\n"
          ]
        }
      ],
      "source": [
        "#Question 7\n",
        "\n",
        "def compute_rms_error(matrix1, matrix2):\n",
        "  return np.sqrt(np.sum(np.square(matrix1-matrix2))/(matrix1.shape[0]*matrix1.shape[1]))\n",
        "\n",
        "left_img_path = \"MiddleburyDataset/dificult condition/view1_d.png\"\n",
        "right_img_path = \"MiddleburyDataset/dificult condition/view5_d.png\"\n",
        "groundtruth_img_path = \"MiddleburyDataset/disp1.png\"\n",
        "\n",
        "disparity_range = 64\n",
        "kernel_size = 5\n",
        "\n",
        "depth = window_based_matching_cosine(\n",
        "    left_img_path,\n",
        "    right_img_path,\n",
        "    disparity_range,\n",
        "    kernel_size=kernel_size)\n",
        "\n",
        "groundtruth_image = cv2.imread(groundtruth_img_path, 0)\n",
        "rmse = compute_rms_error(depth, groundtruth_image)\n",
        "print(\"rmse :\", rmse)"
      ]
    },
    {
      "cell_type": "code",
      "execution_count": 14,
      "metadata": {
        "id": "xOdWeAHFX0yp"
      },
      "outputs": [
        {
          "name": "stdout",
          "output_type": "stream",
          "text": [
            "Processing.. 7% complete"
          ]
        },
        {
          "name": "stderr",
          "output_type": "stream",
          "text": [
            "C:\\Users\\vomin\\AppData\\Local\\Temp\\ipykernel_11408\\2873938609.py:31: RuntimeWarning: invalid value encountered in scalar divide\n",
            "  return np.round(numerator / denominator,2)\n"
          ]
        },
        {
          "name": "stdout",
          "output_type": "stream",
          "text": [
            "Processing.. 99% completermse : 5.38587686965895\n"
          ]
        }
      ],
      "source": [
        "#Question 8\n",
        "\n",
        "def compute_rms_error(matrix1, matrix2):\n",
        "  return np.sqrt(np.sum(np.square(matrix1-matrix2))/(matrix1.shape[0]*matrix1.shape[1]))\n",
        "\n",
        "left_img_path = \"MiddleburyDataset/dificult condition/view1_d.png\"\n",
        "right_img_path = \"MiddleburyDataset/dificult condition/view5_d.png\"\n",
        "groundtruth_img_path = \"MiddleburyDataset/disp1.png\"\n",
        "\n",
        "disparity_range = 64\n",
        "kernel_size = 5\n",
        "\n",
        "depth = window_based_matching_correlation(\n",
        "    left_img_path,\n",
        "    right_img_path,\n",
        "    disparity_range,\n",
        "    kernel_size=kernel_size)\n",
        "\n",
        "groundtruth_image = cv2.imread(groundtruth_img_path, 0)\n",
        "rmse = compute_rms_error(depth, groundtruth_image)\n",
        "print(\"rmse :\", rmse)"
      ]
    },
    {
      "cell_type": "code",
      "execution_count": 15,
      "metadata": {
        "id": "nvnXSlR6hUv0"
      },
      "outputs": [
        {
          "data": {
            "text/plain": [
              "-1"
            ]
          },
          "execution_count": 15,
          "metadata": {},
          "output_type": "execute_result"
        }
      ],
      "source": [
        "cv2.imshow('depth',cv2.applyColorMap(depth, cv2.COLORMAP_JET))\n",
        "cv2.waitKey(0)"
      ]
    }
  ],
  "metadata": {
    "colab": {
      "provenance": []
    },
    "kernelspec": {
      "display_name": "Python 3 (ipykernel)",
      "language": "python",
      "name": "python3"
    },
    "language_info": {
      "codemirror_mode": {
        "name": "ipython",
        "version": 3
      },
      "file_extension": ".py",
      "mimetype": "text/x-python",
      "name": "python",
      "nbconvert_exporter": "python",
      "pygments_lexer": "ipython3",
      "version": "3.12.1"
    }
  },
  "nbformat": 4,
  "nbformat_minor": 0
}
