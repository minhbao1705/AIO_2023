{
 "cells": [
  {
   "cell_type": "code",
   "execution_count": 3,
   "metadata": {},
   "outputs": [],
   "source": [
    "import numpy as np\n",
    "\n",
    "class LinearRegression:\n",
    "    def __init__(self, X_data, y_targer, learning_rate=0.01, num_epochs=10000):\n",
    "        self.X_data = X_data # Shape: (num_samples, num_features)\n",
    "        self.y_target = y_targer # Shape: (num_samples, )\n",
    "        self.learning_rate = learning_rate\n",
    "        self.num_epochs = num_epochs\n",
    "        self.num_samples = self.X_data.shape[0]\n",
    "\n",
    "        # Initial Coefficients\n",
    "        self.theta = np.random.randn(self.X_data.shape[1])\n",
    "        self.losses = []\n",
    "\n",
    "    def compute_loss(self, y_pred, y_target):\n",
    "        loss = (y_pred-y_target)*(y_pred-y_target)\n",
    "        loss = np.mean(loss)\n",
    "        return loss\n",
    "    \n",
    "    def predict(self, X_data):\n",
    "        y_pred = X_data.dot(self.theta)\n",
    "\n",
    "        return y_pred\n",
    "    \n",
    "    def fit(self):\n",
    "        for epoch in range(self.num_epochs):\n",
    "            # Predict\n",
    "            y_pred = self.predict(self.X_data)\n",
    "\n",
    "            # Compute loss\n",
    "            loss = self.compute_loss(y_pred, self.y_target)\n",
    "            self.losses.append(loss)\n",
    "\n",
    "            # Compute gradient\n",
    "            k = 2*(y_pred-self.y_target)\n",
    "            gradients = self.X_data.T.dot(k)/self.num_samples\n",
    "\n",
    "            # update weight\n",
    "            self.theta = self.theta - self.learning_rate*gradients\n",
    "            print(f'Epoch: {epoch} - Loss: {loss}')\n",
    "\n",
    "        return {\n",
    "            'loss': sum(self.losses)/len(self.losses),\n",
    "            'weight': self.theta\n",
    "        }"
   ]
  },
  {
   "cell_type": "code",
   "execution_count": 11,
   "metadata": {},
   "outputs": [],
   "source": [
    "def r2score(y_pred, y):\n",
    "    rss = np.sum((y_pred - y) ** 2)\n",
    "    tss = np.sum((y-y.mean()) ** 2)\n",
    "    r2 = 1 - (rss / tss)\n",
    "    return r2"
   ]
  },
  {
   "cell_type": "code",
   "execution_count": 12,
   "metadata": {},
   "outputs": [
    {
     "data": {
      "text/plain": [
       "1.0"
      ]
     },
     "execution_count": 12,
     "metadata": {},
     "output_type": "execute_result"
    }
   ],
   "source": [
    "y_pred = np.array([1, 2, 3, 4, 5])\n",
    "y = np.array([1, 2, 3, 4, 5])\n",
    "r2score(y_pred, y)"
   ]
  },
  {
   "cell_type": "code",
   "execution_count": 13,
   "metadata": {},
   "outputs": [
    {
     "data": {
      "text/plain": [
       "-2.235294117647059"
      ]
     },
     "execution_count": 13,
     "metadata": {},
     "output_type": "execute_result"
    }
   ],
   "source": [
    "y_pred = np.array([1, 2, 3, 4, 5])\n",
    "y = np.array([3, 5, 5, 2, 4])\n",
    "r2score(y_pred, y)"
   ]
  },
  {
   "cell_type": "code",
   "execution_count": null,
   "metadata": {},
   "outputs": [],
   "source": []
  }
 ],
 "metadata": {
  "kernelspec": {
   "display_name": "Python 3",
   "language": "python",
   "name": "python3"
  },
  "language_info": {
   "codemirror_mode": {
    "name": "ipython",
    "version": 3
   },
   "file_extension": ".py",
   "mimetype": "text/x-python",
   "name": "python",
   "nbconvert_exporter": "python",
   "pygments_lexer": "ipython3",
   "version": "3.12.1"
  }
 },
 "nbformat": 4,
 "nbformat_minor": 2
}
